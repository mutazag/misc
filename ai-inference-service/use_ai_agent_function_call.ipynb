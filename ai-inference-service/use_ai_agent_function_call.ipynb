{
 "cells": [
  {
   "cell_type": "code",
   "execution_count": 2,
   "id": "a644cb7d",
   "metadata": {},
   "outputs": [],
   "source": [
    "import json\n",
    "import datetime\n",
    "from typing import Any, Callable, Set, Dict, List, Optional\n",
    "from pydantic import BaseModel, Field\n",
    "\n",
    "from azure.ai.projects.models import (\n",
    "    ResponseFormatJsonSchema,\n",
    "    ResponseFormatJsonSchemaType,\n",
    ")\n",
    "\n",
    "\n",
    "def fetch_weather(location: str) -> str:\n",
    "    \"\"\"\n",
    "    Fetches the weather information for the specified location.\n",
    "\n",
    "    :param location (str): The location to fetch weather for.\n",
    "    :return: Weather information as a JSON string.\n",
    "    :rtype: str\n",
    "    \"\"\"\n",
    "    # In a real-world scenario, you'd integrate with a weather API.\n",
    "    # Here, we'll mock the response.\n",
    "    mock_weather_data = {\"New York\": \"Sunny, 25°C\", \"London\": \"Cloudy, 18°C\", \"Tokyo\": \"Rainy, 22°C\"}\n",
    "    weather = mock_weather_data.get(location, \"Weather data not available for this location.\")\n",
    "    weather_json = json.dumps({\"weather\": weather})\n",
    "    return weather_json\n",
    "\n",
    "\n",
    "\n",
    "def send_email(to: str, subject: str, body: str) -> str:\n",
    "    \"\"\"\n",
    "    Sends an email with the specified subject and body to the given recipient.\n",
    "\n",
    "    :param to (str): The recipient's email address.\n",
    "    :param subject (str): The subject of the email.\n",
    "    :param body (str): The body of the email.\n",
    "    :return: Confirmation message.\n",
    "    :rtype: s    # In a real-world scenario, you'd integrate with an email service.\n",
    "    # Here, we'll mock the response.\n",
    "    \"\"\"\n",
    "    return f\"Email sent to {to} with subject '{subject}' and body '{body}'.\"\n",
    "\n",
    "\n",
    "# Statically defined user functions for fast reference\n",
    "user_functions: Set[Callable[..., Any]] = {\n",
    "    fetch_weather,\n",
    "    send_email,\n",
    "}"
   ]
  },
  {
   "cell_type": "code",
   "execution_count": 43,
   "id": "1b6181d1",
   "metadata": {},
   "outputs": [
    {
     "name": "stdout",
     "output_type": "stream",
     "text": [
      "Created agent, ID: asst_l422LnjorfowDPECCbhlV7E1\n"
     ]
    }
   ],
   "source": [
    "import os\n",
    "from azure.ai.projects import AIProjectClient\n",
    "from azure.identity import DefaultAzureCredential\n",
    "from azure.ai.projects.models import FunctionTool, ToolSet, FunctionDefinition\n",
    "# from user_functions import user_functions # user functions which can be found in a user_functions.py file.\n",
    "\n",
    "# Create an Azure AI Client from a connection string, copied from your Azure AI Foundry project.\n",
    "# It should be in the format \"<HostName>;<AzureSubscriptionId>;<ResourceGroup>;<HubName>\"\n",
    "# Customers need to login to Azure subscription via Azure CLI and set the environment variables\n",
    "\n",
    "project_client = AIProjectClient.from_connection_string(\n",
    "    credential=DefaultAzureCredential(),\n",
    "    conn_str=os.environ[\"AZURE_AI_PROJECT_CONN_STR\"],\n",
    ")\n",
    "\n",
    "# Initialize agent toolset with user functions\n",
    "functions = FunctionTool(user_functions)\n",
    "toolset = ToolSet()\n",
    "toolset.add(functions)\n",
    "\n",
    "\n",
    "class AgentResponseForWeather(BaseModel):\n",
    "    location: str = Field(description=\"The location for which weather information was requested\")\n",
    "    weather_raw_json: str = Field(description=\"The raw JSON string containing weather data\")\n",
    "    weather_verbatim: str = Field(description=\"The human-readable weather information extracted from the JSON\")\n",
    "\n",
    "class EmailResponse(BaseModel):\n",
    "    to: str = Field(default=\"(unknown)\", description=\"The recipient's email address\")\n",
    "    subject: str = Field(description=\"The subject of the email\")\n",
    "    body: str = Field(description=\"The body of the email\")\n",
    "    status: str = Field(description=\"Status of the email sending operation\")\n",
    "\n",
    "class AgentResponse(BaseModel):\n",
    "    weather: AgentResponseForWeather = Field(description=\"Weather information for the requested location\")\n",
    "    email: EmailResponse = Field(description=\"Email sending operation details\")\n",
    "\n",
    "agent = project_client.agents.create_agent(\n",
    "    model=\"gpt-4o\",\n",
    "    name=\"my-weather-agent\",\n",
    "    instructions=\"\"\"\n",
    "    You are a weather bot. Use the provided functions to help answer questions.\n",
    "    Ensure you have details you need from the user to execute the required task\n",
    "    \"\"\",\n",
    "    toolset=toolset,\n",
    "    response_format=ResponseFormatJsonSchemaType(\n",
    "        json_schema=ResponseFormatJsonSchema(\n",
    "            name=\"weather_report\",\n",
    "            description=\"Weather report for a specific location\",\n",
    "            schema=AgentResponse.model_json_schema(),\n",
    "        )\n",
    "    )\n",
    ")\n",
    "\n",
    "print(f\"Created agent, ID: {agent.id}\")"
   ]
  },
  {
   "cell_type": "code",
   "execution_count": 44,
   "id": "d29b1c61",
   "metadata": {},
   "outputs": [
    {
     "data": {
      "text/plain": [
       "{'type': 'function', 'function': {'name': 'fetch_weather', 'description': 'Fetches the weather information for the specified location.', 'parameters': {'type': 'object', 'properties': {'location': {'type': 'string', 'description': 'The location to fetch weather for.'}}, 'required': ['location']}}}"
      ]
     },
     "execution_count": 44,
     "metadata": {},
     "output_type": "execute_result"
    }
   ],
   "source": [
    "functions.definitions[0]"
   ]
  },
  {
   "cell_type": "code",
   "execution_count": 45,
   "id": "6396435b",
   "metadata": {},
   "outputs": [
    {
     "name": "stdout",
     "output_type": "stream",
     "text": [
      "Created thread, ID: thread_GF9x7YB7WFQNmTuuGUPjnPzM\n",
      "Created message, ID: msg_aIzOY8tc7omDxkZpqByJoMI0\n"
     ]
    }
   ],
   "source": [
    "# Create thread for communication\n",
    "thread = project_client.agents.create_thread()\n",
    "print(f\"Created thread, ID: {thread.id}\")\n",
    "\n",
    "# Create message to thread\n",
    "message = project_client.agents.create_message(\n",
    "    thread_id=thread.id,\n",
    "    role=\"user\",\n",
    "    content=\"Hello, send an email with the datetime and weather information in New York?\",\n",
    ")\n",
    "print(f\"Created message, ID: {message.id}\")"
   ]
  },
  {
   "cell_type": "code",
   "execution_count": 46,
   "id": "58d872c3",
   "metadata": {},
   "outputs": [
    {
     "data": {
      "text/plain": [
       "{'id': 'thread_GF9x7YB7WFQNmTuuGUPjnPzM',\n",
       " 'object': 'thread',\n",
       " 'created_at': 1747267611,\n",
       " 'metadata': {},\n",
       " 'tool_resources': {}}"
      ]
     },
     "execution_count": 46,
     "metadata": {},
     "output_type": "execute_result"
    }
   ],
   "source": [
    "thread.as_dict()"
   ]
  },
  {
   "cell_type": "code",
   "execution_count": 47,
   "id": "f94ef241",
   "metadata": {},
   "outputs": [],
   "source": [
    "thread_messages = project_client.agents.list_messages(thread_id=thread.id, limit=10)"
   ]
  },
  {
   "cell_type": "code",
   "execution_count": 48,
   "id": "5388e5e9",
   "metadata": {},
   "outputs": [
    {
     "data": {
      "text/plain": [
       "{'id': 'msg_aIzOY8tc7omDxkZpqByJoMI0', 'object': 'thread.message', 'created_at': 1747267611, 'assistant_id': None, 'thread_id': 'thread_GF9x7YB7WFQNmTuuGUPjnPzM', 'run_id': None, 'role': 'user', 'content': [{'type': 'text', 'text': {'value': 'Hello, send an email with the datetime and weather information in New York?', 'annotations': []}}], 'attachments': [], 'metadata': {}}"
      ]
     },
     "execution_count": 48,
     "metadata": {},
     "output_type": "execute_result"
    }
   ],
   "source": [
    "project_client.agents.get_message(\n",
    "    thread_id=thread.id,\n",
    "    message_id=message.id,)"
   ]
  },
  {
   "cell_type": "code",
   "execution_count": 49,
   "id": "8e6b73fe",
   "metadata": {},
   "outputs": [
    {
     "name": "stdout",
     "output_type": "stream",
     "text": [
      "Run finished with status: completed\n",
      "Messages: {'object': 'list', 'data': [{'id': 'msg_0A0SgDUAdn479Ix4bLazIsS3', 'object': 'thread.message', 'created_at': 1747267641, 'assistant_id': 'asst_l422LnjorfowDPECCbhlV7E1', 'thread_id': 'thread_GF9x7YB7WFQNmTuuGUPjnPzM', 'run_id': 'run_HtnMqejbePzjyKjYtfprysZV', 'role': 'assistant', 'content': [{'type': 'text', 'text': {'value': '{\"email\":{\"to\":\"user@example.com\",\"subject\":\"Weather Update: New York\",\"body\":\"Hello,\\\\n\\\\nHere is the current date/time and weather information for New York.\\\\n\\\\nDate/Time: 2023-10-07T12:45:00Z\\\\nWeather: Sunny, 25°C\\\\n\\\\nRegards,\\\\nWeather Bot\",\"status\":\"sent\"},\"weather\":{\"location\":\"New York\",\"weather_raw_json\":\"{\\\\\"weather\\\\\": \\\\\"Sunny, 25°C\\\\\"}\",\"weather_verbatim\":\"Sunny, 25°C\"}}', 'annotations': []}}], 'attachments': [], 'metadata': {}}, {'id': 'msg_aIzOY8tc7omDxkZpqByJoMI0', 'object': 'thread.message', 'created_at': 1747267611, 'assistant_id': None, 'thread_id': 'thread_GF9x7YB7WFQNmTuuGUPjnPzM', 'run_id': None, 'role': 'user', 'content': [{'type': 'text', 'text': {'value': 'Hello, send an email with the datetime and weather information in New York?', 'annotations': []}}], 'attachments': [], 'metadata': {}}], 'first_id': 'msg_0A0SgDUAdn479Ix4bLazIsS3', 'last_id': 'msg_aIzOY8tc7omDxkZpqByJoMI0', 'has_more': False}\n"
     ]
    }
   ],
   "source": [
    "# Create and process agent run in thread with tools\n",
    "run = project_client.agents.create_and_process_run(thread_id=thread.id, agent_id=agent.id)\n",
    "print(f\"Run finished with status: {run.status}\")\n",
    "\n",
    "if run.status == \"failed\":\n",
    "    print(f\"Run failed: {run.last_error}\")\n",
    "\n",
    "# # Delete the agent when done\n",
    "# project_client.agents.delete_agent(agent.id)\n",
    "# print(\"Deleted agent\")\n",
    "\n",
    "\n",
    "# Fetch and log all messages\n",
    "messages = project_client.agents.list_messages(thread_id=thread.id)\n",
    "print(f\"Messages: {messages}\")"
   ]
  },
  {
   "cell_type": "code",
   "execution_count": 50,
   "id": "8a02c864",
   "metadata": {},
   "outputs": [
    {
     "name": "stdout",
     "output_type": "stream",
     "text": [
      "MessageRole.AGENT\n",
      "{'value': '{\"email\":{\"to\":\"user@example.com\",\"subject\":\"Weather Update: New York\",\"body\":\"Hello,\\\\n\\\\nHere is the current date/time and weather information for New York.\\\\n\\\\nDate/Time: 2023-10-07T12:45:00Z\\\\nWeather: Sunny, 25°C\\\\n\\\\nRegards,\\\\nWeather Bot\",\"status\":\"sent\"},\"weather\":{\"location\":\"New York\",\"weather_raw_json\":\"{\\\\\"weather\\\\\": \\\\\"Sunny, 25°C\\\\\"}\",\"weather_verbatim\":\"Sunny, 25°C\"}}', 'annotations': []}\n",
      "MessageRole.USER\n",
      "{'value': 'Hello, send an email with the datetime and weather information in New York?', 'annotations': []}\n"
     ]
    }
   ],
   "source": [
    "for d in messages.data:\n",
    "    # print(d)\n",
    "    print(d.role)\n",
    "    print(d.content[0].text)"
   ]
  },
  {
   "cell_type": "code",
   "execution_count": 51,
   "id": "b147d985",
   "metadata": {},
   "outputs": [],
   "source": [
    "last_message = messages.get_last_message_by_role(\"assistant\")"
   ]
  },
  {
   "cell_type": "code",
   "execution_count": 52,
   "id": "fce1d1ca",
   "metadata": {},
   "outputs": [
    {
     "data": {
      "text/plain": [
       "{'id': 'msg_0A0SgDUAdn479Ix4bLazIsS3', 'object': 'thread.message', 'created_at': 1747267641, 'assistant_id': 'asst_l422LnjorfowDPECCbhlV7E1', 'thread_id': 'thread_GF9x7YB7WFQNmTuuGUPjnPzM', 'run_id': 'run_HtnMqejbePzjyKjYtfprysZV', 'role': 'assistant', 'content': [{'type': 'text', 'text': {'value': '{\"email\":{\"to\":\"user@example.com\",\"subject\":\"Weather Update: New York\",\"body\":\"Hello,\\\\n\\\\nHere is the current date/time and weather information for New York.\\\\n\\\\nDate/Time: 2023-10-07T12:45:00Z\\\\nWeather: Sunny, 25°C\\\\n\\\\nRegards,\\\\nWeather Bot\",\"status\":\"sent\"},\"weather\":{\"location\":\"New York\",\"weather_raw_json\":\"{\\\\\"weather\\\\\": \\\\\"Sunny, 25°C\\\\\"}\",\"weather_verbatim\":\"Sunny, 25°C\"}}', 'annotations': []}}], 'attachments': [], 'metadata': {}}"
      ]
     },
     "execution_count": 52,
     "metadata": {},
     "output_type": "execute_result"
    }
   ],
   "source": [
    "last_message"
   ]
  },
  {
   "cell_type": "code",
   "execution_count": 53,
   "id": "edd0aebe",
   "metadata": {},
   "outputs": [
    {
     "data": {
      "text/plain": [
       "azure.ai.projects.models._models.MessageTextContent"
      ]
     },
     "execution_count": 53,
     "metadata": {},
     "output_type": "execute_result"
    }
   ],
   "source": [
    "type(last_message.content)\n",
    "type(last_message.content[0])"
   ]
  },
  {
   "cell_type": "code",
   "execution_count": 54,
   "id": "d1bcfd48",
   "metadata": {},
   "outputs": [],
   "source": [
    "msg_text_content = last_message.content[0]"
   ]
  },
  {
   "cell_type": "code",
   "execution_count": 55,
   "id": "92856d93",
   "metadata": {},
   "outputs": [
    {
     "data": {
      "text/plain": [
       "'{\"email\":{\"to\":\"user@example.com\",\"subject\":\"Weather Update: New York\",\"body\":\"Hello,\\\\n\\\\nHere is the current date/time and weather information for New York.\\\\n\\\\nDate/Time: 2023-10-07T12:45:00Z\\\\nWeather: Sunny, 25°C\\\\n\\\\nRegards,\\\\nWeather Bot\",\"status\":\"sent\"},\"weather\":{\"location\":\"New York\",\"weather_raw_json\":\"{\\\\\"weather\\\\\": \\\\\"Sunny, 25°C\\\\\"}\",\"weather_verbatim\":\"Sunny, 25°C\"}}'"
      ]
     },
     "execution_count": 55,
     "metadata": {},
     "output_type": "execute_result"
    }
   ],
   "source": [
    "msg_text_content.text['value']"
   ]
  },
  {
   "cell_type": "code",
   "execution_count": 56,
   "id": "6115ad92",
   "metadata": {},
   "outputs": [],
   "source": [
    "wreport = AgentResponse.model_validate_json(msg_text_content.text['value'])"
   ]
  },
  {
   "cell_type": "code",
   "execution_count": 57,
   "id": "6d990f60",
   "metadata": {},
   "outputs": [
    {
     "name": "stdout",
     "output_type": "stream",
     "text": [
      "{\n",
      "  \"weather\": {\n",
      "    \"location\": \"New York\",\n",
      "    \"weather_raw_json\": \"{\\\"weather\\\": \\\"Sunny, 25\\u00b0C\\\"}\",\n",
      "    \"weather_verbatim\": \"Sunny, 25\\u00b0C\"\n",
      "  },\n",
      "  \"email\": {\n",
      "    \"to\": \"user@example.com\",\n",
      "    \"subject\": \"Weather Update: New York\",\n",
      "    \"body\": \"Hello,\\n\\nHere is the current date/time and weather information for New York.\\n\\nDate/Time: 2023-10-07T12:45:00Z\\nWeather: Sunny, 25\\u00b0C\\n\\nRegards,\\nWeather Bot\",\n",
      "    \"status\": \"sent\"\n",
      "  }\n",
      "}\n"
     ]
    }
   ],
   "source": [
    "import json\n",
    "\n",
    "print(json.dumps(wreport.model_dump(), indent=2))"
   ]
  },
  {
   "cell_type": "code",
   "execution_count": 58,
   "id": "1823ee2b",
   "metadata": {},
   "outputs": [],
   "source": [
    "message = project_client.agents.create_message(\n",
    "    thread_id=thread.id,\n",
    "    role=\"user\",\n",
    "    content=\"send the message to name@email.com\",\n",
    ")"
   ]
  },
  {
   "cell_type": "code",
   "execution_count": 59,
   "id": "86472a94",
   "metadata": {},
   "outputs": [
    {
     "name": "stdout",
     "output_type": "stream",
     "text": [
      "Run finished with status: completed\n",
      "Messages: {'object': 'list', 'data': [{'id': 'msg_ImdIMoXuRKa0lrlwpxXjxCbR', 'object': 'thread.message', 'created_at': 1747267733, 'assistant_id': 'asst_l422LnjorfowDPECCbhlV7E1', 'thread_id': 'thread_GF9x7YB7WFQNmTuuGUPjnPzM', 'run_id': 'run_72cfCN6et4HcsankFGn9vJP3', 'role': 'assistant', 'content': [{'type': 'text', 'text': {'value': '{\"email\":{\"to\":\"name@email.com\",\"subject\":\"Weather Update: New York\",\"body\":\"Hello,\\\\n\\\\nHere is the current date/time and weather information for New York.\\\\n\\\\nDate/Time: 2023-10-07T12:45:00Z\\\\nWeather: Sunny, 25°C\\\\n\\\\nRegards,\\\\nWeather Bot\",\"status\":\"sent\"},\"weather\":{\"location\":\"New York\",\"weather_raw_json\":\"{\\\\\"weather\\\\\": \\\\\"Sunny, 25°C\\\\\"}\",\"weather_verbatim\":\"Sunny, 25°C\"}}', 'annotations': []}}], 'attachments': [], 'metadata': {}}, {'id': 'msg_cDPc3etmmn7oajmL48ekTMea', 'object': 'thread.message', 'created_at': 1747267726, 'assistant_id': None, 'thread_id': 'thread_GF9x7YB7WFQNmTuuGUPjnPzM', 'run_id': None, 'role': 'user', 'content': [{'type': 'text', 'text': {'value': 'send the message to name@email.com', 'annotations': []}}], 'attachments': [], 'metadata': {}}, {'id': 'msg_0A0SgDUAdn479Ix4bLazIsS3', 'object': 'thread.message', 'created_at': 1747267641, 'assistant_id': 'asst_l422LnjorfowDPECCbhlV7E1', 'thread_id': 'thread_GF9x7YB7WFQNmTuuGUPjnPzM', 'run_id': 'run_HtnMqejbePzjyKjYtfprysZV', 'role': 'assistant', 'content': [{'type': 'text', 'text': {'value': '{\"email\":{\"to\":\"user@example.com\",\"subject\":\"Weather Update: New York\",\"body\":\"Hello,\\\\n\\\\nHere is the current date/time and weather information for New York.\\\\n\\\\nDate/Time: 2023-10-07T12:45:00Z\\\\nWeather: Sunny, 25°C\\\\n\\\\nRegards,\\\\nWeather Bot\",\"status\":\"sent\"},\"weather\":{\"location\":\"New York\",\"weather_raw_json\":\"{\\\\\"weather\\\\\": \\\\\"Sunny, 25°C\\\\\"}\",\"weather_verbatim\":\"Sunny, 25°C\"}}', 'annotations': []}}], 'attachments': [], 'metadata': {}}, {'id': 'msg_aIzOY8tc7omDxkZpqByJoMI0', 'object': 'thread.message', 'created_at': 1747267611, 'assistant_id': None, 'thread_id': 'thread_GF9x7YB7WFQNmTuuGUPjnPzM', 'run_id': None, 'role': 'user', 'content': [{'type': 'text', 'text': {'value': 'Hello, send an email with the datetime and weather information in New York?', 'annotations': []}}], 'attachments': [], 'metadata': {}}], 'first_id': 'msg_ImdIMoXuRKa0lrlwpxXjxCbR', 'last_id': 'msg_aIzOY8tc7omDxkZpqByJoMI0', 'has_more': False}\n"
     ]
    }
   ],
   "source": [
    "run = project_client.agents.create_and_process_run(thread_id=thread.id, agent_id=agent.id)\n",
    "print(f\"Run finished with status: {run.status}\")\n",
    "\n",
    "if run.status == \"failed\":\n",
    "    print(f\"Run failed: {run.last_error}\")\n",
    "\n",
    "messages = project_client.agents.list_messages(thread_id=thread.id)\n",
    "print(f\"Messages: {messages}\")"
   ]
  },
  {
   "cell_type": "code",
   "execution_count": 60,
   "id": "f5b4070e",
   "metadata": {},
   "outputs": [
    {
     "name": "stdout",
     "output_type": "stream",
     "text": [
      "MessageRole.AGENT\n",
      "{'value': '{\"email\":{\"to\":\"name@email.com\",\"subject\":\"Weather Update: New York\",\"body\":\"Hello,\\\\n\\\\nHere is the current date/time and weather information for New York.\\\\n\\\\nDate/Time: 2023-10-07T12:45:00Z\\\\nWeather: Sunny, 25°C\\\\n\\\\nRegards,\\\\nWeather Bot\",\"status\":\"sent\"},\"weather\":{\"location\":\"New York\",\"weather_raw_json\":\"{\\\\\"weather\\\\\": \\\\\"Sunny, 25°C\\\\\"}\",\"weather_verbatim\":\"Sunny, 25°C\"}}', 'annotations': []}\n",
      "MessageRole.USER\n",
      "{'value': 'send the message to name@email.com', 'annotations': []}\n",
      "MessageRole.AGENT\n",
      "{'value': '{\"email\":{\"to\":\"user@example.com\",\"subject\":\"Weather Update: New York\",\"body\":\"Hello,\\\\n\\\\nHere is the current date/time and weather information for New York.\\\\n\\\\nDate/Time: 2023-10-07T12:45:00Z\\\\nWeather: Sunny, 25°C\\\\n\\\\nRegards,\\\\nWeather Bot\",\"status\":\"sent\"},\"weather\":{\"location\":\"New York\",\"weather_raw_json\":\"{\\\\\"weather\\\\\": \\\\\"Sunny, 25°C\\\\\"}\",\"weather_verbatim\":\"Sunny, 25°C\"}}', 'annotations': []}\n",
      "MessageRole.USER\n",
      "{'value': 'Hello, send an email with the datetime and weather information in New York?', 'annotations': []}\n"
     ]
    }
   ],
   "source": [
    "for d in messages.data:\n",
    "    # print(d)\n",
    "    print(d.role)\n",
    "    print(d.content[0].text)"
   ]
  },
  {
   "cell_type": "code",
   "execution_count": null,
   "id": "2b6dbfb3",
   "metadata": {},
   "outputs": [],
   "source": []
  }
 ],
 "metadata": {
  "kernelspec": {
   "display_name": "ai_env",
   "language": "python",
   "name": "python3"
  },
  "language_info": {
   "codemirror_mode": {
    "name": "ipython",
    "version": 3
   },
   "file_extension": ".py",
   "mimetype": "text/x-python",
   "name": "python",
   "nbconvert_exporter": "python",
   "pygments_lexer": "ipython3",
   "version": "3.10.16"
  }
 },
 "nbformat": 4,
 "nbformat_minor": 5
}
