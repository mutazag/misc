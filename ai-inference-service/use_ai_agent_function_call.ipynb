{
 "cells": [
  {
   "cell_type": "code",
   "execution_count": 45,
   "id": "a644cb7d",
   "metadata": {},
   "outputs": [],
   "source": [
    "import json\n",
    "import datetime\n",
    "from typing import Any, Callable, Set, Dict, List, Optional\n",
    "from pydantic import BaseModel, Field\n",
    "\n",
    "from azure.ai.projects.models import (\n",
    "    ResponseFormatJsonSchema,\n",
    "    ResponseFormatJsonSchemaType,\n",
    ")\n",
    "\n",
    "\n",
    "def fetch_weather(location: str) -> str:\n",
    "    \"\"\"\n",
    "    Fetches the weather information for the specified location.\n",
    "\n",
    "    :param location (str): The location to fetch weather for.\n",
    "    :return: Weather information as a JSON string.\n",
    "    :rtype: str\n",
    "    \"\"\"\n",
    "    # In a real-world scenario, you'd integrate with a weather API.\n",
    "    # Here, we'll mock the response.\n",
    "    mock_weather_data = {\"New York\": \"Sunny, 25°C\", \"London\": \"Cloudy, 18°C\", \"Tokyo\": \"Rainy, 22°C\"}\n",
    "    weather = mock_weather_data.get(location, \"Weather data not available for this location.\")\n",
    "    weather_json = json.dumps({\"weather\": weather})\n",
    "    return weather_json\n",
    "\n",
    "# Statically defined user functions for fast reference\n",
    "user_functions: Set[Callable[..., Any]] = {\n",
    "    fetch_weather,\n",
    "}"
   ]
  },
  {
   "cell_type": "code",
   "execution_count": 46,
   "id": "1b6181d1",
   "metadata": {},
   "outputs": [
    {
     "name": "stdout",
     "output_type": "stream",
     "text": [
      "Created agent, ID: asst_brN52V9Cgrt3P8mHGUqewEZk\n"
     ]
    }
   ],
   "source": [
    "import os\n",
    "from azure.ai.projects import AIProjectClient\n",
    "from azure.identity import DefaultAzureCredential\n",
    "from azure.ai.projects.models import FunctionTool, ToolSet, FunctionDefinition\n",
    "# from user_functions import user_functions # user functions which can be found in a user_functions.py file.\n",
    "\n",
    "# Create an Azure AI Client from a connection string, copied from your Azure AI Foundry project.\n",
    "# It should be in the format \"<HostName>;<AzureSubscriptionId>;<ResourceGroup>;<HubName>\"\n",
    "# Customers need to login to Azure subscription via Azure CLI and set the environment variables\n",
    "\n",
    "project_client = AIProjectClient.from_connection_string(\n",
    "    credential=DefaultAzureCredential(),\n",
    "    conn_str=os.environ[\"AZURE_AI_PROJECT_CONN_STR\"],\n",
    ")\n",
    "\n",
    "# Initialize agent toolset with user functions\n",
    "functions = FunctionTool(user_functions)\n",
    "toolset = ToolSet()\n",
    "toolset.add(functions)\n",
    "\n",
    "\n",
    "class AgentResponseForWeather(BaseModel):\n",
    "    location: str = Field(description=\"The location for which weather information was requested\")\n",
    "    weather_raw_json: str = Field(description=\"The raw JSON string containing weather data\")\n",
    "    weather_verbatim: str = Field(description=\"The human-readable weather information extracted from the JSON\")\n",
    "\n",
    "\n",
    "agent = project_client.agents.create_agent(\n",
    "    model=\"gpt-4o\",\n",
    "    name=\"my-weather-agent\",\n",
    "    instructions=\"You are a weather bot. Use the provided functions to help answer questions.\",\n",
    "    toolset=toolset,\n",
    "    response_format=ResponseFormatJsonSchemaType(\n",
    "        json_schema=ResponseFormatJsonSchema(\n",
    "            name=\"weather_report\",\n",
    "            description=\"Weather report for a specific location\",\n",
    "            schema=AgentResponseForWeather.model_json_schema(),\n",
    "        )\n",
    "    )\n",
    ")\n",
    "\n",
    "print(f\"Created agent, ID: {agent.id}\")"
   ]
  },
  {
   "cell_type": "code",
   "execution_count": 47,
   "id": "d29b1c61",
   "metadata": {},
   "outputs": [
    {
     "data": {
      "text/plain": [
       "{'type': 'function', 'function': {'name': 'fetch_weather', 'description': 'Fetches the weather information for the specified location.', 'parameters': {'type': 'object', 'properties': {'location': {'type': 'string', 'description': 'The location to fetch weather for.'}}, 'required': ['location']}}}"
      ]
     },
     "execution_count": 47,
     "metadata": {},
     "output_type": "execute_result"
    }
   ],
   "source": [
    "functions.definitions[0]"
   ]
  },
  {
   "cell_type": "code",
   "execution_count": 48,
   "id": "6396435b",
   "metadata": {},
   "outputs": [
    {
     "name": "stdout",
     "output_type": "stream",
     "text": [
      "Created thread, ID: thread_mFccOZ0wWKbmUw6k8Y5p0v9z\n",
      "Created message, ID: msg_0rdB0pE5K7NCtN6FnwzaKIhs\n"
     ]
    }
   ],
   "source": [
    "# Create thread for communication\n",
    "thread = project_client.agents.create_thread()\n",
    "print(f\"Created thread, ID: {thread.id}\")\n",
    "\n",
    "# Create message to thread\n",
    "message = project_client.agents.create_message(\n",
    "    thread_id=thread.id,\n",
    "    role=\"user\",\n",
    "    content=\"Hello, send an email with the datetime and weather information in New York?\",\n",
    ")\n",
    "print(f\"Created message, ID: {message.id}\")"
   ]
  },
  {
   "cell_type": "code",
   "execution_count": 49,
   "id": "58d872c3",
   "metadata": {},
   "outputs": [
    {
     "data": {
      "text/plain": [
       "{'id': 'thread_mFccOZ0wWKbmUw6k8Y5p0v9z',\n",
       " 'object': 'thread',\n",
       " 'created_at': 1747204212,\n",
       " 'metadata': {},\n",
       " 'tool_resources': {}}"
      ]
     },
     "execution_count": 49,
     "metadata": {},
     "output_type": "execute_result"
    }
   ],
   "source": [
    "thread.as_dict()"
   ]
  },
  {
   "cell_type": "code",
   "execution_count": 50,
   "id": "f94ef241",
   "metadata": {},
   "outputs": [],
   "source": [
    "thread_messages = project_client.agents.list_messages(thread_id=thread.id, limit=10)"
   ]
  },
  {
   "cell_type": "code",
   "execution_count": 51,
   "id": "5388e5e9",
   "metadata": {},
   "outputs": [
    {
     "data": {
      "text/plain": [
       "{'id': 'msg_0rdB0pE5K7NCtN6FnwzaKIhs', 'object': 'thread.message', 'created_at': 1747204212, 'assistant_id': None, 'thread_id': 'thread_mFccOZ0wWKbmUw6k8Y5p0v9z', 'run_id': None, 'role': 'user', 'content': [{'type': 'text', 'text': {'value': 'Hello, send an email with the datetime and weather information in New York?', 'annotations': []}}], 'attachments': [], 'metadata': {}}"
      ]
     },
     "execution_count": 51,
     "metadata": {},
     "output_type": "execute_result"
    }
   ],
   "source": [
    "project_client.agents.get_message(\n",
    "    thread_id=thread.id,\n",
    "    message_id=message.id,)"
   ]
  },
  {
   "cell_type": "code",
   "execution_count": null,
   "id": "8e6b73fe",
   "metadata": {},
   "outputs": [],
   "source": [
    "# Create and process agent run in thread with tools\n",
    "run = project_client.agents.create_and_process_run(thread_id=thread.id, agent_id=agent.id)\n",
    "print(f\"Run finished with status: {run.status}\")\n",
    "\n",
    "if run.status == \"failed\":\n",
    "    print(f\"Run failed: {run.last_error}\")\n",
    "\n",
    "# # Delete the agent when done\n",
    "# project_client.agents.delete_agent(agent.id)\n",
    "# print(\"Deleted agent\")\n",
    "\n",
    "\n",
    "# Fetch and log all messages\n",
    "messages = project_client.agents.list_messages(thread_id=thread.id)\n",
    "print(f\"Messages: {messages}\")"
   ]
  },
  {
   "cell_type": "code",
   "execution_count": null,
   "id": "8a02c864",
   "metadata": {},
   "outputs": [
    {
     "name": "stdout",
     "output_type": "stream",
     "text": [
      "MessageRole.AGENT\n",
      "{'value': '{\"location\":\"New York\",\"weather_raw_json\":\"{\\\\\"weather\\\\\": \\\\\"Sunny, 25\\\\\\\\u00b0C\\\\\"}\",\"weather_verbatim\":\"The weather in New York is Sunny with a temperature of 25°C.\"}', 'annotations': []}\n",
      "MessageRole.USER\n",
      "{'value': 'Hello, send an email with the datetime and weather information in New York?', 'annotations': []}\n"
     ]
    }
   ],
   "source": [
    "for d in messages.data:\n",
    "    # print(d)\n",
    "    print(d.role)\n",
    "    print(d.content[0].text)"
   ]
  },
  {
   "cell_type": "code",
   "execution_count": null,
   "id": "b147d985",
   "metadata": {},
   "outputs": [],
   "source": [
    "last_message = messages.get_last_message_by_role(\"assistant\")"
   ]
  },
  {
   "cell_type": "code",
   "execution_count": null,
   "id": "fce1d1ca",
   "metadata": {},
   "outputs": [
    {
     "data": {
      "text/plain": [
       "{'id': 'msg_Ulu4TIwX9jY9K6q8oB3PedkM', 'object': 'thread.message', 'created_at': 1747201697, 'assistant_id': 'asst_0JWVDMnTIztOyzaj1f4gc76G', 'thread_id': 'thread_1dp0iZx6wj1RDOJL42A5mI4P', 'run_id': 'run_ew50Ue2yEMfODHRqzEYhnYHo', 'role': 'assistant', 'content': [{'type': 'text', 'text': {'value': '{\"location\":\"New York\",\"weather_raw_json\":\"{\\\\\"weather\\\\\": \\\\\"Sunny, 25\\\\\\\\u00b0C\\\\\"}\",\"weather_verbatim\":\"The weather in New York remains sunny with a temperature of 25°C. This message cannot be sent directly to an email; kindly use your mail application to compose and send the email.\"}', 'annotations': []}}], 'attachments': [], 'metadata': {}}"
      ]
     },
     "execution_count": 37,
     "metadata": {},
     "output_type": "execute_result"
    }
   ],
   "source": [
    "last_message"
   ]
  },
  {
   "cell_type": "code",
   "execution_count": null,
   "id": "edd0aebe",
   "metadata": {},
   "outputs": [
    {
     "data": {
      "text/plain": [
       "azure.ai.projects.models._models.MessageTextContent"
      ]
     },
     "execution_count": 32,
     "metadata": {},
     "output_type": "execute_result"
    }
   ],
   "source": [
    "type(last_message.content)\n",
    "type(last_message.content[0])"
   ]
  },
  {
   "cell_type": "code",
   "execution_count": null,
   "id": "d1bcfd48",
   "metadata": {},
   "outputs": [],
   "source": [
    "msg_text_content = last_message.content[0]"
   ]
  },
  {
   "cell_type": "code",
   "execution_count": null,
   "id": "92856d93",
   "metadata": {},
   "outputs": [
    {
     "data": {
      "text/plain": [
       "'{\"location\":\"New York\",\"weather_raw_json\":\"{\\\\\"weather\\\\\": \\\\\"Sunny, 25\\\\\\\\u00b0C\\\\\"}\",\"weather_verbatim\":\"The weather in New York remains sunny with a temperature of 25°C. This message cannot be sent directly to an email; kindly use your mail application to compose and send the email.\"}'"
      ]
     },
     "execution_count": 41,
     "metadata": {},
     "output_type": "execute_result"
    }
   ],
   "source": [
    "msg_text_content.text['value']"
   ]
  },
  {
   "cell_type": "code",
   "execution_count": null,
   "id": "6115ad92",
   "metadata": {},
   "outputs": [],
   "source": [
    "wreport = AgentResponseForWeather.model_validate_json(msg_text_content.text['value'])"
   ]
  },
  {
   "cell_type": "code",
   "execution_count": null,
   "id": "6d990f60",
   "metadata": {},
   "outputs": [
    {
     "name": "stdout",
     "output_type": "stream",
     "text": [
      "New York\n"
     ]
    }
   ],
   "source": [
    "print(wreport.location)"
   ]
  },
  {
   "cell_type": "code",
   "execution_count": null,
   "id": "1823ee2b",
   "metadata": {},
   "outputs": [],
   "source": [
    "message = project_client.agents.create_message(\n",
    "    thread_id=thread.id,\n",
    "    role=\"user\",\n",
    "    content=\"send the message to name@email.com\",\n",
    ")"
   ]
  },
  {
   "cell_type": "code",
   "execution_count": null,
   "id": "86472a94",
   "metadata": {},
   "outputs": [
    {
     "name": "stdout",
     "output_type": "stream",
     "text": [
      "Run finished with status: completed\n",
      "Messages: {'object': 'list', 'data': [{'id': 'msg_Ulu4TIwX9jY9K6q8oB3PedkM', 'object': 'thread.message', 'created_at': 1747201697, 'assistant_id': 'asst_0JWVDMnTIztOyzaj1f4gc76G', 'thread_id': 'thread_1dp0iZx6wj1RDOJL42A5mI4P', 'run_id': 'run_ew50Ue2yEMfODHRqzEYhnYHo', 'role': 'assistant', 'content': [{'type': 'text', 'text': {'value': '{\"location\":\"New York\",\"weather_raw_json\":\"{\\\\\"weather\\\\\": \\\\\"Sunny, 25\\\\\\\\u00b0C\\\\\"}\",\"weather_verbatim\":\"The weather in New York remains sunny with a temperature of 25°C. This message cannot be sent directly to an email; kindly use your mail application to compose and send the email.\"}', 'annotations': []}}], 'attachments': [], 'metadata': {}}, {'id': 'msg_BFaol3FZ8Qr0Ww4n8WX5L4o9', 'object': 'thread.message', 'created_at': 1747201695, 'assistant_id': None, 'thread_id': 'thread_1dp0iZx6wj1RDOJL42A5mI4P', 'run_id': None, 'role': 'user', 'content': [{'type': 'text', 'text': {'value': 'send the message to name@email.com', 'annotations': []}}], 'attachments': [], 'metadata': {}}, {'id': 'msg_G0FGPUq5X6hfBTlISW55HiRi', 'object': 'thread.message', 'created_at': 1747201693, 'assistant_id': 'asst_0JWVDMnTIztOyzaj1f4gc76G', 'thread_id': 'thread_1dp0iZx6wj1RDOJL42A5mI4P', 'run_id': 'run_iym4cvuCrjPda87ZaalhVw0Y', 'role': 'assistant', 'content': [{'type': 'text', 'text': {'value': '{\"location\":\"New York\",\"weather_raw_json\":\"{\\\\\"weather\\\\\": \\\\\"Sunny, 25\\\\\\\\u00b0C\\\\\"}\",\"weather_verbatim\":\"The weather in New York is Sunny with a temperature of 25°C.\"}', 'annotations': []}}], 'attachments': [], 'metadata': {}}, {'id': 'msg_5Wk5KIRG23UYRmaPdO5TjuvQ', 'object': 'thread.message', 'created_at': 1747201685, 'assistant_id': None, 'thread_id': 'thread_1dp0iZx6wj1RDOJL42A5mI4P', 'run_id': None, 'role': 'user', 'content': [{'type': 'text', 'text': {'value': 'Hello, send an email with the datetime and weather information in New York?', 'annotations': []}}], 'attachments': [], 'metadata': {}}], 'first_id': 'msg_Ulu4TIwX9jY9K6q8oB3PedkM', 'last_id': 'msg_5Wk5KIRG23UYRmaPdO5TjuvQ', 'has_more': False}\n"
     ]
    }
   ],
   "source": [
    "run = project_client.agents.create_and_process_run(thread_id=thread.id, agent_id=agent.id)\n",
    "print(f\"Run finished with status: {run.status}\")\n",
    "\n",
    "if run.status == \"failed\":\n",
    "    print(f\"Run failed: {run.last_error}\")\n",
    "\n",
    "messages = project_client.agents.list_messages(thread_id=thread.id)\n",
    "print(f\"Messages: {messages}\")"
   ]
  },
  {
   "cell_type": "code",
   "execution_count": null,
   "id": "f5b4070e",
   "metadata": {},
   "outputs": [
    {
     "name": "stdout",
     "output_type": "stream",
     "text": [
      "MessageRole.AGENT\n",
      "{'value': '{\"location\":\"New York\",\"weather_raw_json\":\"{\\\\\"weather\\\\\": \\\\\"Sunny, 25\\\\\\\\u00b0C\\\\\"}\",\"weather_verbatim\":\"The weather in New York remains sunny with a temperature of 25°C. This message cannot be sent directly to an email; kindly use your mail application to compose and send the email.\"}', 'annotations': []}\n",
      "MessageRole.USER\n",
      "{'value': 'send the message to name@email.com', 'annotations': []}\n",
      "MessageRole.AGENT\n",
      "{'value': '{\"location\":\"New York\",\"weather_raw_json\":\"{\\\\\"weather\\\\\": \\\\\"Sunny, 25\\\\\\\\u00b0C\\\\\"}\",\"weather_verbatim\":\"The weather in New York is Sunny with a temperature of 25°C.\"}', 'annotations': []}\n",
      "MessageRole.USER\n",
      "{'value': 'Hello, send an email with the datetime and weather information in New York?', 'annotations': []}\n"
     ]
    }
   ],
   "source": [
    "for d in messages.data:\n",
    "    # print(d)\n",
    "    print(d.role)\n",
    "    print(d.content[0].text)"
   ]
  },
  {
   "cell_type": "code",
   "execution_count": null,
   "id": "2b6dbfb3",
   "metadata": {},
   "outputs": [],
   "source": []
  }
 ],
 "metadata": {
  "kernelspec": {
   "display_name": "ai_env",
   "language": "python",
   "name": "python3"
  },
  "language_info": {
   "codemirror_mode": {
    "name": "ipython",
    "version": 3
   },
   "file_extension": ".py",
   "mimetype": "text/x-python",
   "name": "python",
   "nbconvert_exporter": "python",
   "pygments_lexer": "ipython3",
   "version": "3.10.16"
  }
 },
 "nbformat": 4,
 "nbformat_minor": 5
}
