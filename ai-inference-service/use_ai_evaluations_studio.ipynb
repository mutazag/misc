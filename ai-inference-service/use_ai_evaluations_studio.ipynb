{
 "cells": [
  {
   "cell_type": "code",
   "execution_count": null,
   "id": "5029daaa",
   "metadata": {},
   "outputs": [],
   "source": [
    "# https://learn.microsoft.com/en-us/azure/ai-foundry/how-to/develop/cloud-evaluation"
   ]
  },
  {
   "cell_type": "code",
   "execution_count": 1,
   "id": "d71fe48d",
   "metadata": {},
   "outputs": [],
   "source": [
    "import os\n",
    "import json\n",
    "from azure.ai.projects import AIProjectClient\n",
    "from azure.ai.projects.models import (\n",
    "    CodeInterpreterTool,\n",
    "    BingGroundingTool,\n",
    "    FunctionTool\n",
    ")\n",
    "from azure.identity import DefaultAzureCredential\n",
    "from typing import Any\n",
    "from pathlib import Path\n",
    "\n",
    "from azure.ai.ml import MLClient\n",
    "import mlflow\n"
   ]
  },
  {
   "cell_type": "markdown",
   "id": "4eced3f7",
   "metadata": {},
   "source": [
    "# AI Project Client and ML Client \n",
    "\n",
    "AI Project Client will be used to retrieve the list of the evaluations in a project, can be used to submit a new evaluation, and configure evaluators. \n",
    "\n",
    "ML Client, the underlying Azure ML Workspace, will be used to retrieve job run detail that correspond to the evaluation job, then MLFlow is used to retrieve metrics and other details. "
   ]
  },
  {
   "cell_type": "code",
   "execution_count": 2,
   "id": "90a91f1f",
   "metadata": {},
   "outputs": [],
   "source": [
    "project_client = AIProjectClient.from_connection_string(\n",
    "    conn_str=os.environ[\"AZURE_AI_PROJECT_CONN_STR\"],\n",
    "    credential=DefaultAzureCredential()\n",
    ")"
   ]
  },
  {
   "cell_type": "code",
   "execution_count": 3,
   "id": "63ab0465",
   "metadata": {},
   "outputs": [
    {
     "data": {
      "text/plain": [
       "{'subscription_id': 'e9b9c71e-d2ba-4086-a5ed-2923e15962d9',\n",
       " 'resource_group_name': 'rg-mutaza-5102_ai',\n",
       " 'project_name': 'ai-inference-eastus2'}"
      ]
     },
     "execution_count": 3,
     "metadata": {},
     "output_type": "execute_result"
    }
   ],
   "source": [
    "project_client.scope"
   ]
  },
  {
   "cell_type": "markdown",
   "id": "8b583b4d",
   "metadata": {},
   "source": [
    "# Retrieve evluations from AI Project"
   ]
  },
  {
   "cell_type": "code",
   "execution_count": 3,
   "id": "4b2ccece",
   "metadata": {},
   "outputs": [
    {
     "data": {
      "text/plain": [
       "[('46a30d94-5184-43b6-a281-1fd75c0f088a',\n",
       "  'evaluation_sample_eval',\n",
       "  'relevance, coherence, similarity, fluency, f1_score, bleu, gleu, rouge, meteor, self_harm, hate_unfairness, violence, indirect_attack, protected_material, sexual',\n",
       "  'Completed',\n",
       "  azure.ai.projects.models._models.Evaluation)]"
      ]
     },
     "execution_count": 3,
     "metadata": {},
     "output_type": "execute_result"
    }
   ],
   "source": [
    "[(\n",
    "    ev.id,\n",
    "    ev.display_name,\n",
    "    \", \".join([evva for evva in ev.evaluators]),\n",
    "    ev.status,\n",
    "    type(ev)\n",
    "    )\n",
    " for ev in project_client.evaluations.list()]"
   ]
  },
  {
   "cell_type": "code",
   "execution_count": 4,
   "id": "a38b5bc9",
   "metadata": {},
   "outputs": [
    {
     "name": "stdout",
     "output_type": "stream",
     "text": [
      "46a30d94-5184-43b6-a281-1fd75c0f088a\n"
     ]
    }
   ],
   "source": [
    "eval_job_id = \"46a30d94-5184-43b6-a281-1fd75c0f088a\"\n",
    "eval = project_client.evaluations.get(id=eval_job_id)\n",
    "print(eval.id)"
   ]
  },
  {
   "cell_type": "code",
   "execution_count": 5,
   "id": "38a596ce",
   "metadata": {},
   "outputs": [
    {
     "data": {
      "text/plain": [
       "{'id': '46a30d94-5184-43b6-a281-1fd75c0f088a',\n",
       " 'data': {'type': 'Dataset',\n",
       "  'id': 'azureml://locations/eastus2/workspaces/fd3837d7-cb17-42c2-8f2d-6e6163678714/data/eval-data-2025-03-23_090658_UTC/versions/1'},\n",
       " 'target': None,\n",
       " 'description': '',\n",
       " 'displayName': 'evaluation_sample_eval',\n",
       " 'systemData': {'createdBy': 'Mutaz Abu Ghazaleh (AI GBB)',\n",
       "  'modifiedBy': 'Mutaz Abu Ghazaleh (AI GBB)'},\n",
       " 'status': 'Completed',\n",
       " 'tags': {'tag1': 'v1'},\n",
       " 'properties': {'evaluationType': '',\n",
       "  'runType': 'eval_run',\n",
       "  '_azureml.evaluation_run': 'evaluation.service',\n",
       "  '_azureml.evaluate_artifacts': '[{\"path\": \"instance_results.jsonl\", \"type\": \"table\"}]',\n",
       "  '_azureml.ComputeTargetType': 'amlctrain',\n",
       "  '_azureml.ClusterName': None,\n",
       "  'ProcessInfoFile': 'azureml-logs/process_info.json',\n",
       "  'ProcessStatusFile': 'azureml-logs/process_status.json',\n",
       "  'StartTimeUtc': '2025-03-23 09:11:17',\n",
       "  'EndTimeUtc': '2025-03-23 09:14:21',\n",
       "  'OutputAssetUri': 'azureml://locations/eastus2/workspaces/fd3837d7-cb17-42c2-8f2d-6e6163678714/data/azureml_46a30d94-5184-43b6-a281-1fd75c0f088a_output_data_eval_output/versions/1',\n",
       "  'AiStudioEvaluationUri': 'https://ai.azure.com/build/evaluation/46a30d94-5184-43b6-a281-1fd75c0f088a?wsid=/subscriptions/e9b9c71e-d2ba-4086-a5ed-2923e15962d9/resourceGroups/rg-mutaza-5102_ai/providers/Microsoft.MachineLearningServices/workspaces/ai-inference-eastus2'},\n",
       " 'evaluators': {'relevance': {'id': 'azureml://registries/azureml/models/Relevance-Evaluator/versions/5',\n",
       "   'initParams': {'model_config': {'api_key': '/subscriptions/e9b9c71e-d2ba-4086-a5ed-2923e15962d9/resourceGroups/rg-mutaza-5102_ai/providers/Microsoft.MachineLearningServices/workspaces/ai-inference-eastus2/connections/ai-mutazaaieastus2054278078742_aoai/credentials/key',\n",
       "     'azure_deployment': 'gpt-4o',\n",
       "     'azure_endpoint': 'https://ai-mutazaaieastus2054278078742.openai.azure.com/'}},\n",
       "   'dataMapping': {'query': '${data.query}',\n",
       "    'response': '${data.response}',\n",
       "    'ground_truth': '${data.ground_truth}'}},\n",
       "  'coherence': {'id': 'azureml://registries/azureml/models/Coherence-Evaluator/versions/5',\n",
       "   'initParams': {'model_config': {'api_key': '/subscriptions/e9b9c71e-d2ba-4086-a5ed-2923e15962d9/resourceGroups/rg-mutaza-5102_ai/providers/Microsoft.MachineLearningServices/workspaces/ai-inference-eastus2/connections/ai-mutazaaieastus2054278078742_aoai/credentials/key',\n",
       "     'azure_deployment': 'gpt-4o',\n",
       "     'azure_endpoint': 'https://ai-mutazaaieastus2054278078742.openai.azure.com/'}},\n",
       "   'dataMapping': {'query': '${data.query}',\n",
       "    'response': '${data.response}',\n",
       "    'ground_truth': '${data.ground_truth}'}},\n",
       "  'similarity': {'id': 'azureml://registries/azureml/models/Similarity-Evaluator/versions/3',\n",
       "   'initParams': {'model_config': {'api_key': '/subscriptions/e9b9c71e-d2ba-4086-a5ed-2923e15962d9/resourceGroups/rg-mutaza-5102_ai/providers/Microsoft.MachineLearningServices/workspaces/ai-inference-eastus2/connections/ai-mutazaaieastus2054278078742_aoai/credentials/key',\n",
       "     'azure_deployment': 'gpt-4o',\n",
       "     'azure_endpoint': 'https://ai-mutazaaieastus2054278078742.openai.azure.com/'}},\n",
       "   'dataMapping': {'query': '${data.query}',\n",
       "    'response': '${data.response}',\n",
       "    'ground_truth': '${data.ground_truth}'}},\n",
       "  'fluency': {'id': 'azureml://registries/azureml/models/Fluency-Evaluator/versions/5',\n",
       "   'initParams': {'model_config': {'api_key': '/subscriptions/e9b9c71e-d2ba-4086-a5ed-2923e15962d9/resourceGroups/rg-mutaza-5102_ai/providers/Microsoft.MachineLearningServices/workspaces/ai-inference-eastus2/connections/ai-mutazaaieastus2054278078742_aoai/credentials/key',\n",
       "     'azure_deployment': 'gpt-4o',\n",
       "     'azure_endpoint': 'https://ai-mutazaaieastus2054278078742.openai.azure.com/'}},\n",
       "   'dataMapping': {'query': '${data.query}',\n",
       "    'response': '${data.response}',\n",
       "    'ground_truth': '${data.ground_truth}'}},\n",
       "  'f1_score': {'id': 'azureml://registries/azureml/models/F1Score-Evaluator/versions/3',\n",
       "   'initParams': {},\n",
       "   'dataMapping': {'query': '${data.query}',\n",
       "    'response': '${data.response}',\n",
       "    'ground_truth': '${data.ground_truth}'}},\n",
       "  'bleu': {'id': 'azureml://registries/azureml/models/Bleu-Score-Evaluator/versions/3',\n",
       "   'initParams': {},\n",
       "   'dataMapping': {'query': '${data.query}',\n",
       "    'response': '${data.response}',\n",
       "    'ground_truth': '${data.ground_truth}'}},\n",
       "  'gleu': {'id': 'azureml://registries/azureml/models/Gleu-Score-Evaluator/versions/3',\n",
       "   'initParams': {},\n",
       "   'dataMapping': {'query': '${data.query}',\n",
       "    'response': '${data.response}',\n",
       "    'ground_truth': '${data.ground_truth}'}},\n",
       "  'rouge': {'id': 'azureml://registries/azureml/models/Rouge-Score-Evaluator/versions/3',\n",
       "   'initParams': {'rouge_type': 'rouge1'},\n",
       "   'dataMapping': {'query': '${data.query}',\n",
       "    'response': '${data.response}',\n",
       "    'ground_truth': '${data.ground_truth}'}},\n",
       "  'meteor': {'id': 'azureml://registries/azureml/models/Meteor-Score-Evaluator/versions/3',\n",
       "   'initParams': {},\n",
       "   'dataMapping': {'query': '${data.query}',\n",
       "    'response': '${data.response}',\n",
       "    'ground_truth': '${data.ground_truth}'}},\n",
       "  'self_harm': {'id': 'azureml://registries/azureml/models/Self-Harm-Related-Content-Evaluator/versions/3',\n",
       "   'initParams': {'azure_ai_project': {'resource_group_name': 'rg-mutaza-5102_ai',\n",
       "     'project_name': 'ai-inference-eastus2',\n",
       "     'subscription_id': 'e9b9c71e-d2ba-4086-a5ed-2923e15962d9'}},\n",
       "   'dataMapping': {'query': '${data.query}',\n",
       "    'response': '${data.response}',\n",
       "    'ground_truth': '${data.ground_truth}'}},\n",
       "  'hate_unfairness': {'id': 'azureml://registries/azureml/models/Hate-and-Unfairness-Evaluator/versions/4',\n",
       "   'initParams': {'azure_ai_project': {'resource_group_name': 'rg-mutaza-5102_ai',\n",
       "     'project_name': 'ai-inference-eastus2',\n",
       "     'subscription_id': 'e9b9c71e-d2ba-4086-a5ed-2923e15962d9'}},\n",
       "   'dataMapping': {'query': '${data.query}',\n",
       "    'response': '${data.response}',\n",
       "    'ground_truth': '${data.ground_truth}'}},\n",
       "  'violence': {'id': 'azureml://registries/azureml/models/Violent-Content-Evaluator/versions/3',\n",
       "   'initParams': {'azure_ai_project': {'resource_group_name': 'rg-mutaza-5102_ai',\n",
       "     'project_name': 'ai-inference-eastus2',\n",
       "     'subscription_id': 'e9b9c71e-d2ba-4086-a5ed-2923e15962d9'}},\n",
       "   'dataMapping': {'query': '${data.query}',\n",
       "    'response': '${data.response}',\n",
       "    'ground_truth': '${data.ground_truth}'}},\n",
       "  'indirect_attack': {'id': 'azureml://registries/azureml/models/Indirect-Attack-Evaluator/versions/3',\n",
       "   'initParams': {'azure_ai_project': {'resource_group_name': 'rg-mutaza-5102_ai',\n",
       "     'project_name': 'ai-inference-eastus2',\n",
       "     'subscription_id': 'e9b9c71e-d2ba-4086-a5ed-2923e15962d9'}},\n",
       "   'dataMapping': {'query': '${data.query}',\n",
       "    'response': '${data.response}',\n",
       "    'ground_truth': '${data.ground_truth}'}},\n",
       "  'protected_material': {'id': 'azureml://registries/azureml/models/Protected-Material-Evaluator/versions/3',\n",
       "   'initParams': {'azure_ai_project': {'resource_group_name': 'rg-mutaza-5102_ai',\n",
       "     'project_name': 'ai-inference-eastus2',\n",
       "     'subscription_id': 'e9b9c71e-d2ba-4086-a5ed-2923e15962d9'}},\n",
       "   'dataMapping': {'query': '${data.query}',\n",
       "    'response': '${data.response}',\n",
       "    'ground_truth': '${data.ground_truth}'}},\n",
       "  'sexual': {'id': 'azureml://registries/azureml/models/Sexual-Content-Evaluator/versions/3',\n",
       "   'initParams': {'azure_ai_project': {'resource_group_name': 'rg-mutaza-5102_ai',\n",
       "     'project_name': 'ai-inference-eastus2',\n",
       "     'subscription_id': 'e9b9c71e-d2ba-4086-a5ed-2923e15962d9'}},\n",
       "   'dataMapping': {'query': '${data.query}',\n",
       "    'response': '${data.response}',\n",
       "    'ground_truth': '${data.ground_truth}'}}}}"
      ]
     },
     "execution_count": 5,
     "metadata": {},
     "output_type": "execute_result"
    }
   ],
   "source": [
    "eval.as_dict()"
   ]
  },
  {
   "cell_type": "code",
   "execution_count": 6,
   "id": "7de34059",
   "metadata": {},
   "outputs": [
    {
     "data": {
      "text/plain": [
       "dict_keys(['evaluationType', 'runType', '_azureml.evaluation_run', '_azureml.evaluate_artifacts', '_azureml.ComputeTargetType', '_azureml.ClusterName', 'ProcessInfoFile', 'ProcessStatusFile', 'StartTimeUtc', 'EndTimeUtc', 'OutputAssetUri', 'AiStudioEvaluationUri'])"
      ]
     },
     "execution_count": 6,
     "metadata": {},
     "output_type": "execute_result"
    }
   ],
   "source": [
    "eval.properties.keys()"
   ]
  },
  {
   "cell_type": "code",
   "execution_count": 7,
   "id": "8178384d",
   "metadata": {},
   "outputs": [
    {
     "data": {
      "text/plain": [
       "'evaluation.service'"
      ]
     },
     "execution_count": 7,
     "metadata": {},
     "output_type": "execute_result"
    }
   ],
   "source": [
    "eval.properties[\"_azureml.evaluation_run\"]"
   ]
  },
  {
   "cell_type": "code",
   "execution_count": 8,
   "id": "db43c190",
   "metadata": {},
   "outputs": [
    {
     "data": {
      "text/plain": [
       "dict_items([('id', '46a30d94-5184-43b6-a281-1fd75c0f088a'), ('data', {'type': 'Dataset', 'id': 'azureml://locations/eastus2/workspaces/fd3837d7-cb17-42c2-8f2d-6e6163678714/data/eval-data-2025-03-23_090658_UTC/versions/1'}), ('target', None), ('description', ''), ('displayName', 'evaluation_sample_eval'), ('systemData', {'createdBy': 'Mutaz Abu Ghazaleh (AI GBB)', 'modifiedBy': 'Mutaz Abu Ghazaleh (AI GBB)'}), ('status', 'Completed'), ('tags', {'tag1': 'v1'}), ('properties', {'evaluationType': '', 'runType': 'eval_run', '_azureml.evaluation_run': 'evaluation.service', '_azureml.evaluate_artifacts': '[{\"path\": \"instance_results.jsonl\", \"type\": \"table\"}]', '_azureml.ComputeTargetType': 'amlctrain', '_azureml.ClusterName': None, 'ProcessInfoFile': 'azureml-logs/process_info.json', 'ProcessStatusFile': 'azureml-logs/process_status.json', 'StartTimeUtc': '2025-03-23 09:11:17', 'EndTimeUtc': '2025-03-23 09:14:21', 'OutputAssetUri': 'azureml://locations/eastus2/workspaces/fd3837d7-cb17-42c2-8f2d-6e6163678714/data/azureml_46a30d94-5184-43b6-a281-1fd75c0f088a_output_data_eval_output/versions/1', 'AiStudioEvaluationUri': 'https://ai.azure.com/build/evaluation/46a30d94-5184-43b6-a281-1fd75c0f088a?wsid=/subscriptions/e9b9c71e-d2ba-4086-a5ed-2923e15962d9/resourceGroups/rg-mutaza-5102_ai/providers/Microsoft.MachineLearningServices/workspaces/ai-inference-eastus2'}), ('evaluators', {'relevance': {'id': 'azureml://registries/azureml/models/Relevance-Evaluator/versions/5', 'initParams': {'model_config': {'api_key': '/subscriptions/e9b9c71e-d2ba-4086-a5ed-2923e15962d9/resourceGroups/rg-mutaza-5102_ai/providers/Microsoft.MachineLearningServices/workspaces/ai-inference-eastus2/connections/ai-mutazaaieastus2054278078742_aoai/credentials/key', 'azure_deployment': 'gpt-4o', 'azure_endpoint': 'https://ai-mutazaaieastus2054278078742.openai.azure.com/'}}, 'dataMapping': {'query': '${data.query}', 'response': '${data.response}', 'ground_truth': '${data.ground_truth}'}}, 'coherence': {'id': 'azureml://registries/azureml/models/Coherence-Evaluator/versions/5', 'initParams': {'model_config': {'api_key': '/subscriptions/e9b9c71e-d2ba-4086-a5ed-2923e15962d9/resourceGroups/rg-mutaza-5102_ai/providers/Microsoft.MachineLearningServices/workspaces/ai-inference-eastus2/connections/ai-mutazaaieastus2054278078742_aoai/credentials/key', 'azure_deployment': 'gpt-4o', 'azure_endpoint': 'https://ai-mutazaaieastus2054278078742.openai.azure.com/'}}, 'dataMapping': {'query': '${data.query}', 'response': '${data.response}', 'ground_truth': '${data.ground_truth}'}}, 'similarity': {'id': 'azureml://registries/azureml/models/Similarity-Evaluator/versions/3', 'initParams': {'model_config': {'api_key': '/subscriptions/e9b9c71e-d2ba-4086-a5ed-2923e15962d9/resourceGroups/rg-mutaza-5102_ai/providers/Microsoft.MachineLearningServices/workspaces/ai-inference-eastus2/connections/ai-mutazaaieastus2054278078742_aoai/credentials/key', 'azure_deployment': 'gpt-4o', 'azure_endpoint': 'https://ai-mutazaaieastus2054278078742.openai.azure.com/'}}, 'dataMapping': {'query': '${data.query}', 'response': '${data.response}', 'ground_truth': '${data.ground_truth}'}}, 'fluency': {'id': 'azureml://registries/azureml/models/Fluency-Evaluator/versions/5', 'initParams': {'model_config': {'api_key': '/subscriptions/e9b9c71e-d2ba-4086-a5ed-2923e15962d9/resourceGroups/rg-mutaza-5102_ai/providers/Microsoft.MachineLearningServices/workspaces/ai-inference-eastus2/connections/ai-mutazaaieastus2054278078742_aoai/credentials/key', 'azure_deployment': 'gpt-4o', 'azure_endpoint': 'https://ai-mutazaaieastus2054278078742.openai.azure.com/'}}, 'dataMapping': {'query': '${data.query}', 'response': '${data.response}', 'ground_truth': '${data.ground_truth}'}}, 'f1_score': {'id': 'azureml://registries/azureml/models/F1Score-Evaluator/versions/3', 'initParams': {}, 'dataMapping': {'query': '${data.query}', 'response': '${data.response}', 'ground_truth': '${data.ground_truth}'}}, 'bleu': {'id': 'azureml://registries/azureml/models/Bleu-Score-Evaluator/versions/3', 'initParams': {}, 'dataMapping': {'query': '${data.query}', 'response': '${data.response}', 'ground_truth': '${data.ground_truth}'}}, 'gleu': {'id': 'azureml://registries/azureml/models/Gleu-Score-Evaluator/versions/3', 'initParams': {}, 'dataMapping': {'query': '${data.query}', 'response': '${data.response}', 'ground_truth': '${data.ground_truth}'}}, 'rouge': {'id': 'azureml://registries/azureml/models/Rouge-Score-Evaluator/versions/3', 'initParams': {'rouge_type': 'rouge1'}, 'dataMapping': {'query': '${data.query}', 'response': '${data.response}', 'ground_truth': '${data.ground_truth}'}}, 'meteor': {'id': 'azureml://registries/azureml/models/Meteor-Score-Evaluator/versions/3', 'initParams': {}, 'dataMapping': {'query': '${data.query}', 'response': '${data.response}', 'ground_truth': '${data.ground_truth}'}}, 'self_harm': {'id': 'azureml://registries/azureml/models/Self-Harm-Related-Content-Evaluator/versions/3', 'initParams': {'azure_ai_project': {'resource_group_name': 'rg-mutaza-5102_ai', 'project_name': 'ai-inference-eastus2', 'subscription_id': 'e9b9c71e-d2ba-4086-a5ed-2923e15962d9'}}, 'dataMapping': {'query': '${data.query}', 'response': '${data.response}', 'ground_truth': '${data.ground_truth}'}}, 'hate_unfairness': {'id': 'azureml://registries/azureml/models/Hate-and-Unfairness-Evaluator/versions/4', 'initParams': {'azure_ai_project': {'resource_group_name': 'rg-mutaza-5102_ai', 'project_name': 'ai-inference-eastus2', 'subscription_id': 'e9b9c71e-d2ba-4086-a5ed-2923e15962d9'}}, 'dataMapping': {'query': '${data.query}', 'response': '${data.response}', 'ground_truth': '${data.ground_truth}'}}, 'violence': {'id': 'azureml://registries/azureml/models/Violent-Content-Evaluator/versions/3', 'initParams': {'azure_ai_project': {'resource_group_name': 'rg-mutaza-5102_ai', 'project_name': 'ai-inference-eastus2', 'subscription_id': 'e9b9c71e-d2ba-4086-a5ed-2923e15962d9'}}, 'dataMapping': {'query': '${data.query}', 'response': '${data.response}', 'ground_truth': '${data.ground_truth}'}}, 'indirect_attack': {'id': 'azureml://registries/azureml/models/Indirect-Attack-Evaluator/versions/3', 'initParams': {'azure_ai_project': {'resource_group_name': 'rg-mutaza-5102_ai', 'project_name': 'ai-inference-eastus2', 'subscription_id': 'e9b9c71e-d2ba-4086-a5ed-2923e15962d9'}}, 'dataMapping': {'query': '${data.query}', 'response': '${data.response}', 'ground_truth': '${data.ground_truth}'}}, 'protected_material': {'id': 'azureml://registries/azureml/models/Protected-Material-Evaluator/versions/3', 'initParams': {'azure_ai_project': {'resource_group_name': 'rg-mutaza-5102_ai', 'project_name': 'ai-inference-eastus2', 'subscription_id': 'e9b9c71e-d2ba-4086-a5ed-2923e15962d9'}}, 'dataMapping': {'query': '${data.query}', 'response': '${data.response}', 'ground_truth': '${data.ground_truth}'}}, 'sexual': {'id': 'azureml://registries/azureml/models/Sexual-Content-Evaluator/versions/3', 'initParams': {'azure_ai_project': {'resource_group_name': 'rg-mutaza-5102_ai', 'project_name': 'ai-inference-eastus2', 'subscription_id': 'e9b9c71e-d2ba-4086-a5ed-2923e15962d9'}}, 'dataMapping': {'query': '${data.query}', 'response': '${data.response}', 'ground_truth': '${data.ground_truth}'}}})])"
      ]
     },
     "execution_count": 8,
     "metadata": {},
     "output_type": "execute_result"
    }
   ],
   "source": [
    "eval.items()"
   ]
  },
  {
   "cell_type": "markdown",
   "id": "3db0c275",
   "metadata": {},
   "source": [
    "# Evaluation Metrics\n",
    "\n",
    "Connect to the ML workspace to read the run details of the evaluation including metrics "
   ]
  },
  {
   "cell_type": "code",
   "execution_count": 9,
   "id": "4f819c78",
   "metadata": {},
   "outputs": [],
   "source": [
    "\n",
    "ml_client = MLClient(\n",
    "    credential=DefaultAzureCredential(),\n",
    "    subscription_id=project_client.scope[\"subscription_id\"],\n",
    "    resource_group_name=project_client.scope[\"resource_group_name\"],\n",
    "    workspace_name=project_client.scope[\"project_name\"]\n",
    ")\n",
    "# Set the MLflow tracking URI to the workspace's MLflow tracking URI\n",
    "mlflow.set_tracking_uri(ml_client.workspaces.get(ml_client.workspace_name).mlflow_tracking_uri)"
   ]
  },
  {
   "cell_type": "code",
   "execution_count": 10,
   "id": "f1015e1a",
   "metadata": {},
   "outputs": [
    {
     "name": "stdout",
     "output_type": "stream",
     "text": [
      "{\n",
      "  \"subscription_id\": \"e9b9c71e-d2ba-4086-a5ed-2923e15962d9\",\n",
      "  \"resource_group_name\": \"rg-mutaza-5102_ai\",\n",
      "  \"project_name\": \"ai-inference-eastus2\"\n",
      "}\n",
      "ML Workspace: ai-inference-eastus2\n",
      "ML Workspace Tracking URI: azureml://eastus2.api.azureml.ms/mlflow/v2.0/subscriptions/e9b9c71e-d2ba-4086-a5ed-2923e15962d9/resourceGroups/rg-mutaza-5102_ai/providers/Microsoft.MachineLearningServices/workspaces/ai-inference-eastus2\n",
      "MLFlow tracking uri azureml://eastus2.api.azureml.ms/mlflow/v2.0/subscriptions/e9b9c71e-d2ba-4086-a5ed-2923e15962d9/resourceGroups/rg-mutaza-5102_ai/providers/Microsoft.MachineLearningServices/workspaces/ai-inference-eastus2\n"
     ]
    }
   ],
   "source": [
    "print(json.dumps(project_client.scope, indent=2))\n",
    "\n",
    "print(f\"ML Workspace: {ml_client.workspace_name}\")\n",
    "\n",
    "print(f\"ML Workspace Tracking URI: {ml_client.workspaces.get(ml_client.workspace_name).mlflow_tracking_uri}\")\n",
    "\n",
    "print(f\"MLFlow tracking uri {mlflow.get_tracking_uri()}\")\n"
   ]
  },
  {
   "cell_type": "markdown",
   "id": "277a954c",
   "metadata": {},
   "source": [
    "## ML Workspace jobs\n",
    "\n",
    "using the ml_client.jobs and mlflow client to retrieve the job details and metrics. \n",
    "\n",
    "```python"
   ]
  },
  {
   "cell_type": "code",
   "execution_count": 11,
   "id": "2a60abe3",
   "metadata": {},
   "outputs": [
    {
     "name": "stdout",
     "output_type": "stream",
     "text": [
      "Job: 46a30d94-5184-43b6-a281-1fd75c0f088a - Completed\n"
     ]
    },
    {
     "name": "stderr",
     "output_type": "stream",
     "text": [
      "Class AutoDeleteSettingSchema: This is an experimental class, and may change at any time. Please see https://aka.ms/azuremlexperimental for more information.\n",
      "Class AutoDeleteConditionSchema: This is an experimental class, and may change at any time. Please see https://aka.ms/azuremlexperimental for more information.\n",
      "Class BaseAutoDeleteSettingSchema: This is an experimental class, and may change at any time. Please see https://aka.ms/azuremlexperimental for more information.\n",
      "Class IntellectualPropertySchema: This is an experimental class, and may change at any time. Please see https://aka.ms/azuremlexperimental for more information.\n",
      "Class ProtectionLevelSchema: This is an experimental class, and may change at any time. Please see https://aka.ms/azuremlexperimental for more information.\n",
      "Class BaseIntellectualPropertySchema: This is an experimental class, and may change at any time. Please see https://aka.ms/azuremlexperimental for more information.\n"
     ]
    },
    {
     "name": "stdout",
     "output_type": "stream",
     "text": [
      "type: command\n",
      "inputs:\n",
      "  eval_data:\n",
      "    mode: ro_mount\n",
      "    type: uri_file\n",
      "    path: azureml://locations/eastus2/workspaces/fd3837d7-cb17-42c2-8f2d-6e6163678714/data/eval-data-2025-03-23_090658_UTC/versions/1\n",
      "  relevance_evaluator:\n",
      "    mode: ro_mount\n",
      "    type: custom_model\n",
      "    path: azureml://registries/azureml/models/Relevance-Evaluator/versions/5\n",
      "  coherence_evaluator:\n",
      "    mode: ro_mount\n",
      "    type: custom_model\n",
      "    path: azureml://registries/azureml/models/Coherence-Evaluator/versions/5\n",
      "  similarity_evaluator:\n",
      "    mode: ro_mount\n",
      "    type: custom_model\n",
      "    path: azureml://registries/azureml/models/Similarity-Evaluator/versions/3\n",
      "  fluency_evaluator:\n",
      "    mode: ro_mount\n",
      "    type: custom_model\n",
      "    path: azureml://registries/azureml/models/Fluency-Evaluator/versions/5\n",
      "  f1_score_evaluator:\n",
      "    mode: ro_mount\n",
      "    type: custom_model\n",
      "    path: azureml://registries/azureml/models/F1Score-Evaluator/versions/3\n",
      "  bleu_evaluator:\n",
      "    mode: ro_mount\n",
      "    type: custom_model\n",
      "    path: azureml://registries/azureml/models/Bleu-Score-Evaluator/versions/3\n",
      "  gleu_evaluator:\n",
      "    mode: ro_mount\n",
      "    type: custom_model\n",
      "    path: azureml://registries/azureml/models/Gleu-Score-Evaluator/versions/3\n",
      "  rouge_evaluator:\n",
      "    mode: ro_mount\n",
      "    type: custom_model\n",
      "    path: azureml://registries/azureml/models/Rouge-Score-Evaluator/versions/3\n",
      "  meteor_evaluator:\n",
      "    mode: ro_mount\n",
      "    type: custom_model\n",
      "    path: azureml://registries/azureml/models/Meteor-Score-Evaluator/versions/3\n",
      "  self_harm_evaluator:\n",
      "    mode: ro_mount\n",
      "    type: custom_model\n",
      "    path: azureml://registries/azureml/models/Self-Harm-Related-Content-Evaluator/versions/3\n",
      "  hate_unfairness_evaluator:\n",
      "    mode: ro_mount\n",
      "    type: custom_model\n",
      "    path: azureml://registries/azureml/models/Hate-and-Unfairness-Evaluator/versions/4\n",
      "  violence_evaluator:\n",
      "    mode: ro_mount\n",
      "    type: custom_model\n",
      "    path: azureml://registries/azureml/models/Violent-Content-Evaluator/versions/3\n",
      "  indirect_attack_evaluator:\n",
      "    mode: ro_mount\n",
      "    type: custom_model\n",
      "    path: azureml://registries/azureml/models/Indirect-Attack-Evaluator/versions/3\n",
      "  protected_material_evaluator:\n",
      "    mode: ro_mount\n",
      "    type: custom_model\n",
      "    path: azureml://registries/azureml/models/Protected-Material-Evaluator/versions/3\n",
      "  sexual_evaluator:\n",
      "    mode: ro_mount\n",
      "    type: custom_model\n",
      "    path: azureml://registries/azureml/models/Sexual-Content-Evaluator/versions/3\n",
      "outputs:\n",
      "  eval_output:\n",
      "    mode: rw_mount\n",
      "    type: uri_folder\n",
      "  default:\n",
      "    mode: rw_mount\n",
      "    type: uri_folder\n",
      "    path: azureml://datastores/workspaceartifactstore/ExperimentRun/dcid.46a30d94-5184-43b6-a281-1fd75c0f088a\n",
      "environment: azureml://registries/azureml/environments/evaluations-built-in/versions/15\n",
      "resources:\n",
      "  instance_count: 1\n",
      "  shm_size: 2g\n",
      "component:\n",
      "  name: 46a30d94-5184-43b6-a281-1fd75c0f088a\n",
      "  display_name: evaluation_sample_eval\n",
      "  description: ''\n",
      "  tags:\n",
      "    tag1: v1\n",
      "  type: command\n",
      "  inputs:\n",
      "    eval_data:\n",
      "      type: uri_file\n",
      "      mode: ro_mount\n",
      "    relevance_evaluator:\n",
      "      type: custom_model\n",
      "      mode: ro_mount\n",
      "    coherence_evaluator:\n",
      "      type: custom_model\n",
      "      mode: ro_mount\n",
      "    similarity_evaluator:\n",
      "      type: custom_model\n",
      "      mode: ro_mount\n",
      "    fluency_evaluator:\n",
      "      type: custom_model\n",
      "      mode: ro_mount\n",
      "    f1_score_evaluator:\n",
      "      type: custom_model\n",
      "      mode: ro_mount\n",
      "    bleu_evaluator:\n",
      "      type: custom_model\n",
      "      mode: ro_mount\n",
      "    gleu_evaluator:\n",
      "      type: custom_model\n",
      "      mode: ro_mount\n",
      "    rouge_evaluator:\n",
      "      type: custom_model\n",
      "      mode: ro_mount\n",
      "    meteor_evaluator:\n",
      "      type: custom_model\n",
      "      mode: ro_mount\n",
      "    self_harm_evaluator:\n",
      "      type: custom_model\n",
      "      mode: ro_mount\n",
      "    hate_unfairness_evaluator:\n",
      "      type: custom_model\n",
      "      mode: ro_mount\n",
      "    violence_evaluator:\n",
      "      type: custom_model\n",
      "      mode: ro_mount\n",
      "    indirect_attack_evaluator:\n",
      "      type: custom_model\n",
      "      mode: ro_mount\n",
      "    protected_material_evaluator:\n",
      "      type: custom_model\n",
      "      mode: ro_mount\n",
      "    sexual_evaluator:\n",
      "      type: custom_model\n",
      "      mode: ro_mount\n",
      "  outputs:\n",
      "    eval_output:\n",
      "      type: uri_folder\n",
      "      mode: rw_mount\n",
      "    default:\n",
      "      type: uri_folder\n",
      "      mode: rw_mount\n",
      "  command: python /app/evaluate_on_data.py --rai_evaluators '[\"Sexual-Content-Evaluator\",\"Hate-and-Unfairness-Evaluator\",\"Violent-Content-Evaluator\",\"Self-Harm-Related-Content-Evaluator\",\"Groundedness-Pro-Evaluator\",\"Protected-Material-Evaluator\",\"Indirect-Attack-Evaluator\",\"Content-Safety-Evaluator\",\"ECI-Evaluator\"]'\n",
      "    --eval_data '${{inputs.eval_data}}' --eval_output ${{outputs.eval_output}} --evaluators\n",
      "    '{\"relevance\":{\"Id\":\"azureml://registries/azureml/models/Relevance-Evaluator/versions/5\",\"InitParams\":{\"model_config\":{\"api_key\":\"relevanceAZURE_OPENAI_API_KEY\",\"azure_deployment\":\"gpt-4o\",\"azure_endpoint\":\"https://ai-mutazaaieastus2054278078742.openai.azure.com/\"}},\"DataMapping\":{\"query\":\"${data.query}\",\"response\":\"${data.response}\",\"ground_truth\":\"${data.ground_truth}\"}},\"coherence\":{\"Id\":\"azureml://registries/azureml/models/Coherence-Evaluator/versions/5\",\"InitParams\":{\"model_config\":{\"api_key\":\"coherenceAZURE_OPENAI_API_KEY\",\"azure_deployment\":\"gpt-4o\",\"azure_endpoint\":\"https://ai-mutazaaieastus2054278078742.openai.azure.com/\"}},\"DataMapping\":{\"query\":\"${data.query}\",\"response\":\"${data.response}\",\"ground_truth\":\"${data.ground_truth}\"}},\"similarity\":{\"Id\":\"azureml://registries/azureml/models/Similarity-Evaluator/versions/3\",\"InitParams\":{\"model_config\":{\"api_key\":\"similarityAZURE_OPENAI_API_KEY\",\"azure_deployment\":\"gpt-4o\",\"azure_endpoint\":\"https://ai-mutazaaieastus2054278078742.openai.azure.com/\"}},\"DataMapping\":{\"query\":\"${data.query}\",\"response\":\"${data.response}\",\"ground_truth\":\"${data.ground_truth}\"}},\"fluency\":{\"Id\":\"azureml://registries/azureml/models/Fluency-Evaluator/versions/5\",\"InitParams\":{\"model_config\":{\"api_key\":\"fluencyAZURE_OPENAI_API_KEY\",\"azure_deployment\":\"gpt-4o\",\"azure_endpoint\":\"https://ai-mutazaaieastus2054278078742.openai.azure.com/\"}},\"DataMapping\":{\"query\":\"${data.query}\",\"response\":\"${data.response}\",\"ground_truth\":\"${data.ground_truth}\"}},\"f1_score\":{\"Id\":\"azureml://registries/azureml/models/F1Score-Evaluator/versions/3\",\"InitParams\":{},\"DataMapping\":{\"query\":\"${data.query}\",\"response\":\"${data.response}\",\"ground_truth\":\"${data.ground_truth}\"}},\"bleu\":{\"Id\":\"azureml://registries/azureml/models/Bleu-Score-Evaluator/versions/3\",\"InitParams\":{},\"DataMapping\":{\"query\":\"${data.query}\",\"response\":\"${data.response}\",\"ground_truth\":\"${data.ground_truth}\"}},\"gleu\":{\"Id\":\"azureml://registries/azureml/models/Gleu-Score-Evaluator/versions/3\",\"InitParams\":{},\"DataMapping\":{\"query\":\"${data.query}\",\"response\":\"${data.response}\",\"ground_truth\":\"${data.ground_truth}\"}},\"rouge\":{\"Id\":\"azureml://registries/azureml/models/Rouge-Score-Evaluator/versions/3\",\"InitParams\":{\"rouge_type\":\"rouge1\"},\"DataMapping\":{\"query\":\"${data.query}\",\"response\":\"${data.response}\",\"ground_truth\":\"${data.ground_truth}\"}},\"meteor\":{\"Id\":\"azureml://registries/azureml/models/Meteor-Score-Evaluator/versions/3\",\"InitParams\":{},\"DataMapping\":{\"query\":\"${data.query}\",\"response\":\"${data.response}\",\"ground_truth\":\"${data.ground_truth}\"}},\"self_harm\":{\"Id\":\"azureml://registries/azureml/models/Self-Harm-Related-Content-Evaluator/versions/3\",\"InitParams\":{\"azure_ai_project\":{\"resource_group_name\":\"rg-mutaza-5102_ai\",\"project_name\":\"ai-inference-eastus2\",\"subscription_id\":\"e9b9c71e-d2ba-4086-a5ed-2923e15962d9\"}},\"DataMapping\":{\"query\":\"${data.query}\",\"response\":\"${data.response}\",\"ground_truth\":\"${data.ground_truth}\"}},\"hate_unfairness\":{\"Id\":\"azureml://registries/azureml/models/Hate-and-Unfairness-Evaluator/versions/4\",\"InitParams\":{\"azure_ai_project\":{\"resource_group_name\":\"rg-mutaza-5102_ai\",\"project_name\":\"ai-inference-eastus2\",\"subscription_id\":\"e9b9c71e-d2ba-4086-a5ed-2923e15962d9\"}},\"DataMapping\":{\"query\":\"${data.query}\",\"response\":\"${data.response}\",\"ground_truth\":\"${data.ground_truth}\"}},\"violence\":{\"Id\":\"azureml://registries/azureml/models/Violent-Content-Evaluator/versions/3\",\"InitParams\":{\"azure_ai_project\":{\"resource_group_name\":\"rg-mutaza-5102_ai\",\"project_name\":\"ai-inference-eastus2\",\"subscription_id\":\"e9b9c71e-d2ba-4086-a5ed-2923e15962d9\"}},\"DataMapping\":{\"query\":\"${data.query}\",\"response\":\"${data.response}\",\"ground_truth\":\"${data.ground_truth}\"}},\"indirect_attack\":{\"Id\":\"azureml://registries/azureml/models/Indirect-Attack-Evaluator/versions/3\",\"InitParams\":{\"azure_ai_project\":{\"resource_group_name\":\"rg-mutaza-5102_ai\",\"project_name\":\"ai-inference-eastus2\",\"subscription_id\":\"e9b9c71e-d2ba-4086-a5ed-2923e15962d9\"}},\"DataMapping\":{\"query\":\"${data.query}\",\"response\":\"${data.response}\",\"ground_truth\":\"${data.ground_truth}\"}},\"protected_material\":{\"Id\":\"azureml://registries/azureml/models/Protected-Material-Evaluator/versions/3\",\"InitParams\":{\"azure_ai_project\":{\"resource_group_name\":\"rg-mutaza-5102_ai\",\"project_name\":\"ai-inference-eastus2\",\"subscription_id\":\"e9b9c71e-d2ba-4086-a5ed-2923e15962d9\"}},\"DataMapping\":{\"query\":\"${data.query}\",\"response\":\"${data.response}\",\"ground_truth\":\"${data.ground_truth}\"}},\"sexual\":{\"Id\":\"azureml://registries/azureml/models/Sexual-Content-Evaluator/versions/3\",\"InitParams\":{\"azure_ai_project\":{\"resource_group_name\":\"rg-mutaza-5102_ai\",\"project_name\":\"ai-inference-eastus2\",\"subscription_id\":\"e9b9c71e-d2ba-4086-a5ed-2923e15962d9\"}},\"DataMapping\":{\"query\":\"${data.query}\",\"response\":\"${data.response}\",\"ground_truth\":\"${data.ground_truth}\"}}}'\n",
      "    --evaluator_name_id_map '{\"relevance\":\"${{inputs.relevance_evaluator}}\",\"coherence\":\"${{inputs.coherence_evaluator}}\",\"similarity\":\"${{inputs.similarity_evaluator}}\",\"fluency\":\"${{inputs.fluency_evaluator}}\",\"f1_score\":\"${{inputs.f1_score_evaluator}}\",\"bleu\":\"${{inputs.bleu_evaluator}}\",\"gleu\":\"${{inputs.gleu_evaluator}}\",\"rouge\":\"${{inputs.rouge_evaluator}}\",\"meteor\":\"${{inputs.meteor_evaluator}}\",\"self_harm\":\"${{inputs.self_harm_evaluator}}\",\"hate_unfairness\":\"${{inputs.hate_unfairness_evaluator}}\",\"violence\":\"${{inputs.violence_evaluator}}\",\"indirect_attack\":\"${{inputs.indirect_attack_evaluator}}\",\"protected_material\":\"${{inputs.protected_material_evaluator}}\",\"sexual\":\"${{inputs.sexual_evaluator}}\"}'\n",
      "  environment: azureml://registries/azureml/environments/evaluations-built-in/versions/15\n",
      "  creation_context:\n",
      "    created_at: '2025-03-23T09:09:19.275334+00:00'\n",
      "    created_by: Mutaz Abu Ghazaleh (AI GBB)\n",
      "    created_by_type: User\n",
      "  is_deterministic: true\n",
      "identity:\n",
      "  type: user_identity\n",
      "properties:\n",
      "  evaluationType: ''\n",
      "  runType: eval_run\n",
      "  _azureml.evaluation_run: evaluation.service\n",
      "  _azureml.evaluate_artifacts: '[{\"path\": \"instance_results.jsonl\", \"type\": \"table\"}]'\n",
      "  _azureml.ComputeTargetType: amlctrain\n",
      "  ProcessInfoFile: azureml-logs/process_info.json\n",
      "  ProcessStatusFile: azureml-logs/process_status.json\n",
      "  StartTimeUtc: '2025-03-23 09:11:17'\n",
      "  EndTimeUtc: '2025-03-23 09:14:21'\n",
      "queue_settings:\n",
      "  job_tier: 'null'\n",
      "services:\n",
      "  Tracking:\n",
      "    endpoint: azureml://eastus2.api.azureml.ms/mlflow/v1.0/subscriptions/e9b9c71e-d2ba-4086-a5ed-2923e15962d9/resourceGroups/rg-mutaza-5102_ai/providers/Microsoft.MachineLearningServices/workspaces/ai-inference-eastus2?\n",
      "    type: Tracking\n",
      "  Studio:\n",
      "    endpoint: https://ml.azure.com/runs/46a30d94-5184-43b6-a281-1fd75c0f088a?wsid=/subscriptions/e9b9c71e-d2ba-4086-a5ed-2923e15962d9/resourcegroups/rg-mutaza-5102_ai/workspaces/ai-inference-eastus2&tid=16b3c013-d300-468d-ac64-7eda0820b6d3\n",
      "    type: Studio\n",
      "\n"
     ]
    }
   ],
   "source": [
    "for j in ml_client.jobs.list():\n",
    "    print(f\"Job: {j.name} - {j.status}\")\n",
    "    print(j)"
   ]
  },
  {
   "cell_type": "code",
   "execution_count": 12,
   "id": "99a9da5d",
   "metadata": {},
   "outputs": [
    {
     "name": "stdout",
     "output_type": "stream",
     "text": [
      "<class 'azure.ai.ml.entities._builders.command.Command'>\n",
      "{\n",
      "  \"evaluationType\": \"\",\n",
      "  \"runType\": \"eval_run\",\n",
      "  \"_azureml.evaluation_run\": \"evaluation.service\",\n",
      "  \"_azureml.evaluate_artifacts\": \"[{\\\"path\\\": \\\"instance_results.jsonl\\\", \\\"type\\\": \\\"table\\\"}]\",\n",
      "  \"_azureml.ComputeTargetType\": \"amlctrain\",\n",
      "  \"_azureml.ClusterName\": null,\n",
      "  \"ProcessInfoFile\": \"azureml-logs/process_info.json\",\n",
      "  \"ProcessStatusFile\": \"azureml-logs/process_status.json\",\n",
      "  \"StartTimeUtc\": \"2025-03-23 09:11:17\",\n",
      "  \"EndTimeUtc\": \"2025-03-23 09:14:21\"\n",
      "}\n"
     ]
    },
    {
     "data": {
      "text/html": [
       "<table style=\"width:100%\"><tr><th>Experiment</th><th>Name</th><th>Type</th><th>Status</th><th>Details Page</th></tr><tr><td>Default</td><td>46a30d94-5184-43b6-a281-1fd75c0f088a</td><td>command</td><td>Completed</td><td><a href=\"https://ml.azure.com/runs/46a30d94-5184-43b6-a281-1fd75c0f088a?wsid=/subscriptions/e9b9c71e-d2ba-4086-a5ed-2923e15962d9/resourcegroups/rg-mutaza-5102_ai/workspaces/ai-inference-eastus2&amp;tid=16b3c013-d300-468d-ac64-7eda0820b6d3\" target=\"_blank\" rel=\"noopener\">Link to Azure Machine Learning studio</a></td></tr></table>"
      ],
      "text/plain": [
       "Command({'parameters': {}, 'init': False, 'name': '46a30d94-5184-43b6-a281-1fd75c0f088a', 'type': 'command', 'status': 'Completed', 'log_files': None, 'description': '', 'tags': {'tag1': 'v1'}, 'properties': {'evaluationType': '', 'runType': 'eval_run', '_azureml.evaluation_run': 'evaluation.service', '_azureml.evaluate_artifacts': '[{\"path\": \"instance_results.jsonl\", \"type\": \"table\"}]', '_azureml.ComputeTargetType': 'amlctrain', '_azureml.ClusterName': None, 'ProcessInfoFile': 'azureml-logs/process_info.json', 'ProcessStatusFile': 'azureml-logs/process_status.json', 'StartTimeUtc': '2025-03-23 09:11:17', 'EndTimeUtc': '2025-03-23 09:14:21'}, 'print_as_yaml': False, 'id': '/subscriptions/e9b9c71e-d2ba-4086-a5ed-2923e15962d9/resourceGroups/rg-mutaza-5102_ai/providers/Microsoft.MachineLearningServices/workspaces/ai-inference-eastus2/jobs/46a30d94-5184-43b6-a281-1fd75c0f088a', 'Resource__source_path': '', 'base_path': 'c:\\\\git\\\\misc\\\\ai-inference-service', 'creation_context': <azure.ai.ml.entities._system_data.SystemData object at 0x00000171B60970A0>, 'serialize': <msrest.serialization.Serializer object at 0x00000171B76731C0>, 'allowed_keys': {}, 'key_restriction': False, 'logger': <Logger attr_dict (WARNING)>, 'display_name': 'evaluation_sample_eval', 'experiment_name': 'Default', 'compute': None, 'services': {'Tracking': {'endpoint': 'azureml://eastus2.api.azureml.ms/mlflow/v1.0/subscriptions/e9b9c71e-d2ba-4086-a5ed-2923e15962d9/resourceGroups/rg-mutaza-5102_ai/providers/Microsoft.MachineLearningServices/workspaces/ai-inference-eastus2?', 'type': 'Tracking'}, 'Studio': {'endpoint': 'https://ml.azure.com/runs/46a30d94-5184-43b6-a281-1fd75c0f088a?wsid=/subscriptions/e9b9c71e-d2ba-4086-a5ed-2923e15962d9/resourcegroups/rg-mutaza-5102_ai/workspaces/ai-inference-eastus2&tid=16b3c013-d300-468d-ac64-7eda0820b6d3', 'type': 'Studio'}}, 'comment': None, 'job_inputs': {'eval_data': {'type': 'uri_file', 'path': 'azureml://locations/eastus2/workspaces/fd3837d7-cb17-42c2-8f2d-6e6163678714/data/eval-data-2025-03-23_090658_UTC/versions/1', 'mode': 'ro_mount'}, 'relevance_evaluator': {'type': 'custom_model', 'path': 'azureml://registries/azureml/models/Relevance-Evaluator/versions/5', 'mode': 'ro_mount'}, 'coherence_evaluator': {'type': 'custom_model', 'path': 'azureml://registries/azureml/models/Coherence-Evaluator/versions/5', 'mode': 'ro_mount'}, 'similarity_evaluator': {'type': 'custom_model', 'path': 'azureml://registries/azureml/models/Similarity-Evaluator/versions/3', 'mode': 'ro_mount'}, 'fluency_evaluator': {'type': 'custom_model', 'path': 'azureml://registries/azureml/models/Fluency-Evaluator/versions/5', 'mode': 'ro_mount'}, 'f1_score_evaluator': {'type': 'custom_model', 'path': 'azureml://registries/azureml/models/F1Score-Evaluator/versions/3', 'mode': 'ro_mount'}, 'bleu_evaluator': {'type': 'custom_model', 'path': 'azureml://registries/azureml/models/Bleu-Score-Evaluator/versions/3', 'mode': 'ro_mount'}, 'gleu_evaluator': {'type': 'custom_model', 'path': 'azureml://registries/azureml/models/Gleu-Score-Evaluator/versions/3', 'mode': 'ro_mount'}, 'rouge_evaluator': {'type': 'custom_model', 'path': 'azureml://registries/azureml/models/Rouge-Score-Evaluator/versions/3', 'mode': 'ro_mount'}, 'meteor_evaluator': {'type': 'custom_model', 'path': 'azureml://registries/azureml/models/Meteor-Score-Evaluator/versions/3', 'mode': 'ro_mount'}, 'self_harm_evaluator': {'type': 'custom_model', 'path': 'azureml://registries/azureml/models/Self-Harm-Related-Content-Evaluator/versions/3', 'mode': 'ro_mount'}, 'hate_unfairness_evaluator': {'type': 'custom_model', 'path': 'azureml://registries/azureml/models/Hate-and-Unfairness-Evaluator/versions/4', 'mode': 'ro_mount'}, 'violence_evaluator': {'type': 'custom_model', 'path': 'azureml://registries/azureml/models/Violent-Content-Evaluator/versions/3', 'mode': 'ro_mount'}, 'indirect_attack_evaluator': {'type': 'custom_model', 'path': 'azureml://registries/azureml/models/Indirect-Attack-Evaluator/versions/3', 'mode': 'ro_mount'}, 'protected_material_evaluator': {'type': 'custom_model', 'path': 'azureml://registries/azureml/models/Protected-Material-Evaluator/versions/3', 'mode': 'ro_mount'}, 'sexual_evaluator': {'type': 'custom_model', 'path': 'azureml://registries/azureml/models/Sexual-Content-Evaluator/versions/3', 'mode': 'ro_mount'}}, 'job_outputs': {'eval_output': {'type': 'uri_folder', 'mode': 'rw_mount'}, 'default': {'type': 'uri_folder', 'path': 'azureml://datastores/workspaceartifactstore/ExperimentRun/dcid.46a30d94-5184-43b6-a281-1fd75c0f088a', 'mode': 'rw_mount'}}, 'inputs': {'eval_data': <azure.ai.ml.entities._job.pipeline._io.base.NodeInput object at 0x00000171B7672FB0>, 'relevance_evaluator': <azure.ai.ml.entities._job.pipeline._io.base.NodeInput object at 0x00000171B7673280>, 'coherence_evaluator': <azure.ai.ml.entities._job.pipeline._io.base.NodeInput object at 0x00000171B7673220>, 'similarity_evaluator': <azure.ai.ml.entities._job.pipeline._io.base.NodeInput object at 0x00000171B76732E0>, 'fluency_evaluator': <azure.ai.ml.entities._job.pipeline._io.base.NodeInput object at 0x00000171B7673310>, 'f1_score_evaluator': <azure.ai.ml.entities._job.pipeline._io.base.NodeInput object at 0x00000171B7673370>, 'bleu_evaluator': <azure.ai.ml.entities._job.pipeline._io.base.NodeInput object at 0x00000171B7673340>, 'gleu_evaluator': <azure.ai.ml.entities._job.pipeline._io.base.NodeInput object at 0x00000171B76733D0>, 'rouge_evaluator': <azure.ai.ml.entities._job.pipeline._io.base.NodeInput object at 0x00000171B76733A0>, 'meteor_evaluator': <azure.ai.ml.entities._job.pipeline._io.base.NodeInput object at 0x00000171B7673430>, 'self_harm_evaluator': <azure.ai.ml.entities._job.pipeline._io.base.NodeInput object at 0x00000171B7673400>, 'hate_unfairness_evaluator': <azure.ai.ml.entities._job.pipeline._io.base.NodeInput object at 0x00000171B7673490>, 'violence_evaluator': <azure.ai.ml.entities._job.pipeline._io.base.NodeInput object at 0x00000171B7673460>, 'indirect_attack_evaluator': <azure.ai.ml.entities._job.pipeline._io.base.NodeInput object at 0x00000171B76734F0>, 'protected_material_evaluator': <azure.ai.ml.entities._job.pipeline._io.base.NodeInput object at 0x00000171B76734C0>, 'sexual_evaluator': <azure.ai.ml.entities._job.pipeline._io.base.NodeInput object at 0x00000171B7673550>}, 'outputs': {'eval_output': <azure.ai.ml.entities._job.pipeline._io.base.NodeOutput object at 0x00000171B76732B0>, 'default': <azure.ai.ml.entities._job.pipeline._io.base.NodeOutput object at 0x00000171B7673580>}, 'component': CommandComponent({'latest_version': None, 'intellectual_property': None, 'auto_increment_version': True, 'source': 'REMOTE.WORKSPACE.JOB', 'is_anonymous': False, 'auto_delete_setting': None, 'name': '46a30d94-5184-43b6-a281-1fd75c0f088a', 'description': '', 'tags': {'tag1': 'v1'}, 'properties': {}, 'print_as_yaml': False, 'id': None, 'Resource__source_path': None, 'base_path': 'c:\\\\git\\\\misc\\\\ai-inference-service', 'creation_context': <azure.ai.ml.entities._system_data.SystemData object at 0x00000171B60970A0>, 'serialize': <msrest.serialization.Serializer object at 0x00000171B7673100>, 'command': 'python /app/evaluate_on_data.py --rai_evaluators \\'[\"Sexual-Content-Evaluator\",\"Hate-and-Unfairness-Evaluator\",\"Violent-Content-Evaluator\",\"Self-Harm-Related-Content-Evaluator\",\"Groundedness-Pro-Evaluator\",\"Protected-Material-Evaluator\",\"Indirect-Attack-Evaluator\",\"Content-Safety-Evaluator\",\"ECI-Evaluator\"]\\' --eval_data \\'${{inputs.eval_data}}\\' --eval_output ${{outputs.eval_output}} --evaluators \\'{\"relevance\":{\"Id\":\"azureml://registries/azureml/models/Relevance-Evaluator/versions/5\",\"InitParams\":{\"model_config\":{\"api_key\":\"relevanceAZURE_OPENAI_API_KEY\",\"azure_deployment\":\"gpt-4o\",\"azure_endpoint\":\"https://ai-mutazaaieastus2054278078742.openai.azure.com/\"}},\"DataMapping\":{\"query\":\"${data.query}\",\"response\":\"${data.response}\",\"ground_truth\":\"${data.ground_truth}\"}},\"coherence\":{\"Id\":\"azureml://registries/azureml/models/Coherence-Evaluator/versions/5\",\"InitParams\":{\"model_config\":{\"api_key\":\"coherenceAZURE_OPENAI_API_KEY\",\"azure_deployment\":\"gpt-4o\",\"azure_endpoint\":\"https://ai-mutazaaieastus2054278078742.openai.azure.com/\"}},\"DataMapping\":{\"query\":\"${data.query}\",\"response\":\"${data.response}\",\"ground_truth\":\"${data.ground_truth}\"}},\"similarity\":{\"Id\":\"azureml://registries/azureml/models/Similarity-Evaluator/versions/3\",\"InitParams\":{\"model_config\":{\"api_key\":\"similarityAZURE_OPENAI_API_KEY\",\"azure_deployment\":\"gpt-4o\",\"azure_endpoint\":\"https://ai-mutazaaieastus2054278078742.openai.azure.com/\"}},\"DataMapping\":{\"query\":\"${data.query}\",\"response\":\"${data.response}\",\"ground_truth\":\"${data.ground_truth}\"}},\"fluency\":{\"Id\":\"azureml://registries/azureml/models/Fluency-Evaluator/versions/5\",\"InitParams\":{\"model_config\":{\"api_key\":\"fluencyAZURE_OPENAI_API_KEY\",\"azure_deployment\":\"gpt-4o\",\"azure_endpoint\":\"https://ai-mutazaaieastus2054278078742.openai.azure.com/\"}},\"DataMapping\":{\"query\":\"${data.query}\",\"response\":\"${data.response}\",\"ground_truth\":\"${data.ground_truth}\"}},\"f1_score\":{\"Id\":\"azureml://registries/azureml/models/F1Score-Evaluator/versions/3\",\"InitParams\":{},\"DataMapping\":{\"query\":\"${data.query}\",\"response\":\"${data.response}\",\"ground_truth\":\"${data.ground_truth}\"}},\"bleu\":{\"Id\":\"azureml://registries/azureml/models/Bleu-Score-Evaluator/versions/3\",\"InitParams\":{},\"DataMapping\":{\"query\":\"${data.query}\",\"response\":\"${data.response}\",\"ground_truth\":\"${data.ground_truth}\"}},\"gleu\":{\"Id\":\"azureml://registries/azureml/models/Gleu-Score-Evaluator/versions/3\",\"InitParams\":{},\"DataMapping\":{\"query\":\"${data.query}\",\"response\":\"${data.response}\",\"ground_truth\":\"${data.ground_truth}\"}},\"rouge\":{\"Id\":\"azureml://registries/azureml/models/Rouge-Score-Evaluator/versions/3\",\"InitParams\":{\"rouge_type\":\"rouge1\"},\"DataMapping\":{\"query\":\"${data.query}\",\"response\":\"${data.response}\",\"ground_truth\":\"${data.ground_truth}\"}},\"meteor\":{\"Id\":\"azureml://registries/azureml/models/Meteor-Score-Evaluator/versions/3\",\"InitParams\":{},\"DataMapping\":{\"query\":\"${data.query}\",\"response\":\"${data.response}\",\"ground_truth\":\"${data.ground_truth}\"}},\"self_harm\":{\"Id\":\"azureml://registries/azureml/models/Self-Harm-Related-Content-Evaluator/versions/3\",\"InitParams\":{\"azure_ai_project\":{\"resource_group_name\":\"rg-mutaza-5102_ai\",\"project_name\":\"ai-inference-eastus2\",\"subscription_id\":\"e9b9c71e-d2ba-4086-a5ed-2923e15962d9\"}},\"DataMapping\":{\"query\":\"${data.query}\",\"response\":\"${data.response}\",\"ground_truth\":\"${data.ground_truth}\"}},\"hate_unfairness\":{\"Id\":\"azureml://registries/azureml/models/Hate-and-Unfairness-Evaluator/versions/4\",\"InitParams\":{\"azure_ai_project\":{\"resource_group_name\":\"rg-mutaza-5102_ai\",\"project_name\":\"ai-inference-eastus2\",\"subscription_id\":\"e9b9c71e-d2ba-4086-a5ed-2923e15962d9\"}},\"DataMapping\":{\"query\":\"${data.query}\",\"response\":\"${data.response}\",\"ground_truth\":\"${data.ground_truth}\"}},\"violence\":{\"Id\":\"azureml://registries/azureml/models/Violent-Content-Evaluator/versions/3\",\"InitParams\":{\"azure_ai_project\":{\"resource_group_name\":\"rg-mutaza-5102_ai\",\"project_name\":\"ai-inference-eastus2\",\"subscription_id\":\"e9b9c71e-d2ba-4086-a5ed-2923e15962d9\"}},\"DataMapping\":{\"query\":\"${data.query}\",\"response\":\"${data.response}\",\"ground_truth\":\"${data.ground_truth}\"}},\"indirect_attack\":{\"Id\":\"azureml://registries/azureml/models/Indirect-Attack-Evaluator/versions/3\",\"InitParams\":{\"azure_ai_project\":{\"resource_group_name\":\"rg-mutaza-5102_ai\",\"project_name\":\"ai-inference-eastus2\",\"subscription_id\":\"e9b9c71e-d2ba-4086-a5ed-2923e15962d9\"}},\"DataMapping\":{\"query\":\"${data.query}\",\"response\":\"${data.response}\",\"ground_truth\":\"${data.ground_truth}\"}},\"protected_material\":{\"Id\":\"azureml://registries/azureml/models/Protected-Material-Evaluator/versions/3\",\"InitParams\":{\"azure_ai_project\":{\"resource_group_name\":\"rg-mutaza-5102_ai\",\"project_name\":\"ai-inference-eastus2\",\"subscription_id\":\"e9b9c71e-d2ba-4086-a5ed-2923e15962d9\"}},\"DataMapping\":{\"query\":\"${data.query}\",\"response\":\"${data.response}\",\"ground_truth\":\"${data.ground_truth}\"}},\"sexual\":{\"Id\":\"azureml://registries/azureml/models/Sexual-Content-Evaluator/versions/3\",\"InitParams\":{\"azure_ai_project\":{\"resource_group_name\":\"rg-mutaza-5102_ai\",\"project_name\":\"ai-inference-eastus2\",\"subscription_id\":\"e9b9c71e-d2ba-4086-a5ed-2923e15962d9\"}},\"DataMapping\":{\"query\":\"${data.query}\",\"response\":\"${data.response}\",\"ground_truth\":\"${data.ground_truth}\"}}}\\' --evaluator_name_id_map \\'{\"relevance\":\"${{inputs.relevance_evaluator}}\",\"coherence\":\"${{inputs.coherence_evaluator}}\",\"similarity\":\"${{inputs.similarity_evaluator}}\",\"fluency\":\"${{inputs.fluency_evaluator}}\",\"f1_score\":\"${{inputs.f1_score_evaluator}}\",\"bleu\":\"${{inputs.bleu_evaluator}}\",\"gleu\":\"${{inputs.gleu_evaluator}}\",\"rouge\":\"${{inputs.rouge_evaluator}}\",\"meteor\":\"${{inputs.meteor_evaluator}}\",\"self_harm\":\"${{inputs.self_harm_evaluator}}\",\"hate_unfairness\":\"${{inputs.hate_unfairness_evaluator}}\",\"violence\":\"${{inputs.violence_evaluator}}\",\"indirect_attack\":\"${{inputs.indirect_attack_evaluator}}\",\"protected_material\":\"${{inputs.protected_material_evaluator}}\",\"sexual\":\"${{inputs.sexual_evaluator}}\"}\\'', 'code': None, 'environment_variables': {}, 'environment': 'azureml://registries/azureml/environments/evaluations-built-in/versions/15', 'distribution': None, 'resources': None, 'queue_settings': None, 'version': None, 'schema': None, 'type': 'command', 'display_name': 'evaluation_sample_eval', 'is_deterministic': True, 'inputs': {'eval_data': {'type': 'uri_file', 'path': 'azureml://locations/eastus2/workspaces/fd3837d7-cb17-42c2-8f2d-6e6163678714/data/eval-data-2025-03-23_090658_UTC/versions/1', 'mode': 'ro_mount'}, 'relevance_evaluator': {'type': 'custom_model', 'path': 'azureml://registries/azureml/models/Relevance-Evaluator/versions/5', 'mode': 'ro_mount'}, 'coherence_evaluator': {'type': 'custom_model', 'path': 'azureml://registries/azureml/models/Coherence-Evaluator/versions/5', 'mode': 'ro_mount'}, 'similarity_evaluator': {'type': 'custom_model', 'path': 'azureml://registries/azureml/models/Similarity-Evaluator/versions/3', 'mode': 'ro_mount'}, 'fluency_evaluator': {'type': 'custom_model', 'path': 'azureml://registries/azureml/models/Fluency-Evaluator/versions/5', 'mode': 'ro_mount'}, 'f1_score_evaluator': {'type': 'custom_model', 'path': 'azureml://registries/azureml/models/F1Score-Evaluator/versions/3', 'mode': 'ro_mount'}, 'bleu_evaluator': {'type': 'custom_model', 'path': 'azureml://registries/azureml/models/Bleu-Score-Evaluator/versions/3', 'mode': 'ro_mount'}, 'gleu_evaluator': {'type': 'custom_model', 'path': 'azureml://registries/azureml/models/Gleu-Score-Evaluator/versions/3', 'mode': 'ro_mount'}, 'rouge_evaluator': {'type': 'custom_model', 'path': 'azureml://registries/azureml/models/Rouge-Score-Evaluator/versions/3', 'mode': 'ro_mount'}, 'meteor_evaluator': {'type': 'custom_model', 'path': 'azureml://registries/azureml/models/Meteor-Score-Evaluator/versions/3', 'mode': 'ro_mount'}, 'self_harm_evaluator': {'type': 'custom_model', 'path': 'azureml://registries/azureml/models/Self-Harm-Related-Content-Evaluator/versions/3', 'mode': 'ro_mount'}, 'hate_unfairness_evaluator': {'type': 'custom_model', 'path': 'azureml://registries/azureml/models/Hate-and-Unfairness-Evaluator/versions/4', 'mode': 'ro_mount'}, 'violence_evaluator': {'type': 'custom_model', 'path': 'azureml://registries/azureml/models/Violent-Content-Evaluator/versions/3', 'mode': 'ro_mount'}, 'indirect_attack_evaluator': {'type': 'custom_model', 'path': 'azureml://registries/azureml/models/Indirect-Attack-Evaluator/versions/3', 'mode': 'ro_mount'}, 'protected_material_evaluator': {'type': 'custom_model', 'path': 'azureml://registries/azureml/models/Protected-Material-Evaluator/versions/3', 'mode': 'ro_mount'}, 'sexual_evaluator': {'type': 'custom_model', 'path': 'azureml://registries/azureml/models/Sexual-Content-Evaluator/versions/3', 'mode': 'ro_mount'}}, 'outputs': {'eval_output': {'type': 'uri_folder', 'mode': 'rw_mount'}, 'default': {'type': 'uri_folder', 'path': 'azureml://datastores/workspaceartifactstore/ExperimentRun/dcid.46a30d94-5184-43b6-a281-1fd75c0f088a', 'mode': 'rw_mount'}}, 'yaml_str': None, 'other_parameter': {'status': 'Completed', 'parameters': {}}, 'additional_includes': []}), 'referenced_control_flow_node_instance_id': None, 'kwargs': {'services': {'Tracking': {'endpoint': 'azureml://eastus2.api.azureml.ms/mlflow/v1.0/subscriptions/e9b9c71e-d2ba-4086-a5ed-2923e15962d9/resourceGroups/rg-mutaza-5102_ai/providers/Microsoft.MachineLearningServices/workspaces/ai-inference-eastus2?', 'type': 'Tracking'}, 'Studio': {'endpoint': 'https://ml.azure.com/runs/46a30d94-5184-43b6-a281-1fd75c0f088a?wsid=/subscriptions/e9b9c71e-d2ba-4086-a5ed-2923e15962d9/resourcegroups/rg-mutaza-5102_ai/workspaces/ai-inference-eastus2&tid=16b3c013-d300-468d-ac64-7eda0820b6d3', 'type': 'Studio'}}, 'status': 'Completed', 'creation_context': <azure.ai.ml.entities._system_data.SystemData object at 0x00000171B60970A0>}, 'instance_id': '6b4ca3fe-535a-49c6-b69e-232d625198ee', 'source': 'BUILDER', 'validate_required_input_not_provided': True, 'limits': None, 'identity': {'type': 'user_identity'}, 'distribution': None, 'environment_variables': {}, 'environment': 'azureml://registries/azureml/environments/evaluations-built-in/versions/15', 'resources': {'instance_count': 1, 'shm_size': '2g'}, 'queue_settings': {'job_tier': 'null'}, 'parent_job_name': None, 'swept': False})"
      ]
     },
     "execution_count": 12,
     "metadata": {},
     "output_type": "execute_result"
    }
   ],
   "source": [
    "ml_eval_job = ml_client.jobs.get(eval.id)\n",
    "print(type(ml_eval_job))\n",
    "print(json.dumps(ml_eval_job.properties, indent=2))\n",
    "ml_eval_job"
   ]
  },
  {
   "cell_type": "code",
   "execution_count": 13,
   "id": "b071f650",
   "metadata": {},
   "outputs": [],
   "source": [
    "ml_eval_job[\"to_pandas\"][\"getdoc\"]\n",
    "type(ml_eval_job)\n",
    "\n",
    "ml_eval_job.base_path\n",
    "\n",
    "ml_eval_job.tags\n",
    "ml_eval_job.outputs['eval_output'].path"
   ]
  },
  {
   "cell_type": "code",
   "execution_count": 14,
   "id": "06a850f8",
   "metadata": {},
   "outputs": [
    {
     "name": "stderr",
     "output_type": "stream",
     "text": [
      "c:\\Users\\mutaza\\AppData\\Local\\miniconda3\\envs\\ai_env\\lib\\site-packages\\azureml\\mlflow\\_protos\\aml_service_pb2.py:10: UserWarning: google.protobuf.service module is deprecated. RPC implementations should provide code generator plugins which generate code specific to the RPC implementation. service.py will be removed in Jan 2025\n",
      "  from google.protobuf import service as _service\n"
     ]
    },
    {
     "data": {
      "application/vnd.microsoft.datawrangler.viewer.v0+json": {
       "columns": [
        {
         "name": "index",
         "rawType": "int64",
         "type": "integer"
        },
        {
         "name": "run_id",
         "rawType": "object",
         "type": "string"
        },
        {
         "name": "experiment_id",
         "rawType": "object",
         "type": "string"
        },
        {
         "name": "status",
         "rawType": "object",
         "type": "string"
        },
        {
         "name": "artifact_uri",
         "rawType": "object",
         "type": "string"
        },
        {
         "name": "start_time",
         "rawType": "datetime64[ns, UTC]",
         "type": "unknown"
        },
        {
         "name": "end_time",
         "rawType": "datetime64[ns, UTC]",
         "type": "unknown"
        },
        {
         "name": "metrics.rouge.rouge_recall",
         "rawType": "float64",
         "type": "float"
        },
        {
         "name": "metrics.protected_material.protected_material_defect_rate",
         "rawType": "float64",
         "type": "float"
        },
        {
         "name": "metrics.hate_unfairness.hate_unfairness_score",
         "rawType": "float64",
         "type": "float"
        },
        {
         "name": "metrics.gleu.gleu_score",
         "rawType": "float64",
         "type": "float"
        },
        {
         "name": "metrics.indirect_attack.xpia_manipulated_content",
         "rawType": "float64",
         "type": "float"
        },
        {
         "name": "metrics.sexual.sexual_score",
         "rawType": "float64",
         "type": "float"
        },
        {
         "name": "metrics.self_harm.self_harm_score",
         "rawType": "float64",
         "type": "float"
        },
        {
         "name": "metrics.rouge.rouge_precision",
         "rawType": "float64",
         "type": "float"
        },
        {
         "name": "metrics.relevance.gpt_relevance",
         "rawType": "float64",
         "type": "float"
        },
        {
         "name": "metrics.indirect_attack.xpia_intrusion",
         "rawType": "float64",
         "type": "float"
        },
        {
         "name": "metrics.f1_score.f1_score",
         "rawType": "float64",
         "type": "float"
        },
        {
         "name": "metrics.relevance.relevance",
         "rawType": "float64",
         "type": "float"
        },
        {
         "name": "metrics.indirect_attack.xpia_information_gathering",
         "rawType": "float64",
         "type": "float"
        },
        {
         "name": "metrics.coherence.gpt_coherence",
         "rawType": "float64",
         "type": "float"
        },
        {
         "name": "metrics.violence.violence_score",
         "rawType": "float64",
         "type": "float"
        },
        {
         "name": "metrics.coherence.coherence",
         "rawType": "float64",
         "type": "float"
        },
        {
         "name": "metrics.rouge.rouge_f1_score",
         "rawType": "float64",
         "type": "float"
        },
        {
         "name": "metrics.indirect_attack.xpia_defect_rate",
         "rawType": "float64",
         "type": "float"
        },
        {
         "name": "metrics.fluency.gpt_fluency",
         "rawType": "float64",
         "type": "float"
        },
        {
         "name": "metrics.meteor.meteor_score",
         "rawType": "float64",
         "type": "float"
        },
        {
         "name": "metrics.fluency.fluency",
         "rawType": "float64",
         "type": "float"
        },
        {
         "name": "metrics.bleu.bleu_score",
         "rawType": "float64",
         "type": "float"
        },
        {
         "name": "metrics.similarity.gpt_similarity",
         "rawType": "float64",
         "type": "float"
        },
        {
         "name": "params.myparam",
         "rawType": "object",
         "type": "unknown"
        },
        {
         "name": "tags.mlflow.user",
         "rawType": "object",
         "type": "string"
        },
        {
         "name": "tags.mlflow.runName",
         "rawType": "object",
         "type": "string"
        },
        {
         "name": "tags.mlflow.rootRunId",
         "rawType": "object",
         "type": "string"
        },
        {
         "name": "tags.tag1",
         "rawType": "object",
         "type": "unknown"
        }
       ],
       "conversionMethod": "pd.DataFrame",
       "ref": "b56756bf-1f2b-42da-9b9e-35e526949092",
       "rows": [
        [
         "0",
         "46a30d94-5184-43b6-a281-1fd75c0f088a",
         "50b7cf29-4a8a-4cba-b6c7-8c60d76d739a",
         "FINISHED",
         "",
         "2025-03-23 09:11:17.815000+00:00",
         "2025-03-23 09:14:21.306000+00:00",
         "0.69852941175",
         "0.0",
         "0.0",
         "0.1138716356",
         "0.0",
         "0.0",
         "0.0",
         "0.37147335420000005",
         "4.0",
         "0.0",
         "0.44944341375",
         "4.0",
         "0.0",
         "4.0",
         "0.0",
         "4.0",
         "0.48402839400000003",
         "0.0",
         "3.0",
         "0.5292030105000001",
         "3.0",
         "0.04266535875",
         "4.0",
         null,
         "Mutaz Abu Ghazaleh (AI GBB)",
         "evaluation_sample_eval",
         "46a30d94-5184-43b6-a281-1fd75c0f088a",
         "v1"
        ],
        [
         "1",
         "ebfd253d-3c78-4f5e-b6d0-7a63b743be72",
         "50b7cf29-4a8a-4cba-b6c7-8c60d76d739a",
         "FINISHED",
         "",
         "2025-03-23 11:41:47.471000+00:00",
         "2025-03-23 11:43:02.191000+00:00",
         null,
         null,
         null,
         null,
         null,
         null,
         null,
         null,
         null,
         null,
         null,
         null,
         null,
         null,
         null,
         null,
         null,
         null,
         null,
         null,
         null,
         null,
         null,
         "v1",
         "Mutaz Abu Ghazaleh (AI GBB)",
         "gentle_vase_krmh0j29",
         "ebfd253d-3c78-4f5e-b6d0-7a63b743be72",
         null
        ]
       ],
       "shape": {
        "columns": 34,
        "rows": 2
       }
      },
      "text/html": [
       "<div>\n",
       "<style scoped>\n",
       "    .dataframe tbody tr th:only-of-type {\n",
       "        vertical-align: middle;\n",
       "    }\n",
       "\n",
       "    .dataframe tbody tr th {\n",
       "        vertical-align: top;\n",
       "    }\n",
       "\n",
       "    .dataframe thead th {\n",
       "        text-align: right;\n",
       "    }\n",
       "</style>\n",
       "<table border=\"1\" class=\"dataframe\">\n",
       "  <thead>\n",
       "    <tr style=\"text-align: right;\">\n",
       "      <th></th>\n",
       "      <th>run_id</th>\n",
       "      <th>experiment_id</th>\n",
       "      <th>status</th>\n",
       "      <th>artifact_uri</th>\n",
       "      <th>start_time</th>\n",
       "      <th>end_time</th>\n",
       "      <th>metrics.rouge.rouge_recall</th>\n",
       "      <th>metrics.protected_material.protected_material_defect_rate</th>\n",
       "      <th>metrics.hate_unfairness.hate_unfairness_score</th>\n",
       "      <th>metrics.gleu.gleu_score</th>\n",
       "      <th>...</th>\n",
       "      <th>metrics.fluency.gpt_fluency</th>\n",
       "      <th>metrics.meteor.meteor_score</th>\n",
       "      <th>metrics.fluency.fluency</th>\n",
       "      <th>metrics.bleu.bleu_score</th>\n",
       "      <th>metrics.similarity.gpt_similarity</th>\n",
       "      <th>params.myparam</th>\n",
       "      <th>tags.mlflow.user</th>\n",
       "      <th>tags.mlflow.runName</th>\n",
       "      <th>tags.mlflow.rootRunId</th>\n",
       "      <th>tags.tag1</th>\n",
       "    </tr>\n",
       "  </thead>\n",
       "  <tbody>\n",
       "    <tr>\n",
       "      <th>0</th>\n",
       "      <td>46a30d94-5184-43b6-a281-1fd75c0f088a</td>\n",
       "      <td>50b7cf29-4a8a-4cba-b6c7-8c60d76d739a</td>\n",
       "      <td>FINISHED</td>\n",
       "      <td></td>\n",
       "      <td>2025-03-23 09:11:17.815000+00:00</td>\n",
       "      <td>2025-03-23 09:14:21.306000+00:00</td>\n",
       "      <td>0.698529</td>\n",
       "      <td>0.0</td>\n",
       "      <td>0.0</td>\n",
       "      <td>0.113872</td>\n",
       "      <td>...</td>\n",
       "      <td>3.0</td>\n",
       "      <td>0.529203</td>\n",
       "      <td>3.0</td>\n",
       "      <td>0.042665</td>\n",
       "      <td>4.0</td>\n",
       "      <td>None</td>\n",
       "      <td>Mutaz Abu Ghazaleh (AI GBB)</td>\n",
       "      <td>evaluation_sample_eval</td>\n",
       "      <td>46a30d94-5184-43b6-a281-1fd75c0f088a</td>\n",
       "      <td>v1</td>\n",
       "    </tr>\n",
       "    <tr>\n",
       "      <th>1</th>\n",
       "      <td>ebfd253d-3c78-4f5e-b6d0-7a63b743be72</td>\n",
       "      <td>50b7cf29-4a8a-4cba-b6c7-8c60d76d739a</td>\n",
       "      <td>FINISHED</td>\n",
       "      <td></td>\n",
       "      <td>2025-03-23 11:41:47.471000+00:00</td>\n",
       "      <td>2025-03-23 11:43:02.191000+00:00</td>\n",
       "      <td>NaN</td>\n",
       "      <td>NaN</td>\n",
       "      <td>NaN</td>\n",
       "      <td>NaN</td>\n",
       "      <td>...</td>\n",
       "      <td>NaN</td>\n",
       "      <td>NaN</td>\n",
       "      <td>NaN</td>\n",
       "      <td>NaN</td>\n",
       "      <td>NaN</td>\n",
       "      <td>v1</td>\n",
       "      <td>Mutaz Abu Ghazaleh (AI GBB)</td>\n",
       "      <td>gentle_vase_krmh0j29</td>\n",
       "      <td>ebfd253d-3c78-4f5e-b6d0-7a63b743be72</td>\n",
       "      <td>None</td>\n",
       "    </tr>\n",
       "  </tbody>\n",
       "</table>\n",
       "<p>2 rows × 34 columns</p>\n",
       "</div>"
      ],
      "text/plain": [
       "                                 run_id                         experiment_id  \\\n",
       "0  46a30d94-5184-43b6-a281-1fd75c0f088a  50b7cf29-4a8a-4cba-b6c7-8c60d76d739a   \n",
       "1  ebfd253d-3c78-4f5e-b6d0-7a63b743be72  50b7cf29-4a8a-4cba-b6c7-8c60d76d739a   \n",
       "\n",
       "     status artifact_uri                       start_time  \\\n",
       "0  FINISHED              2025-03-23 09:11:17.815000+00:00   \n",
       "1  FINISHED              2025-03-23 11:41:47.471000+00:00   \n",
       "\n",
       "                          end_time  metrics.rouge.rouge_recall  \\\n",
       "0 2025-03-23 09:14:21.306000+00:00                    0.698529   \n",
       "1 2025-03-23 11:43:02.191000+00:00                         NaN   \n",
       "\n",
       "   metrics.protected_material.protected_material_defect_rate  \\\n",
       "0                                                0.0           \n",
       "1                                                NaN           \n",
       "\n",
       "   metrics.hate_unfairness.hate_unfairness_score  metrics.gleu.gleu_score  \\\n",
       "0                                            0.0                 0.113872   \n",
       "1                                            NaN                      NaN   \n",
       "\n",
       "   ...  metrics.fluency.gpt_fluency  metrics.meteor.meteor_score  \\\n",
       "0  ...                          3.0                     0.529203   \n",
       "1  ...                          NaN                          NaN   \n",
       "\n",
       "   metrics.fluency.fluency  metrics.bleu.bleu_score  \\\n",
       "0                      3.0                 0.042665   \n",
       "1                      NaN                      NaN   \n",
       "\n",
       "   metrics.similarity.gpt_similarity  params.myparam  \\\n",
       "0                                4.0            None   \n",
       "1                                NaN              v1   \n",
       "\n",
       "              tags.mlflow.user     tags.mlflow.runName  \\\n",
       "0  Mutaz Abu Ghazaleh (AI GBB)  evaluation_sample_eval   \n",
       "1  Mutaz Abu Ghazaleh (AI GBB)    gentle_vase_krmh0j29   \n",
       "\n",
       "                  tags.mlflow.rootRunId  tags.tag1  \n",
       "0  46a30d94-5184-43b6-a281-1fd75c0f088a         v1  \n",
       "1  ebfd253d-3c78-4f5e-b6d0-7a63b743be72       None  \n",
       "\n",
       "[2 rows x 34 columns]"
      ]
     },
     "execution_count": 14,
     "metadata": {},
     "output_type": "execute_result"
    }
   ],
   "source": [
    "mlflow.search_runs()\n"
   ]
  },
  {
   "cell_type": "code",
   "execution_count": 15,
   "id": "40994429",
   "metadata": {},
   "outputs": [],
   "source": [
    "mlflow_eval_run = mlflow.get_run(eval.id)"
   ]
  },
  {
   "cell_type": "code",
   "execution_count": 16,
   "id": "e7b60d5c",
   "metadata": {},
   "outputs": [
    {
     "name": "stdout",
     "output_type": "stream",
     "text": [
      "mlflow run id: 46a30d94-5184-43b6-a281-1fd75c0f088a\n",
      "mlflow run tags: {'tag1': 'v1'}\n"
     ]
    },
    {
     "data": {
      "text/plain": [
       "{'info': {'artifact_uri': 'azureml://eastus2.api.azureml.ms/mlflow/v2.0/subscriptions/e9b9c71e-d2ba-4086-a5ed-2923e15962d9/resourceGroups/rg-mutaza-5102_ai/providers/Microsoft.MachineLearningServices/workspaces/ai-inference-eastus2/experiments/50b7cf29-4a8a-4cba-b6c7-8c60d76d739a/runs/46a30d94-5184-43b6-a281-1fd75c0f088a/artifacts',\n",
       "  'end_time': 1742721261306,\n",
       "  'experiment_id': '50b7cf29-4a8a-4cba-b6c7-8c60d76d739a',\n",
       "  'lifecycle_stage': 'active',\n",
       "  'run_id': '46a30d94-5184-43b6-a281-1fd75c0f088a',\n",
       "  'run_name': 'evaluation_sample_eval',\n",
       "  'run_uuid': '46a30d94-5184-43b6-a281-1fd75c0f088a',\n",
       "  'start_time': 1742721077815,\n",
       "  'status': 'FINISHED',\n",
       "  'user_id': 'a69194f3-f66e-4be9-9459-0f9add2a7439'},\n",
       " 'data': {'metrics': {'relevance.relevance': 4.0,\n",
       "   'relevance.gpt_relevance': 4.0,\n",
       "   'similarity.gpt_similarity': 4.0,\n",
       "   'coherence.coherence': 4.0,\n",
       "   'f1_score.f1_score': 0.44944341375,\n",
       "   'gleu.gleu_score': 0.1138716356,\n",
       "   'fluency.fluency': 3.0,\n",
       "   'bleu.bleu_score': 0.04266535875,\n",
       "   'coherence.gpt_coherence': 4.0,\n",
       "   'fluency.gpt_fluency': 3.0,\n",
       "   'rouge.rouge_precision': 0.37147335420000005,\n",
       "   'rouge.rouge_f1_score': 0.48402839400000003,\n",
       "   'rouge.rouge_recall': 0.69852941175,\n",
       "   'meteor.meteor_score': 0.5292030105000001,\n",
       "   'self_harm.self_harm_score': 0.0,\n",
       "   'hate_unfairness.hate_unfairness_score': 0.0,\n",
       "   'violence.violence_score': 0.0,\n",
       "   'indirect_attack.xpia_manipulated_content': 0.0,\n",
       "   'indirect_attack.xpia_intrusion': 0.0,\n",
       "   'indirect_attack.xpia_information_gathering': 0.0,\n",
       "   'indirect_attack.xpia_defect_rate': 0.0,\n",
       "   'sexual.sexual_score': 0.0,\n",
       "   'protected_material.protected_material_defect_rate': 0.0},\n",
       "  'params': {},\n",
       "  'tags': {'tag1': 'v1',\n",
       "   'mlflow.rootRunId': '46a30d94-5184-43b6-a281-1fd75c0f088a',\n",
       "   'mlflow.runName': 'evaluation_sample_eval',\n",
       "   'mlflow.user': 'Mutaz Abu Ghazaleh (AI GBB)'}},\n",
       " 'inputs': {'dataset_inputs': []}}"
      ]
     },
     "execution_count": 16,
     "metadata": {},
     "output_type": "execute_result"
    }
   ],
   "source": [
    "print(f\"mlflow run id: {mlflow_eval_run.info.run_id}\")\n",
    "print(f\"mlflow run tags: {ml_eval_job.tags}\")\n",
    "\n",
    "mlflow_eval_run.to_dictionary()"
   ]
  },
  {
   "cell_type": "code",
   "execution_count": 17,
   "id": "0c7cab74",
   "metadata": {},
   "outputs": [
    {
     "data": {
      "text/plain": [
       "{'relevance.relevance': 4.0,\n",
       " 'relevance.gpt_relevance': 4.0,\n",
       " 'similarity.gpt_similarity': 4.0,\n",
       " 'coherence.coherence': 4.0,\n",
       " 'f1_score.f1_score': 0.44944341375,\n",
       " 'gleu.gleu_score': 0.1138716356,\n",
       " 'fluency.fluency': 3.0,\n",
       " 'bleu.bleu_score': 0.04266535875,\n",
       " 'coherence.gpt_coherence': 4.0,\n",
       " 'fluency.gpt_fluency': 3.0,\n",
       " 'rouge.rouge_precision': 0.37147335420000005,\n",
       " 'rouge.rouge_f1_score': 0.48402839400000003,\n",
       " 'rouge.rouge_recall': 0.69852941175,\n",
       " 'meteor.meteor_score': 0.5292030105000001,\n",
       " 'self_harm.self_harm_score': 0.0,\n",
       " 'hate_unfairness.hate_unfairness_score': 0.0,\n",
       " 'violence.violence_score': 0.0,\n",
       " 'indirect_attack.xpia_manipulated_content': 0.0,\n",
       " 'indirect_attack.xpia_intrusion': 0.0,\n",
       " 'indirect_attack.xpia_information_gathering': 0.0,\n",
       " 'indirect_attack.xpia_defect_rate': 0.0,\n",
       " 'sexual.sexual_score': 0.0,\n",
       " 'protected_material.protected_material_defect_rate': 0.0}"
      ]
     },
     "execution_count": 17,
     "metadata": {},
     "output_type": "execute_result"
    }
   ],
   "source": [
    "mlflow_eval_run.data.metrics"
   ]
  },
  {
   "cell_type": "markdown",
   "id": "75546476",
   "metadata": {},
   "source": [
    "## Submit an evaluation\n"
   ]
  },
  {
   "cell_type": "code",
   "execution_count": null,
   "id": "a1b04c0b",
   "metadata": {},
   "outputs": [],
   "source": []
  },
  {
   "cell_type": "code",
   "execution_count": null,
   "id": "293986b8",
   "metadata": {},
   "outputs": [],
   "source": []
  }
 ],
 "metadata": {
  "kernelspec": {
   "display_name": "ai_env",
   "language": "python",
   "name": "python3"
  },
  "language_info": {
   "codemirror_mode": {
    "name": "ipython",
    "version": 3
   },
   "file_extension": ".py",
   "mimetype": "text/x-python",
   "name": "python",
   "nbconvert_exporter": "python",
   "pygments_lexer": "ipython3",
   "version": "3.10.16"
  }
 },
 "nbformat": 4,
 "nbformat_minor": 5
}
