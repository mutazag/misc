{
 "cells": [
  {
   "cell_type": "code",
   "execution_count": 1,
   "metadata": {},
   "outputs": [],
   "source": [
    "import os\n",
    "from openai import OpenAI\n"
   ]
  },
  {
   "cell_type": "code",
   "execution_count": 2,
   "metadata": {},
   "outputs": [],
   "source": [
    "from azure.ai.inference import ChatCompletionsClient\n",
    "from azure.core.credentials import AzureKeyCredential\n",
    "\n",
    "from azure.identity import DefaultAzureCredential, get_bearer_token_provider, AzureCliCredential\n",
    "\n"
   ]
  },
  {
   "cell_type": "code",
   "execution_count": 3,
   "metadata": {},
   "outputs": [],
   "source": [
    "from azure.ai.inference.models import (\n",
    "    SystemMessage,\n",
    "    UserMessage,\n",
    "    ToolMessage,\n",
    "    AssistantMessage\n",
    ")"
   ]
  },
  {
   "cell_type": "code",
   "execution_count": 4,
   "metadata": {},
   "outputs": [],
   "source": [
    "models = {\n",
    "    \"DeepSeek-R1\": \"DeepSeek-R1\",\n",
    "    \"Phi-4-mini-instruct\": \"Phi-4-mini-instruct\",\n",
    "    \"gpt-4o\": \"gpt-4o\",\n",
    "    \"o3-mini\": \"o3-mini\"\n",
    "}"
   ]
  },
  {
   "cell_type": "code",
   "execution_count": 5,
   "metadata": {},
   "outputs": [],
   "source": [
    "endpoint = os.getenv(\"AZURE_INFERENCE_SDK_ENDPOINT\")"
   ]
  },
  {
   "cell_type": "code",
   "execution_count": 6,
   "metadata": {},
   "outputs": [],
   "source": [
    "client = ChatCompletionsClient(\n",
    "    endpoint=endpoint,\n",
    "    credential=AzureKeyCredential(os.getenv(\"AZURE_INFERENCE_SDK_ENDPOINT_KEY\")),\n",
    "    credential_scopes=[\"https://cognitiveservices.azure.com/.default\"],\n",
    "\n",
    "    )"
   ]
  },
  {
   "cell_type": "code",
   "execution_count": 7,
   "metadata": {},
   "outputs": [],
   "source": [
    "messages = [\n",
    "    UserMessage(content=\"1 shirt needs 1 hour to dry, how long does it take to dry 3 shirts?\"),\n",
    "]"
   ]
  },
  {
   "cell_type": "markdown",
   "metadata": {},
   "source": [
    "# DeepSeek-R1"
   ]
  },
  {
   "cell_type": "code",
   "execution_count": 8,
   "metadata": {},
   "outputs": [],
   "source": [
    "response = client.complete(\n",
    "    messages = messages,\n",
    "    model = models['DeepSeek-R1']\n",
    ")\n",
    "\n"
   ]
  },
  {
   "cell_type": "code",
   "execution_count": 9,
   "metadata": {},
   "outputs": [
    {
     "name": "stdout",
     "output_type": "stream",
     "text": [
      "<think>\n",
      "Okay, let me try to figure out this problem. So, the question is: if one shirt takes 1 hour to dry, how long does it take to dry 3 shirts? Hmm, at first glance, it seems straightforward, but I need to make sure I'm not missing anything here.\n",
      "\n",
      "First, let me parse the question again. The key information given is that one shirt needs 1 hour to dry. Now, the question is asking about drying three shirts. The obvious answer might be that it still takes 1 hour because each shirt dries independently. But maybe there's a trick here. Sometimes these problems test whether you assume things that aren't stated. For example, maybe if you have more shirts, they take longer because they are drying together in the same space, blocking airflow or something. But the problem doesn't mention any constraints like that. It just says 1 shirt takes 1 hour. So, unless told otherwise, we probably shouldn't assume that the drying time increases with the number of shirts.\n",
      "\n",
      "Wait, but let me think again. If you hang three shirts on a clothesline, and each is in the sun, they might all dry at the same time. So, if each shirt takes 1 hour to dry regardless of how many there are, then three shirts would all be dry after 1 hour. But maybe the problem is designed to trick people into multiplying 1 hour by 3 shirts, which would be 3 hours, but that doesn't make sense because you can dry multiple shirts simultaneously.\n",
      "\n",
      "Alternatively, maybe the drying time is cumulative if you can only dry one shirt at a time? But that seems unlikely. Typically, when you dry clothes, you can dry multiple at once. Unless there's a constraint like only having one hanger or something, but again, the problem doesn't mention that. So, the answer is probably 1 hour.\n",
      "\n",
      "Let me check if there's another angle. Maybe the drying time per shirt is 1 hour, but with more shirts, each shirt's drying time is affected? Like, if you have more shirts in a confined space, they might take longer. But the problem doesn't mention any space limitations or interference between shirts. So, if we take the problem at face value, without adding extra assumptions, the drying time for each shirt is 1 hour regardless of the number. Therefore, three shirts would all be dry in 1 hour.\n",
      "\n",
      "But wait, sometimes these questions are a bit of a trick. For example, if it takes 1 hour to dry one shirt, how long does it take to dry three shirts? If you can dry them all at the same time, it's still 1 hour. But if you have to dry them sequentially, like only one shirt can be dried at a time, then it would take 3 hours. However, the problem doesn't specify any such constraint. So, the default assumption is that you can dry all three simultaneously. Therefore, the answer is 1 hour.\n",
      "\n",
      "But maybe the problem is presented in a way that tests understanding of parallel versus sequential tasks. In computing or project management, if tasks can be done in parallel, the time remains the same. If they have to be done in sequence, the time adds up. Since drying shirts is a parallel task (assuming you have space to dry all at once), the time doesn't increase. Therefore, the answer is 1 hour.\n",
      "\n",
      "Alternatively, if someone misinterprets the question, they might think each shirt requires 1 hour of active drying time, like machine drying where each load takes 1 hour. But even then, if you can fit three shirts in the dryer at once, it's still 1 hour. However, hang drying is more passive and doesn't require a machine cycle. So, again, if you have three shirts hanging, each takes 1 hour, regardless of the others.\n",
      "\n",
      "So, unless there's information missing, the answer should be 1 hour. The key is that drying time doesn't depend on the number of shirts if they can all be dried simultaneously. Therefore, the answer is 1 hour.\n",
      "</think>\n",
      "\n",
      "The drying time for the shirts does not depend on the number of shirts when they can dry simultaneously. Since the problem does not mention any constraints limiting the drying process (e.g., space, airflow), we assume all 3 shirts are dried at the same time. Therefore, it takes **1 hour** to dry 3 shirts, the same as drying one shirt.\n",
      "\n",
      "**Answer:** 1 hour.\n"
     ]
    }
   ],
   "source": [
    "print(response.choices[0].message.content)"
   ]
  },
  {
   "cell_type": "code",
   "execution_count": 10,
   "metadata": {},
   "outputs": [
    {
     "name": "stdout",
     "output_type": "stream",
     "text": [
      "Response:\n",
      "\tThinking: \n",
      "Okay, let me try to figure out this problem. So, the question is: if one shirt takes 1 hour to dry, how long does it take to dry 3 shirts? Hmm, at first glance, it seems straightforward, but I need to make sure I'm not missing anything here.\n",
      "\n",
      "First, let me parse the question again. The key information given is that one shirt needs 1 hour to dry. Now, the question is asking about drying three shirts. The obvious answer might be that it still takes 1 hour because each shirt dries independently. But maybe there's a trick here. Sometimes these problems test whether you assume things that aren't stated. For example, maybe if you have more shirts, they take longer because they are drying together in the same space, blocking airflow or something. But the problem doesn't mention any constraints like that. It just says 1 shirt takes 1 hour. So, unless told otherwise, we probably shouldn't assume that the drying time increases with the number of shirts.\n",
      "\n",
      "Wait, but let me think again. If you hang three shirts on a clothesline, and each is in the sun, they might all dry at the same time. So, if each shirt takes 1 hour to dry regardless of how many there are, then three shirts would all be dry after 1 hour. But maybe the problem is designed to trick people into multiplying 1 hour by 3 shirts, which would be 3 hours, but that doesn't make sense because you can dry multiple shirts simultaneously.\n",
      "\n",
      "Alternatively, maybe the drying time is cumulative if you can only dry one shirt at a time? But that seems unlikely. Typically, when you dry clothes, you can dry multiple at once. Unless there's a constraint like only having one hanger or something, but again, the problem doesn't mention that. So, the answer is probably 1 hour.\n",
      "\n",
      "Let me check if there's another angle. Maybe the drying time per shirt is 1 hour, but with more shirts, each shirt's drying time is affected? Like, if you have more shirts in a confined space, they might take longer. But the problem doesn't mention any space limitations or interference between shirts. So, if we take the problem at face value, without adding extra assumptions, the drying time for each shirt is 1 hour regardless of the number. Therefore, three shirts would all be dry in 1 hour.\n",
      "\n",
      "But wait, sometimes these questions are a bit of a trick. For example, if it takes 1 hour to dry one shirt, how long does it take to dry three shirts? If you can dry them all at the same time, it's still 1 hour. But if you have to dry them sequentially, like only one shirt can be dried at a time, then it would take 3 hours. However, the problem doesn't specify any such constraint. So, the default assumption is that you can dry all three simultaneously. Therefore, the answer is 1 hour.\n",
      "\n",
      "But maybe the problem is presented in a way that tests understanding of parallel versus sequential tasks. In computing or project management, if tasks can be done in parallel, the time remains the same. If they have to be done in sequence, the time adds up. Since drying shirts is a parallel task (assuming you have space to dry all at once), the time doesn't increase. Therefore, the answer is 1 hour.\n",
      "\n",
      "Alternatively, if someone misinterprets the question, they might think each shirt requires 1 hour of active drying time, like machine drying where each load takes 1 hour. But even then, if you can fit three shirts in the dryer at once, it's still 1 hour. However, hang drying is more passive and doesn't require a machine cycle. So, again, if you have three shirts hanging, each takes 1 hour, regardless of the others.\n",
      "\n",
      "So, unless there's information missing, the answer should be 1 hour. The key is that drying time doesn't depend on the number of shirts if they can all be dried simultaneously. Therefore, the answer is 1 hour.\n",
      "\n",
      "\tAnswer: \n",
      "\n",
      "The drying time for the shirts does not depend on the number of shirts when they can dry simultaneously. Since the problem does not mention any constraints limiting the drying process (e.g., space, airflow), we assume all 3 shirts are dried at the same time. Therefore, it takes **1 hour** to dry 3 shirts, the same as drying one shirt.\n",
      "\n",
      "**Answer:** 1 hour.\n",
      "Model: deepseek-r1\n",
      "Usage:\n",
      "\tPrompt tokens: 23\n",
      "\tTotal tokens: 948\n",
      "\tCompletion tokens: 925\n"
     ]
    }
   ],
   "source": [
    "import re\n",
    "\n",
    "match = re.match(r\"<think>(.*?)</think>(.*)\", response.choices[0].message.content, re.DOTALL)\n",
    "\n",
    "print(\"Response:\", )\n",
    "if match:\n",
    "    print(\"\\tThinking:\", match.group(1))\n",
    "    print(\"\\tAnswer:\", match.group(2))\n",
    "else:\n",
    "    print(\"\\tAnswer:\", response.choices[0].message.content)\n",
    "print(\"Model:\", response.model)\n",
    "print(\"Usage:\")\n",
    "print(\"\\tPrompt tokens:\", response.usage.prompt_tokens)\n",
    "print(\"\\tTotal tokens:\", response.usage.total_tokens)\n",
    "print(\"\\tCompletion tokens:\", response.usage.completion_tokens)"
   ]
  },
  {
   "cell_type": "markdown",
   "metadata": {},
   "source": [
    "# gpt-4o"
   ]
  },
  {
   "cell_type": "code",
   "execution_count": 11,
   "metadata": {},
   "outputs": [
    {
     "name": "stdout",
     "output_type": "stream",
     "text": [
      "1 shirt needs 1 hour to dry, how long does it take to dry 3 shirts?\n",
      "If **1 shirt takes 1 hour to dry**, and you are drying **multiple shirts at the same time**, the drying time remains **1 hour** because they can dry simultaneously.\n",
      "\n",
      "So, for drying **3 shirts**, it will still take **1 hour** assuming you are drying them under the same conditions together.\n"
     ]
    }
   ],
   "source": [
    "print(messages[0].content)\n",
    "# gpt-4o\n",
    "response = client.complete(\n",
    "    messages = messages,\n",
    "    model = models[\"gpt-4o\"]\n",
    ")\n",
    "print(response.choices[0].message.content)"
   ]
  },
  {
   "cell_type": "markdown",
   "metadata": {},
   "source": [
    "# Phi-4-mini-instruct"
   ]
  },
  {
   "cell_type": "code",
   "execution_count": 12,
   "metadata": {},
   "outputs": [
    {
     "name": "stdout",
     "output_type": "stream",
     "text": [
      "It would take 3 hours to dry 3 shirts, assuming each shirt still requires 1 hour to dry and they can be dried independently of each other. However, if the drying process for all shirts must happen sequentially (one after the other), then it would still take 3 hours, since you can't dry all shirts simultaneously if each shirt requires its own hour.\n"
     ]
    }
   ],
   "source": [
    "response = client.complete(\n",
    "    messages = messages,\n",
    "    model = models['Phi-4-mini-instruct']\n",
    ")\n",
    "print(response.choices[0].message.content)"
   ]
  },
  {
   "cell_type": "markdown",
   "metadata": {},
   "source": [
    "# o3-mini\n",
    "\n",
    "calling o3-mini is not supported with the current version of azure.ai.inference SDK"
   ]
  },
  {
   "cell_type": "code",
   "execution_count": 13,
   "metadata": {},
   "outputs": [],
   "source": [
    "from openai import AzureOpenAI"
   ]
  },
  {
   "cell_type": "code",
   "execution_count": 14,
   "metadata": {},
   "outputs": [],
   "source": [
    "aoai_client = AzureOpenAI(\n",
    "    azure_endpoint=os.getenv(\"AZURE_OPENAI_ENDPOINT\"),\n",
    "    api_key=os.getenv(\"AZURE_OPENAI_API_KEY\"),\n",
    "    api_version=\"2024-12-01-preview\")\n"
   ]
  },
  {
   "cell_type": "code",
   "execution_count": 15,
   "metadata": {},
   "outputs": [],
   "source": [
    "chat_prompt = chat_prompt = [\n",
    "    {\n",
    "        \"role\": \"user\",\n",
    "        \"content\": [\n",
    "            {\n",
    "                \"type\": \"text\",\n",
    "                \"text\": messages[0].content\n",
    "            }\n",
    "        ]\n",
    "    }]"
   ]
  },
  {
   "cell_type": "code",
   "execution_count": 16,
   "metadata": {},
   "outputs": [],
   "source": [
    "completion = aoai_client.chat.completions.create(\n",
    "    model=\"o3-mini\",\n",
    "    messages=messages,\n",
    "    max_completion_tokens=100000,\n",
    "    stop=None,\n",
    "    stream=False ,\n",
    "\n",
    "    reasoning_effort=\"high\"  )"
   ]
  },
  {
   "cell_type": "code",
   "execution_count": 17,
   "metadata": {},
   "outputs": [
    {
     "name": "stdout",
     "output_type": "stream",
     "text": [
      "If you dry the shirts at the same time (for example, hanging them on a drying rack with enough space), then each shirt drys independently. This means 3 shirts will dry in 1 hour—the same time it takes 1 shirt to dry.\n"
     ]
    }
   ],
   "source": [
    "print(completion.choices[0].message.content)"
   ]
  },
  {
   "cell_type": "code",
   "execution_count": 18,
   "metadata": {},
   "outputs": [
    {
     "name": "stdout",
     "output_type": "stream",
     "text": [
      "{\n",
      "  \"id\": \"chatcmpl-BDk6uE04rM1zZ5eoxweNmjPVjPalw\",\n",
      "  \"choices\": [\n",
      "    {\n",
      "      \"finish_reason\": \"stop\",\n",
      "      \"index\": 0,\n",
      "      \"logprobs\": null,\n",
      "      \"message\": {\n",
      "        \"content\": \"If you dry the shirts at the same time (for example, hanging them on a drying rack with enough space), then each shirt drys independently. This means 3 shirts will dry in 1 hour—the same time it takes 1 shirt to dry.\",\n",
      "        \"refusal\": null,\n",
      "        \"role\": \"assistant\"\n",
      "      },\n",
      "      \"content_filter_results\": {\n",
      "        \"hate\": {\n",
      "          \"filtered\": false,\n",
      "          \"severity\": \"safe\"\n",
      "        },\n",
      "        \"self_harm\": {\n",
      "          \"filtered\": false,\n",
      "          \"severity\": \"safe\"\n",
      "        },\n",
      "        \"sexual\": {\n",
      "          \"filtered\": false,\n",
      "          \"severity\": \"safe\"\n",
      "        },\n",
      "        \"violence\": {\n",
      "          \"filtered\": false,\n",
      "          \"severity\": \"safe\"\n",
      "        }\n",
      "      }\n",
      "    }\n",
      "  ],\n",
      "  \"created\": 1742615212,\n",
      "  \"model\": \"o3-mini-2025-01-31\",\n",
      "  \"object\": \"chat.completion\",\n",
      "  \"system_fingerprint\": \"fp_ded0d14823\",\n",
      "  \"usage\": {\n",
      "    \"completion_tokens\": 706,\n",
      "    \"prompt_tokens\": 26,\n",
      "    \"total_tokens\": 732,\n",
      "    \"completion_tokens_details\": {\n",
      "      \"accepted_prediction_tokens\": 0,\n",
      "      \"audio_tokens\": 0,\n",
      "      \"reasoning_tokens\": 640,\n",
      "      \"rejected_prediction_tokens\": 0\n",
      "    },\n",
      "    \"prompt_tokens_details\": {\n",
      "      \"audio_tokens\": 0,\n",
      "      \"cached_tokens\": 0\n",
      "    }\n",
      "  },\n",
      "  \"prompt_filter_results\": [\n",
      "    {\n",
      "      \"prompt_index\": 0,\n",
      "      \"content_filter_results\": {\n",
      "        \"hate\": {\n",
      "          \"filtered\": false,\n",
      "          \"severity\": \"safe\"\n",
      "        },\n",
      "        \"jailbreak\": {\n",
      "          \"filtered\": false,\n",
      "          \"detected\": false\n",
      "        },\n",
      "        \"self_harm\": {\n",
      "          \"filtered\": false,\n",
      "          \"severity\": \"safe\"\n",
      "        },\n",
      "        \"sexual\": {\n",
      "          \"filtered\": false,\n",
      "          \"severity\": \"safe\"\n",
      "        },\n",
      "        \"violence\": {\n",
      "          \"filtered\": false,\n",
      "          \"severity\": \"safe\"\n",
      "        }\n",
      "      }\n",
      "    }\n",
      "  ]\n",
      "}\n"
     ]
    }
   ],
   "source": [
    "print(completion.to_json())"
   ]
  },
  {
   "cell_type": "code",
   "execution_count": null,
   "metadata": {},
   "outputs": [],
   "source": []
  }
 ],
 "metadata": {
  "kernelspec": {
   "display_name": ".venv",
   "language": "python",
   "name": "python3"
  },
  "language_info": {
   "codemirror_mode": {
    "name": "ipython",
    "version": 3
   },
   "file_extension": ".py",
   "mimetype": "text/x-python",
   "name": "python",
   "nbconvert_exporter": "python",
   "pygments_lexer": "ipython3",
   "version": "3.13.2"
  }
 },
 "nbformat": 4,
 "nbformat_minor": 2
}
