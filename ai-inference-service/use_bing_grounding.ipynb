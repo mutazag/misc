{
 "cells": [
  {
   "cell_type": "code",
   "execution_count": 1,
   "id": "80d2b44a",
   "metadata": {},
   "outputs": [
    {
     "ename": "ImportError",
     "evalue": "cannot import name 'BingGroundingTool' from 'azure.ai.projects.models' (c:\\Users\\mutaza\\AppData\\Local\\miniconda3\\envs\\ai_env\\lib\\site-packages\\azure\\ai\\projects\\models\\__init__.py)",
     "output_type": "error",
     "traceback": [
      "\u001b[1;31m---------------------------------------------------------------------------\u001b[0m",
      "\u001b[1;31mImportError\u001b[0m                               Traceback (most recent call last)",
      "Cell \u001b[1;32mIn[1], line 4\u001b[0m\n\u001b[0;32m      1\u001b[0m \u001b[38;5;28;01mimport\u001b[39;00m\u001b[38;5;250m \u001b[39m\u001b[38;5;21;01masyncio\u001b[39;00m\n\u001b[0;32m      3\u001b[0m \u001b[38;5;28;01mfrom\u001b[39;00m\u001b[38;5;250m \u001b[39m\u001b[38;5;21;01mazure\u001b[39;00m\u001b[38;5;21;01m.\u001b[39;00m\u001b[38;5;21;01midentity\u001b[39;00m\u001b[38;5;21;01m.\u001b[39;00m\u001b[38;5;21;01maio\u001b[39;00m\u001b[38;5;250m \u001b[39m\u001b[38;5;28;01mimport\u001b[39;00m DefaultAzureCredential\n\u001b[1;32m----> 4\u001b[0m \u001b[38;5;28;01mfrom\u001b[39;00m\u001b[38;5;250m \u001b[39m\u001b[38;5;21;01mazure\u001b[39;00m\u001b[38;5;21;01m.\u001b[39;00m\u001b[38;5;21;01mai\u001b[39;00m\u001b[38;5;21;01m.\u001b[39;00m\u001b[38;5;21;01mprojects\u001b[39;00m\u001b[38;5;21;01m.\u001b[39;00m\u001b[38;5;21;01mmodels\u001b[39;00m\u001b[38;5;250m \u001b[39m\u001b[38;5;28;01mimport\u001b[39;00m BingGroundingTool\n\u001b[0;32m      7\u001b[0m \u001b[38;5;28;01mfrom\u001b[39;00m\u001b[38;5;250m \u001b[39m\u001b[38;5;21;01msemantic_kernel\u001b[39;00m\u001b[38;5;21;01m.\u001b[39;00m\u001b[38;5;21;01magents\u001b[39;00m\u001b[38;5;21;01m.\u001b[39;00m\u001b[38;5;21;01mazure_ai\u001b[39;00m\u001b[38;5;250m \u001b[39m\u001b[38;5;28;01mimport\u001b[39;00m AzureAIAgent, AzureAIAgentSettings, agent_content_generation\n\u001b[0;32m      8\u001b[0m \u001b[38;5;28;01mfrom\u001b[39;00m\u001b[38;5;250m \u001b[39m\u001b[38;5;21;01msemantic_kernel\u001b[39;00m\u001b[38;5;21;01m.\u001b[39;00m\u001b[38;5;21;01mcontents\u001b[39;00m\u001b[38;5;250m \u001b[39m\u001b[38;5;28;01mimport\u001b[39;00m AuthorRole, ChatMessageContent\n",
      "\u001b[1;31mImportError\u001b[0m: cannot import name 'BingGroundingTool' from 'azure.ai.projects.models' (c:\\Users\\mutaza\\AppData\\Local\\miniconda3\\envs\\ai_env\\lib\\site-packages\\azure\\ai\\projects\\models\\__init__.py)"
     ]
    }
   ],
   "source": [
    "import asyncio\n",
    "\n",
    "from azure.identity.aio import DefaultAzureCredential\n",
    "from azure.ai.projects.models import BingGroundingTool\n",
    "\n",
    "\n",
    "from semantic_kernel.agents.azure_ai import AzureAIAgent, AzureAIAgentSettings, agent_content_generation\n",
    "from semantic_kernel.contents import AuthorRole, ChatMessageContent"
   ]
  },
  {
   "cell_type": "code",
   "execution_count": 2,
   "id": "593af767",
   "metadata": {},
   "outputs": [
    {
     "data": {
      "text/plain": [
       "True"
      ]
     },
     "execution_count": 2,
     "metadata": {},
     "output_type": "execute_result"
    }
   ],
   "source": [
    "from dotenv import load_dotenv\n",
    "import os\n",
    "\n",
    "load_dotenv()"
   ]
  },
  {
   "cell_type": "code",
   "execution_count": 3,
   "id": "755b7d57",
   "metadata": {},
   "outputs": [
    {
     "name": "stdout",
     "output_type": "stream",
     "text": [
      "Bing citation patch function run\n"
     ]
    }
   ],
   "source": [
    "# Global variable to store citation URLs\n",
    "citation_url = \"No citations available\"\n",
    "\n",
    "# Save the original function\n",
    "original_generate_annotation_content = agent_content_generation.generate_annotation_content\n",
    "def patched_generate_annotation_content(annotation):\n",
    "    global citation_url\n",
    "    print(\"Patched function called\")  # Debug print\n",
    "\n",
    "    # Ensure that the annotation has both 'start_index' and 'end_index' attributes.\n",
    "    # print(f\"# Annotation before: '{annotation}'\")\n",
    "    if not hasattr(annotation, \"start_index\"):\n",
    "        setattr(annotation, \"start_index\", None)\n",
    "        # print(f\"# Annotation set start_index: '{annotation}'\")\n",
    "    if not hasattr(annotation, \"end_index\"):\n",
    "        setattr(annotation, \"end_index\", None)\n",
    "        # print(f\"# Annotation set end_index: '{annotation}'\")\n",
    "\n",
    "    # print(f\"# Annotation after: '{annotation}'\")\n",
    "    # Check if this is a URL citation annotation and expose the URL\n",
    "    if hasattr(annotation, 'type') and annotation.type == 'url_citation':\n",
    "        try:\n",
    "            citation_url = annotation['url_citation']['url']\n",
    "            # print(f\"# Citation url: '{citation_url}'\")\n",
    "            return annotation\n",
    "        except Exception as e:\n",
    "            print(f\"Error processing citation: {e}\")\n",
    "    # Return the annotation as is for other annotation types\n",
    "    return annotation\n",
    "\n",
    "# Apply the monkey-patch\n",
    "agent_content_generation.generate_annotation_content = patched_generate_annotation_content\n",
    "\n",
    "print(\"Bing citation patch function run\")  # Debug print"
   ]
  },
  {
   "cell_type": "code",
   "execution_count": 4,
   "id": "204a3f15",
   "metadata": {},
   "outputs": [],
   "source": [
    "# Simulate a conversation with the agent\n",
    "USER_INPUTS = [\n",
    "    \"What is the weather in seattle?\",\n",
    "]"
   ]
  },
  {
   "cell_type": "code",
   "execution_count": 5,
   "id": "7af1bacb",
   "metadata": {},
   "outputs": [
    {
     "data": {
      "text/plain": [
       "ChatMessageContent(inner_content=None, ai_model_id=None, metadata={}, content_type='message', role=<AuthorRole.USER: 'user'>, name=None, items=[TextContent(inner_content=None, ai_model_id=None, metadata={}, content_type='text', text='What is the weather in seattle?', encoding=None)], encoding=None, finish_reason=None)"
      ]
     },
     "execution_count": 5,
     "metadata": {},
     "output_type": "execute_result"
    }
   ],
   "source": [
    "chatmessage = ChatMessageContent(\n",
    "    role=AuthorRole.USER,\n",
    "    content=USER_INPUTS[0],\n",
    ")\n",
    "\n",
    "\n",
    "chatmessage"
   ]
  },
  {
   "cell_type": "code",
   "execution_count": 6,
   "id": "253f9083",
   "metadata": {},
   "outputs": [],
   "source": [
    "ai_agent_settings = AzureAIAgentSettings.create()"
   ]
  },
  {
   "cell_type": "code",
   "execution_count": 7,
   "id": "153f739b",
   "metadata": {},
   "outputs": [
    {
     "data": {
      "text/plain": [
       "AzureAIAgentSettings(env_file_path=None, env_file_encoding='utf-8', model_deployment_name='gpt-4.1', project_connection_string=SecretStr('**********'), endpoint=None, subscription_id=None, resource_group_name=None, project_name=None)"
      ]
     },
     "execution_count": 7,
     "metadata": {},
     "output_type": "execute_result"
    }
   ],
   "source": [
    "ai_agent_settings"
   ]
  },
  {
   "cell_type": "code",
   "execution_count": 8,
   "id": "ecb12abc",
   "metadata": {},
   "outputs": [
    {
     "data": {
      "text/plain": [
       "SecretStr('**********')"
      ]
     },
     "execution_count": 8,
     "metadata": {},
     "output_type": "execute_result"
    }
   ],
   "source": [
    "ai_agent_settings.project_connection_string"
   ]
  },
  {
   "cell_type": "code",
   "execution_count": 9,
   "id": "bf9e5e4d",
   "metadata": {},
   "outputs": [],
   "source": [
    "client = AzureAIAgent.create_client(\n",
    "    credential=DefaultAzureCredential(),\n",
    "    conn_str=os.getenv(\"AZURE_AI_AGENT_PROJECT_CONNECTION_STRING\"),\n",
    ")"
   ]
  },
  {
   "cell_type": "code",
   "execution_count": 10,
   "id": "868256ba",
   "metadata": {},
   "outputs": [],
   "source": [
    "\n",
    "creds = DefaultAzureCredential()\n"
   ]
  },
  {
   "cell_type": "code",
   "execution_count": 11,
   "id": "cce400e5",
   "metadata": {},
   "outputs": [
    {
     "name": "stdout",
     "output_type": "stream",
     "text": [
      "/subscriptions/e9b9c71e-d2ba-4086-a5ed-2923e15962d9/resourceGroups/rg-mutaza-5102_ai/providers/Microsoft.MachineLearningServices/workspaces/ai-inference-eastus2/connections/magbinggrounding01\n"
     ]
    }
   ],
   "source": [
    "\n",
    "# Get your Bing connection\n",
    "bing_connection = await client.connections.get(\n",
    "        connection_name=os.getenv(\"AZURE_AI_AGENT_BING_CONNECTION_NAME\"),\n",
    "        include_credentials=True  # Optional. Defaults to \"False\"\n",
    ")\n",
    "conn_id = bing_connection.id\n",
    "print(conn_id)\n"
   ]
  },
  {
   "cell_type": "code",
   "execution_count": 12,
   "id": "4062e6dd",
   "metadata": {},
   "outputs": [],
   "source": [
    "\n",
    "# Initialize the Bing Search tool\n",
    "bing = BingGroundingTool(connection_id=conn_id)\n"
   ]
  },
  {
   "cell_type": "code",
   "execution_count": null,
   "id": "643b2ab1",
   "metadata": {},
   "outputs": [
    {
     "name": "stdout",
     "output_type": "stream",
     "text": [
      "Created agent definition\n"
     ]
    }
   ],
   "source": [
    "\n",
    "# 1. Create an agent using Azure AI agent service\n",
    "agent_definition = await client.agents.create_agent(\n",
    "    model=os.getenv(\"AZURE_AI_AGENT_MODEL_NAME\", \"gpt-4.1\"),\n",
    "    name=\"BingAgent\",\n",
    "    instructions=\"Answer the user's questions.\",\n",
    "    tools=bing.definitions,\n",
    "    headers={\"x-ms-enable-preview\": \"true\"},\n",
    ")\n",
    "print(\"Created agent definition\")\n"
   ]
  },
  {
   "cell_type": "code",
   "execution_count": 16,
   "id": "447a920a",
   "metadata": {},
   "outputs": [
    {
     "name": "stdout",
     "output_type": "stream",
     "text": [
      "Semantic Kernel version: 1.21.3\n"
     ]
    }
   ],
   "source": [
    "from semantic_kernel import __version__ as sk_version\n",
    "print(f\"Semantic Kernel version: {sk_version}\")"
   ]
  },
  {
   "cell_type": "code",
   "execution_count": null,
   "id": "416e90f4",
   "metadata": {},
   "outputs": [],
   "source": [
    "from semantic_kernel.agents.azure_ai.azure_ai_agent import azure\n",
    "USER_INPUTS = [\"Hello\", \"What's the capital of france?\"]\n",
    "\n",
    "thread: AzureAIAgentThread = AzureAIAgentThread()\n",
    "\n",
    "try:\n",
    "    for user_input in USER_INPUTS:\n",
    "        response = await agent.get_response(messages=user_inputs, thread=thread)\n",
    "        print(response)\n",
    "        thread = response.thread\n",
    "finally:\n",
    "    await thread.delete() if thread else None"
   ]
  },
  {
   "cell_type": "code",
   "execution_count": 14,
   "id": "61b535bf",
   "metadata": {},
   "outputs": [],
   "source": [
    "\n",
    "# 2. Create a Semantic Kernel agent for the Azure AI agent\n",
    "agent = AzureAIAgent(\n",
    "    client=client,\n",
    "    definition=agent_definition,\n",
    ")\n"
   ]
  },
  {
   "cell_type": "code",
   "execution_count": null,
   "id": "a818691c",
   "metadata": {},
   "outputs": [],
   "source": [
    "agent.add_chat_"
   ]
  },
  {
   "cell_type": "code",
   "execution_count": null,
   "id": "b69f9f82",
   "metadata": {},
   "outputs": [
    {
     "name": "stdout",
     "output_type": "stream",
     "text": [
      "# User: 'What is the weather in seattle?'\n"
     ]
    }
   ],
   "source": [
    "\n",
    "# 3. Create a new thread on the Azure AI agent service\n",
    "thread = await client.agents.create_thread()\n",
    "\n",
    "await agent.add_chat_message(\n",
    "    thread_id=thread.id,\n",
    "    message=ChatMessageContent(\n",
    "        role=AuthorRole.USER,\n",
    "        content=USER_INPUTS[0],\n",
    "    )\n",
    ")\n",
    "print(f\"# User: '{USER_INPUTS[0]}'\")\n",
    "\n"
   ]
  },
  {
   "cell_type": "code",
   "execution_count": 54,
   "id": "c5d79c15",
   "metadata": {},
   "outputs": [],
   "source": [
    "response = agent.invoke(\n",
    "    thread_id=thread.id,\n",
    "\n",
    ")"
   ]
  },
  {
   "cell_type": "code",
   "execution_count": null,
   "id": "aa70a5bc",
   "metadata": {},
   "outputs": [
    {
     "ename": "ValueError",
     "evalue": "Invalid combination of arguments provided.",
     "output_type": "error",
     "traceback": [
      "\u001b[1;31m---------------------------------------------------------------------------\u001b[0m",
      "\u001b[1;31mValueError\u001b[0m                                Traceback (most recent call last)",
      "Cell \u001b[1;32mIn[55], line 2\u001b[0m\n\u001b[0;32m      1\u001b[0m results \u001b[38;5;241m=\u001b[39m []\n\u001b[1;32m----> 2\u001b[0m \u001b[38;5;28;01masync\u001b[39;00m \u001b[38;5;28;01mfor\u001b[39;00m r \u001b[38;5;129;01min\u001b[39;00m  response:\n\u001b[0;32m      4\u001b[0m     results\u001b[38;5;241m.\u001b[39mappend(r)\n",
      "File \u001b[1;32mc:\\Users\\mutaza\\AppData\\Local\\miniconda3\\envs\\ai_env\\lib\\site-packages\\semantic_kernel\\utils\\telemetry\\agent_diagnostics\\decorators.py:39\u001b[0m, in \u001b[0;36mtrace_agent_invocation.<locals>.wrapper_decorator\u001b[1;34m(*args, **kwargs)\u001b[0m\n\u001b[0;32m     36\u001b[0m \u001b[38;5;28;01mif\u001b[39;00m agent\u001b[38;5;241m.\u001b[39mdescription:\n\u001b[0;32m     37\u001b[0m     span\u001b[38;5;241m.\u001b[39mset_attribute(gen_ai_attributes\u001b[38;5;241m.\u001b[39mAGENT_DESCRIPTION, agent\u001b[38;5;241m.\u001b[39mdescription)\n\u001b[1;32m---> 39\u001b[0m \u001b[38;5;28;01masync\u001b[39;00m \u001b[38;5;28;01mfor\u001b[39;00m response \u001b[38;5;129;01min\u001b[39;00m invoke_func(\u001b[38;5;241m*\u001b[39margs, \u001b[38;5;241m*\u001b[39m\u001b[38;5;241m*\u001b[39mkwargs):\n\u001b[0;32m     40\u001b[0m     \u001b[38;5;28;01myield\u001b[39;00m response\n",
      "File \u001b[1;32mc:\\Users\\mutaza\\AppData\\Local\\miniconda3\\envs\\ai_env\\lib\\site-packages\\semantic_kernel\\agents\\azure_ai\\azure_ai_agent.py:208\u001b[0m, in \u001b[0;36mAzureAIAgent.invoke\u001b[1;34m(self, thread_id, arguments, kernel, model, instructions_override, additional_instructions, additional_messages, tools, temperature, top_p, max_prompt_tokens, max_completion_tokens, truncation_strategy, response_format, parallel_tool_calls, metadata, **kwargs)\u001b[0m\n\u001b[0;32m    191\u001b[0m run_level_params \u001b[38;5;241m=\u001b[39m {\n\u001b[0;32m    192\u001b[0m     \u001b[38;5;124m\"\u001b[39m\u001b[38;5;124mmodel\u001b[39m\u001b[38;5;124m\"\u001b[39m: model,\n\u001b[0;32m    193\u001b[0m     \u001b[38;5;124m\"\u001b[39m\u001b[38;5;124minstructions_override\u001b[39m\u001b[38;5;124m\"\u001b[39m: instructions_override,\n\u001b[1;32m   (...)\u001b[0m\n\u001b[0;32m    204\u001b[0m     \u001b[38;5;124m\"\u001b[39m\u001b[38;5;124mmetadata\u001b[39m\u001b[38;5;124m\"\u001b[39m: metadata,\n\u001b[0;32m    205\u001b[0m }\n\u001b[0;32m    206\u001b[0m run_level_params \u001b[38;5;241m=\u001b[39m {k: v \u001b[38;5;28;01mfor\u001b[39;00m k, v \u001b[38;5;129;01min\u001b[39;00m run_level_params\u001b[38;5;241m.\u001b[39mitems() \u001b[38;5;28;01mif\u001b[39;00m v \u001b[38;5;129;01mis\u001b[39;00m \u001b[38;5;129;01mnot\u001b[39;00m \u001b[38;5;28;01mNone\u001b[39;00m}\n\u001b[1;32m--> 208\u001b[0m \u001b[38;5;28;01masync\u001b[39;00m \u001b[38;5;28;01mfor\u001b[39;00m is_visible, message \u001b[38;5;129;01min\u001b[39;00m AgentThreadActions\u001b[38;5;241m.\u001b[39minvoke(\n\u001b[0;32m    209\u001b[0m     agent\u001b[38;5;241m=\u001b[39m\u001b[38;5;28mself\u001b[39m,\n\u001b[0;32m    210\u001b[0m     thread_id\u001b[38;5;241m=\u001b[39mthread_id,\n\u001b[0;32m    211\u001b[0m     kernel\u001b[38;5;241m=\u001b[39mkernel,\n\u001b[0;32m    212\u001b[0m     arguments\u001b[38;5;241m=\u001b[39marguments,\n\u001b[0;32m    213\u001b[0m     \u001b[38;5;241m*\u001b[39m\u001b[38;5;241m*\u001b[39mrun_level_params,  \u001b[38;5;66;03m# type: ignore\u001b[39;00m\n\u001b[0;32m    214\u001b[0m ):\n\u001b[0;32m    215\u001b[0m     \u001b[38;5;28;01mif\u001b[39;00m is_visible:\n\u001b[0;32m    216\u001b[0m         \u001b[38;5;28;01myield\u001b[39;00m message\n",
      "File \u001b[1;32mc:\\Users\\mutaza\\AppData\\Local\\miniconda3\\envs\\ai_env\\lib\\site-packages\\semantic_kernel\\agents\\azure_ai\\agent_thread_actions.py:161\u001b[0m, in \u001b[0;36mAgentThreadActions.invoke\u001b[1;34m(cls, agent, thread_id, arguments, kernel, model, instructions_override, additional_instructions, additional_messages, tools, temperature, top_p, max_prompt_tokens, max_completion_tokens, truncation_strategy, response_format, parallel_tool_calls, metadata, **kwargs)\u001b[0m\n\u001b[0;32m    158\u001b[0m \u001b[38;5;66;03m# Remove keys with None values.\u001b[39;00m\n\u001b[0;32m    159\u001b[0m run_options \u001b[38;5;241m=\u001b[39m {k: v \u001b[38;5;28;01mfor\u001b[39;00m k, v \u001b[38;5;129;01min\u001b[39;00m run_options\u001b[38;5;241m.\u001b[39mitems() \u001b[38;5;28;01mif\u001b[39;00m v \u001b[38;5;129;01mis\u001b[39;00m \u001b[38;5;129;01mnot\u001b[39;00m \u001b[38;5;28;01mNone\u001b[39;00m}\n\u001b[1;32m--> 161\u001b[0m run: ThreadRun \u001b[38;5;241m=\u001b[39m \u001b[38;5;28;01mawait\u001b[39;00m agent\u001b[38;5;241m.\u001b[39mclient\u001b[38;5;241m.\u001b[39magents\u001b[38;5;241m.\u001b[39mcreate_run(\n\u001b[0;32m    162\u001b[0m     assistant_id\u001b[38;5;241m=\u001b[39magent\u001b[38;5;241m.\u001b[39mid,\n\u001b[0;32m    163\u001b[0m     thread_id\u001b[38;5;241m=\u001b[39mthread_id,\n\u001b[0;32m    164\u001b[0m     instructions\u001b[38;5;241m=\u001b[39mmerged_instructions \u001b[38;5;129;01mor\u001b[39;00m agent\u001b[38;5;241m.\u001b[39minstructions,\n\u001b[0;32m    165\u001b[0m     tools\u001b[38;5;241m=\u001b[39mtools,\n\u001b[0;32m    166\u001b[0m     \u001b[38;5;241m*\u001b[39m\u001b[38;5;241m*\u001b[39mrun_options,\n\u001b[0;32m    167\u001b[0m )\n\u001b[0;32m    169\u001b[0m processed_step_ids \u001b[38;5;241m=\u001b[39m \u001b[38;5;28mset\u001b[39m()\n\u001b[0;32m    170\u001b[0m function_steps: \u001b[38;5;28mdict\u001b[39m[\u001b[38;5;28mstr\u001b[39m, \u001b[38;5;124m\"\u001b[39m\u001b[38;5;124mFunctionCallContent\u001b[39m\u001b[38;5;124m\"\u001b[39m] \u001b[38;5;241m=\u001b[39m {}\n",
      "File \u001b[1;32mc:\\Users\\mutaza\\AppData\\Local\\miniconda3\\envs\\ai_env\\lib\\site-packages\\azure\\core\\tracing\\decorator_async.py:125\u001b[0m, in \u001b[0;36mdistributed_trace_async.<locals>.decorator.<locals>.wrapper_use_tracer\u001b[1;34m(*args, **kwargs)\u001b[0m\n\u001b[0;32m    123\u001b[0m \u001b[38;5;28;01mfor\u001b[39;00m key, value \u001b[38;5;129;01min\u001b[39;00m func_tracing_attributes\u001b[38;5;241m.\u001b[39mitems():\n\u001b[0;32m    124\u001b[0m     span\u001b[38;5;241m.\u001b[39madd_attribute(key, value)\n\u001b[1;32m--> 125\u001b[0m \u001b[38;5;28;01mreturn\u001b[39;00m \u001b[38;5;28;01mawait\u001b[39;00m func(\u001b[38;5;241m*\u001b[39margs, \u001b[38;5;241m*\u001b[39m\u001b[38;5;241m*\u001b[39mkwargs)\n",
      "File \u001b[1;32mc:\\Users\\mutaza\\AppData\\Local\\miniconda3\\envs\\ai_env\\lib\\site-packages\\azure\\ai\\projects\\aio\\operations\\_patch.py:1492\u001b[0m, in \u001b[0;36mAgentsOperations.create_run\u001b[1;34m(self, thread_id, body, agent_id, include, model, instructions, additional_instructions, additional_messages, tools, temperature, top_p, max_prompt_tokens, max_completion_tokens, truncation_strategy, tool_choice, response_format, parallel_tool_calls, metadata, **kwargs)\u001b[0m\n\u001b[0;32m   1489\u001b[0m     response \u001b[38;5;241m=\u001b[39m \u001b[38;5;28msuper\u001b[39m()\u001b[38;5;241m.\u001b[39mcreate_run(thread_id, body, include\u001b[38;5;241m=\u001b[39minclude, content_type\u001b[38;5;241m=\u001b[39mcontent_type, \u001b[38;5;241m*\u001b[39m\u001b[38;5;241m*\u001b[39mkwargs)\n\u001b[0;32m   1491\u001b[0m \u001b[38;5;28;01melse\u001b[39;00m:\n\u001b[1;32m-> 1492\u001b[0m     \u001b[38;5;28;01mraise\u001b[39;00m \u001b[38;5;167;01mValueError\u001b[39;00m(\u001b[38;5;124m\"\u001b[39m\u001b[38;5;124mInvalid combination of arguments provided.\u001b[39m\u001b[38;5;124m\"\u001b[39m)\n\u001b[0;32m   1494\u001b[0m \u001b[38;5;28;01mreturn\u001b[39;00m \u001b[38;5;28;01mawait\u001b[39;00m response\n",
      "\u001b[1;31mValueError\u001b[0m: Invalid combination of arguments provided."
     ]
    }
   ],
   "source": [
    "results = []\n",
    "async for r in  response:\n",
    "\n",
    "    results.append(r)\n"
   ]
  },
  {
   "cell_type": "code",
   "execution_count": 38,
   "id": "90b2f31e",
   "metadata": {},
   "outputs": [
    {
     "ename": "AttributeError",
     "evalue": "'AzureAIAgent' object has no attribute 'get_response'",
     "output_type": "error",
     "traceback": [
      "\u001b[1;31m---------------------------------------------------------------------------\u001b[0m",
      "\u001b[1;31mAttributeError\u001b[0m                            Traceback (most recent call last)",
      "Cell \u001b[1;32mIn[38], line 1\u001b[0m\n\u001b[1;32m----> 1\u001b[0m response \u001b[38;5;241m=\u001b[39m \u001b[38;5;28;01mawait\u001b[39;00m agent\u001b[38;5;241m.\u001b[39mget_response(thread_id\u001b[38;5;241m=\u001b[39mthread\u001b[38;5;241m.\u001b[39mid)\n\u001b[0;32m      2\u001b[0m \u001b[38;5;28mprint\u001b[39m(\u001b[38;5;124mf\u001b[39m\u001b[38;5;124m\"\u001b[39m\u001b[38;5;124m# \u001b[39m\u001b[38;5;132;01m{\u001b[39;00mresponse\u001b[38;5;241m.\u001b[39mname\u001b[38;5;132;01m}\u001b[39;00m\u001b[38;5;124m: \u001b[39m\u001b[38;5;132;01m{\u001b[39;00mresponse\u001b[38;5;132;01m}\u001b[39;00m\u001b[38;5;124m\"\u001b[39m)\n",
      "File \u001b[1;32mc:\\Users\\mutaza\\AppData\\Local\\miniconda3\\envs\\ai_env\\lib\\site-packages\\pydantic\\main.py:891\u001b[0m, in \u001b[0;36mBaseModel.__getattr__\u001b[1;34m(self, item)\u001b[0m\n\u001b[0;32m    888\u001b[0m     \u001b[38;5;28;01mreturn\u001b[39;00m \u001b[38;5;28msuper\u001b[39m()\u001b[38;5;241m.\u001b[39m\u001b[38;5;21m__getattribute__\u001b[39m(item)  \u001b[38;5;66;03m# Raises AttributeError if appropriate\u001b[39;00m\n\u001b[0;32m    889\u001b[0m \u001b[38;5;28;01melse\u001b[39;00m:\n\u001b[0;32m    890\u001b[0m     \u001b[38;5;66;03m# this is the current error\u001b[39;00m\n\u001b[1;32m--> 891\u001b[0m     \u001b[38;5;28;01mraise\u001b[39;00m \u001b[38;5;167;01mAttributeError\u001b[39;00m(\u001b[38;5;124mf\u001b[39m\u001b[38;5;124m'\u001b[39m\u001b[38;5;132;01m{\u001b[39;00m\u001b[38;5;28mtype\u001b[39m(\u001b[38;5;28mself\u001b[39m)\u001b[38;5;241m.\u001b[39m\u001b[38;5;18m__name__\u001b[39m\u001b[38;5;132;01m!r}\u001b[39;00m\u001b[38;5;124m object has no attribute \u001b[39m\u001b[38;5;132;01m{\u001b[39;00mitem\u001b[38;5;132;01m!r}\u001b[39;00m\u001b[38;5;124m'\u001b[39m)\n",
      "\u001b[1;31mAttributeError\u001b[0m: 'AzureAIAgent' object has no attribute 'get_response'"
     ]
    }
   ],
   "source": [
    "response = await agent.get_response(thread_id=thread.id)\n",
    "print(f\"# {response.name}: {response}\")"
   ]
  },
  {
   "cell_type": "code",
   "execution_count": null,
   "id": "221cf610",
   "metadata": {},
   "outputs": [],
   "source": [
    "\n",
    "try:\n",
    "    for user_input in USER_INPUTS:\n",
    "\n",
    "        # 4. Add the user input as a chat message\n",
    "        await agent.add_chat_message(thread_id=thread.id, message=user_input)\n",
    "        print(f\"# User: '{user_input}'\")\n",
    "\n",
    "\n",
    "        # 5. Invoke the agent for the specified thread for response\n",
    "        response = await agent.get_response(thread_id=thread.id)\n",
    "        print(f\"# {response.name}: {response}\")\n",
    "\n",
    "            # Retrieve run step details to get Bing Search query link\n",
    "            # This code is not working so it is commented out\n",
    "        # runs = await client.agents.list_runs(thread_id=thread.id)\n",
    "        # print(f\"# The most recent run: '{runs}'\")\n",
    "\n",
    "        # run_id = runs['last_id']\n",
    "        # print(f\"# The most recent run_id: '{run_id}'\")\n",
    "\n",
    "\n",
    "        # run_steps = await client.agents.list_run_steps(run_id = run_id, thread_id=thread.id)\n",
    "        # for run_step in run_steps['data']:\n",
    "        #     if 'bing_search_query' in run_step:\n",
    "        #         search_query = run_step['bing_search_query']\n",
    "        #         bing_search_url = f\"https://www.bing.com/search?q={search_query.replace(' ', '+')}\"\n",
    "        #         print(f\"Bing Search URL: {bing_search_url}\")\n",
    "        # Print the captured citation URL\n",
    "        print(f\"Citation URL: {citation_url}\")\n",
    "\n",
    "\n",
    "finally:\n",
    "    # 6. Cleanup: Delete the thread and agent\n",
    "    await client.agents.delete_thread(thread.id)\n",
    "    # Do not clean up the assistant so it can be used again"
   ]
  },
  {
   "cell_type": "code",
   "execution_count": 11,
   "id": "85e30837",
   "metadata": {},
   "outputs": [
    {
     "ename": "ValueError",
     "evalue": "HTTP transport has already been closed. You may check if you're calling a function outside of the `async with` of your client creation, or if you called `await close()` on your client already.",
     "output_type": "error",
     "traceback": [
      "\u001b[1;31m---------------------------------------------------------------------------\u001b[0m",
      "\u001b[1;31mValueError\u001b[0m                                Traceback (most recent call last)",
      "Cell \u001b[1;32mIn[11], line 1\u001b[0m\n\u001b[1;32m----> 1\u001b[0m \u001b[38;5;28;01mawait\u001b[39;00m main()\n",
      "Cell \u001b[1;32mIn[9], line 2\u001b[0m, in \u001b[0;36mmain\u001b[1;34m()\u001b[0m\n\u001b[0;32m      1\u001b[0m \u001b[38;5;28;01masync\u001b[39;00m \u001b[38;5;28;01mdef\u001b[39;00m\u001b[38;5;250m \u001b[39m\u001b[38;5;21mmain\u001b[39m() \u001b[38;5;241m-\u001b[39m\u001b[38;5;241m>\u001b[39m \u001b[38;5;28;01mNone\u001b[39;00m:\n\u001b[1;32m----> 2\u001b[0m     \u001b[38;5;28;01masync\u001b[39;00m \u001b[38;5;28;01mwith\u001b[39;00m (\n\u001b[0;32m      3\u001b[0m         DefaultAzureCredential() \u001b[38;5;28;01mas\u001b[39;00m creds,\n\u001b[0;32m      4\u001b[0m         \u001b[38;5;66;03m# AzureAIAgent.create_client(credential=creds) as client,\u001b[39;00m\n\u001b[0;32m      5\u001b[0m         client\n\u001b[0;32m      6\u001b[0m     ):\n\u001b[0;32m      7\u001b[0m \n\u001b[0;32m      8\u001b[0m          \u001b[38;5;66;03m# Get your Bing connection\u001b[39;00m\n\u001b[0;32m      9\u001b[0m         bing_connection \u001b[38;5;241m=\u001b[39m \u001b[38;5;28;01mawait\u001b[39;00m client\u001b[38;5;241m.\u001b[39mconnections\u001b[38;5;241m.\u001b[39mget(\n\u001b[0;32m     10\u001b[0m                 connection_name\u001b[38;5;241m=\u001b[39mos\u001b[38;5;241m.\u001b[39mgetenv(\u001b[38;5;124m\"\u001b[39m\u001b[38;5;124mAZURE_AI_AGENT_BING_CONNECTION_NAME\u001b[39m\u001b[38;5;124m\"\u001b[39m), \n\u001b[0;32m     11\u001b[0m                 include_credentials\u001b[38;5;241m=\u001b[39m\u001b[38;5;28;01mTrue\u001b[39;00m  \u001b[38;5;66;03m# Optional. Defaults to \"False\"\u001b[39;00m\n\u001b[0;32m     12\u001b[0m         )\n\u001b[0;32m     13\u001b[0m         conn_id \u001b[38;5;241m=\u001b[39m bing_connection\u001b[38;5;241m.\u001b[39mid\n",
      "File \u001b[1;32mc:\\Users\\mutaza\\AppData\\Local\\miniconda3\\envs\\ai_env\\lib\\site-packages\\azure\\ai\\projects\\aio\\_patch.py:223\u001b[0m, in \u001b[0;36mAIProjectClient.__aenter__\u001b[1;34m(self)\u001b[0m\n\u001b[0;32m    222\u001b[0m \u001b[38;5;28;01masync\u001b[39;00m \u001b[38;5;28;01mdef\u001b[39;00m\u001b[38;5;250m \u001b[39m\u001b[38;5;21m__aenter__\u001b[39m(\u001b[38;5;28mself\u001b[39m) \u001b[38;5;241m-\u001b[39m\u001b[38;5;241m>\u001b[39m Self:\n\u001b[1;32m--> 223\u001b[0m     \u001b[38;5;28;01mawait\u001b[39;00m \u001b[38;5;28mself\u001b[39m\u001b[38;5;241m.\u001b[39m_client0\u001b[38;5;241m.\u001b[39m\u001b[38;5;21m__aenter__\u001b[39m()\n\u001b[0;32m    224\u001b[0m     \u001b[38;5;28;01mawait\u001b[39;00m \u001b[38;5;28mself\u001b[39m\u001b[38;5;241m.\u001b[39m_client1\u001b[38;5;241m.\u001b[39m\u001b[38;5;21m__aenter__\u001b[39m()\n\u001b[0;32m    225\u001b[0m     \u001b[38;5;28;01mawait\u001b[39;00m \u001b[38;5;28mself\u001b[39m\u001b[38;5;241m.\u001b[39m_client2\u001b[38;5;241m.\u001b[39m\u001b[38;5;21m__aenter__\u001b[39m()\n",
      "File \u001b[1;32mc:\\Users\\mutaza\\AppData\\Local\\miniconda3\\envs\\ai_env\\lib\\site-packages\\azure\\core\\_pipeline_client_async.py:171\u001b[0m, in \u001b[0;36mAsyncPipelineClient.__aenter__\u001b[1;34m(self)\u001b[0m\n\u001b[0;32m    168\u001b[0m \u001b[38;5;28;01masync\u001b[39;00m \u001b[38;5;28;01mdef\u001b[39;00m\u001b[38;5;250m \u001b[39m\u001b[38;5;21m__aenter__\u001b[39m(\n\u001b[0;32m    169\u001b[0m     \u001b[38;5;28mself\u001b[39m,\n\u001b[0;32m    170\u001b[0m ) \u001b[38;5;241m-\u001b[39m\u001b[38;5;241m>\u001b[39m AsyncPipelineClient[HTTPRequestType, AsyncHTTPResponseType]:\n\u001b[1;32m--> 171\u001b[0m     \u001b[38;5;28;01mawait\u001b[39;00m \u001b[38;5;28mself\u001b[39m\u001b[38;5;241m.\u001b[39m_pipeline\u001b[38;5;241m.\u001b[39m\u001b[38;5;21m__aenter__\u001b[39m()\n\u001b[0;32m    172\u001b[0m     \u001b[38;5;28;01mreturn\u001b[39;00m \u001b[38;5;28mself\u001b[39m\n",
      "File \u001b[1;32mc:\\Users\\mutaza\\AppData\\Local\\miniconda3\\envs\\ai_env\\lib\\site-packages\\azure\\core\\pipeline\\_base_async.py:165\u001b[0m, in \u001b[0;36mAsyncPipeline.__aenter__\u001b[1;34m(self)\u001b[0m\n\u001b[0;32m    164\u001b[0m \u001b[38;5;28;01masync\u001b[39;00m \u001b[38;5;28;01mdef\u001b[39;00m\u001b[38;5;250m \u001b[39m\u001b[38;5;21m__aenter__\u001b[39m(\u001b[38;5;28mself\u001b[39m) \u001b[38;5;241m-\u001b[39m\u001b[38;5;241m>\u001b[39m AsyncPipeline[HTTPRequestType, AsyncHTTPResponseType]:\n\u001b[1;32m--> 165\u001b[0m     \u001b[38;5;28;01mawait\u001b[39;00m \u001b[38;5;28mself\u001b[39m\u001b[38;5;241m.\u001b[39m_transport\u001b[38;5;241m.\u001b[39m\u001b[38;5;21m__aenter__\u001b[39m()\n\u001b[0;32m    166\u001b[0m     \u001b[38;5;28;01mreturn\u001b[39;00m \u001b[38;5;28mself\u001b[39m\n",
      "File \u001b[1;32mc:\\Users\\mutaza\\AppData\\Local\\miniconda3\\envs\\ai_env\\lib\\site-packages\\azure\\core\\pipeline\\transport\\_aiohttp.py:122\u001b[0m, in \u001b[0;36mAioHttpTransport.__aenter__\u001b[1;34m(self)\u001b[0m\n\u001b[0;32m    121\u001b[0m \u001b[38;5;28;01masync\u001b[39;00m \u001b[38;5;28;01mdef\u001b[39;00m\u001b[38;5;250m \u001b[39m\u001b[38;5;21m__aenter__\u001b[39m(\u001b[38;5;28mself\u001b[39m):\n\u001b[1;32m--> 122\u001b[0m     \u001b[38;5;28;01mawait\u001b[39;00m \u001b[38;5;28mself\u001b[39m\u001b[38;5;241m.\u001b[39mopen()\n\u001b[0;32m    123\u001b[0m     \u001b[38;5;28;01mreturn\u001b[39;00m \u001b[38;5;28mself\u001b[39m\n",
      "File \u001b[1;32mc:\\Users\\mutaza\\AppData\\Local\\miniconda3\\envs\\ai_env\\lib\\site-packages\\azure\\core\\pipeline\\transport\\_aiohttp.py:135\u001b[0m, in \u001b[0;36mAioHttpTransport.open\u001b[1;34m(self)\u001b[0m\n\u001b[0;32m    133\u001b[0m \u001b[38;5;28;01masync\u001b[39;00m \u001b[38;5;28;01mdef\u001b[39;00m\u001b[38;5;250m \u001b[39m\u001b[38;5;21mopen\u001b[39m(\u001b[38;5;28mself\u001b[39m):\n\u001b[0;32m    134\u001b[0m     \u001b[38;5;28;01mif\u001b[39;00m \u001b[38;5;28mself\u001b[39m\u001b[38;5;241m.\u001b[39m_has_been_opened \u001b[38;5;129;01mand\u001b[39;00m \u001b[38;5;129;01mnot\u001b[39;00m \u001b[38;5;28mself\u001b[39m\u001b[38;5;241m.\u001b[39msession:\n\u001b[1;32m--> 135\u001b[0m         \u001b[38;5;28;01mraise\u001b[39;00m \u001b[38;5;167;01mValueError\u001b[39;00m(\n\u001b[0;32m    136\u001b[0m             \u001b[38;5;124m\"\u001b[39m\u001b[38;5;124mHTTP transport has already been closed. \u001b[39m\u001b[38;5;124m\"\u001b[39m\n\u001b[0;32m    137\u001b[0m             \u001b[38;5;124m\"\u001b[39m\u001b[38;5;124mYou may check if you\u001b[39m\u001b[38;5;124m'\u001b[39m\u001b[38;5;124mre calling a function outside of the `async with` of your client creation, \u001b[39m\u001b[38;5;124m\"\u001b[39m\n\u001b[0;32m    138\u001b[0m             \u001b[38;5;124m\"\u001b[39m\u001b[38;5;124mor if you called `await close()` on your client already.\u001b[39m\u001b[38;5;124m\"\u001b[39m\n\u001b[0;32m    139\u001b[0m         )\n\u001b[0;32m    140\u001b[0m     \u001b[38;5;28;01mif\u001b[39;00m \u001b[38;5;129;01mnot\u001b[39;00m \u001b[38;5;28mself\u001b[39m\u001b[38;5;241m.\u001b[39msession:\n\u001b[0;32m    141\u001b[0m         \u001b[38;5;28;01mif\u001b[39;00m \u001b[38;5;28mself\u001b[39m\u001b[38;5;241m.\u001b[39m_session_owner:\n",
      "\u001b[1;31mValueError\u001b[0m: HTTP transport has already been closed. You may check if you're calling a function outside of the `async with` of your client creation, or if you called `await close()` on your client already."
     ]
    }
   ],
   "source": [
    "await main()"
   ]
  },
  {
   "cell_type": "code",
   "execution_count": null,
   "id": "485d1cc5",
   "metadata": {},
   "outputs": [],
   "source": []
  }
 ],
 "metadata": {
  "kernelspec": {
   "display_name": "ai_env",
   "language": "python",
   "name": "python3"
  },
  "language_info": {
   "codemirror_mode": {
    "name": "ipython",
    "version": 3
   },
   "file_extension": ".py",
   "mimetype": "text/x-python",
   "name": "python",
   "nbconvert_exporter": "python",
   "pygments_lexer": "ipython3",
   "version": "3.10.16"
  }
 },
 "nbformat": 4,
 "nbformat_minor": 5
}
