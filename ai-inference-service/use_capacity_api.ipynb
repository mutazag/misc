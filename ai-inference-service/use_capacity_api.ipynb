{
 "cells": [
  {
   "cell_type": "code",
   "execution_count": 1,
   "id": "681f3891",
   "metadata": {},
   "outputs": [],
   "source": [
    "from azure.identity import DefaultAzureCredential\n",
    "\n",
    "token_credential = DefaultAzureCredential()\n",
    "token = token_credential.get_token('https://management.azure.com/.default')\n",
    "headers = {'Authorization': 'Bearer ' + token.token}"
   ]
  },
  {
   "cell_type": "code",
   "execution_count": 3,
   "id": "60e422b3",
   "metadata": {},
   "outputs": [
    {
     "name": "stdout",
     "output_type": "stream",
     "text": [
      "Status Code: 200\n",
      "SUCCESS\n"
     ]
    }
   ],
   "source": [
    "import os\n",
    "import requests\n",
    "import json\n",
    "subscription_id = os.getenv(\"AZURE_SUBSCRIPTION_ID\")\n",
    "# Azure Management API endpoint\n",
    "url = f\"https://management.azure.com/subscriptions/{subscription_id}/providers/Microsoft.CognitiveServices/modelCapacities\"\n",
    "\n",
    "# Query parameters\n",
    "params = {\n",
    "    \"api-version\": \"2024-10-01\",\n",
    "    \"modelFormat\": \"OpenAI\",\n",
    "    \"modelName\": \"o3-mini\",\n",
    "    \"modelVersion\": \"2025-01-31\"\n",
    "}\n",
    "\n",
    "# You'll need to authenticate with Azure\n",
    "# This typically requires an access token from Azure AD\n",
    "headers = {\n",
    "    \"Authorization\": \"Bearer \" + token.token,\n",
    "    \"Content-Type\": \"application/json\"\n",
    "}\n",
    "\n",
    "# Make the GET request\n",
    "response = requests.get(url, headers=headers, params=params)\n",
    "\n",
    "# Print the response\n",
    "print(f\"Status Code: {response.status_code}\")\n",
    "if response.status_code == 200:\n",
    "    # print(json.dumps(response.json(), indent=4))\n",
    "    print(\"SUCCESS\")\n",
    "else:\n",
    "    print(f\"Error: {response.text}\")"
   ]
  },
  {
   "cell_type": "code",
   "execution_count": 5,
   "id": "c3104516",
   "metadata": {},
   "outputs": [],
   "source": [
    "import pandas as pd\n",
    "\n",
    "# Get the JSON data from the response\n",
    "data = response.json()\n",
    "\n",
    "# Extract the value list from the JSON response\n",
    "values = data.get('value', [])\n",
    "\n",
    "# Create a DataFrame from the values list\n",
    "if values:\n",
    "    # Flatten the nested JSON structure if needed\n",
    "    df = pd.json_normalize(values)\n",
    "    # Display the DataFrame as a table\n",
    "    # display(df)\n",
    "else:\n",
    "    print(\"No values found in the response\")"
   ]
  },
  {
   "cell_type": "code",
   "execution_count": 6,
   "id": "2c203d99",
   "metadata": {},
   "outputs": [
    {
     "data": {
      "text/plain": [
       "Index(['id', 'type', 'name', 'location', 'properties.model.format',\n",
       "       'properties.model.name', 'properties.model.version',\n",
       "       'properties.skuName', 'properties.availableCapacity'],\n",
       "      dtype='object')"
      ]
     },
     "execution_count": 6,
     "metadata": {},
     "output_type": "execute_result"
    }
   ],
   "source": [
    "df.columns"
   ]
  },
  {
   "cell_type": "code",
   "execution_count": 7,
   "id": "ab45af85",
   "metadata": {},
   "outputs": [
    {
     "data": {
      "application/vnd.microsoft.datawrangler.viewer.v0+json": {
       "columns": [
        {
         "name": "index",
         "rawType": "int64",
         "type": "integer"
        },
        {
         "name": "name",
         "rawType": "object",
         "type": "string"
        },
        {
         "name": "location",
         "rawType": "object",
         "type": "string"
        },
        {
         "name": "properties.model.name",
         "rawType": "object",
         "type": "string"
        },
        {
         "name": "properties.model.version",
         "rawType": "object",
         "type": "string"
        },
        {
         "name": "properties.skuName",
         "rawType": "object",
         "type": "string"
        },
        {
         "name": "properties.availableCapacity",
         "rawType": "int64",
         "type": "integer"
        }
       ],
       "conversionMethod": "pd.DataFrame",
       "ref": "f34f0bdd-7037-4d0e-85e6-436d52749106",
       "rows": [
        [
         "0",
         "GlobalStandard",
         "australiaeast",
         "o3-mini",
         "2025-01-31",
         "GlobalStandard",
         "500"
        ],
        [
         "1",
         "ProvisionedManaged",
         "australiaeast",
         "o3-mini",
         "2025-01-31",
         "ProvisionedManaged",
         "360"
        ],
        [
         "2",
         "GlobalProvisionedManaged",
         "australiaeast",
         "o3-mini",
         "2025-01-31",
         "GlobalProvisionedManaged",
         "0"
        ],
        [
         "3",
         "GlobalStandard",
         "brazilsouth",
         "o3-mini",
         "2025-01-31",
         "GlobalStandard",
         "500"
        ],
        [
         "4",
         "GlobalProvisionedManaged",
         "brazilsouth",
         "o3-mini",
         "2025-01-31",
         "GlobalProvisionedManaged",
         "0"
        ],
        [
         "5",
         "GlobalStandard",
         "westus",
         "o3-mini",
         "2025-01-31",
         "GlobalStandard",
         "500"
        ],
        [
         "6",
         "DataZoneBatch",
         "westus",
         "o3-mini",
         "2025-01-31",
         "DataZoneBatch",
         "100000"
        ],
        [
         "7",
         "DataZoneStandard",
         "westus",
         "o3-mini",
         "2025-01-31",
         "DataZoneStandard",
         "200"
        ],
        [
         "8",
         "GlobalProvisionedManaged",
         "westus",
         "o3-mini",
         "2025-01-31",
         "GlobalProvisionedManaged",
         "0"
        ],
        [
         "9",
         "DataZoneProvisionedManaged",
         "westus",
         "o3-mini",
         "2025-01-31",
         "DataZoneProvisionedManaged",
         "0"
        ],
        [
         "10",
         "GlobalStandard",
         "westeurope",
         "o3-mini",
         "2025-01-31",
         "GlobalStandard",
         "500"
        ],
        [
         "11",
         "DataZoneStandard",
         "westeurope",
         "o3-mini",
         "2025-01-31",
         "DataZoneStandard",
         "200"
        ],
        [
         "12",
         "GlobalProvisionedManaged",
         "westeurope",
         "o3-mini",
         "2025-01-31",
         "GlobalProvisionedManaged",
         "0"
        ],
        [
         "13",
         "DataZoneProvisionedManaged",
         "westeurope",
         "o3-mini",
         "2025-01-31",
         "DataZoneProvisionedManaged",
         "0"
        ],
        [
         "14",
         "GlobalProvisionedManaged",
         "southeastasia",
         "o3-mini",
         "2025-01-31",
         "GlobalProvisionedManaged",
         "0"
        ],
        [
         "15",
         "GlobalStandard",
         "southcentralus",
         "o3-mini",
         "2025-01-31",
         "GlobalStandard",
         "500"
        ],
        [
         "16",
         "DataZoneBatch",
         "southcentralus",
         "o3-mini",
         "2025-01-31",
         "DataZoneBatch",
         "100000"
        ],
        [
         "17",
         "DataZoneStandard",
         "southcentralus",
         "o3-mini",
         "2025-01-31",
         "DataZoneStandard",
         "200"
        ],
        [
         "18",
         "GlobalProvisionedManaged",
         "southcentralus",
         "o3-mini",
         "2025-01-31",
         "GlobalProvisionedManaged",
         "0"
        ],
        [
         "19",
         "DataZoneProvisionedManaged",
         "southcentralus",
         "o3-mini",
         "2025-01-31",
         "DataZoneProvisionedManaged",
         "0"
        ],
        [
         "20",
         "GlobalStandard",
         "eastus",
         "o3-mini",
         "2025-01-31",
         "GlobalStandard",
         "500"
        ],
        [
         "21",
         "GlobalBatch",
         "eastus",
         "o3-mini",
         "2025-01-31",
         "GlobalBatch",
         "1000000"
        ],
        [
         "22",
         "DataZoneBatch",
         "eastus",
         "o3-mini",
         "2025-01-31",
         "DataZoneBatch",
         "100000"
        ],
        [
         "23",
         "DataZoneStandard",
         "eastus",
         "o3-mini",
         "2025-01-31",
         "DataZoneStandard",
         "200"
        ],
        [
         "24",
         "GlobalProvisionedManaged",
         "eastus",
         "o3-mini",
         "2025-01-31",
         "GlobalProvisionedManaged",
         "0"
        ],
        [
         "25",
         "DataZoneProvisionedManaged",
         "eastus",
         "o3-mini",
         "2025-01-31",
         "DataZoneProvisionedManaged",
         "0"
        ],
        [
         "26",
         "GlobalStandard",
         "eastus2",
         "o3-mini",
         "2025-01-31",
         "GlobalStandard",
         "300"
        ],
        [
         "27",
         "GlobalBatch",
         "eastus2",
         "o3-mini",
         "2025-01-31",
         "GlobalBatch",
         "1000000"
        ],
        [
         "28",
         "DataZoneBatch",
         "eastus2",
         "o3-mini",
         "2025-01-31",
         "DataZoneBatch",
         "100000"
        ],
        [
         "29",
         "DataZoneStandard",
         "eastus2",
         "o3-mini",
         "2025-01-31",
         "DataZoneStandard",
         "200"
        ],
        [
         "30",
         "GlobalProvisionedManaged",
         "eastus2",
         "o3-mini",
         "2025-01-31",
         "GlobalProvisionedManaged",
         "0"
        ],
        [
         "31",
         "DataZoneProvisionedManaged",
         "eastus2",
         "o3-mini",
         "2025-01-31",
         "DataZoneProvisionedManaged",
         "0"
        ],
        [
         "32",
         "GlobalProvisionedManaged",
         "canadacentral",
         "o3-mini",
         "2025-01-31",
         "GlobalProvisionedManaged",
         "0"
        ],
        [
         "33",
         "GlobalStandard",
         "japaneast",
         "o3-mini",
         "2025-01-31",
         "GlobalStandard",
         "500"
        ],
        [
         "34",
         "ProvisionedManaged",
         "japaneast",
         "o3-mini",
         "2025-01-31",
         "ProvisionedManaged",
         "720"
        ],
        [
         "35",
         "GlobalProvisionedManaged",
         "japaneast",
         "o3-mini",
         "2025-01-31",
         "GlobalProvisionedManaged",
         "0"
        ],
        [
         "36",
         "GlobalStandard",
         "uksouth",
         "o3-mini",
         "2025-01-31",
         "GlobalStandard",
         "500"
        ],
        [
         "37",
         "GlobalProvisionedManaged",
         "uksouth",
         "o3-mini",
         "2025-01-31",
         "GlobalProvisionedManaged",
         "0"
        ],
        [
         "38",
         "GlobalProvisionedManaged",
         "japanwest",
         "o3-mini",
         "2025-01-31",
         "GlobalProvisionedManaged",
         "0"
        ],
        [
         "39",
         "GlobalStandard",
         "koreacentral",
         "o3-mini",
         "2025-01-31",
         "GlobalStandard",
         "500"
        ],
        [
         "40",
         "GlobalProvisionedManaged",
         "koreacentral",
         "o3-mini",
         "2025-01-31",
         "GlobalProvisionedManaged",
         "0"
        ],
        [
         "41",
         "GlobalStandard",
         "francecentral",
         "o3-mini",
         "2025-01-31",
         "GlobalStandard",
         "500"
        ],
        [
         "42",
         "DataZoneStandard",
         "francecentral",
         "o3-mini",
         "2025-01-31",
         "DataZoneStandard",
         "200"
        ],
        [
         "43",
         "GlobalProvisionedManaged",
         "francecentral",
         "o3-mini",
         "2025-01-31",
         "GlobalProvisionedManaged",
         "0"
        ],
        [
         "44",
         "DataZoneProvisionedManaged",
         "francecentral",
         "o3-mini",
         "2025-01-31",
         "DataZoneProvisionedManaged",
         "0"
        ],
        [
         "45",
         "GlobalStandard",
         "northcentralus",
         "o3-mini",
         "2025-01-31",
         "GlobalStandard",
         "500"
        ],
        [
         "46",
         "DataZoneBatch",
         "northcentralus",
         "o3-mini",
         "2025-01-31",
         "DataZoneBatch",
         "100000"
        ],
        [
         "47",
         "DataZoneStandard",
         "northcentralus",
         "o3-mini",
         "2025-01-31",
         "DataZoneStandard",
         "200"
        ],
        [
         "48",
         "GlobalProvisionedManaged",
         "northcentralus",
         "o3-mini",
         "2025-01-31",
         "GlobalProvisionedManaged",
         "0"
        ],
        [
         "49",
         "DataZoneProvisionedManaged",
         "northcentralus",
         "o3-mini",
         "2025-01-31",
         "DataZoneProvisionedManaged",
         "0"
        ]
       ],
       "shape": {
        "columns": 6,
        "rows": 90
       }
      },
      "text/html": [
       "<div>\n",
       "<style scoped>\n",
       "    .dataframe tbody tr th:only-of-type {\n",
       "        vertical-align: middle;\n",
       "    }\n",
       "\n",
       "    .dataframe tbody tr th {\n",
       "        vertical-align: top;\n",
       "    }\n",
       "\n",
       "    .dataframe thead th {\n",
       "        text-align: right;\n",
       "    }\n",
       "</style>\n",
       "<table border=\"1\" class=\"dataframe\">\n",
       "  <thead>\n",
       "    <tr style=\"text-align: right;\">\n",
       "      <th></th>\n",
       "      <th>name</th>\n",
       "      <th>location</th>\n",
       "      <th>properties.model.name</th>\n",
       "      <th>properties.model.version</th>\n",
       "      <th>properties.skuName</th>\n",
       "      <th>properties.availableCapacity</th>\n",
       "    </tr>\n",
       "  </thead>\n",
       "  <tbody>\n",
       "    <tr>\n",
       "      <th>0</th>\n",
       "      <td>GlobalStandard</td>\n",
       "      <td>australiaeast</td>\n",
       "      <td>o3-mini</td>\n",
       "      <td>2025-01-31</td>\n",
       "      <td>GlobalStandard</td>\n",
       "      <td>500</td>\n",
       "    </tr>\n",
       "    <tr>\n",
       "      <th>1</th>\n",
       "      <td>ProvisionedManaged</td>\n",
       "      <td>australiaeast</td>\n",
       "      <td>o3-mini</td>\n",
       "      <td>2025-01-31</td>\n",
       "      <td>ProvisionedManaged</td>\n",
       "      <td>360</td>\n",
       "    </tr>\n",
       "    <tr>\n",
       "      <th>2</th>\n",
       "      <td>GlobalProvisionedManaged</td>\n",
       "      <td>australiaeast</td>\n",
       "      <td>o3-mini</td>\n",
       "      <td>2025-01-31</td>\n",
       "      <td>GlobalProvisionedManaged</td>\n",
       "      <td>0</td>\n",
       "    </tr>\n",
       "    <tr>\n",
       "      <th>3</th>\n",
       "      <td>GlobalStandard</td>\n",
       "      <td>brazilsouth</td>\n",
       "      <td>o3-mini</td>\n",
       "      <td>2025-01-31</td>\n",
       "      <td>GlobalStandard</td>\n",
       "      <td>500</td>\n",
       "    </tr>\n",
       "    <tr>\n",
       "      <th>4</th>\n",
       "      <td>GlobalProvisionedManaged</td>\n",
       "      <td>brazilsouth</td>\n",
       "      <td>o3-mini</td>\n",
       "      <td>2025-01-31</td>\n",
       "      <td>GlobalProvisionedManaged</td>\n",
       "      <td>0</td>\n",
       "    </tr>\n",
       "    <tr>\n",
       "      <th>...</th>\n",
       "      <td>...</td>\n",
       "      <td>...</td>\n",
       "      <td>...</td>\n",
       "      <td>...</td>\n",
       "      <td>...</td>\n",
       "      <td>...</td>\n",
       "    </tr>\n",
       "    <tr>\n",
       "      <th>85</th>\n",
       "      <td>GlobalProvisionedManaged</td>\n",
       "      <td>italynorth</td>\n",
       "      <td>o3-mini</td>\n",
       "      <td>2025-01-31</td>\n",
       "      <td>GlobalProvisionedManaged</td>\n",
       "      <td>0</td>\n",
       "    </tr>\n",
       "    <tr>\n",
       "      <th>86</th>\n",
       "      <td>GlobalStandard</td>\n",
       "      <td>spaincentral</td>\n",
       "      <td>o3-mini</td>\n",
       "      <td>2025-01-31</td>\n",
       "      <td>GlobalStandard</td>\n",
       "      <td>500</td>\n",
       "    </tr>\n",
       "    <tr>\n",
       "      <th>87</th>\n",
       "      <td>DataZoneStandard</td>\n",
       "      <td>spaincentral</td>\n",
       "      <td>o3-mini</td>\n",
       "      <td>2025-01-31</td>\n",
       "      <td>DataZoneStandard</td>\n",
       "      <td>200</td>\n",
       "    </tr>\n",
       "    <tr>\n",
       "      <th>88</th>\n",
       "      <td>GlobalProvisionedManaged</td>\n",
       "      <td>spaincentral</td>\n",
       "      <td>o3-mini</td>\n",
       "      <td>2025-01-31</td>\n",
       "      <td>GlobalProvisionedManaged</td>\n",
       "      <td>0</td>\n",
       "    </tr>\n",
       "    <tr>\n",
       "      <th>89</th>\n",
       "      <td>DataZoneProvisionedManaged</td>\n",
       "      <td>spaincentral</td>\n",
       "      <td>o3-mini</td>\n",
       "      <td>2025-01-31</td>\n",
       "      <td>DataZoneProvisionedManaged</td>\n",
       "      <td>0</td>\n",
       "    </tr>\n",
       "  </tbody>\n",
       "</table>\n",
       "<p>90 rows × 6 columns</p>\n",
       "</div>"
      ],
      "text/plain": [
       "                          name       location properties.model.name  \\\n",
       "0               GlobalStandard  australiaeast               o3-mini   \n",
       "1           ProvisionedManaged  australiaeast               o3-mini   \n",
       "2     GlobalProvisionedManaged  australiaeast               o3-mini   \n",
       "3               GlobalStandard    brazilsouth               o3-mini   \n",
       "4     GlobalProvisionedManaged    brazilsouth               o3-mini   \n",
       "..                         ...            ...                   ...   \n",
       "85    GlobalProvisionedManaged     italynorth               o3-mini   \n",
       "86              GlobalStandard   spaincentral               o3-mini   \n",
       "87            DataZoneStandard   spaincentral               o3-mini   \n",
       "88    GlobalProvisionedManaged   spaincentral               o3-mini   \n",
       "89  DataZoneProvisionedManaged   spaincentral               o3-mini   \n",
       "\n",
       "   properties.model.version          properties.skuName  \\\n",
       "0                2025-01-31              GlobalStandard   \n",
       "1                2025-01-31          ProvisionedManaged   \n",
       "2                2025-01-31    GlobalProvisionedManaged   \n",
       "3                2025-01-31              GlobalStandard   \n",
       "4                2025-01-31    GlobalProvisionedManaged   \n",
       "..                      ...                         ...   \n",
       "85               2025-01-31    GlobalProvisionedManaged   \n",
       "86               2025-01-31              GlobalStandard   \n",
       "87               2025-01-31            DataZoneStandard   \n",
       "88               2025-01-31    GlobalProvisionedManaged   \n",
       "89               2025-01-31  DataZoneProvisionedManaged   \n",
       "\n",
       "    properties.availableCapacity  \n",
       "0                            500  \n",
       "1                            360  \n",
       "2                              0  \n",
       "3                            500  \n",
       "4                              0  \n",
       "..                           ...  \n",
       "85                             0  \n",
       "86                           500  \n",
       "87                           200  \n",
       "88                             0  \n",
       "89                             0  \n",
       "\n",
       "[90 rows x 6 columns]"
      ]
     },
     "metadata": {},
     "output_type": "display_data"
    }
   ],
   "source": [
    "# Display selected columns from the dataframe\n",
    "display(df[['name', 'location', 'properties.model.name', 'properties.model.version',\n",
    "           'properties.skuName', 'properties.availableCapacity']])"
   ]
  },
  {
   "cell_type": "code",
   "execution_count": 8,
   "id": "64e26870",
   "metadata": {},
   "outputs": [
    {
     "data": {
      "application/vnd.jupyter.widget-view+json": {
       "model_id": "d1435f8147a843a4ad73830a9e4f2c93",
       "version_major": 2,
       "version_minor": 0
      },
      "text/plain": [
       "Dropdown(description='Location:', layout=Layout(width='300px'), options=('australiaeast', 'brazilsouth', 'cana…"
      ]
     },
     "metadata": {},
     "output_type": "display_data"
    },
    {
     "data": {
      "application/vnd.jupyter.widget-view+json": {
       "model_id": "346b70e6052d4469ab5eea74d22fd191",
       "version_major": 2,
       "version_minor": 0
      },
      "text/plain": [
       "Output()"
      ]
     },
     "metadata": {},
     "output_type": "display_data"
    }
   ],
   "source": [
    "import ipywidgets as widgets\n",
    "from IPython.display import display, HTML\n",
    "\n",
    "# Get unique locations from the dataframe\n",
    "locations = sorted(df['location'].unique())\n",
    "\n",
    "# Create a dropdown widget\n",
    "location_dropdown = widgets.Dropdown(\n",
    "    options=locations,\n",
    "    description='Location:',\n",
    "    style={'description_width': 'initial'},\n",
    "    layout=widgets.Layout(width='300px')\n",
    ")\n",
    "\n",
    "# Create a function to filter the data\n",
    "def filter_by_location(location):\n",
    "    filtered_df = df[df['location'] == location]\n",
    "    display(HTML(f\"<h3>Model capacity in {location}</h3>\"))\n",
    "    display(HTML(\"<h4>Model Name: o3-mini</h4>\"))\n",
    "    display(filtered_df[['properties.model.name','name', 'properties.skuName', 'properties.availableCapacity']])\n",
    "\n",
    "# Create an interactive output\n",
    "output = widgets.Output()\n",
    "\n",
    "# Define what happens when the dropdown value changes\n",
    "def on_location_change(change):\n",
    "    with output:\n",
    "        output.clear_output()\n",
    "        filter_by_location(change.new)\n",
    "\n",
    "location_dropdown.observe(on_location_change, names='value')\n",
    "\n",
    "# Display the widget and initial output\n",
    "display(location_dropdown)\n",
    "display(output)\n",
    "\n",
    "# Show initial data for the first location\n",
    "with output:\n",
    "    filter_by_location(locations[0])"
   ]
  },
  {
   "cell_type": "code",
   "execution_count": null,
   "id": "a7c8cad1",
   "metadata": {},
   "outputs": [],
   "source": []
  }
 ],
 "metadata": {
  "kernelspec": {
   "display_name": "ai_env",
   "language": "python",
   "name": "python3"
  },
  "language_info": {
   "codemirror_mode": {
    "name": "ipython",
    "version": 3
   },
   "file_extension": ".py",
   "mimetype": "text/x-python",
   "name": "python",
   "nbconvert_exporter": "python",
   "pygments_lexer": "ipython3",
   "version": "3.10.16"
  }
 },
 "nbformat": 4,
 "nbformat_minor": 5
}
