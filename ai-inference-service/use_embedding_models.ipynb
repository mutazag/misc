{
 "cells": [
  {
   "cell_type": "code",
   "execution_count": 22,
   "id": "b6f09463",
   "metadata": {},
   "outputs": [],
   "source": [
    "import os\n",
    "import numpy as np\n",
    "\n",
    "\n",
    "from azure.ai.inference import EmbeddingsClient\n",
    "from azure.core.credentials import AzureKeyCredential\n"
   ]
  },
  {
   "cell_type": "code",
   "execution_count": null,
   "id": "9e7f17a5",
   "metadata": {},
   "outputs": [],
   "source": [
    "\n",
    "endpoint = \"https://models.inference.ai.azure.com\"\n",
    "token = os.environ[\"GITHUB_TOKEN\"]\n",
    "\n",
    "embedding_models = [\n",
    "    \"text-embedding-3-small\",\n",
    "    \"text-embedding-3-large\",\n",
    "    \"Cohere-embed-v3-english\",\n",
    "    \"Cohere-embed-v3-multilingual\",\n",
    "]"
   ]
  },
  {
   "cell_type": "code",
   "execution_count": 5,
   "id": "1aa30584",
   "metadata": {},
   "outputs": [
    {
     "data": {
      "application/vnd.jupyter.widget-view+json": {
       "model_id": "41ab61cbd7c347f7968cd33b99583e3e",
       "version_major": 2,
       "version_minor": 0
      },
      "text/plain": [
       "Dropdown(description='Select:', options=('text-embedding-3-small', 'text-embedding-3-large', 'Cohere-embed-v3-…"
      ]
     },
     "metadata": {},
     "output_type": "display_data"
    }
   ],
   "source": [
    "# Import Required Libraries\n",
    "import ipywidgets as widgets\n",
    "from IPython.display import display\n",
    "\n",
    "# Example of creating a simple dropdown widget\n",
    "dropdown = widgets.Dropdown(\n",
    "    options=embedding_models,\n",
    "    value=embedding_models[0],\n",
    "    description='Select:',\n",
    ")\n",
    "\n",
    "# Display the dropdown widget\n",
    "display(dropdown)"
   ]
  },
  {
   "cell_type": "code",
   "execution_count": 15,
   "id": "e5f8311f",
   "metadata": {},
   "outputs": [
    {
     "name": "stdout",
     "output_type": "stream",
     "text": [
      "Cohere-embed-v3-multilingual\n"
     ]
    }
   ],
   "source": [
    "selected_model = dropdown.value\n",
    "print(selected_model)"
   ]
  },
  {
   "cell_type": "code",
   "execution_count": 12,
   "id": "7cce2347",
   "metadata": {},
   "outputs": [],
   "source": [
    "client = EmbeddingsClient(\n",
    "    endpoint=endpoint,\n",
    "    credential=AzureKeyCredential(token)\n",
    ")\n"
   ]
  },
  {
   "cell_type": "code",
   "execution_count": 13,
   "id": "7057dc4a",
   "metadata": {},
   "outputs": [],
   "source": [
    "response = client.embed(\n",
    "    input=[\"first phrase\", \"second phrase\", \"third phrase\"],\n",
    "    model=selected_model\n",
    ")\n"
   ]
  },
  {
   "cell_type": "code",
   "execution_count": 14,
   "id": "e3cd0c97",
   "metadata": {},
   "outputs": [
    {
     "name": "stdout",
     "output_type": "stream",
     "text": [
      "data[0]: length=1024, [0.0013399124, -0.01576233, ..., 0.007843018, 0.000238657]\n",
      "data[1]: length=1024, [0.036590576, -0.0059547424, ..., 0.011405945, 0.004863739]\n",
      "data[2]: length=1024, [0.04196167, 0.029083252, ..., -0.0027484894, 0.0073127747]\n",
      "{'prompt_tokens': 6, 'completion_tokens': 0, 'total_tokens': 6}\n"
     ]
    }
   ],
   "source": [
    "\n",
    "for item in response.data:\n",
    "    length = len(item.embedding)\n",
    "    print(\n",
    "        f\"data[{item.index}]: length={length}, \"\n",
    "        f\"[{item.embedding[0]}, {item.embedding[1]}, \"\n",
    "        f\"..., {item.embedding[length-2]}, {item.embedding[length-1]}]\"\n",
    "    )\n",
    "print(response.usage)"
   ]
  },
  {
   "cell_type": "markdown",
   "id": "8f00989a",
   "metadata": {},
   "source": [
    "# Embeddings and Similarity"
   ]
  },
  {
   "cell_type": "code",
   "execution_count": null,
   "id": "eff5b771",
   "metadata": {},
   "outputs": [],
   "source": []
  },
  {
   "cell_type": "code",
   "execution_count": 29,
   "id": "f238b6e7",
   "metadata": {},
   "outputs": [],
   "source": [
    "def embed_and_compare_similarity(input_msgs,selected_model):\n",
    "\n",
    "    response = client.embed(\n",
    "        input=input_msgs,\n",
    "        model=selected_model\n",
    "    )\n",
    "\n",
    "\n",
    "    for item in response.data:\n",
    "        length = len(item.embedding)\n",
    "        print(\n",
    "            f\"data[{item.index}]: length={length}, \"\n",
    "            f\"[{item.embedding[0]}, {item.embedding[1]}, \"\n",
    "            f\"..., {item.embedding[length-2]}, {item.embedding[length-1]}]\"\n",
    "        )\n",
    "    print(response.usage)\n",
    "\n",
    "    embedding_a = response.data[0].embedding\n",
    "    embedding_b = response.data[1].embedding\n",
    "\n",
    "    similarity_score = np.dot(embedding_a, embedding_b)\n",
    "    print(f\"Similarity Score: {similarity_score:.4f}\")"
   ]
  },
  {
   "cell_type": "code",
   "execution_count": 30,
   "id": "d58f202a",
   "metadata": {},
   "outputs": [
    {
     "name": "stdout",
     "output_type": "stream",
     "text": [
      "data[0]: length=1024, [0.029876709, 0.050628662, ..., 0.010917664, -0.043762207]\n",
      "data[1]: length=1024, [-0.0034561157, 0.022415161, ..., -0.0045433044, -0.054626465]\n",
      "{'prompt_tokens': 4, 'completion_tokens': 0, 'total_tokens': 4}\n",
      "Similarity Score: 0.8547\n"
     ]
    }
   ],
   "source": [
    "embed_and_compare_similarity(\n",
    "    input_msgs=[\"first phrase\", \"second phrase\"],\n",
    "    selected_model=selected_model\n",
    ")"
   ]
  },
  {
   "cell_type": "code",
   "execution_count": null,
   "id": "7c07053e",
   "metadata": {},
   "outputs": [
    {
     "name": "stdout",
     "output_type": "stream",
     "text": [
      "data[0]: length=1024, [-0.0071868896, -0.009231567, ..., 0.027679443, 0.0026359558]\n",
      "data[1]: length=1024, [0.034942627, 0.016296387, ..., 0.070129395, -0.06185913]\n",
      "{'prompt_tokens': 15, 'completion_tokens': 0, 'total_tokens': 15}\n",
      "Similarity Score: 0.3837\n"
     ]
    }
   ],
   "source": [
    "embed_and_compare_similarity(\n",
    "    [\n",
    "        'Azure OpenAI is a cloud-based AI platform.',\n",
    "        'The Eiffel Tower.'\n",
    "    ],\n",
    "    selected_model\n",
    ")"
   ]
  },
  {
   "cell_type": "code",
   "execution_count": null,
   "id": "46a65620",
   "metadata": {},
   "outputs": [
    {
     "name": "stdout",
     "output_type": "stream",
     "text": [
      "data[0]: length=1024, [0.044952393, 0.064575195, ..., -0.019424438, -0.04840088]\n",
      "data[1]: length=1024, [0.034942627, 0.016296387, ..., 0.070129395, -0.06185913]\n",
      "{'prompt_tokens': 10, 'completion_tokens': 0, 'total_tokens': 10}\n",
      "Similarity Score: 0.6571\n"
     ]
    }
   ],
   "source": [
    "embed_and_compare_similarity(\n",
    "    [\n",
    "        'The Sydney Harbour Bridge.',\n",
    "        'The Eiffel Tower.'\n",
    "    ],\n",
    "    selected_model\n",
    ")"
   ]
  },
  {
   "cell_type": "code",
   "execution_count": null,
   "id": "2ec099f4",
   "metadata": {},
   "outputs": [],
   "source": []
  }
 ],
 "metadata": {
  "kernelspec": {
   "display_name": "ai_env",
   "language": "python",
   "name": "python3"
  },
  "language_info": {
   "codemirror_mode": {
    "name": "ipython",
    "version": 3
   },
   "file_extension": ".py",
   "mimetype": "text/x-python",
   "name": "python",
   "nbconvert_exporter": "python",
   "pygments_lexer": "ipython3",
   "version": "3.10.16"
  }
 },
 "nbformat": 4,
 "nbformat_minor": 5
}
