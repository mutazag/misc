{
 "cells": [
  {
   "cell_type": "code",
   "execution_count": null,
   "id": "3d1042d4",
   "metadata": {},
   "outputs": [],
   "source": [
    "import json\n",
    "import requests\n",
    "from geopy.geocoders import Nominatim\n",
    "import requests"
   ]
  },
  {
   "cell_type": "code",
   "execution_count": 18,
   "id": "feb28e23",
   "metadata": {},
   "outputs": [],
   "source": [
    "def get_coordinates(location):\n",
    "    \"\"\"Get the coordinates of a location using Nominatim.\"\"\"\n",
    "    geolocator = Nominatim(user_agent=\"my_user_agent\")\n",
    "    location = geolocator.geocode(location)\n",
    "    return (location.latitude, location.longitude) if location else None\n",
    "\n",
    "\n",
    "\n",
    "\n",
    "def get_weather(latitude, longitude, temperature_unit='celsius'):\n",
    "    response = requests.get(f\"https://api.open-meteo.com/v1/forecast?latitude={latitude}&longitude={longitude}&temperature_unit{temperature_unit}&current=temperature_2m,wind_speed_10m&hourly=temperature_2m,relative_humidity_2m,wind_speed_10m\")\n",
    "    data = response.json()\n",
    "    # print(json.dumps(data, indent=4))\n",
    "    return data['current']['temperature_2m']"
   ]
  },
  {
   "cell_type": "code",
   "execution_count": 16,
   "id": "57872709",
   "metadata": {},
   "outputs": [
    {
     "name": "stdout",
     "output_type": "stream",
     "text": [
      "Coordinates for Sydney: -33.8698439, 151.2082848\n"
     ]
    }
   ],
   "source": [
    "# enter place name using jupyter notebook input with default value set to sydney\n",
    "place_name = input(\"Enter place name (default: Sydney): \") or \"Sydney\"\n",
    "long, lat =get_coordinates(place_name)\n",
    "print(f\"Coordinates for {place_name}: {long}, {lat}\")"
   ]
  },
  {
   "cell_type": "code",
   "execution_count": 19,
   "id": "aaec6df6",
   "metadata": {},
   "outputs": [
    {
     "data": {
      "text/plain": [
       "23.1"
      ]
     },
     "execution_count": 19,
     "metadata": {},
     "output_type": "execute_result"
    }
   ],
   "source": [
    "get_weather(long, lat)\n"
   ]
  },
  {
   "cell_type": "code",
   "execution_count": null,
   "id": "b18c17c9",
   "metadata": {},
   "outputs": [],
   "source": []
  }
 ],
 "metadata": {
  "kernelspec": {
   "display_name": ".venv",
   "language": "python",
   "name": "python3"
  },
  "language_info": {
   "codemirror_mode": {
    "name": "ipython",
    "version": 3
   },
   "file_extension": ".py",
   "mimetype": "text/x-python",
   "name": "python",
   "nbconvert_exporter": "python",
   "pygments_lexer": "ipython3",
   "version": "3.13.2"
  }
 },
 "nbformat": 4,
 "nbformat_minor": 5
}
