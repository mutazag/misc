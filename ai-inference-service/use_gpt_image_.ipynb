{
 "cells": [
  {
   "cell_type": "code",
   "execution_count": null,
   "id": "f1300cd7",
   "metadata": {},
   "outputs": [],
   "source": [
    "import os"
   ]
  },
  {
   "cell_type": "code",
   "execution_count": null,
   "id": "79416c20",
   "metadata": {},
   "outputs": [],
   "source": [
    "print(os.environ.get('AZURE_OPENAI_GPT_IMAGE_API', 'default_value'))"
   ]
  },
  {
   "cell_type": "code",
   "execution_count": null,
   "id": "99fe245e",
   "metadata": {},
   "outputs": [],
   "source": [
    "print(os.environ.get('AZURE_OPENAI_GPT_IMAGE_KEY', 'default_value'))"
   ]
  },
  {
   "cell_type": "code",
   "execution_count": null,
   "id": "d1467dc4",
   "metadata": {},
   "outputs": [],
   "source": [
    "import base64\n",
    "from openai import OpenAI, AzureOpenAI\n",
    "\n",
    "\n",
    "client = AzureOpenAI(\n",
    "    azure_endpoint=os.environ.get('AZURE_OPENAI_GPT_IMAGE_API', 'default_value'),\n",
    "    api_version=\"2025-04-01-preview\",\n",
    "    api_key=os.environ.get('AZURE_OPENAI_GPT_IMAGE_KEY', 'default_value'),\n",
    ")\n",
    "\n"
   ]
  },
  {
   "cell_type": "code",
   "execution_count": null,
   "id": "49ceac0d",
   "metadata": {},
   "outputs": [],
   "source": [
    "resp = client.chat.completions.create(\n",
    "    model=\"gpt-4o\",\n",
    "    messages=[{\"role\": \"user\", \"content\": \"Hello, how are you?\"}],)\n",
    "\n",
    "\n",
    "print(resp.choices[0].message.content)"
   ]
  },
  {
   "cell_type": "code",
   "execution_count": null,
   "id": "e0e5b03e",
   "metadata": {},
   "outputs": [],
   "source": [
    "prompt = \"\"\"Create an image.\n",
    "Create a toy of the person .\n",
    "Let it be an action figure wearing dark blue jeans and black shoes.\n",
    "Next to the figure, there should be the toy's equipment, seven of them each in its individual blisters:\n",
    "\n",
    "Logo of the company \"Optus\" in the middle of the box\n",
    "\n",
    "A Surface laptop\n",
    "\n",
    "Black Samsung S22 phone\n",
    "\n",
    "A grey suitcase with the words \"AI GBB\"\n",
    "\n",
    "A coffee mug with \"Yes\" written on it in bin optus style\n",
    "\n",
    "A BMW R 1250 GSA Rallye motorcycle\n",
    "\n",
    "Don't repeat the equipment under any circumstance. The card holding the blister\n",
    "should be light green. Also, on top of the box, write 'Mutaz Abu Ghazaleh', underneath it write \"Action Figure\".\n",
    "The figure and equipment must all be inside blisters. Visualize this in a realistic way.\n",
    "\n",
    "\"\"\"\n",
    "\n",
    "file_name = \"mutaz_action_figure_output.png\"\n",
    "\n",
    "img = client.images.generate(\n",
    "    model=\"gpt-image-1\",\n",
    "    prompt=prompt,\n",
    "    n=1,\n",
    "    size=\"1024x1024\"\n",
    ")\n",
    "\n",
    "image_bytes = base64.b64decode(img.data[0].b64_json)\n",
    "with open(file_name, \"wb\") as f:\n",
    "    f.write(image_bytes)\n"
   ]
  },
  {
   "cell_type": "code",
   "execution_count": null,
   "id": "c7aeb681",
   "metadata": {},
   "outputs": [],
   "source": [
    "client.images."
   ]
  },
  {
   "cell_type": "code",
   "execution_count": null,
   "id": "f60bbaff",
   "metadata": {},
   "outputs": [],
   "source": [
    "\n",
    "response = client.images.create_variation(\n",
    "  model=\"gpt-image-1\",\n",
    "  image=open(\"output.png\", \"rb\"),\n",
    "  n=2,\n",
    "  size=\"1024x1024\"\n",
    ")\n",
    "\n",
    "\n",
    "for i, img in enumerate(response.data):\n",
    "    print(f\"Image {i+1}: {img.url}\")\n",
    "    image_bytes = base64.b64decode(img.b64_json)\n",
    "    with open(f\"variation_{i+1}.png\", \"wb\") as f:\n",
    "        f.write(image_bytes)\n"
   ]
  },
  {
   "cell_type": "code",
   "execution_count": null,
   "id": "29dabe4c",
   "metadata": {},
   "outputs": [],
   "source": [
    "\n",
    "import base64\n",
    "\n",
    "prompt = \"\"\"\n",
    "Generate a photorealistic image of a gift basket on a white background\n",
    "labeled 'Relax & Unwind' with a ribbon and handwriting-like font,\n",
    "containing all the items in the reference pictures.\n",
    "\"\"\"\n",
    "\n",
    "result = client.images.edit(\n",
    "    model=\"gpt-image-1\",\n",
    "    image=open(\"output.png\", \"rb\"),\n",
    "    prompt=prompt\n",
    "\n",
    ")\n",
    "\n",
    "image_base64 = result.data[0].b64_json\n",
    "image_bytes = base64.b64decode(image_base64)\n",
    "\n",
    "# Save the image to a file\n",
    "with open(\"gift-basket.png\", \"wb\") as f:\n",
    "    f.write(image_bytes)\n"
   ]
  },
  {
   "cell_type": "code",
   "execution_count": null,
   "id": "fe7e8ff8",
   "metadata": {},
   "outputs": [],
   "source": [
    "from IPython.display import display, Image\n",
    "\n",
    "# Display the image using IPython's display function\n",
    "display(Image(\"output.png\", width=400))\n",
    "\n",
    "# # If you want to display multiple images side by side\n",
    "# from IPython.display import HTML\n",
    "\n",
    "# HTML(\"\"\"\n",
    "# <div style=\"display: flex; justify-content: center;\">\n",
    "#     <img src=\"output.png\" style=\"width: 500px; margin: 10px;\">\n",
    "# </div>\n",
    "# \"\"\")\n"
   ]
  },
  {
   "cell_type": "code",
   "execution_count": null,
   "id": "7b2b3c8e",
   "metadata": {},
   "outputs": [],
   "source": [
    "import requests\n",
    "import json\n",
    "import base64\n",
    "\n",
    "# Get the API key from environment variable\n",
    "api_key = os.environ.get('AZURE_OPENAI_GPT_IMAGE_KEY', 'default_value')\n",
    "# Set up the API endpoint\n",
    "endpoint = os.environ.get('AZURE_OPENAI_GPT_IMAGE_API', 'default_value') + \"/openai/deployments/gpt-image-1/images/generations?api-version=2025-04-01-preview\"\n",
    "\n",
    "# Define headers\n",
    "headers = {\n",
    "    \"Content-Type\": \"application/json\",\n",
    "    \"api-key\": api_key\n",
    "}\n",
    "\n",
    "# Define the request body\n",
    "data = {\n",
    "    \"prompt\": \"A photograph of a red fox in an autumn forest\",\n",
    "    \"size\": \"1024x1024\",\n",
    "    \"quality\": \"medium\",\n",
    "    \"n\": 1\n",
    "}\n",
    "\n",
    "# Make the API call\n",
    "response = requests.post(endpoint, headers=headers, json=data)\n",
    "\n",
    "# Parse the response\n",
    "if response.status_code == 200:\n",
    "    # Extract the base64 encoded image\n",
    "    b64_image = response.json()['data'][0]['b64_json']\n",
    "\n",
    "    # Decode and save the image\n",
    "    with open(\"generated_image.png\", \"wb\") as f:\n",
    "        f.write(base64.b64decode(b64_image))\n",
    "\n",
    "    print(\"Image has been saved as 'generated_image.png'\")\n",
    "else:\n",
    "    print(f\"Error: {response.status_code}\")\n",
    "    print(response.text)"
   ]
  },
  {
   "cell_type": "code",
   "execution_count": null,
   "id": "00c4f5dd",
   "metadata": {},
   "outputs": [],
   "source": [
    "response"
   ]
  },
  {
   "cell_type": "code",
   "execution_count": null,
   "id": "41bb1498",
   "metadata": {},
   "outputs": [],
   "source": [
    "import requests\n",
    "import base64\n",
    "import os\n",
    "\n",
    "# Endpoint and API key\n",
    "endpoint = os.environ.get('AZURE_OPENAI_GPT_IMAGE_API', 'default_value')\n",
    "api_key = os.environ.get('AZURE_OPENAI_GPT_IMAGE_KEY', 'default_value')\n",
    "\n",
    "# Full URL for the image edits endpoint\n",
    "url = f\"{endpoint}/openai/deployments/gpt-image-1/images/edits?api-version=2025-04-01-preview\"\n",
    "\n",
    "# Headers\n",
    "headers = {\n",
    "    \"api-key\": api_key\n",
    "}\n",
    "\n",
    "# Files and prompt\n",
    "files = {\n",
    "    \"image\": (\"output.png\", open(\"output.png\", \"rb\")),\n",
    "    # \"mask\": (\"mutaz_action_figure_output.png\", open(\"mutaz_action_figure_output.png\", \"rb\"))\n",
    "}\n",
    "\n",
    "data = {\n",
    "    \"prompt\": \"Make this black and white\"\n",
    "}\n",
    "\n",
    "# Send the request\n",
    "response = requests.post(url, headers=headers, files=files, data=data)\n",
    "\n",
    "# Check if request was successful\n",
    "if response.status_code == 200:\n",
    "    # Extract the base64 encoded image\n",
    "    b64_image = response.json()['data'][0]['b64_json']\n",
    "\n",
    "    # Decode and save the image\n",
    "    with open(\"edited_image.png\", \"wb\") as f:\n",
    "        f.write(base64.b64decode(b64_image))\n",
    "\n",
    "    print(\"Image has been edited and saved as 'edited_image.png'\")\n",
    "else:\n",
    "    print(f\"Error: {response.status_code}\")\n",
    "    print(response.text)"
   ]
  },
  {
   "cell_type": "code",
   "execution_count": null,
   "id": "18f0e2b2",
   "metadata": {},
   "outputs": [],
   "source": [
    "response.request."
   ]
  },
  {
   "cell_type": "code",
   "execution_count": null,
   "id": "7848af56",
   "metadata": {},
   "outputs": [],
   "source": []
  }
 ],
 "metadata": {
  "kernelspec": {
   "display_name": "ai_env",
   "language": "python",
   "name": "python3"
  },
  "language_info": {
   "codemirror_mode": {
    "name": "ipython",
    "version": 3
   },
   "file_extension": ".py",
   "mimetype": "text/x-python",
   "name": "python",
   "nbconvert_exporter": "python",
   "pygments_lexer": "ipython3",
   "version": "3.10.16"
  }
 },
 "nbformat": 4,
 "nbformat_minor": 5
}
