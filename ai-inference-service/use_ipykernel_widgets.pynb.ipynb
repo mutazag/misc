{
 "cells": [
  {
   "cell_type": "markdown",
   "id": "dd2d57cd",
   "metadata": {},
   "source": [
    "# Import Required Libraries\n",
    "Import ipywidgets and other necessary libraries for creating interactive UI elements in Jupyter."
   ]
  },
  {
   "cell_type": "code",
   "execution_count": 1,
   "id": "54c26054",
   "metadata": {},
   "outputs": [
    {
     "data": {
      "application/vnd.jupyter.widget-view+json": {
       "model_id": "e57027566aa74bde962316dad1cc109a",
       "version_major": 2,
       "version_minor": 0
      },
      "text/plain": [
       "Dropdown(description='Select:', options=('Option 1', 'Option 2', 'Option 3'), value='Option 1')"
      ]
     },
     "metadata": {},
     "output_type": "display_data"
    }
   ],
   "source": [
    "# Import Required Libraries\n",
    "import ipywidgets as widgets\n",
    "from IPython.display import display\n",
    "\n",
    "# Example of creating a simple dropdown widget\n",
    "dropdown = widgets.Dropdown(\n",
    "    options=['Option 1', 'Option 2', 'Option 3'],\n",
    "    value='Option 1',\n",
    "    description='Select:',\n",
    ")\n",
    "\n",
    "# Display the dropdown widget\n",
    "display(dropdown)"
   ]
  },
  {
   "cell_type": "code",
   "execution_count": 3,
   "id": "0cf5e5f4",
   "metadata": {},
   "outputs": [
    {
     "name": "stdout",
     "output_type": "stream",
     "text": [
      "Option 2\n"
     ]
    }
   ],
   "source": [
    "print(dropdown.value)  # This will print the selected value when the cell is executed"
   ]
  },
  {
   "cell_type": "markdown",
   "id": "47133a91",
   "metadata": {},
   "source": [
    "# Create Selection Widgets\n",
    "Create various selection widgets like dropdown menus, checkboxes, and radio buttons for user input."
   ]
  },
  {
   "cell_type": "code",
   "execution_count": 12,
   "id": "ec105155",
   "metadata": {},
   "outputs": [
    {
     "data": {
      "application/vnd.jupyter.widget-view+json": {
       "model_id": "400215e283624078ae32d6319ae4e2c4",
       "version_major": 2,
       "version_minor": 0
      },
      "text/plain": [
       "Checkbox(value=False, description='Check me')"
      ]
     },
     "metadata": {},
     "output_type": "display_data"
    },
    {
     "data": {
      "application/vnd.jupyter.widget-view+json": {
       "model_id": "5b4ff4e2d6bb4058b02907d1375db6ac",
       "version_major": 2,
       "version_minor": 0
      },
      "text/plain": [
       "RadioButtons(description='Pick one:', options=('Choice 1', 'Choice 2', 'Choice 3'), value='Choice 1')"
      ]
     },
     "metadata": {},
     "output_type": "display_data"
    },
    {
     "data": {
      "application/vnd.jupyter.widget-view+json": {
       "model_id": "aa6312fa0ea14922ac79bdeddd118d2b",
       "version_major": 2,
       "version_minor": 0
      },
      "text/plain": [
       "SelectMultiple(description='Select multiple:', index=(0,), options=('Option A', 'Option B', 'Option C'), value…"
      ]
     },
     "metadata": {},
     "output_type": "display_data"
    }
   ],
   "source": [
    "# Create Selection Widgets\n",
    "\n",
    "# Create a checkbox widget\n",
    "checkbox = widgets.Checkbox(\n",
    "    value=False,\n",
    "    description='Check me',\n",
    ")\n",
    "\n",
    "# Create a set of radio buttons\n",
    "radio_buttons = widgets.RadioButtons(\n",
    "    options=['Choice 1', 'Choice 2', 'Choice 3'],\n",
    "    description='Pick one:',\n",
    ")\n",
    "\n",
    "# Create a multiple selection widget\n",
    "select_multiple = widgets.SelectMultiple(\n",
    "    options=['Option A', 'Option B', 'Option C'],\n",
    "    value=['Option A'],\n",
    "    description='Select multiple:',\n",
    ")\n",
    "\n",
    "# Display the widgets\n",
    "display(checkbox, radio_buttons, select_multiple)\n",
    "\n",
    "# Function to capture the values of the widgets\n",
    "def get_widget_values():\n",
    "    dropdown_value = dropdown.value\n",
    "    checkbox_value = checkbox.value\n",
    "    radio_buttons_value = radio_buttons.value\n",
    "    select_multiple_value = select_multiple.value\n",
    "    return dropdown_value, checkbox_value, radio_buttons_value, select_multiple_value\n"
   ]
  },
  {
   "cell_type": "code",
   "execution_count": 16,
   "id": "aca054d4",
   "metadata": {},
   "outputs": [
    {
     "name": "stdout",
     "output_type": "stream",
     "text": [
      "Dropdown: Option 2, \n",
      "Checkbox: True, \n",
      "Radio Buttons: Choice 3, \n",
      "Select Multiple: ('Option C',)\n"
     ]
    }
   ],
   "source": [
    "\n",
    "# Example usage\n",
    "dropdown_value, checkbox_value, radio_buttons_value, select_multiple_value = get_widget_values()\n",
    "print(f\"Dropdown: {dropdown_value}, \\nCheckbox: {checkbox_value}, \\nRadio Buttons: {radio_buttons_value}, \\nSelect Multiple: {select_multiple_value}\")"
   ]
  },
  {
   "cell_type": "code",
   "execution_count": null,
   "id": "b193d3a3",
   "metadata": {},
   "outputs": [
    {
     "name": "stdout",
     "output_type": "stream",
     "text": [
      "False\n",
      "Choice 1\n",
      "('Option A',)\n"
     ]
    }
   ],
   "source": [
    "print(checkbox_value)\n",
    "print(radio_buttons_value)\n",
    "print(select_multiple_value)"
   ]
  },
  {
   "cell_type": "markdown",
   "id": "98f36e48",
   "metadata": {},
   "source": [
    "# Single Option Selection\n",
    "Implement dropdown or radio button widgets that allow users to select a single option and capture the selected value as a variable."
   ]
  },
  {
   "cell_type": "code",
   "execution_count": null,
   "id": "59c23f3f",
   "metadata": {},
   "outputs": [],
   "source": [
    "# Single Option Selection\n",
    "\n",
    "# Create a dropdown widget for single option selection\n",
    "single_option_dropdown = widgets.Dropdown(\n",
    "    options=['Option A', 'Option B', 'Option C'],\n",
    "    value='Option A',\n",
    "    description='Choose one:',\n",
    ")\n",
    "\n",
    "# Display the dropdown widget\n",
    "display(single_option_dropdown)\n",
    "\n",
    "# Function to capture the value of the single option dropdown\n",
    "def get_single_option_value():\n",
    "    single_option_value = single_option_dropdown.value\n",
    "    return single_option_value\n",
    "\n",
    "# Example usage\n",
    "single_option_value = get_single_option_value()\n",
    "print(f\"Selected Single Option: {single_option_value}\")"
   ]
  },
  {
   "cell_type": "markdown",
   "id": "c02b85b4",
   "metadata": {},
   "source": [
    "# Multiple Options Selection\n",
    "Implement checkbox or multi-select widgets that allow users to select multiple options and store them in list variables."
   ]
  },
  {
   "cell_type": "code",
   "execution_count": null,
   "id": "3bb68d24",
   "metadata": {},
   "outputs": [],
   "source": [
    "# Multiple Options Selection\n",
    "\n",
    "# Create a set of checkboxes for multiple options selection\n",
    "checkboxes = [widgets.Checkbox(value=False, description=f'Option {i}') for i in range(1, 4)]\n",
    "\n",
    "# Create a multiple selection widget\n",
    "multi_select = widgets.SelectMultiple(\n",
    "    options=['Option 1', 'Option 2', 'Option 3'],\n",
    "    value=['Option 1'],\n",
    "    description='Select multiple:',\n",
    ")\n",
    "\n",
    "# Display the checkboxes and multi-select widget\n",
    "display(*checkboxes, multi_select)\n",
    "\n",
    "# Function to capture the values of the checkboxes and multi-select widget\n",
    "def get_multiple_options_values():\n",
    "    checkboxes_values = [checkbox.value for checkbox in checkboxes]\n",
    "    multi_select_value = multi_select.value\n",
    "    return checkboxes_values, multi_select_value\n",
    "\n",
    "# Example usage\n",
    "checkboxes_values, multi_select_value = get_multiple_options_values()\n",
    "print(f\"Checkboxes: {checkboxes_values}, Multi-Select: {multi_select_value}\")"
   ]
  },
  {
   "cell_type": "markdown",
   "id": "6e8373cf",
   "metadata": {},
   "source": [
    "# Using Selected Values in Code\n",
    "Demonstrate how to access and use the selected values in subsequent code cells using callback functions."
   ]
  },
  {
   "cell_type": "code",
   "execution_count": null,
   "id": "95d88d98",
   "metadata": {},
   "outputs": [],
   "source": [
    "# Using Selected Values in Code\n",
    "\n",
    "# Function to handle widget value changes\n",
    "def on_value_change(change):\n",
    "    # Capture the values of the widgets\n",
    "    dropdown_value, checkbox_value, radio_buttons_value, select_multiple_value = get_widget_values()\n",
    "    single_option_value = get_single_option_value()\n",
    "    checkboxes_values, multi_select_value = get_multiple_options_values()\n",
    "\n",
    "    # Print the captured values\n",
    "    print(f\"Dropdown: {dropdown_value}, Checkbox: {checkbox_value}, Radio Buttons: {radio_buttons_value}, Select Multiple: {select_multiple_value}\")\n",
    "    print(f\"Selected Single Option: {single_option_value}\")\n",
    "    print(f\"Checkboxes: {checkboxes_values}, Multi-Select: {multi_select_value}\")\n",
    "\n",
    "# Attach the callback function to the widgets\n",
    "dropdown.observe(on_value_change, names='value')\n",
    "checkbox.observe(on_value_change, names='value')\n",
    "radio_buttons.observe(on_value_change, names='value')\n",
    "select_multiple.observe(on_value_change, names='value')\n",
    "single_option_dropdown.observe(on_value_change, names='value')\n",
    "for checkbox in checkboxes:\n",
    "    checkbox.observe(on_value_change, names='value')\n",
    "multi_select.observe(on_value_change, names='value')\n",
    "\n",
    "# Display a message to the user\n",
    "print(\"Interact with the widgets above to see the selected values.\")"
   ]
  },
  {
   "cell_type": "markdown",
   "id": "34609620",
   "metadata": {},
   "source": [
    "# Creating Custom Widgets\n",
    "Create more complex, custom widgets by combining multiple basic widgets using layout containers."
   ]
  },
  {
   "cell_type": "code",
   "execution_count": null,
   "id": "bf9182f8",
   "metadata": {},
   "outputs": [],
   "source": [
    "# Creating Custom Widgets\n",
    "\n",
    "# Create a text input widget\n",
    "text_input = widgets.Text(\n",
    "    value='',\n",
    "    placeholder='Type something',\n",
    "    description='Text:',\n",
    ")\n",
    "\n",
    "# Create a slider widget\n",
    "slider = widgets.IntSlider(\n",
    "    value=5,\n",
    "    min=0,\n",
    "    max=10,\n",
    "    step=1,\n",
    "    description='Slider:',\n",
    ")\n",
    "\n",
    "# Create a date picker widget\n",
    "date_picker = widgets.DatePicker(\n",
    "    description='Pick a Date',\n",
    "    disabled=False\n",
    ")\n",
    "\n",
    "# Combine the widgets into a single container\n",
    "custom_widget_box = widgets.VBox([text_input, slider, date_picker])\n",
    "\n",
    "# Display the custom widget box\n",
    "display(custom_widget_box)\n",
    "\n",
    "# Function to capture the values of the custom widgets\n",
    "def get_custom_widget_values():\n",
    "    text_input_value = text_input.value\n",
    "    slider_value = slider.value\n",
    "    date_picker_value = date_picker.value\n",
    "    return text_input_value, slider_value, date_picker_value\n",
    "\n",
    "# Example usage\n",
    "text_input_value, slider_value, date_picker_value = get_custom_widget_values()\n",
    "print(f\"Text Input: {text_input_value}, Slider: {slider_value}, Date Picker: {date_picker_value}\")\n",
    "\n",
    "# Attach the callback function to the custom widgets\n",
    "text_input.observe(on_value_change, names='value')\n",
    "slider.observe(on_value_change, names='value')\n",
    "date_picker.observe(on_value_change, names='value')"
   ]
  },
  {
   "cell_type": "markdown",
   "id": "c1be4be4",
   "metadata": {},
   "source": [
    "# Persisting User Selections\n",
    "Show how to save user selections between notebook sessions or how to set default values."
   ]
  },
  {
   "cell_type": "code",
   "execution_count": null,
   "id": "ab67f2cb",
   "metadata": {},
   "outputs": [],
   "source": [
    "# Persisting User Selections\n",
    "\n",
    "import json\n",
    "import os\n",
    "\n",
    "# Define the file path to save the selections\n",
    "selections_file = 'user_selections.json'\n",
    "\n",
    "# Function to save the widget values to a file\n",
    "def save_selections():\n",
    "    selections = {\n",
    "        'dropdown': dropdown.value,\n",
    "        'checkbox': checkbox.value,\n",
    "        'radio_buttons': radio_buttons.value,\n",
    "        'select_multiple': list(select_multiple.value),\n",
    "        'single_option_dropdown': single_option_dropdown.value,\n",
    "        'checkboxes': [cb.value for cb in checkboxes],\n",
    "        'multi_select': list(multi_select.value),\n",
    "        'text_input': text_input.value,\n",
    "        'slider': slider.value,\n",
    "        'date_picker': str(date_picker.value)\n",
    "    }\n",
    "    with open(selections_file, 'w') as f:\n",
    "        json.dump(selections, f)\n",
    "\n",
    "# Function to load the widget values from a file\n",
    "def load_selections():\n",
    "    if os.path.exists(selections_file):\n",
    "        with open(selections_file, 'r') as f:\n",
    "            selections = json.load(f)\n",
    "            dropdown.value = selections.get('dropdown', 'Option 1')\n",
    "            checkbox.value = selections.get('checkbox', False)\n",
    "            radio_buttons.value = selections.get('radio_buttons', 'Choice 1')\n",
    "            select_multiple.value = tuple(selections.get('select_multiple', ['Option A']))\n",
    "            single_option_dropdown.value = selections.get('single_option_dropdown', 'Option A')\n",
    "            for cb, value in zip(checkboxes, selections.get('checkboxes', [False]*len(checkboxes))):\n",
    "                cb.value = value\n",
    "            multi_select.value = tuple(selections.get('multi_select', ['Option 1']))\n",
    "            text_input.value = selections.get('text_input', '')\n",
    "            slider.value = selections.get('slider', 5)\n",
    "            date_picker.value = selections.get('date_picker', None)\n",
    "\n",
    "# Load the selections when the notebook starts\n",
    "load_selections()\n",
    "\n",
    "# Save the selections when any widget value changes\n",
    "dropdown.observe(lambda change: save_selections(), names='value')\n",
    "checkbox.observe(lambda change: save_selections(), names='value')\n",
    "radio_buttons.observe(lambda change: save_selections(), names='value')\n",
    "select_multiple.observe(lambda change: save_selections(), names='value')\n",
    "single_option_dropdown.observe(lambda change: save_selections(), names='value')\n",
    "for cb in checkboxes:\n",
    "    cb.observe(lambda change: save_selections(), names='value')\n",
    "multi_select.observe(lambda change: save_selections(), names='value')\n",
    "text_input.observe(lambda change: save_selections(), names='value')\n",
    "slider.observe(lambda change: save_selections(), names='value')\n",
    "date_picker.observe(lambda change: save_selections(), names='value')\n",
    "\n",
    "# Display a message to the user\n",
    "print(\"Your selections will be saved and loaded automatically.\")"
   ]
  }
 ],
 "metadata": {
  "kernelspec": {
   "display_name": "ai_env",
   "language": "python",
   "name": "python3"
  },
  "language_info": {
   "codemirror_mode": {
    "name": "ipython",
    "version": 3
   },
   "file_extension": ".py",
   "mimetype": "text/x-python",
   "name": "python",
   "nbconvert_exporter": "python",
   "pygments_lexer": "ipython3",
   "version": "3.10.16"
  }
 },
 "nbformat": 4,
 "nbformat_minor": 5
}
