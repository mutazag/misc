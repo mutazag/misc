{
 "cells": [
  {
   "cell_type": "markdown",
   "id": "73592dec",
   "metadata": {},
   "source": [
    "\n",
    "\n",
    "<img src=\"https://cdn.openai.com/API/docs/images/function-calling-diagram-steps.png\" alt=\"Function Calling\" width=\"400px\"/>"
   ]
  },
  {
   "cell_type": "markdown",
   "id": "5cbb31b5",
   "metadata": {},
   "source": []
  },
  {
   "cell_type": "code",
   "execution_count": 55,
   "id": "821371a4",
   "metadata": {},
   "outputs": [],
   "source": [
    "from openai import AzureOpenAI\n",
    "import os\n",
    "\n",
    "endpoint = os.getenv(\"AZURE_OPENAI_ENDPOINT\", \"https://magoai-eastus2.openai.azure.com/\")\n",
    "deployment = os.getenv(\"DEPLOYMENT_NAME\", \"gpt-4o\")\n",
    "# Create AzureOpenAI client\n",
    "client = AzureOpenAI(\n",
    "    azure_endpoint=os.getenv(\"AZURE_OPENAI_ENDPOINT\"),  # e.g. \"https://your-resource-name.openai.azure.com\"\n",
    "    api_key=os.getenv(\"AZURE_OPENAI_API_KEY\"),  # The API key for your Azure OpenAI resource\n",
    "    api_version=  \"2024-12-01-preview\" # \"2023-05-15\"  # The API version to use\n",
    ")\n",
    "\n"
   ]
  },
  {
   "cell_type": "code",
   "execution_count": 56,
   "id": "addbb6ff",
   "metadata": {},
   "outputs": [],
   "source": [
    "def message(role, content):\n",
    "    return {\"role\": role, \"content\":\n",
    "            [{\"type\": \"text\",\n",
    "             \"text\": content}]\n",
    "    }\n"
   ]
  },
  {
   "cell_type": "code",
   "execution_count": 57,
   "id": "8ba1ac61",
   "metadata": {},
   "outputs": [],
   "source": [
    "messages = [\n",
    "    message(\"developer\", \"you are a helpful assistant\"),\n",
    "    message(\"user\", \"what is the weather in Sydney, Australia?\"),\n",
    "]"
   ]
  },
  {
   "cell_type": "code",
   "execution_count": 58,
   "id": "e0f59a43",
   "metadata": {},
   "outputs": [
    {
     "name": "stdout",
     "output_type": "stream",
     "text": [
      "I'm sorry, but I don't have real-time data access. To get the current weather in Sydney, Australia, I recommend checking a reliable weather website, such as the Australian Bureau of Meteorology, Weather.com, or using a weather app on your smartphone. They will provide you with up-to-date information on temperatures, forecasts, and any weather alerts for the area.\n"
     ]
    }
   ],
   "source": [
    "\n",
    "completion = client.chat.completions.create(\n",
    "    model=deployment,\n",
    "    messages=messages)\n",
    "\n",
    "\n",
    "print(completion.choices[0].message.content)"
   ]
  },
  {
   "cell_type": "code",
   "execution_count": 59,
   "id": "bcfc76aa",
   "metadata": {},
   "outputs": [],
   "source": [
    "get_weather_function_definition = {\n",
    "    \"type\": \"function\",\n",
    "    \"name\": \"get_weather\",\n",
    "    \"function\": {\n",
    "        \"name\": \"get_weather\",\n",
    "        \"description\": \"Get current temperature for a given location.\",\n",
    "        \"parameters\": {\n",
    "            \"type\": \"object\",\n",
    "            \"properties\": {\n",
    "                \"location\": {\n",
    "                    \"type\": \"string\",\n",
    "                    \"description\": \"Location name like a city name or a country name. example: 'New York City', 'USA', 'Tokyo', 'Japan'.\",\n",
    "                }\n",
    "            },\n",
    "            \"required\": [\n",
    "                \"location\"\n",
    "            ],\n",
    "            # \"additionalProperties\": False\n",
    "        },\n",
    "        # \"strict\": True\n",
    "    }\n",
    "}\n",
    "\n",
    "tools = [get_weather_function_definition]"
   ]
  },
  {
   "cell_type": "code",
   "execution_count": 60,
   "id": "5fbeb618",
   "metadata": {},
   "outputs": [],
   "source": [
    "chat_history = messages\n",
    "\n",
    "completion = client.chat.completions.create(\n",
    "    model=deployment,\n",
    "    messages=chat_history,\n",
    "    functions=tools\n",
    ")"
   ]
  },
  {
   "cell_type": "code",
   "execution_count": 61,
   "id": "69f2f8a1",
   "metadata": {},
   "outputs": [
    {
     "name": "stdout",
     "output_type": "stream",
     "text": [
      "ChatCompletionMessage(content=None, refusal=None, role='assistant', annotations=None, audio=None, function_call=FunctionCall(arguments='{}', name='get_weather'), tool_calls=None)\n"
     ]
    }
   ],
   "source": [
    "print(completion.choices[0].message)"
   ]
  },
  {
   "cell_type": "code",
   "execution_count": 62,
   "id": "71a17dfc",
   "metadata": {},
   "outputs": [
    {
     "data": {
      "text/plain": [
       "ChatCompletion(id='chatcmpl-BDnzxdR97C2lp68qZw2AZ1MGWhuk9', choices=[Choice(finish_reason='function_call', index=0, logprobs=None, message=ChatCompletionMessage(content=None, refusal=None, role='assistant', annotations=None, audio=None, function_call=FunctionCall(arguments='{}', name='get_weather'), tool_calls=None), content_filter_results={})], created=1742630157, model='gpt-4o-2024-05-13', object='chat.completion', service_tier=None, system_fingerprint='fp_65792305e4', usage=CompletionUsage(completion_tokens=11, prompt_tokens=46, total_tokens=57, completion_tokens_details=CompletionTokensDetails(accepted_prediction_tokens=0, audio_tokens=0, reasoning_tokens=0, rejected_prediction_tokens=0), prompt_tokens_details=PromptTokensDetails(audio_tokens=0, cached_tokens=0)), prompt_filter_results=[{'prompt_index': 0, 'content_filter_results': {'hate': {'filtered': False, 'severity': 'safe'}, 'jailbreak': {'filtered': False, 'detected': False}, 'self_harm': {'filtered': False, 'severity': 'safe'}, 'sexual': {'filtered': False, 'severity': 'safe'}, 'violence': {'filtered': False, 'severity': 'safe'}}}])"
      ]
     },
     "execution_count": 62,
     "metadata": {},
     "output_type": "execute_result"
    }
   ],
   "source": [
    "completion"
   ]
  },
  {
   "cell_type": "code",
   "execution_count": null,
   "id": "79e3f0ec",
   "metadata": {},
   "outputs": [],
   "source": []
  }
 ],
 "metadata": {
  "kernelspec": {
   "display_name": ".venv",
   "language": "python",
   "name": "python3"
  },
  "language_info": {
   "codemirror_mode": {
    "name": "ipython",
    "version": 3
   },
   "file_extension": ".py",
   "mimetype": "text/x-python",
   "name": "python",
   "nbconvert_exporter": "python",
   "pygments_lexer": "ipython3",
   "version": "3.13.2"
  }
 },
 "nbformat": 4,
 "nbformat_minor": 5
}
