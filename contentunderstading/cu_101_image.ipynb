{
 "cells": [
  {
   "cell_type": "code",
   "execution_count": 6,
   "metadata": {},
   "outputs": [],
   "source": [
    "# %pip install python-dotenv"
   ]
  },
  {
   "cell_type": "code",
   "execution_count": 29,
   "metadata": {},
   "outputs": [
    {
     "name": "stdout",
     "output_type": "stream",
     "text": [
      "Environment variables loaded successfully.\n"
     ]
    }
   ],
   "source": [
    "from dotenv import load_dotenv\n",
    "import os\n",
    "\n",
    "# Load environment variables from .env file\n",
    "load_dotenv()\n",
    "\n",
    "# Access an environment variable\n",
    "endpoint = os.getenv(\"endpoint\")\n",
    "key = os.getenv(\"key\")\n",
    "\n",
    "# print(f\"Endpoint: {endpoint}\")\n",
    "# print(f\"Key: {key}\")\n",
    "print(\"Environment variables loaded successfully.\")"
   ]
  },
  {
   "cell_type": "code",
   "execution_count": 3,
   "metadata": {},
   "outputs": [
    {
     "name": "stdout",
     "output_type": "stream",
     "text": [
      "201\n",
      "{'analyzerId': 'image_analyzer_01', 'description': 'Sample chart analyzer', 'createdAt': '2025-02-22T03:32:08Z', 'lastModifiedAt': '2025-02-22T03:32:08Z', 'config': {'returnDetails': False, 'disableContentFiltering': False}, 'fieldSchema': {'fields': {'Title': {'type': 'string'}, 'ChartType': {'type': 'string', 'method': 'classify', 'enum': ['bar', 'line', 'pie']}}}, 'warnings': [], 'status': 'ready', 'scenario': 'image'}\n"
     ]
    }
   ],
   "source": [
    "import requests\n",
    "\n",
    "analyzerId = \"image_analyzer_01\"  # Replace with your actual analyzer ID\n",
    "url = f\"{endpoint}/contentunderstanding/analyzers/{analyzerId}?api-version=2024-12-01-preview\"\n",
    "headers = {\n",
    "    \"Ocp-Apim-Subscription-Key\": key,\n",
    "    \"Content-Type\": \"application/json\"\n",
    "}\n",
    "\n",
    "with open('image_request_body.json', 'r') as file:\n",
    "    data = file.read()\n",
    "\n",
    "response = requests.put(url, headers=headers, data=data)\n",
    "\n",
    "print(response.status_code)\n",
    "print(response.json())"
   ]
  },
  {
   "cell_type": "code",
   "execution_count": 30,
   "metadata": {},
   "outputs": [],
   "source": [
    "# print(response.headers)\n",
    "operation_location = response.headers.get('Operation-Location')\n",
    "# print(f\"Operation-Location: {operation_location}\")"
   ]
  },
  {
   "cell_type": "code",
   "execution_count": 5,
   "metadata": {},
   "outputs": [
    {
     "name": "stdout",
     "output_type": "stream",
     "text": [
      "200\n",
      "{'id': '91dd7041-7127-46a8-b6fb-7ea2e693d6b2', 'status': 'Succeeded', 'result': {'analyzerId': 'image_analyzer_01', 'description': 'Sample chart analyzer', 'createdAt': '2025-02-22T03:32:08Z', 'lastModifiedAt': '2025-02-22T03:32:08Z', 'config': {'returnDetails': False, 'disableContentFiltering': False}, 'fieldSchema': {'fields': {'Title': {'type': 'string'}, 'ChartType': {'type': 'string', 'method': 'classify', 'enum': ['bar', 'line', 'pie']}}}, 'warnings': [], 'status': 'ready', 'scenario': 'image'}}\n"
     ]
    }
   ],
   "source": [
    "operationId = \"your_operation_id\"  # Replace with your actual operation ID\n",
    "url = operation_location\n",
    "\n",
    "response = requests.get(url, headers=headers)\n",
    "\n",
    "print(response.status_code)\n",
    "print(response.json())"
   ]
  },
  {
   "cell_type": "code",
   "execution_count": 7,
   "metadata": {},
   "outputs": [
    {
     "data": {
      "text/html": [
       "<img src=\"https://images.plot.ly/excel/grouped-bar-chart/final-chart.jpg\"/>"
      ],
      "text/plain": [
       "<IPython.core.display.Image object>"
      ]
     },
     "metadata": {},
     "output_type": "display_data"
    }
   ],
   "source": [
    "from IPython.display import Image, display\n",
    "\n",
    "file_url = \"https://images.plot.ly/excel/grouped-bar-chart/final-chart.jpg\"\n",
    "\n",
    "display(Image(url=file_url))\n"
   ]
  },
  {
   "cell_type": "code",
   "execution_count": 13,
   "metadata": {},
   "outputs": [
    {
     "name": "stdout",
     "output_type": "stream",
     "text": [
      "202\n",
      "{'id': '935bfe33-9036-4675-8e10-ced9d3a9c62f', 'status': 'Running', 'result': {'analyzerId': 'image_analyzer_01', 'apiVersion': '2024-12-01-preview', 'createdAt': '2025-02-22T03:35:41Z', 'warnings': [], 'contents': []}}\n",
      "Running\n"
     ]
    }
   ],
   "source": [
    "\n",
    "analyze_url = f\"{endpoint}/contentunderstanding/analyzers/{analyzerId}:analyze?api-version=2024-12-01-preview\"\n",
    "payload = {\"url\": file_url}\n",
    "\n",
    "response = requests.post(analyze_url, headers=headers, json=payload)\n",
    "\n",
    "print(response.status_code)\n",
    "print(response.json())\n",
    "print(response.json().get(\"status\"))\n"
   ]
  },
  {
   "cell_type": "code",
   "execution_count": 31,
   "metadata": {},
   "outputs": [],
   "source": [
    "operation_location = response.headers.get('Operation-Location')\n",
    "# print(f\"Operation-Location: {operation_location}\")"
   ]
  },
  {
   "cell_type": "code",
   "execution_count": 14,
   "metadata": {},
   "outputs": [
    {
     "name": "stdout",
     "output_type": "stream",
     "text": [
      "200\n",
      "Succeeded\n"
     ]
    }
   ],
   "source": [
    "response = requests.get(operation_location, headers=headers)\n",
    "\n",
    "print(response.status_code)\n",
    "print(response.json().get(\"status\"))"
   ]
  },
  {
   "cell_type": "code",
   "execution_count": 15,
   "metadata": {},
   "outputs": [
    {
     "name": "stdout",
     "output_type": "stream",
     "text": [
      "200\n",
      "{\n",
      "    \"id\": \"91dd7041-7127-46a8-b6fb-7ea2e693d6b2\",\n",
      "    \"status\": \"Succeeded\",\n",
      "    \"result\": {\n",
      "        \"analyzerId\": \"image_analyzer_01\",\n",
      "        \"description\": \"Sample chart analyzer\",\n",
      "        \"createdAt\": \"2025-02-22T03:32:08Z\",\n",
      "        \"lastModifiedAt\": \"2025-02-22T03:32:08Z\",\n",
      "        \"config\": {\n",
      "            \"returnDetails\": false,\n",
      "            \"disableContentFiltering\": false\n",
      "        },\n",
      "        \"fieldSchema\": {\n",
      "            \"fields\": {\n",
      "                \"Title\": {\n",
      "                    \"type\": \"string\"\n",
      "                },\n",
      "                \"ChartType\": {\n",
      "                    \"type\": \"string\",\n",
      "                    \"method\": \"classify\",\n",
      "                    \"enum\": [\n",
      "                        \"bar\",\n",
      "                        \"line\",\n",
      "                        \"pie\"\n",
      "                    ]\n",
      "                }\n",
      "            }\n",
      "        },\n",
      "        \"warnings\": [],\n",
      "        \"status\": \"ready\",\n",
      "        \"scenario\": \"image\"\n",
      "    }\n",
      "}\n"
     ]
    }
   ],
   "source": [
    "import json\n",
    "\n",
    "# resultId = \"c62115c9-090e-4fa2-b326-e0eac6f0e0be\"  # Replace with your actual result ID\n",
    "results_url = operation_location\n",
    "\n",
    "response = requests.get(results_url, headers=headers)\n",
    "\n",
    "print(response.status_code)\n",
    "\n",
    "json_response = response.json()\n",
    "print(json.dumps(json_response, indent=4))"
   ]
  },
  {
   "cell_type": "code",
   "execution_count": 32,
   "metadata": {},
   "outputs": [
    {
     "name": "stdout",
     "output_type": "stream",
     "text": [
      "202\n"
     ]
    }
   ],
   "source": [
    "# analyze file \n",
    "analyze_url = f\"{endpoint}/contentunderstanding/analyzers/{analyzerId}:analyze?api-version=2024-12-01-preview\"\n",
    "response = requests.post(analyze_url, headers=headers, json={\"url\": file_url})\n",
    "\n",
    "print(response.status_code)\n",
    "# print(response.json())\n",
    "\n",
    "analyze_job_url = response.headers.get('Operation-Location')\n",
    "# print(f\"Analyze Job URL: {analyze_job_url}\")"
   ]
  },
  {
   "cell_type": "code",
   "execution_count": 25,
   "metadata": {},
   "outputs": [
    {
     "name": "stdout",
     "output_type": "stream",
     "text": [
      "200\n",
      "{\n",
      "    \"id\": \"65ac5367-73ab-4d02-a753-232108199bd5\",\n",
      "    \"status\": \"Succeeded\",\n",
      "    \"result\": {\n",
      "        \"analyzerId\": \"image_analyzer_01\",\n",
      "        \"apiVersion\": \"2024-12-01-preview\",\n",
      "        \"createdAt\": \"2025-02-22T03:41:12Z\",\n",
      "        \"warnings\": [],\n",
      "        \"contents\": [\n",
      "            {\n",
      "                \"markdown\": \"![image](image)\\n\",\n",
      "                \"fields\": {\n",
      "                    \"Title\": {\n",
      "                        \"type\": \"string\",\n",
      "                        \"valueString\": \"Grouped Bar Chart\"\n",
      "                    },\n",
      "                    \"ChartType\": {\n",
      "                        \"type\": \"string\",\n",
      "                        \"valueString\": \"bar\"\n",
      "                    }\n",
      "                },\n",
      "                \"kind\": \"document\",\n",
      "                \"startPageNumber\": 1,\n",
      "                \"endPageNumber\": 1,\n",
      "                \"unit\": \"pixel\",\n",
      "                \"pages\": [\n",
      "                    {\n",
      "                        \"pageNumber\": 1\n",
      "                    }\n",
      "                ]\n",
      "            }\n",
      "        ]\n",
      "    }\n",
      "}\n"
     ]
    }
   ],
   "source": [
    "# get analyzer job results\n",
    "\n",
    "response = requests.get(analyze_job_url, headers=headers)\n",
    "print(response.status_code)\n",
    "json_response = response.json()\n",
    "print(json.dumps(json_response, indent=4))"
   ]
  },
  {
   "cell_type": "code",
   "execution_count": 26,
   "metadata": {},
   "outputs": [
    {
     "name": "stdout",
     "output_type": "stream",
     "text": [
      "id='65ac5367-73ab-4d02-a753-232108199bd5' status='Succeeded' result=Result(analyzerId='image_analyzer_01', apiVersion='2024-12-01-preview', createdAt='2025-02-22T03:41:12Z', warnings=[], contents=[{'markdown': '![image](image)\\n', 'fields': {'Title': {'type': 'string', 'valueString': 'Grouped Bar Chart'}, 'ChartType': {'type': 'string', 'valueString': 'bar'}}, 'kind': 'document', 'startPageNumber': 1, 'endPageNumber': 1, 'unit': 'pixel', 'pages': [{'pageNumber': 1}]}])\n"
     ]
    }
   ],
   "source": [
    "from pydantic import BaseModel\n",
    "from typing import List, Optional, Dict, Any\n",
    "\n",
    "class Item(BaseModel):\n",
    "    Description: Optional[str]\n",
    "    Amount: Optional[float]\n",
    "\n",
    "class FieldSchema(BaseModel):\n",
    "    VendorName: Optional[str]\n",
    "    Items: Optional[List[Item]]\n",
    "\n",
    "class Result(BaseModel):\n",
    "    analyzerId: str\n",
    "    apiVersion: str\n",
    "    createdAt: str\n",
    "    warnings: Optional[List[Any]]\n",
    "    contents: Optional[List[Any]]\n",
    "\n",
    "class JsonResponse(BaseModel):\n",
    "    id: str\n",
    "    status: str\n",
    "    result: Result\n",
    "\n",
    "# Convert json_response to Pydantic object\n",
    "pydantic_response = JsonResponse(**json_response)\n",
    "print(pydantic_response)"
   ]
  },
  {
   "cell_type": "code",
   "execution_count": 27,
   "metadata": {},
   "outputs": [
    {
     "data": {
      "text/plain": [
       "dict_keys(['markdown', 'fields', 'kind', 'startPageNumber', 'endPageNumber', 'unit', 'pages'])"
      ]
     },
     "execution_count": 27,
     "metadata": {},
     "output_type": "execute_result"
    }
   ],
   "source": [
    "pydantic_response.result.contents[0].keys()\n"
   ]
  },
  {
   "cell_type": "code",
   "execution_count": 28,
   "metadata": {},
   "outputs": [
    {
     "data": {
      "text/plain": [
       "{'Title': {'type': 'string', 'valueString': 'Grouped Bar Chart'},\n",
       " 'ChartType': {'type': 'string', 'valueString': 'bar'}}"
      ]
     },
     "execution_count": 28,
     "metadata": {},
     "output_type": "execute_result"
    }
   ],
   "source": [
    "pydantic_response.result.contents[0]['fields']"
   ]
  },
  {
   "cell_type": "code",
   "execution_count": null,
   "metadata": {},
   "outputs": [],
   "source": []
  }
 ],
 "metadata": {
  "kernelspec": {
   "display_name": ".venv",
   "language": "python",
   "name": "python3"
  },
  "language_info": {
   "codemirror_mode": {
    "name": "ipython",
    "version": 3
   },
   "file_extension": ".py",
   "mimetype": "text/x-python",
   "name": "python",
   "nbconvert_exporter": "python",
   "pygments_lexer": "ipython3",
   "version": "3.10.11"
  }
 },
 "nbformat": 4,
 "nbformat_minor": 2
}
