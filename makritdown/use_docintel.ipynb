{
 "cells": [
  {
   "cell_type": "code",
   "execution_count": 127,
   "id": "7ab4506c",
   "metadata": {},
   "outputs": [],
   "source": [
    "from azure.ai.documentintelligence import DocumentIntelligenceClient\n",
    "from azure.ai.documentintelligence.models import (\n",
    "    AnalyzeResult,\n",
    "    DocumentAnalysisFeature,\n",
    "    AnalyzeOutputOption,\n",
    "    DocumentContentFormat,\n",
    ")\n",
    "from azure.identity import DefaultAzureCredential\n",
    "from markitdown import MarkItDown\n",
    "from IPython.display import Markdown, display\n",
    "import os\n",
    "import pandas as pd\n",
    "import pydantic\n"
   ]
  },
  {
   "cell_type": "code",
   "execution_count": 128,
   "id": "689b30da",
   "metadata": {},
   "outputs": [],
   "source": [
    "\n",
    "def _in_span(word, spans):\n",
    "    for span in spans:\n",
    "        if word.span.offset >= span.offset and (word.span.offset + word.span.length) <= (span.offset + span.length):\n",
    "            return True\n",
    "    return False\n",
    "\n",
    "def _format_polygon(polygon):\n",
    "    if not polygon:\n",
    "        return \"N/A\"\n",
    "    return \", \".join([f\"[{polygon[i]}, {polygon[i + 1]}]\" for i in range(0, len(polygon), 2)])\n"
   ]
  },
  {
   "cell_type": "code",
   "execution_count": 129,
   "id": "c7206dcd",
   "metadata": {},
   "outputs": [],
   "source": [
    "document_intelligence_client = di = DocumentIntelligenceClient(\n",
    "    endpoint=os.getenv(\"DOC_INTELLIGENCE_API\"),\n",
    "    credential=DefaultAzureCredential(),\n",
    ")\n",
    "\n"
   ]
  },
  {
   "cell_type": "code",
   "execution_count": 130,
   "id": "f8d3b92f",
   "metadata": {},
   "outputs": [
    {
     "data": {
      "text/plain": [
       "'2024-11-30'"
      ]
     },
     "execution_count": 130,
     "metadata": {},
     "output_type": "execute_result"
    }
   ],
   "source": [
    "document_intelligence_client._config.api_version"
   ]
  },
  {
   "cell_type": "code",
   "execution_count": 131,
   "id": "cf1607db",
   "metadata": {},
   "outputs": [],
   "source": [
    "# path_to_sample_documents = \"data/Northwind_Standard_Benefits_Details.pdf\"\n",
    "path_to_sample_documents = \"data/Small business startup checklis1.docx\""
   ]
  },
  {
   "cell_type": "code",
   "execution_count": 132,
   "id": "e1031434",
   "metadata": {},
   "outputs": [],
   "source": [
    "\n",
    "with open(path_to_sample_documents, \"rb\") as f:\n",
    "    poller = document_intelligence_client.begin_analyze_document(\n",
    "        \"prebuilt-read\",\n",
    "        body=f,\n",
    "        # pages=\"3\",\n",
    "        output_content_format=DocumentContentFormat.MARKDOWN,\n",
    "    )\n",
    "result: AnalyzeResult = poller.result()"
   ]
  },
  {
   "cell_type": "code",
   "execution_count": 133,
   "id": "fb801385",
   "metadata": {},
   "outputs": [
    {
     "data": {
      "text/markdown": [
       "Small business startup checklist\n",
       "Startup checklist\n",
       "Getting started\n",
       "1.\n",
       "Conduct a personal evaluation to determine why you want to start a business.\n",
       "2.\n",
       "Create a business plan:\n",
       "a.\n",
       "What do we do?\n",
       "b.\n",
       "How do we do it?\n",
       "c.\n",
       "Who do we serve?\n",
       "3.\n",
       "Conduct a SWOT analysis to identify your strengths, weaknesses, opportunities, and threats.\n",
       "4.\n",
       "Assess how much capital you have available to invest.\n",
       "5.\n",
       "Discuss your plans with family members to ensure they are behind you.\n",
       "6.\n",
       "Determine whether you want the business to be full-time or part-time.\n",
       "Committing to your business\n",
       "1.\n",
       "Define the customer “problem” and how your business can provide a solution in a unique way.\n",
       "2.\n",
       "Determine viability: Is there a market for your service?\n",
       "3.\n",
       "Identify businesses that are having success today.\n",
       "4.\n",
       "Will your business be relevant as time passes? How will you adapt?\n",
       "5.\n",
       "Define your market:\n",
       "a.\n",
       "Who is your ideal customer?\n",
       "b.\n",
       "What’s your market size?\n",
       "c.\n",
       "How easy is it to acquire the customer?\n",
       "6.\n",
       "Validate your idea by talking to potential customers about it.\n",
       "7.\n",
       "Evaluate how customers solve this problem today, as well as what the competition offers.\n",
       "8.\n",
       "Create a quick financial plan, identifying costs and forecasted sales, to see if your capital gets you to a profit.\n",
       "Setting up your business\n",
       "1.\n",
       "Select your business name. Perform a corporate name search to make sure your name is still available.\n",
       "2.\n",
       "Register a domain name and secure social media profiles for the company.\n",
       "3.\n",
       "Apply for an EIN with the IRS and local or state business licenses.\n",
       "4.\n",
       "Open a business bank account and apply for a business credit card.\n",
       "5.\n",
       "Find appropriate space to become your primary business location.\n",
       "6.\n",
       "Once location is secured, get services set up in the business name, including phone number and other necessary utilities.\n",
       "7.\n",
       "Decide on a legal structure or business structure and incorporate: Corporation, LLC, or Sole Proprietorship.\n",
       "8.\n",
       "Get your website up and running.\n",
       "9.\n",
       "Set up an accounting and record keeping system:\n",
       "a.\n",
       "hire an accountant,\n",
       "b.\n",
       "select an accounting system, and\n",
       "c.\n",
       "select a fiscal year.\n",
       "10.\n",
       "Evaluate and select needed insurance policies for your business: liability, workers’ compensation, or health insurance.\n",
       "11.\n",
       "Prepare and begin networking with pre-marketing materials:\n",
       "a.\n",
       "business cards,\n",
       "b.\n",
       "letterhead,\n",
       "c.\n",
       "invoice,\n",
       "d.\n",
       "brochures, or\n",
       "e.\n",
       "public relations.\n",
       "12.\n",
       "Introduce your business to the surrounding businesses to your location.\n",
       "Ensuring Sufficient Funds are Available\n",
       "1.\n",
       "Estimate how long it will take for your business to acquire paying customers.\n",
       "2.\n",
       "Itemize your business expenses for the first year, at least, and assess where these will come from.\n",
       "3.\n",
       "Itemize how much capital is required to launch the business and project how long it will take to become profitable.\n",
       "4.\n",
       "From this, determine how many months of savings or investment you need to breakeven.\n",
       "5.\n",
       "If outside investment is required beyond the founders’ savings, complete a business plan.\n",
       "Planning for your business plan\n",
       "1.\n",
       "Complete a Company Overview that includes basic information and a summary of the management team.\n",
       "2.\n",
       "Write a Business Description section describing your services and what problems they solve.\n",
       "3.\n",
       "Prepare a Market Analysis section that describes the total market and your target market, specific segment needs, competitive offerings available, and any trends that will affect the analysis.\n",
       "4.\n",
       "Describe an Operating Plan for the business, such as operating hours, number of employees, key vendors, or seasonal adjustments your business might need to adjust to.\n",
       "5.\n",
       "Create a Marketing and Sales Plan that includes a “Go To Market” or launch plan, pricing, how your business will generate leads, and close new business.\n",
       "6.\n",
       "Build a Financial Plan that shows a break-even analysis, projected profit and loss, and projected cash flows.\n",
       "7.\n",
       "Write an Executive Summary which gives a general overview of the above completed sections.\n",
       "Setting Up to Operate\n",
       "1.\n",
       "Find a feasible space for your office that can provide you with the ideal space needed to conduct business.\n",
       "2.\n",
       "Set up your office with a comfy chair, desk, shelves, filing cabinets, and etc.\n",
       "3.\n",
       "Identify any staffing needs.\n",
       "4.\n",
       "Recruit, interview, hire, and train employees (if applicable).\n",
       "5.\n",
       "If hiring employees, get an employer ID from the IRS.\n",
       "6.\n",
       "Identify and set up any needed technology:\n",
       "a.\n",
       "laptop for business operations,\n",
       "b.\n",
       "printer(s),\n",
       "c.\n",
       "business software and applications,\n",
       "d.\n",
       "POS,\n",
       "e.\n",
       "business email accounts,\n",
       "f.\n",
       "phones,\n",
       "g.\n",
       "CRM\n",
       "h.\n",
       "billing, and\n",
       "i.\n",
       "payment systems.\n",
       "7.\n",
       "Ensure your technology systems are secure with your information and customer information.\n",
       "8.\n",
       "Install a security system, if applicable.\n",
       "9.\n",
       "Depending on the business type, identify and partner with the right suppliers/vendors.\n",
       "Marketing and launching your business\n",
       "1.\n",
       "Develop and refine a brand for your company and its products or services.\n",
       "2.\n",
       "Create and fine tune an Elevator Pitch through conversations.\n",
       "3.\n",
       "Community outreach and networking. Attend various networking events to build relationships with community connectors.\n",
       "4.\n",
       "Begin distributing or displaying your marketing materials:\n",
       "a.\n",
       "web-based promotions,\n",
       "b.\n",
       "social media,\n",
       "c.\n",
       "direct mail,\n",
       "d.\n",
       "business cards,\n",
       "e.\n",
       "trade shows, or\n",
       "f.\n",
       "brochures.\n",
       "5.\n",
       "Establish an email marketing account and initiate digital marketing through blogs, emails, or SEO strategies to drive traffic to your website.\n",
       "6.\n",
       "Let the local or regional press know you are opening and when.\n",
       "7.\n",
       "Utilize Guerrilla Marketing tactics to generate traffic.\n",
       "8.\n",
       "Organize an opening event. Create a relationship that might allow cross-promotions.\n",
       "Sustaining your business\n",
       "1.\n",
       "Keep track of strategies that worked and flopped to fine tune your marketing tactics.\n",
       "2.\n",
       "Ask for referrals and testimonials to build credibility.\n",
       "3.\n",
       "Maintain and nurture your repeat business. Remember, it costs 80% less to maintain a current relationship than to develop a new one.\n",
       "4.\n",
       "Recognize your top client base. They will be your best pied pipers. Ask for referrals.\n",
       "1\n",
       "5"
      ],
      "text/plain": [
       "<IPython.core.display.Markdown object>"
      ]
     },
     "metadata": {},
     "output_type": "display_data"
    }
   ],
   "source": [
    "display(Markdown(result.content))"
   ]
  },
  {
   "cell_type": "code",
   "execution_count": 134,
   "id": "49d11859",
   "metadata": {},
   "outputs": [
    {
     "name": "stdout",
     "output_type": "stream",
     "text": [
      "Document has 2 pages\n"
     ]
    }
   ],
   "source": [
    "path_to_sample_documents = \"data/Northwind_Standard_Benefits_Details.pdf\"\n",
    "with open(path_to_sample_documents, \"rb\") as f:\n",
    "    poller = document_intelligence_client.begin_analyze_document(\n",
    "        \"prebuilt-layout\",\n",
    "        body=f,\n",
    "        pages=\"4-8\",\n",
    "        output_content_format=DocumentContentFormat.MARKDOWN,\n",
    "    )\n",
    "result: AnalyzeResult = poller.result()\n",
    "print(f\"Document has {len(result.pages)} pages\")"
   ]
  },
  {
   "cell_type": "code",
   "execution_count": 135,
   "id": "95e59f73",
   "metadata": {},
   "outputs": [
    {
     "name": "stdout",
     "output_type": "stream",
     "text": [
      "<class 'azure.ai.documentintelligence.models._models.AnalyzeResult'>\n"
     ]
    }
   ],
   "source": [
    "import json\n",
    "\n",
    "print(type(result))\n",
    "# print(json.dumps(result.as_dict(), indent=2))\n",
    "\n"
   ]
  },
  {
   "cell_type": "code",
   "execution_count": 136,
   "id": "09db39d8",
   "metadata": {},
   "outputs": [
    {
     "data": {
      "text/plain": [
       "dict_keys(['apiVersion', 'modelId', 'stringIndexType', 'content', 'pages', 'paragraphs', 'contentFormat', 'sections'])"
      ]
     },
     "execution_count": 136,
     "metadata": {},
     "output_type": "execute_result"
    }
   ],
   "source": [
    "result.as_dict().keys()"
   ]
  },
  {
   "cell_type": "code",
   "execution_count": 137,
   "id": "d4a8ec6d",
   "metadata": {},
   "outputs": [
    {
     "data": {
      "application/vnd.microsoft.datawrangler.viewer.v0+json": {
       "columns": [
        {
         "name": "index",
         "rawType": "int64",
         "type": "integer"
        },
        {
         "name": "pageNumber",
         "rawType": "int64",
         "type": "integer"
        },
        {
         "name": "angle",
         "rawType": "float64",
         "type": "float"
        },
        {
         "name": "width",
         "rawType": "float64",
         "type": "float"
        },
        {
         "name": "height",
         "rawType": "int64",
         "type": "integer"
        },
        {
         "name": "unit",
         "rawType": "object",
         "type": "string"
        },
        {
         "name": "words",
         "rawType": "object",
         "type": "unknown"
        },
        {
         "name": "lines",
         "rawType": "object",
         "type": "unknown"
        },
        {
         "name": "spans",
         "rawType": "object",
         "type": "unknown"
        }
       ],
       "conversionMethod": "pd.DataFrame",
       "ref": "aaa4f916-1da9-4d6d-88f2-6e604b14a837",
       "rows": [
        [
         "0",
         "4",
         "-0.0044999998062849045",
         "8.5",
         "11",
         "inch",
         "[{'content': 'Once', 'polygon': [1.2421, 1.0129, 1.5714, 1.0126, 1.572, 1.1902, 1.2423, 1.1902], 'confidence': 0.989, 'span': {'offset': 0, 'length': 4}}, {'content': 'you', 'polygon': [1.6089, 1.0125, 1.8314, 1.0129, 1.8318, 1.1902, 1.6096, 1.1902], 'confidence': 0.998, 'span': {'offset': 5, 'length': 3}}, {'content': 'have', 'polygon': [1.866, 1.013, 2.1924, 1.0134, 2.1927, 1.1896, 1.8665, 1.1902], 'confidence': 0.992, 'span': {'offset': 9, 'length': 4}}, {'content': 'reached', 'polygon': [2.2329, 1.0134, 2.7499, 1.0135, 2.7502, 1.1891, 2.2332, 1.1896], 'confidence': 0.995, 'span': {'offset': 14, 'length': 7}}, {'content': 'this', 'polygon': [2.7875, 1.0135, 3.0099, 1.0134, 3.0101, 1.1896, 2.7877, 1.1891], 'confidence': 0.992, 'span': {'offset': 22, 'length': 4}}, {'content': 'limit,', 'polygon': [3.0445, 1.0134, 3.3796, 1.0129, 3.3799, 1.1897, 3.0447, 1.1897], 'confidence': 0.995, 'span': {'offset': 27, 'length': 6}}, {'content': 'the', 'polygon': [3.4143, 1.0129, 3.6222, 1.0125, 3.6227, 1.1893, 3.4146, 1.1896], 'confidence': 0.998, 'span': {'offset': 34, 'length': 3}}, {'content': 'plan', 'polygon': [3.6569, 1.0125, 3.9602, 1.0123, 3.9607, 1.1888, 3.6573, 1.1892], 'confidence': 0.991, 'span': {'offset': 38, 'length': 4}}, {'content': 'will', 'polygon': [3.9977, 1.0124, 4.2375, 1.0125, 4.2378, 1.1884, 3.9982, 1.1888], 'confidence': 0.99, 'span': {'offset': 43, 'length': 4}}, {'content': 'cover', 'polygon': [4.2808, 1.0125, 4.6361, 1.0126, 4.6362, 1.1891, 4.2811, 1.1884], 'confidence': 0.997, 'span': {'offset': 48, 'length': 5}}, {'content': '100%', 'polygon': [4.6823, 1.0126, 5.0578, 1.0125, 5.058, 1.1898, 4.6825, 1.1892], 'confidence': 0.995, 'span': {'offset': 54, 'length': 4}}, {'content': 'of', 'polygon': [5.0983, 1.0125, 5.2051, 1.0126, 5.2053, 1.1897, 5.0984, 1.1899], 'confidence': 0.997, 'span': {'offset': 59, 'length': 2}}, {'content': 'your', 'polygon': [5.2398, 1.0126, 5.5633, 1.0129, 5.5635, 1.1887, 5.24, 1.1896], 'confidence': 0.992, 'span': {'offset': 62, 'length': 4}}, {'content': 'expenses', 'polygon': [5.598, 1.0129, 6.1901, 1.0132, 6.1905, 1.1868, 5.5982, 1.1886], 'confidence': 0.994, 'span': {'offset': 67, 'length': 8}}, {'content': 'for', 'polygon': [6.2335, 1.0133, 6.4183, 1.0125, 6.4187, 1.1866, 6.2338, 1.1867], 'confidence': 0.999, 'span': {'offset': 76, 'length': 3}}, {'content': 'the', 'polygon': [6.4559, 1.0122, 6.6738, 1.0108, 6.6738, 1.1867, 6.4562, 1.1866], 'confidence': 0.998, 'span': {'offset': 80, 'length': 3}}, {'content': 'remainder', 'polygon': [1.2332, 1.2319, 1.9422, 1.229, 1.9432, 1.3944, 1.2348, 1.3913], 'confidence': 0.994, 'span': {'offset': 84, 'length': 9}}, {'content': 'of', 'polygon': [1.9771, 1.229, 2.0818, 1.2295, 2.0824, 1.395, 1.978, 1.3945], 'confidence': 0.998, 'span': {'offset': 94, 'length': 2}}, {'content': 'the', 'polygon': [2.114, 1.2295, 2.3396, 1.23, 2.3401, 1.3951, 2.1146, 1.3951], 'confidence': 0.999, 'span': {'offset': 97, 'length': 3}}, {'content': 'year.', 'polygon': [2.3772, 1.2302, 2.7049, 1.2316, 2.7053, 1.3951, 2.3776, 1.3951], 'confidence': 0.995, 'span': {'offset': 101, 'length': 5}}, {'content': 'Tips', 'polygon': [1.2404, 1.5691, 1.5105, 1.5693, 1.5112, 1.7484, 1.2417, 1.7494], 'confidence': 0.992, 'span': {'offset': 111, 'length': 4}}, {'content': 'for', 'polygon': [1.5457, 1.569, 1.7336, 1.5682, 1.7341, 1.7482, 1.5463, 1.7485], 'confidence': 0.999, 'span': {'offset': 116, 'length': 3}}, {'content': 'Managing', 'polygon': [1.7689, 1.5684, 2.4266, 1.5664, 2.427, 1.7467, 1.7694, 1.7479], 'confidence': 0.996, 'span': {'offset': 120, 'length': 8}}, {'content': 'Your', 'polygon': [2.4618, 1.5663, 2.7789, 1.5676, 2.7791, 1.7444, 2.4622, 1.7463], 'confidence': 0.992, 'span': {'offset': 129, 'length': 4}}, {'content': 'Costs', 'polygon': [2.8171, 1.5676, 3.1709, 1.5678, 3.1709, 1.7419, 2.8172, 1.7443], 'confidence': 0.997, 'span': {'offset': 134, 'length': 5}}, {'content': 'There', 'polygon': [1.2388, 1.909, 1.6338, 1.9094, 1.6342, 2.0844, 1.2393, 2.0827], 'confidence': 0.998, 'span': {'offset': 141, 'length': 5}}, {'content': 'are', 'polygon': [1.6742, 1.9095, 1.8789, 1.9096, 1.8793, 2.0849, 1.6746, 2.0845], 'confidence': 0.997, 'span': {'offset': 147, 'length': 3}}, {'content': 'several', 'polygon': [1.9192, 1.9096, 2.3834, 1.9096, 2.3838, 2.0859, 1.9196, 2.085], 'confidence': 0.994, 'span': {'offset': 151, 'length': 7}}, {'content': 'steps', 'polygon': [2.4209, 1.9096, 2.7554, 1.9095, 2.7559, 2.0868, 2.4213, 2.086], 'confidence': 0.995, 'span': {'offset': 159, 'length': 5}}, {'content': 'that', 'polygon': [2.7986, 1.9095, 3.0379, 1.9097, 3.0386, 2.0871, 2.7991, 2.0869], 'confidence': 0.992, 'span': {'offset': 165, 'length': 4}}, {'content': 'you', 'polygon': [3.0725, 1.9098, 3.332, 1.9103, 3.333, 2.087, 3.0733, 2.0871], 'confidence': 0.999, 'span': {'offset': 170, 'length': 3}}, {'content': 'can', 'polygon': [3.3724, 1.9105, 3.5915, 1.9115, 3.5925, 2.0871, 3.3734, 2.087], 'confidence': 0.999, 'span': {'offset': 174, 'length': 3}}, {'content': 'take', 'polygon': [3.6289, 1.9117, 3.9057, 1.9124, 3.9065, 2.0871, 3.6299, 2.0871], 'confidence': 0.992, 'span': {'offset': 178, 'length': 4}}, {'content': 'to', 'polygon': [3.9461, 1.9123, 4.0528, 1.9123, 4.0533, 2.0871, 3.9468, 2.0871], 'confidence': 0.999, 'span': {'offset': 183, 'length': 2}}, {'content': 'help', 'polygon': [4.0874, 1.9123, 4.3901, 1.9124, 4.3905, 2.0871, 4.0879, 2.0871], 'confidence': 0.986, 'span': {'offset': 186, 'length': 4}}, {'content': 'manage', 'polygon': [4.4305, 1.9124, 4.935, 1.913, 4.9353, 2.0871, 4.4308, 2.0871], 'confidence': 0.994, 'span': {'offset': 191, 'length': 6}}, {'content': 'your', 'polygon': [4.9725, 1.9131, 5.2781, 1.9134, 5.2784, 2.0871, 4.9728, 2.0871], 'confidence': 0.988, 'span': {'offset': 198, 'length': 4}}, {'content': 'costs', 'polygon': [5.3156, 1.9134, 5.6385, 1.9135, 5.6389, 2.0871, 5.3159, 2.0871], 'confidence': 0.995, 'span': {'offset': 203, 'length': 5}}, {'content': 'when', 'polygon': [5.6789, 1.9135, 6.0364, 1.9128, 6.0367, 2.0871, 5.6792, 2.0871], 'confidence': 0.992, 'span': {'offset': 209, 'length': 4}}, {'content': 'you', 'polygon': [6.071, 1.9126, 6.3132, 1.9114, 6.3134, 2.0871, 6.0713, 2.0871], 'confidence': 0.999, 'span': {'offset': 214, 'length': 3}}, {'content': 'are', 'polygon': [6.3506, 1.9114, 6.5582, 1.9109, 6.5586, 2.0871, 6.3509, 2.0871], 'confidence': 0.998, 'span': {'offset': 218, 'length': 3}}, {'content': 'enrolled', 'polygon': [6.5986, 1.9108, 7.1497, 1.9084, 7.1497, 2.0836, 6.599, 2.0871], 'confidence': 0.995, 'span': {'offset': 222, 'length': 8}}, {'content': 'in', 'polygon': [1.2356, 2.1112, 1.3532, 2.1109, 1.3534, 2.2869, 1.2357, 2.2865], 'confidence': 0.998, 'span': {'offset': 231, 'length': 2}}, {'content': 'Northwind', 'polygon': [1.3885, 2.1108, 2.1238, 2.112, 2.124, 2.2883, 1.3887, 2.287], 'confidence': 0.995, 'span': {'offset': 234, 'length': 9}}, {'content': 'Standard.', 'polygon': [2.1621, 2.112, 2.765, 2.1128, 2.7652, 2.2907, 2.1623, 2.2885], 'confidence': 0.994, 'span': {'offset': 244, 'length': 9}}, {'content': 'Here', 'polygon': [2.8003, 2.1128, 3.1327, 2.1129, 3.1329, 2.2914, 2.8005, 2.2908], 'confidence': 0.992, 'span': {'offset': 254, 'length': 4}}, {'content': 'are', 'polygon': [3.1738, 2.1129, 3.3797, 2.1129, 3.38, 2.2923, 3.174, 2.2915], 'confidence': 0.992, 'span': {'offset': 259, 'length': 3}}, {'content': 'a', 'polygon': [3.418, 2.1129, 3.4709, 2.1129, 3.4712, 2.2928, 3.4182, 2.2925], 'confidence': 0.989, 'span': {'offset': 263, 'length': 1}}, {'content': 'few', 'polygon': [3.5062, 2.1129, 3.7268, 2.1132, 3.7271, 2.2943, 3.5065, 2.293], 'confidence': 0.998, 'span': {'offset': 265, 'length': 3}}, {'content': 'tips', 'polygon': [3.7886, 2.1134, 4.0386, 2.1143, 4.0386, 2.2963, 3.7888, 2.2947], 'confidence': 0.99, 'span': {'offset': 269, 'length': 4}}, {'content': 'that', 'polygon': [4.0768, 2.1145, 4.318, 2.1149, 4.3181, 2.2965, 4.0769, 2.2964], 'confidence': 0.992, 'span': {'offset': 274, 'length': 4}}, {'content': 'you', 'polygon': [4.3533, 2.115, 4.6121, 2.1154, 4.6122, 2.2969, 4.3534, 2.2965], 'confidence': 0.999, 'span': {'offset': 279, 'length': 3}}, {'content': 'can', 'polygon': [4.6504, 2.1154, 4.871, 2.1157, 4.871, 2.2974, 4.6504, 2.297], 'confidence': 0.998, 'span': {'offset': 283, 'length': 3}}, {'content': 'use', 'polygon': [4.9092, 2.1156, 5.1298, 2.1152, 5.1299, 2.2972, 4.9092, 2.2974], 'confidence': 0.999, 'span': {'offset': 287, 'length': 3}}, {'content': 'to', 'polygon': [5.168, 2.1152, 5.2945, 2.115, 5.2947, 2.297, 5.1682, 2.2971], 'confidence': 0.999, 'span': {'offset': 291, 'length': 2}}, {'content': 'get', 'polygon': [5.3327, 2.1151, 5.518, 2.1154, 5.5182, 2.2966, 5.3329, 2.2969], 'confidence': 0.998, 'span': {'offset': 294, 'length': 3}}, {'content': 'the', 'polygon': [5.5533, 2.1154, 5.7739, 2.1157, 5.7741, 2.2962, 5.5535, 2.2966], 'confidence': 0.998, 'span': {'offset': 298, 'length': 3}}, {'content': 'most', 'polygon': [5.8151, 2.1157, 6.1298, 2.1159, 6.1299, 2.2959, 5.8152, 2.2962], 'confidence': 0.992, 'span': {'offset': 302, 'length': 4}}, {'content': 'out', 'polygon': [6.1651, 2.1159, 6.3769, 2.1164, 6.377, 2.2963, 6.1652, 2.2959], 'confidence': 0.993, 'span': {'offset': 307, 'length': 3}}, {'content': 'of', 'polygon': [6.4122, 2.1165, 6.5298, 2.1167, 6.5299, 2.2967, 6.4123, 2.2964], 'confidence': 0.998, 'span': {'offset': 311, 'length': 2}}, {'content': 'your', 'polygon': [6.5651, 2.1167, 6.9007, 2.1171, 6.9007, 2.2974, 6.5652, 2.2968], 'confidence': 0.989, 'span': {'offset': 314, 'length': 4}}, {'content': 'coverage:', 'polygon': [1.2404, 2.3461, 1.8815, 2.3453, 1.8815, 2.5014, 1.2407, 2.4998], 'confidence': 0.995, 'span': {'offset': 319, 'length': 9}}, {'content': '·', 'polygon': [1.2478, 2.6713, 1.2929, 2.6714, 1.2938, 2.8426, 1.2487, 2.8426], 'confidence': 0.606, 'span': {'offset': 330, 'length': 1}}, {'content': 'Make', 'polygon': [1.3268, 2.6714, 1.6992, 2.6716, 1.6996, 2.843, 1.3276, 2.8427], 'confidence': 0.992, 'span': {'offset': 332, 'length': 4}}, {'content': 'sure', 'polygon': [1.7415, 2.6717, 2.0237, 2.6721, 2.0245, 2.8437, 1.742, 2.8431], 'confidence': 0.992, 'span': {'offset': 337, 'length': 4}}, {'content': 'to', 'polygon': [2.0632, 2.6721, 2.1845, 2.6721, 2.1854, 2.844, 2.064, 2.8438], 'confidence': 0.996, 'span': {'offset': 342, 'length': 2}}, {'content': 'take', 'polygon': [2.2268, 2.672, 2.5061, 2.6716, 2.5069, 2.8446, 2.2277, 2.8441], 'confidence': 0.989, 'span': {'offset': 345, 'length': 4}}, {'content': 'advantage', 'polygon': [2.5428, 2.6716, 3.2115, 2.67, 3.213, 2.8452, 2.5436, 2.8447], 'confidence': 0.995, 'span': {'offset': 350, 'length': 9}}, {'content': 'of', 'polygon': [3.251, 2.67, 3.3582, 2.67, 3.36, 2.8452, 3.2526, 2.8452], 'confidence': 0.992, 'span': {'offset': 360, 'length': 2}}, {'content': 'preventive', 'polygon': [3.3921, 2.67, 4.1115, 2.6721, 4.1127, 2.8424, 3.3939, 2.8451], 'confidence': 0.995, 'span': {'offset': 363, 'length': 10}}, {'content': 'care', 'polygon': [4.1482, 2.6722, 4.4219, 2.6723, 4.4231, 2.8424, 4.1494, 2.8422], 'confidence': 0.992, 'span': {'offset': 374, 'length': 4}}, {'content': 'services.', 'polygon': [4.4614, 2.6723, 5.0172, 2.6711, 5.0185, 2.8431, 4.4626, 2.8426], 'confidence': 0.995, 'span': {'offset': 379, 'length': 9}}, {'content': 'These', 'polygon': [5.0539, 2.671, 5.4404, 2.6699, 5.4415, 2.8431, 5.0552, 2.843], 'confidence': 0.998, 'span': {'offset': 389, 'length': 5}}, {'content': 'services', 'polygon': [5.4799, 2.6698, 6.0047, 2.6699, 6.0055, 2.8411, 5.481, 2.8431], 'confidence': 0.995, 'span': {'offset': 395, 'length': 8}}, {'content': 'are', 'polygon': [6.0442, 2.6699, 6.253, 2.67, 6.2537, 2.8409, 6.045, 2.841], 'confidence': 0.998, 'span': {'offset': 404, 'length': 3}}, {'content': 'covered', 'polygon': [6.2897, 2.67, 6.806, 2.6683, 6.807, 2.8395, 6.2903, 2.8408], 'confidence': 0.996, 'span': {'offset': 408, 'length': 7}}, {'content': '100%', 'polygon': [6.854, 2.6683, 7.2438, 2.668, 7.2438, 2.8417, 6.8549, 2.8398], 'confidence': 0.995, 'span': {'offset': 416, 'length': 4}}, {'content': 'by', 'polygon': [1.2391, 2.8695, 1.3834, 2.8696, 1.3838, 3.0559, 1.2394, 3.0559], 'confidence': 0.996, 'span': {'offset': 421, 'length': 2}}, {'content': 'the', 'polygon': [1.4195, 2.8697, 1.6239, 2.87, 1.6244, 3.0559, 1.4199, 3.0559], 'confidence': 0.998, 'span': {'offset': 424, 'length': 3}}, {'content': 'plan', 'polygon': [1.66, 2.8702, 1.9486, 2.8713, 1.9493, 3.0559, 1.6605, 3.0559], 'confidence': 0.989, 'span': {'offset': 428, 'length': 4}}, {'content': 'and', 'polygon': [1.9846, 2.8712, 2.2492, 2.8708, 2.2498, 3.0559, 1.9853, 3.0559], 'confidence': 0.992, 'span': {'offset': 433, 'length': 3}}, {'content': 'can', 'polygon': [2.2883, 2.8706, 2.4897, 2.8692, 2.4906, 3.0559, 2.2889, 3.0559], 'confidence': 0.996, 'span': {'offset': 437, 'length': 3}}, {'content': 'help', 'polygon': [2.5258, 2.8689, 2.8264, 2.8694, 2.8272, 3.0559, 2.5267, 3.0559], 'confidence': 0.992, 'span': {'offset': 441, 'length': 4}}, {'content': 'you', 'polygon': [2.8654, 2.8696, 3.1029, 2.8701, 3.1037, 3.0559, 2.8662, 3.0559], 'confidence': 0.998, 'span': {'offset': 446, 'length': 3}}, {'content': 'avoid', 'polygon': [3.145, 2.8701, 3.4757, 2.8707, 3.4762, 3.0555, 3.1458, 3.0559], 'confidence': 0.995, 'span': {'offset': 450, 'length': 5}}, {'content': 'more', 'polygon': [3.5118, 2.8708, 3.8785, 2.8708, 3.8788, 3.0549, 3.5122, 3.0554], 'confidence': 0.989, 'span': {'offset': 456, 'length': 4}}, {'content': 'costly', 'polygon': [3.9206, 2.8708, 4.2813, 2.8705, 4.2815, 3.0526, 3.9209, 3.0549], 'confidence': 0.998, 'span': {'offset': 461, 'length': 6}}, {'content': 'treatments', 'polygon': [4.3174, 2.8705, 5.0479, 2.8707, 5.0481, 3.0512, 4.3176, 3.0525], 'confidence': 0.995, 'span': {'offset': 468, 'length': 10}}, {'content': 'down', 'polygon': [5.093, 2.8707, 5.4537, 2.8698, 5.4541, 3.0483, 5.0932, 3.0508], 'confidence': 0.992, 'span': {'offset': 479, 'length': 4}}, {'content': 'the', 'polygon': [5.4898, 2.8697, 5.6762, 2.869, 5.6765, 3.0471, 5.4901, 3.0481], 'confidence': 0.999, 'span': {'offset': 484, 'length': 3}}, {'content': 'line.', 'polygon': [5.7123, 2.8691, 6.0129, 2.8697, 6.0131, 3.0461, 5.7125, 3.047], 'confidence': 0.995, 'span': {'offset': 488, 'length': 5}}, {'content': '·', 'polygon': [1.2494, 3.2217, 1.3062, 3.2218, 1.3071, 3.3931, 1.2503, 3.3928], 'confidence': 0.364, 'span': {'offset': 495, 'length': 1}}, {'content': 'Always', 'polygon': [1.3459, 3.2218, 1.8174, 3.2217, 1.8186, 3.3936, 1.3469, 3.3933], 'confidence': 0.995, 'span': {'offset': 497, 'length': 6}}, {'content': 'make', 'polygon': [1.86, 3.2216, 2.2094, 3.221, 2.2105, 3.392, 1.8612, 3.3936], 'confidence': 0.992, 'span': {'offset': 504, 'length': 4}}, {'content': 'sure', 'polygon': [2.2491, 3.2211, 2.5303, 3.2213, 2.5314, 3.3913, 2.2503, 3.3919], 'confidence': 0.992, 'span': {'offset': 509, 'length': 4}}, {'content': 'to', 'polygon': [2.5701, 3.2213, 2.6951, 3.2214, 2.6961, 3.3915, 2.5712, 3.3914], 'confidence': 0.998, 'span': {'offset': 514, 'length': 2}}, {'content': 'visit', 'polygon': [2.732, 3.2214, 2.9876, 3.2214, 2.9888, 3.392, 2.7331, 3.3916], 'confidence': 0.996, 'span': {'offset': 517, 'length': 5}}, {'content': 'in-network', 'polygon': [3.0217, 3.2213, 3.7602, 3.2195, 3.7615, 3.3936, 3.0229, 3.392], 'confidence': 0.995, 'span': {'offset': 523, 'length': 10}}, {'content': 'providers.', 'polygon': [3.7943, 3.2194, 4.4759, 3.2178, 4.4769, 3.3936, 3.7956, 3.3936], 'confidence': 0.993, 'span': {'offset': 534, 'length': 10}}, {'content': 'Doing', 'polygon': [4.5185, 3.2177, 4.902, 3.2174, 4.9028, 3.3936, 4.5195, 3.3936], 'confidence': 0.998, 'span': {'offset': 545, 'length': 5}}, {'content': 'so', 'polygon': [4.9361, 3.2175, 5.0752, 3.2175, 5.0759, 3.3936, 4.9368, 3.3936], 'confidence': 0.998, 'span': {'offset': 551, 'length': 2}}, {'content': 'will', 'polygon': [5.1122, 3.2177, 5.3536, 3.2186, 5.354, 3.3936, 5.1128, 3.3936], 'confidence': 0.992, 'span': {'offset': 554, 'length': 4}}, {'content': 'ensure', 'polygon': [5.3934, 3.2187, 5.8364, 3.2193, 5.8368, 3.3936, 5.3937, 3.3936], 'confidence': 0.998, 'span': {'offset': 559, 'length': 6}}, {'content': 'that', 'polygon': [5.8734, 3.2194, 6.1233, 3.2188, 6.1238, 3.3934, 5.8738, 3.3936], 'confidence': 0.992, 'span': {'offset': 566, 'length': 4}}, {'content': 'you', 'polygon': [6.1574, 3.2187, 6.4073, 3.2186, 6.408, 3.3925, 6.1579, 3.3933], 'confidence': 0.999, 'span': {'offset': 571, 'length': 3}}, {'content': 'receive', 'polygon': [6.4471, 3.2188, 6.9158, 3.2192, 6.9164, 3.3908, 6.4477, 3.3922], 'confidence': 0.997, 'span': {'offset': 575, 'length': 7}}, {'content': 'the', 'polygon': [6.9555, 3.2191, 7.1719, 3.2183, 7.1719, 3.3913, 6.9562, 3.3909], 'confidence': 0.999, 'span': {'offset': 583, 'length': 3}}, {'content': 'maximum', 'polygon': [1.2369, 3.4315, 1.8451, 3.4279, 1.8465, 3.6009, 1.2384, 3.6001], 'confidence': 0.995, 'span': {'offset': 587, 'length': 7}}, {'content': 'benefit', 'polygon': [1.9172, 3.4274, 2.3784, 3.4265, 2.3795, 3.6049, 1.9187, 3.6014], 'confidence': 0.998, 'span': {'offset': 595, 'length': 7}}, {'content': 'from', 'polygon': [2.413, 3.4265, 2.7445, 3.4268, 2.7453, 3.6065, 2.414, 3.6047], 'confidence': 0.992, 'span': {'offset': 603, 'length': 4}}, {'content': 'your', 'polygon': [2.7791, 3.427, 3.0875, 3.4284, 3.0878, 3.6076, 2.78, 3.6065], 'confidence': 0.993, 'span': {'offset': 608, 'length': 4}}, {'content': 'plan.', 'polygon': [3.125, 3.4288, 3.4476, 3.4286, 3.4476, 3.6065, 3.1253, 3.6074], 'confidence': 0.996, 'span': {'offset': 613, 'length': 5}}, {'content': '·', 'polygon': [1.2477, 3.7771, 1.305, 3.7768, 1.3055, 3.9472, 1.2483, 3.9472], 'confidence': 0.632, 'span': {'offset': 620, 'length': 1}}, {'content': 'Consider', 'polygon': [1.3537, 3.7765, 1.9241, 3.7755, 1.9244, 3.9472, 1.3542, 3.9472], 'confidence': 0.996, 'span': {'offset': 622, 'length': 8}}, {'content': 'generic', 'polygon': [1.9585, 3.7756, 2.4286, 3.7751, 2.4288, 3.9472, 1.9588, 3.9472], 'confidence': 0.995, 'span': {'offset': 631, 'length': 7}}, {'content': 'prescription', 'polygon': [2.463, 3.775, 3.2856, 3.7737, 3.2863, 3.9472, 2.4632, 3.9472], 'confidence': 0.994, 'span': {'offset': 639, 'length': 12}}, {'content': 'drugs', 'polygon': [3.3286, 3.7738, 3.6926, 3.7743, 3.6932, 3.9472, 3.3293, 3.9472], 'confidence': 0.995, 'span': {'offset': 652, 'length': 5}}, {'content': 'when', 'polygon': [3.7299, 3.7742, 4.0882, 3.7731, 4.0887, 3.9472, 3.7305, 3.9472], 'confidence': 0.992, 'span': {'offset': 658, 'length': 4}}, {'content': 'available.', 'polygon': [4.1254, 3.7731, 4.736, 3.7722, 4.7363, 3.9472, 4.126, 3.9472], 'confidence': 0.994, 'span': {'offset': 663, 'length': 10}}, {'content': 'These', 'polygon': [4.7761, 3.772, 5.1602, 3.7707, 5.1603, 3.9472, 4.7764, 3.9472], 'confidence': 0.998, 'span': {'offset': 674, 'length': 5}}, {'content': 'drugs', 'polygon': [5.2003, 3.7706, 5.5672, 3.7711, 5.5673, 3.9472, 5.2004, 3.9472], 'confidence': 0.997, 'span': {'offset': 680, 'length': 5}}, {'content': 'can', 'polygon': [5.6073, 3.7713, 5.828, 3.7716, 5.8282, 3.9472, 5.6075, 3.9472], 'confidence': 0.998, 'span': {'offset': 686, 'length': 3}}, {'content': 'often', 'polygon': [5.8681, 3.7715, 6.2035, 3.771, 6.2037, 3.9472, 5.8683, 3.9472], 'confidence': 0.998, 'span': {'offset': 690, 'length': 5}}, {'content': 'be', 'polygon': [6.2408, 3.7711, 6.3927, 3.7715, 6.3928, 3.9472, 6.2409, 3.9472], 'confidence': 0.998, 'span': {'offset': 696, 'length': 2}}, {'content': 'cheaper', 'polygon': [6.4328, 3.7716, 6.9616, 3.7719, 6.9616, 3.9472, 6.4329, 3.9472], 'confidence': 0.998, 'span': {'offset': 699, 'length': 7}}, {'content': 'than', 'polygon': [1.2388, 3.9728, 1.517, 3.9733, 1.5177, 4.1491, 1.2401, 4.149], 'confidence': 0.989, 'span': {'offset': 707, 'length': 4}}, {'content': 'brand-name', 'polygon': [1.5518, 3.9732, 2.3806, 3.9732, 2.3813, 4.151, 1.5525, 4.1494], 'confidence': 0.992, 'span': {'offset': 712, 'length': 10}}, {'content': 'drugs', 'polygon': [2.4212, 3.9734, 2.7834, 3.9738, 2.784, 4.152, 2.4218, 4.1512], 'confidence': 0.996, 'span': {'offset': 723, 'length': 5}}, {'content': 'and', 'polygon': [2.824, 3.9738, 3.0645, 3.9739, 3.0648, 4.152, 2.8245, 4.152], 'confidence': 0.996, 'span': {'offset': 729, 'length': 3}}, {'content': 'are', 'polygon': [3.1022, 3.974, 3.3079, 3.9747, 3.3086, 4.1518, 3.1026, 4.152], 'confidence': 0.998, 'span': {'offset': 733, 'length': 3}}, {'content': 'just', 'polygon': [3.3456, 3.9749, 3.5803, 3.9757, 3.5806, 4.1519, 3.3462, 4.1519], 'confidence': 0.992, 'span': {'offset': 737, 'length': 4}}, {'content': 'as', 'polygon': [3.6151, 3.9757, 3.7571, 3.9759, 3.7574, 4.1516, 3.6154, 4.1518], 'confidence': 0.998, 'span': {'offset': 742, 'length': 2}}, {'content': 'effective.', 'polygon': [3.7977, 3.9761, 4.3883, 3.9752, 4.3883, 4.1501, 3.798, 4.1516], 'confidence': 0.993, 'span': {'offset': 745, 'length': 10}}, {'content': '.', 'polygon': [1.248, 4.3187, 1.3055, 4.319, 1.306, 4.4936, 1.2486, 4.4933], 'confidence': 0.652, 'span': {'offset': 757, 'length': 1}}, {'content': 'Talk', 'polygon': [1.3515, 4.3192, 1.6159, 4.3203, 1.6162, 4.4948, 1.352, 4.4938], 'confidence': 0.99, 'span': {'offset': 759, 'length': 4}}, {'content': 'to', 'polygon': [1.6504, 4.3205, 1.7998, 4.3212, 1.8001, 4.4948, 1.6507, 4.495], 'confidence': 0.998, 'span': {'offset': 764, 'length': 2}}, {'content': 'your', 'polygon': [1.8343, 4.3214, 2.1418, 4.3228, 2.142, 4.4944, 1.8345, 4.4948], 'confidence': 0.992, 'span': {'offset': 767, 'length': 4}}, {'content': 'doctor', 'polygon': [2.182, 4.3227, 2.6074, 4.3223, 2.6079, 4.4947, 2.1823, 4.4944], 'confidence': 0.997, 'span': {'offset': 772, 'length': 6}}, {'content': 'about', 'polygon': [2.6419, 4.3222, 2.9954, 4.3221, 2.996, 4.4961, 2.6424, 4.4949], 'confidence': 0.997, 'span': {'offset': 779, 'length': 5}}, {'content': 'ways', 'polygon': [3.0298, 4.3223, 3.3632, 4.3241, 3.3641, 4.4969, 3.0305, 4.4962], 'confidence': 0.992, 'span': {'offset': 785, 'length': 4}}, {'content': 'to', 'polygon': [3.3977, 4.3242, 3.5471, 4.3242, 3.548, 4.4972, 3.3986, 4.4969], 'confidence': 0.998, 'span': {'offset': 790, 'length': 2}}, {'content': 'save', 'polygon': [3.5874, 4.3243, 3.8748, 4.324, 3.8755, 4.4979, 3.5882, 4.4972], 'confidence': 0.983, 'span': {'offset': 793, 'length': 4}}, {'content': 'money.', 'polygon': [3.9121, 4.3238, 4.3633, 4.3221, 4.3639, 4.4995, 3.9128, 4.4981], 'confidence': 0.994, 'span': {'offset': 798, 'length': 6}}, {'content': 'Many', 'polygon': [4.3978, 4.3219, 4.7829, 4.3215, 4.7834, 4.4994, 4.3984, 4.4996], 'confidence': 0.989, 'span': {'offset': 805, 'length': 4}}, {'content': 'doctors', 'polygon': [4.8174, 4.3216, 5.306, 4.3219, 5.3061, 4.4991, 4.8178, 4.4993], 'confidence': 0.997, 'span': {'offset': 810, 'length': 7}}, {'content': 'are', 'polygon': [5.3433, 4.3219, 5.5531, 4.3219, 5.5533, 4.4993, 5.3435, 4.4992], 'confidence': 0.996, 'span': {'offset': 818, 'length': 3}}, {'content': 'willing', 'polygon': [5.5876, 4.3221, 6.036, 4.3226, 6.036, 4.498, 5.5878, 4.4992], 'confidence': 0.995, 'span': {'offset': 822, 'length': 7}}, {'content': 'to', 'polygon': [6.0704, 4.3223, 6.1969, 4.3212, 6.197, 4.4982, 6.0705, 4.498], 'confidence': 0.998, 'span': {'offset': 830, 'length': 2}}, {'content': 'work', 'polygon': [6.2343, 4.3209, 6.5676, 4.3204, 6.5678, 4.4983, 6.2343, 4.4982], 'confidence': 0.992, 'span': {'offset': 833, 'length': 4}}, {'content': 'with', 'polygon': [6.605, 4.3205, 6.9067, 4.3209, 6.907, 4.4988, 6.6051, 4.4983], 'confidence': 0.992, 'span': {'offset': 838, 'length': 4}}, {'content': 'you', 'polygon': [6.9412, 4.321, 7.194, 4.3213, 7.194, 4.4999, 6.9415, 4.499], 'confidence': 0.995, 'span': {'offset': 843, 'length': 3}}, {'content': 'to', 'polygon': [1.2375, 4.5292, 1.3768, 4.5291, 1.3783, 4.7002, 1.2391, 4.7005], 'confidence': 0.997, 'span': {'offset': 847, 'length': 2}}, {'content': 'find', 'polygon': [1.4194, 4.5291, 1.6696, 4.5291, 1.6708, 4.7006, 1.421, 4.7002], 'confidence': 0.993, 'span': {'offset': 850, 'length': 4}}, {'content': 'the', 'polygon': [1.7094, 4.5291, 1.897, 4.5292, 1.8981, 4.7005, 1.7105, 4.7007], 'confidence': 0.999, 'span': {'offset': 855, 'length': 3}}, {'content': 'most', 'polygon': [1.9311, 4.5293, 2.2779, 4.529, 2.2793, 4.7013, 1.9322, 4.7003], 'confidence': 0.992, 'span': {'offset': 859, 'length': 4}}, {'content': 'cost-effective', 'polygon': [2.3148, 4.5289, 3.1818, 4.5288, 3.1822, 4.7035, 2.3163, 4.7015], 'confidence': 0.992, 'span': {'offset': 864, 'length': 14}}, {'content': 'treatment', 'polygon': [3.2187, 4.5289, 3.8753, 4.5297, 3.8756, 4.7046, 3.2191, 4.7036], 'confidence': 0.995, 'span': {'offset': 879, 'length': 9}}, {'content': 'options', 'polygon': [3.9094, 4.5296, 4.3927, 4.5295, 4.3929, 4.7052, 3.9097, 4.7047], 'confidence': 0.996, 'span': {'offset': 889, 'length': 7}}, {'content': 'available.', 'polygon': [4.4353, 4.5294, 5.0524, 4.5285, 5.0524, 4.7017, 4.4355, 4.7053], 'confidence': 0.992, 'span': {'offset': 897, 'length': 10}}, {'content': '·', 'polygon': [1.249, 4.8736, 1.307, 4.8738, 1.3072, 5.0488, 1.2491, 5.0488], 'confidence': 0.316, 'span': {'offset': 909, 'length': 1}}, {'content': 'Review', 'polygon': [1.3564, 4.8739, 1.7919, 4.8744, 1.7922, 5.0488, 1.3566, 5.0488], 'confidence': 0.995, 'span': {'offset': 911, 'length': 6}}, {'content': 'your', 'polygon': [1.8413, 4.8743, 2.1694, 4.8735, 2.1694, 5.0488, 1.8415, 5.0488], 'confidence': 0.985, 'span': {'offset': 918, 'length': 4}}, {'content': 'Explanation', 'polygon': [2.2101, 4.8734, 2.9824, 4.8726, 2.9827, 5.0488, 2.2101, 5.0488], 'confidence': 0.994, 'span': {'offset': 923, 'length': 11}}, {'content': 'of', 'polygon': [3.0231, 4.8726, 3.1305, 4.8726, 3.131, 5.0488, 3.0234, 5.0488], 'confidence': 0.995, 'span': {'offset': 935, 'length': 2}}, {'content': 'Benefits', 'polygon': [3.1653, 4.8725, 3.7112, 4.8721, 3.7117, 5.0488, 3.1658, 5.0488], 'confidence': 0.993, 'span': {'offset': 938, 'length': 8}}, {'content': '(EOB)', 'polygon': [3.7606, 4.872, 4.138, 4.8707, 4.1383, 5.0488, 3.761, 5.0488], 'confidence': 0.98, 'span': {'offset': 947, 'length': 5}}, {'content': 'statements', 'polygon': [4.1845, 4.8705, 4.8988, 4.8713, 4.8989, 5.0488, 4.1847, 5.0488], 'confidence': 0.994, 'span': {'offset': 953, 'length': 10}}, {'content': 'carefully.', 'polygon': [4.9394, 4.8711, 5.5347, 4.8703, 5.5349, 5.0488, 4.9396, 5.0488], 'confidence': 0.992, 'span': {'offset': 964, 'length': 10}}, {'content': 'This', 'polygon': [5.5695, 4.8704, 5.8512, 4.8708, 5.8513, 5.0488, 5.5697, 5.0488], 'confidence': 0.992, 'span': {'offset': 975, 'length': 4}}, {'content': 'document', 'polygon': [5.8918, 4.8709, 6.5335, 4.8697, 6.5337, 5.0465, 5.8919, 5.0488], 'confidence': 0.997, 'span': {'offset': 980, 'length': 8}}, {'content': 'will', 'polygon': [6.5684, 4.8698, 6.8181, 4.8702, 6.8183, 5.0451, 6.5685, 5.0463], 'confidence': 0.994, 'span': {'offset': 989, 'length': 4}}, {'content': 'show', 'polygon': [6.8587, 4.8704, 7.2217, 4.8721, 7.2217, 5.0457, 6.8589, 5.0452], 'confidence': 0.989, 'span': {'offset': 994, 'length': 4}}, {'content': 'you', 'polygon': [1.2323, 5.0806, 1.4875, 5.0788, 1.4888, 5.2647, 1.2339, 5.2647], 'confidence': 0.997, 'span': {'offset': 999, 'length': 3}}, {'content': 'exactly', 'polygon': [1.5274, 5.0785, 1.9578, 5.0777, 1.9586, 5.263, 1.5287, 5.2647], 'confidence': 0.996, 'span': {'offset': 1003, 'length': 7}}, {'content': 'how', 'polygon': [1.9947, 5.0777, 2.2622, 5.0771, 2.2629, 5.2633, 1.9954, 5.2628], 'confidence': 0.999, 'span': {'offset': 1011, 'length': 3}}, {'content': 'much', 'polygon': [2.3145, 5.077, 2.6711, 5.0766, 2.6718, 5.2632, 2.3152, 5.2634], 'confidence': 0.992, 'span': {'offset': 1015, 'length': 4}}, {'content': 'you', 'polygon': [2.708, 5.0766, 2.9724, 5.0756, 2.9733, 5.2637, 2.7087, 5.2631], 'confidence': 0.999, 'span': {'offset': 1020, 'length': 3}}, {'content': 'are', 'polygon': [3.0123, 5.0754, 3.2183, 5.0745, 3.2195, 5.2642, 3.0133, 5.2638], 'confidence': 0.993, 'span': {'offset': 1024, 'length': 3}}, {'content': 'being', 'polygon': [3.2583, 5.0745, 3.618, 5.0741, 3.6191, 5.2636, 3.2595, 5.2641], 'confidence': 0.998, 'span': {'offset': 1028, 'length': 5}}, {'content': 'charged', 'polygon': [3.6549, 5.0741, 4.1713, 5.0734, 4.1721, 5.2635, 3.656, 5.2638], 'confidence': 0.998, 'span': {'offset': 1034, 'length': 7}}, {'content': 'for', 'polygon': [4.2113, 5.0733, 4.3988, 5.0733, 4.3993, 5.2622, 4.212, 5.2632], 'confidence': 0.994, 'span': {'offset': 1042, 'length': 3}}, {'content': 'each', 'polygon': [4.4357, 5.0734, 4.7309, 5.0744, 4.7309, 5.2621, 4.4362, 5.2622], 'confidence': 0.989, 'span': {'offset': 1046, 'length': 4}}, {'content': 'service', 'polygon': [4.7708, 5.0744, 5.2289, 5.0741, 5.2293, 5.2612, 4.7709, 5.262], 'confidence': 0.995, 'span': {'offset': 1051, 'length': 7}}, {'content': 'and', 'polygon': [5.2658, 5.0742, 5.4994, 5.0745, 5.4998, 5.262, 5.2661, 5.2613], 'confidence': 0.999, 'span': {'offset': 1059, 'length': 3}}, {'content': 'what', 'polygon': [5.5363, 5.0745, 5.8561, 5.0737, 5.8564, 5.2613, 5.5366, 5.262], 'confidence': 0.992, 'span': {'offset': 1063, 'length': 4}}, {'content': 'your', 'polygon': [5.893, 5.0736, 6.2004, 5.0737, 6.2007, 5.2614, 5.8933, 5.2612], 'confidence': 0.992, 'span': {'offset': 1068, 'length': 4}}, {'content': 'plan', 'polygon': [6.2373, 5.0737, 6.5078, 5.0739, 6.5081, 5.2611, 6.2376, 5.2614], 'confidence': 0.99, 'span': {'offset': 1073, 'length': 4}}, {'content': 'is', 'polygon': [6.5447, 5.074, 6.6794, 5.0741, 6.6794, 5.2608, 6.545, 5.2611], 'confidence': 0.996, 'span': {'offset': 1078, 'length': 2}}, {'content': 'covering.', 'polygon': [1.2411, 5.2977, 1.8483, 5.2967, 1.8483, 5.4585, 1.2426, 5.4554], 'confidence': 0.995, 'span': {'offset': 1081, 'length': 9}}, {'content': 'By', 'polygon': [1.2397, 5.6266, 1.3979, 5.627, 1.3986, 5.8175, 1.2407, 5.8178], 'confidence': 0.977, 'span': {'offset': 1092, 'length': 2}}, {'content': 'following', 'polygon': [1.4344, 5.627, 2.0428, 5.6288, 2.0429, 5.8168, 1.4351, 5.8174], 'confidence': 0.996, 'span': {'offset': 1095, 'length': 9}}, {'content': 'these', 'polygon': [2.0794, 5.6289, 2.4475, 5.6299, 2.4476, 5.8166, 2.0794, 5.8168], 'confidence': 0.998, 'span': {'offset': 1105, 'length': 5}}, {'content': 'tips,', 'polygon': [2.487, 5.63, 2.7547, 5.6306, 2.7547, 5.8155, 2.4871, 5.8166], 'confidence': 0.994, 'span': {'offset': 1111, 'length': 5}}, {'content': 'you', 'polygon': [2.7912, 5.6307, 3.0315, 5.6316, 3.0315, 5.8144, 2.7912, 5.8153], 'confidence': 0.998, 'span': {'offset': 1117, 'length': 3}}, {'content': 'can', 'polygon': [3.0741, 5.6318, 3.2932, 5.6329, 3.2931, 5.8138, 3.0741, 5.8143], 'confidence': 0.998, 'span': {'offset': 1121, 'length': 3}}, {'content': 'ensure', 'polygon': [3.3327, 5.6331, 3.7769, 5.6331, 3.777, 5.8149, 3.3327, 5.8137], 'confidence': 0.996, 'span': {'offset': 1125, 'length': 6}}, {'content': 'that', 'polygon': [3.8134, 5.633, 4.0507, 5.6316, 4.0508, 5.8144, 3.8135, 5.8149], 'confidence': 0.992, 'span': {'offset': 1132, 'length': 4}}, {'content': 'you', 'polygon': [4.0872, 5.6313, 4.3488, 5.6301, 4.3489, 5.8143, 4.0873, 5.8143], 'confidence': 0.999, 'span': {'offset': 1137, 'length': 3}}, {'content': 'are', 'polygon': [4.3853, 5.6299, 4.5922, 5.6291, 4.5923, 5.8149, 4.3854, 5.8144], 'confidence': 0.998, 'span': {'offset': 1141, 'length': 3}}, {'content': 'getting', 'polygon': [4.6287, 5.629, 5.0606, 5.6276, 5.0607, 5.814, 4.6288, 5.815], 'confidence': 0.995, 'span': {'offset': 1145, 'length': 7}}, {'content': 'the', 'polygon': [5.0971, 5.6275, 5.304, 5.6273, 5.3041, 5.8142, 5.0972, 5.814], 'confidence': 0.999, 'span': {'offset': 1153, 'length': 3}}, {'content': 'most', 'polygon': [5.3405, 5.6272, 5.6691, 5.6272, 5.6692, 5.8135, 5.3406, 5.8142], 'confidence': 0.992, 'span': {'offset': 1157, 'length': 4}}, {'content': 'out', 'polygon': [5.7056, 5.6273, 5.9246, 5.6275, 5.9247, 5.8124, 5.7057, 5.8133], 'confidence': 0.995, 'span': {'offset': 1162, 'length': 3}}, {'content': 'of', 'polygon': [5.9611, 5.6272, 6.0828, 5.6262, 6.0829, 5.8122, 5.9612, 5.8123], 'confidence': 0.998, 'span': {'offset': 1166, 'length': 2}}, {'content': 'your', 'polygon': [6.1193, 5.6259, 6.4113, 5.6241, 6.4115, 5.8111, 6.1194, 5.8121], 'confidence': 0.989, 'span': {'offset': 1169, 'length': 4}}, {'content': 'Northwind', 'polygon': [6.4479, 5.6241, 7.1995, 5.6232, 7.1995, 5.8082, 6.448, 5.8108], 'confidence': 0.994, 'span': {'offset': 1174, 'length': 9}}, {'content': 'Standard', 'polygon': [1.2347, 5.8318, 1.8419, 5.8305, 1.843, 6.0129, 1.2364, 6.0098], 'confidence': 0.995, 'span': {'offset': 1184, 'length': 8}}, {'content': 'health', 'polygon': [1.8804, 5.8309, 2.2862, 5.8332, 2.2864, 6.0153, 1.8813, 6.0124], 'confidence': 0.996, 'span': {'offset': 1193, 'length': 6}}, {'content': 'plan.', 'polygon': [2.3276, 5.8341, 2.6507, 5.8337, 2.6507, 6.0163, 2.3278, 6.0154], 'confidence': 0.995, 'span': {'offset': 1200, 'length': 5}}, {'content': 'HOW', 'polygon': [1.2392, 6.1922, 1.6768, 6.1922, 1.677, 6.3799, 1.2396, 6.3808], 'confidence': 0.998, 'span': {'offset': 1210, 'length': 3}}, {'content': 'PROVIDERS', 'polygon': [1.7354, 6.192, 2.6506, 6.192, 2.6506, 6.3794, 1.7356, 6.3798], 'confidence': 0.993, 'span': {'offset': 1214, 'length': 9}}, {'content': 'AFFECT', 'polygon': [2.6999, 6.1921, 3.2884, 6.1915, 3.2885, 6.3788, 2.6999, 6.3791], 'confidence': 0.992, 'span': {'offset': 1224, 'length': 6}}, {'content': 'YOUR', 'polygon': [3.3316, 6.1915, 3.7969, 6.1915, 3.7969, 6.3802, 3.3316, 6.379], 'confidence': 0.992, 'span': {'offset': 1231, 'length': 4}}, {'content': 'COSTS', 'polygon': [3.8493, 6.1915, 4.3717, 6.192, 4.3717, 6.3805, 3.8492, 6.3805], 'confidence': 0.995, 'span': {'offset': 1236, 'length': 5}}, {'content': 'In-Network', 'polygon': [1.2362, 6.5951, 1.9697, 6.5951, 1.9701, 6.7498, 1.2372, 6.7507], 'confidence': 0.992, 'span': {'offset': 1247, 'length': 10}}, {'content': 'Providers', 'polygon': [2.0153, 6.5952, 2.6175, 6.5978, 2.6175, 6.749, 2.0156, 6.7499], 'confidence': 0.995, 'span': {'offset': 1258, 'length': 9}}, {'content': 'HOW', 'polygon': [1.2372, 6.7992, 1.5937, 6.7998, 1.5941, 6.9676, 1.2377, 6.9676], 'confidence': 0.998, 'span': {'offset': 1268, 'length': 3}}, {'content': 'PROVIDERS', 'polygon': [1.6352, 6.7997, 2.4063, 6.7978, 2.4066, 6.9671, 1.6355, 6.9674], 'confidence': 0.994, 'span': {'offset': 1272, 'length': 9}}, {'content': 'AFFECT', 'polygon': [2.4422, 6.7979, 2.9646, 6.7973, 2.9647, 6.9658, 2.4425, 6.9669], 'confidence': 0.997, 'span': {'offset': 1282, 'length': 6}}, {'content': 'YOUR', 'polygon': [3.0005, 6.7973, 3.3847, 6.7978, 3.3847, 6.9666, 3.0006, 6.966], 'confidence': 0.992, 'span': {'offset': 1289, 'length': 4}}, {'content': 'COSTS', 'polygon': [3.4206, 6.798, 3.8516, 6.797, 3.8516, 6.9666, 3.4206, 6.9667], 'confidence': 0.997, 'span': {'offset': 1294, 'length': 5}}, {'content': 'When', 'polygon': [1.2396, 7.1525, 1.6317, 7.1522, 1.6319, 7.3287, 1.2399, 7.3269], 'confidence': 0.986, 'span': {'offset': 1301, 'length': 4}}, {'content': 'selecting', 'polygon': [1.672, 7.1521, 2.2457, 7.1516, 2.246, 7.3288, 1.6723, 7.3289], 'confidence': 0.997, 'span': {'offset': 1306, 'length': 9}}, {'content': 'a', 'polygon': [2.2832, 7.1516, 2.3524, 7.1515, 2.3526, 7.329, 2.2834, 7.3289], 'confidence': 0.995, 'span': {'offset': 1316, 'length': 1}}, {'content': 'health', 'polygon': [2.3899, 7.1514, 2.7733, 7.1519, 2.7735, 7.3296, 2.3901, 7.3291], 'confidence': 0.997, 'span': {'offset': 1318, 'length': 6}}, {'content': 'insurance', 'polygon': [2.8079, 7.152, 3.4536, 7.1535, 3.4543, 7.3296, 2.808, 7.3296], 'confidence': 0.996, 'span': {'offset': 1325, 'length': 9}}, {'content': 'plan,', 'polygon': [3.4882, 7.1536, 3.8226, 7.154, 3.8233, 7.3296, 3.4889, 7.3296], 'confidence': 0.995, 'span': {'offset': 1335, 'length': 5}}, {'content': 'one', 'polygon': [3.8658, 7.1542, 4.0993, 7.1549, 4.0998, 7.3296, 3.8665, 7.3296], 'confidence': 0.999, 'span': {'offset': 1341, 'length': 3}}, {'content': 'of', 'polygon': [4.1397, 7.155, 4.2493, 7.1551, 4.2497, 7.3296, 4.1402, 7.3296], 'confidence': 0.998, 'span': {'offset': 1345, 'length': 2}}, {'content': 'the', 'polygon': [4.2838, 7.155, 4.5029, 7.1541, 4.5035, 7.3296, 4.2843, 7.3296], 'confidence': 0.999, 'span': {'offset': 1348, 'length': 3}}, {'content': 'most', 'polygon': [4.5404, 7.1539, 4.8489, 7.154, 4.8493, 7.3296, 4.541, 7.3296], 'confidence': 0.992, 'span': {'offset': 1352, 'length': 4}}, {'content': 'important', 'polygon': [4.8835, 7.1541, 5.5638, 7.153, 5.5641, 7.3293, 4.8839, 7.3296], 'confidence': 0.995, 'span': {'offset': 1357, 'length': 9}}, {'content': 'factors', 'polygon': [5.5984, 7.1531, 6.0423, 7.1532, 6.0425, 7.3273, 5.5987, 7.3292], 'confidence': 0.996, 'span': {'offset': 1367, 'length': 7}}, {'content': 'to', 'polygon': [6.0798, 7.153, 6.2067, 7.1525, 6.2069, 7.3268, 6.08, 7.3272], 'confidence': 0.999, 'span': {'offset': 1375, 'length': 2}}, {'content': 'consider', 'polygon': [6.247, 7.1523, 6.7861, 7.1512, 6.7865, 7.324, 6.2472, 7.3267], 'confidence': 0.995, 'span': {'offset': 1378, 'length': 8}}, {'content': 'is', 'polygon': [6.8207, 7.1512, 6.9446, 7.151, 6.945, 7.3243, 6.821, 7.3241], 'confidence': 0.988, 'span': {'offset': 1387, 'length': 2}}, {'content': 'the', 'polygon': [6.985, 7.151, 7.2051, 7.1508, 7.2051, 7.3247, 6.9854, 7.3243], 'confidence': 0.999, 'span': {'offset': 1390, 'length': 3}}, {'content': 'network', 'polygon': [1.2365, 7.3594, 1.7843, 7.3587, 1.7852, 7.5326, 1.2376, 7.533], 'confidence': 0.997, 'span': {'offset': 1394, 'length': 7}}, {'content': 'of', 'polygon': [1.8193, 7.3586, 1.9359, 7.3583, 1.9367, 7.5327, 1.8202, 7.5326], 'confidence': 0.989, 'span': {'offset': 1402, 'length': 2}}, {'content': 'in-network', 'polygon': [1.9708, 7.3582, 2.7343, 7.3563, 2.7348, 7.5349, 1.9716, 7.5327], 'confidence': 0.995, 'span': {'offset': 1405, 'length': 10}}, {'content': 'providers', 'polygon': [2.7693, 7.3562, 3.3958, 7.3558, 3.3963, 7.536, 2.7698, 7.5349], 'confidence': 0.996, 'span': {'offset': 1416, 'length': 9}}, {'content': 'that', 'polygon': [3.4366, 7.3558, 3.6843, 7.3558, 3.6851, 7.5366, 3.4372, 7.5361], 'confidence': 0.992, 'span': {'offset': 1426, 'length': 4}}, {'content': 'are', 'polygon': [3.7193, 7.3559, 3.9379, 7.3563, 3.9386, 7.5358, 3.72, 7.5365], 'confidence': 0.999, 'span': {'offset': 1431, 'length': 3}}, {'content': 'available', 'polygon': [3.9757, 7.3563, 4.5469, 7.3572, 4.5471, 7.536, 3.9764, 7.5356], 'confidence': 0.995, 'span': {'offset': 1435, 'length': 9}}, {'content': 'with', 'polygon': [4.5819, 7.3572, 4.8849, 7.3573, 4.8852, 7.5375, 4.5821, 7.5361], 'confidence': 0.992, 'span': {'offset': 1445, 'length': 4}}, {'content': 'the', 'polygon': [4.9257, 7.3573, 5.1297, 7.3575, 5.13, 7.5376, 4.926, 7.5375], 'confidence': 0.998, 'span': {'offset': 1450, 'length': 3}}, {'content': 'plan.', 'polygon': [5.1705, 7.3575, 5.4951, 7.359, 5.4951, 7.5374, 5.1708, 7.5376], 'confidence': 0.995, 'span': {'offset': 1454, 'length': 5}}, {'content': 'Northwind', 'polygon': [1.24, 7.695, 1.9647, 7.6959, 1.9645, 7.8726, 1.2398, 7.8715], 'confidence': 0.993, 'span': {'offset': 1461, 'length': 9}}, {'content': 'Standard', 'polygon': [2.0031, 7.696, 2.5917, 7.6976, 2.5912, 7.875, 2.0029, 7.8726], 'confidence': 0.995, 'span': {'offset': 1471, 'length': 8}}, {'content': 'offers', 'polygon': [2.6301, 7.6976, 2.9969, 7.6972, 2.9964, 7.8766, 2.6296, 7.8752], 'confidence': 0.996, 'span': {'offset': 1480, 'length': 6}}, {'content': 'a', 'polygon': [3.0413, 7.6971, 3.1093, 7.6969, 3.1088, 7.8771, 3.0408, 7.8768], 'confidence': 0.995, 'span': {'offset': 1487, 'length': 1}}, {'content': 'wide', 'polygon': [3.1448, 7.6968, 3.4642, 7.697, 3.4639, 7.8782, 3.1443, 7.8772], 'confidence': 0.992, 'span': {'offset': 1489, 'length': 4}}, {'content': 'variety', 'polygon': [3.4997, 7.6972, 3.9611, 7.6984, 3.961, 7.8799, 3.4994, 7.8783], 'confidence': 0.995, 'span': {'offset': 1494, 'length': 7}}, {'content': 'of', 'polygon': [3.9966, 7.6985, 4.0913, 7.6985, 4.0912, 7.8805, 3.9965, 7.8801], 'confidence': 0.998, 'span': {'offset': 1502, 'length': 2}}, {'content': 'in-network', 'polygon': [4.1268, 7.6985, 4.8721, 7.7012, 4.8718, 7.8828, 4.1267, 7.8807], 'confidence': 0.994, 'span': {'offset': 1505, 'length': 10}}, {'content': 'providers,', 'polygon': [4.9076, 7.7014, 5.5849, 7.7021, 5.5846, 7.8843, 4.9073, 7.8829], 'confidence': 0.993, 'span': {'offset': 1516, 'length': 10}}, {'content': 'ranging', 'polygon': [5.6264, 7.7023, 6.1262, 7.7024, 6.1259, 7.8853, 5.626, 7.8845], 'confidence': 0.998, 'span': {'offset': 1527, 'length': 7}}, {'content': 'from', 'polygon': [6.1617, 7.7024, 6.4723, 7.7027, 6.4719, 7.8855, 6.1614, 7.8853], 'confidence': 0.989, 'span': {'offset': 1535, 'length': 4}}, {'content': 'primary', 'polygon': [6.5137, 7.7028, 7.0557, 7.7044, 7.0557, 7.8886, 6.5133, 7.8855], 'confidence': 0.993, 'span': {'offset': 1540, 'length': 7}}, {'content': 'care', 'polygon': [1.2427, 7.9077, 1.5032, 7.9076, 1.5035, 8.0881, 1.2429, 8.0881], 'confidence': 0.987, 'span': {'offset': 1548, 'length': 4}}, {'content': 'physicians,', 'polygon': [1.5388, 7.9076, 2.2611, 7.9073, 2.2614, 8.0871, 1.5391, 8.0881], 'confidence': 0.993, 'span': {'offset': 1553, 'length': 11}}, {'content': 'specialists,', 'polygon': [2.2966, 7.9073, 2.9952, 7.9064, 2.9961, 8.0863, 2.297, 8.0871], 'confidence': 0.992, 'span': {'offset': 1565, 'length': 12}}, {'content': 'hospitals,', 'polygon': [3.0308, 7.9063, 3.6761, 7.9047, 3.6771, 8.0869, 3.0317, 8.0865], 'confidence': 0.994, 'span': {'offset': 1578, 'length': 10}}, {'content': 'and', 'polygon': [3.7146, 7.9046, 3.9544, 7.9043, 3.9552, 8.0863, 3.7156, 8.0867], 'confidence': 0.996, 'span': {'offset': 1589, 'length': 3}}, {'content': 'pharmacies.', 'polygon': [3.9958, 7.9043, 4.7803, 7.9042, 4.7808, 8.0857, 3.9966, 8.0863], 'confidence': 0.994, 'span': {'offset': 1593, 'length': 11}}, {'content': 'This', 'polygon': [4.8159, 7.9041, 5.0941, 7.9035, 5.0944, 8.0855, 4.8163, 8.0857], 'confidence': 0.992, 'span': {'offset': 1605, 'length': 4}}, {'content': 'allows', 'polygon': [5.1385, 7.9037, 5.5293, 7.9057, 5.5295, 8.0851, 5.1388, 8.0855], 'confidence': 0.998, 'span': {'offset': 1610, 'length': 6}}, {'content': 'you', 'polygon': [5.5648, 7.9057, 5.8283, 7.9059, 5.8285, 8.086, 5.565, 8.0852], 'confidence': 0.995, 'span': {'offset': 1617, 'length': 3}}, {'content': 'to', 'polygon': [5.8668, 7.906, 5.9941, 7.906, 5.9943, 8.0863, 5.867, 8.0861], 'confidence': 0.999, 'span': {'offset': 1621, 'length': 2}}, {'content': 'choose', 'polygon': [6.0355, 7.906, 6.4825, 7.9056, 6.4827, 8.0863, 6.0357, 8.0864], 'confidence': 0.998, 'span': {'offset': 1624, 'length': 6}}, {'content': 'a', 'polygon': [6.521, 7.9056, 6.5713, 7.9055, 6.5715, 8.0862, 6.5212, 8.0863], 'confidence': 0.996, 'span': {'offset': 1631, 'length': 1}}, {'content': 'provider', 'polygon': [6.6069, 7.9054, 7.2106, 7.9054, 7.2106, 8.0848, 6.6071, 8.0861], 'confidence': 0.997, 'span': {'offset': 1633, 'length': 8}}, {'content': 'that', 'polygon': [1.2386, 8.1142, 1.4865, 8.115, 1.4869, 8.2895, 1.2391, 8.2895], 'confidence': 0.992, 'span': {'offset': 1642, 'length': 4}}, {'content': 'is', 'polygon': [1.5219, 8.1151, 1.6488, 8.1155, 1.6491, 8.2896, 1.5223, 8.2896], 'confidence': 0.995, 'span': {'offset': 1647, 'length': 2}}, {'content': 'convenient', 'polygon': [1.6902, 8.1154, 2.4132, 8.1128, 2.4137, 8.2914, 1.6905, 8.2897], 'confidence': 0.992, 'span': {'offset': 1650, 'length': 10}}, {'content': 'for', 'polygon': [2.4486, 8.1127, 2.6197, 8.1125, 2.6203, 8.2926, 2.4491, 8.2916], 'confidence': 0.998, 'span': {'offset': 1661, 'length': 3}}, {'content': 'you', 'polygon': [2.6552, 8.1125, 2.909, 8.1125, 2.9097, 8.2943, 2.6558, 8.2928], 'confidence': 0.998, 'span': {'offset': 1665, 'length': 3}}, {'content': 'and', 'polygon': [2.9473, 8.1126, 3.1864, 8.1132, 3.1873, 8.2942, 2.9481, 8.2943], 'confidence': 0.998, 'span': {'offset': 1669, 'length': 3}}, {'content': 'your', 'polygon': [3.2218, 8.1133, 3.5051, 8.1133, 3.5061, 8.295, 3.2228, 8.2942], 'confidence': 0.989, 'span': {'offset': 1673, 'length': 4}}, {'content': 'family,', 'polygon': [3.5405, 8.1133, 4.0009, 8.1116, 4.0016, 8.2959, 3.5415, 8.2951], 'confidence': 0.993, 'span': {'offset': 1678, 'length': 7}}, {'content': 'while', 'polygon': [4.0363, 8.1114, 4.3963, 8.1123, 4.3968, 8.2967, 4.037, 8.2959], 'confidence': 0.998, 'span': {'offset': 1686, 'length': 5}}, {'content': 'also', 'polygon': [4.4347, 8.1125, 4.6885, 8.1133, 4.6888, 8.2971, 4.4351, 8.2968], 'confidence': 0.992, 'span': {'offset': 1692, 'length': 4}}, {'content': 'helping', 'polygon': [4.7298, 8.1133, 5.2049, 8.1135, 5.2052, 8.2975, 4.7301, 8.2972], 'confidence': 0.996, 'span': {'offset': 1697, 'length': 7}}, {'content': 'you', 'polygon': [5.2403, 8.1135, 5.4912, 8.114, 5.4915, 8.2969, 5.2406, 8.2975], 'confidence': 0.999, 'span': {'offset': 1705, 'length': 3}}, {'content': 'to', 'polygon': [5.5266, 8.1142, 5.6535, 8.1148, 5.6537, 8.2962, 5.5269, 8.2968], 'confidence': 0.998, 'span': {'offset': 1709, 'length': 2}}, {'content': 'keep', 'polygon': [5.6948, 8.115, 6.0017, 8.115, 6.002, 8.2957, 5.695, 8.296], 'confidence': 0.992, 'span': {'offset': 1712, 'length': 4}}, {'content': 'your', 'polygon': [6.0401, 8.115, 6.347, 8.1151, 6.3473, 8.295, 6.0404, 8.2957], 'confidence': 0.992, 'span': {'offset': 1717, 'length': 4}}, {'content': 'costs', 'polygon': [6.3824, 8.1152, 6.707, 8.116, 6.7072, 8.2935, 6.3827, 8.2948], 'confidence': 0.997, 'span': {'offset': 1722, 'length': 5}}, {'content': 'low.', 'polygon': [6.7483, 8.1161, 7.0225, 8.1165, 7.0225, 8.2929, 6.7486, 8.2934], 'confidence': 0.992, 'span': {'offset': 1728, 'length': 4}}, {'content': 'When', 'polygon': [1.2377, 8.4566, 1.6061, 8.4579, 1.6061, 8.6368, 1.2375, 8.6361], 'confidence': 0.992, 'span': {'offset': 1734, 'length': 4}}, {'content': 'you', 'polygon': [1.6417, 8.4581, 1.9091, 8.4581, 1.9092, 8.6371, 1.6418, 8.6369], 'confidence': 0.995, 'span': {'offset': 1739, 'length': 3}}, {'content': 'choose', 'polygon': [1.9477, 8.4581, 2.3963, 8.4574, 2.3964, 8.6373, 1.9478, 8.6372], 'confidence': 0.998, 'span': {'offset': 1743, 'length': 6}}, {'content': 'a', 'polygon': [2.4349, 8.4574, 2.4854, 8.4572, 2.4855, 8.6373, 2.435, 8.6373], 'confidence': 0.995, 'span': {'offset': 1750, 'length': 1}}, {'content': 'provider', 'polygon': [2.521, 8.4572, 3.0914, 8.4587, 3.0919, 8.6379, 2.5212, 8.6373], 'confidence': 0.993, 'span': {'offset': 1752, 'length': 8}}, {'content': 'that', 'polygon': [3.127, 8.4588, 3.3766, 8.4597, 3.3771, 8.6383, 3.1276, 8.638], 'confidence': 0.992, 'span': {'offset': 1761, 'length': 4}}, {'content': 'is', 'polygon': [3.4122, 8.4597, 3.5192, 8.4598, 3.5197, 8.6384, 3.4128, 8.6383], 'confidence': 0.998, 'span': {'offset': 1766, 'length': 2}}, {'content': 'in-network', 'polygon': [3.5548, 8.4598, 4.2916, 8.4586, 4.2919, 8.6393, 3.5553, 8.6384], 'confidence': 0.994, 'span': {'offset': 1769, 'length': 10}}, {'content': 'with', 'polygon': [4.3272, 8.4585, 4.6421, 8.4579, 4.6424, 8.6414, 4.3275, 8.6396], 'confidence': 0.988, 'span': {'offset': 1780, 'length': 4}}, {'content': 'your', 'polygon': [4.6778, 8.458, 4.9867, 8.4589, 4.9869, 8.6416, 4.678, 8.6414], 'confidence': 0.989, 'span': {'offset': 1785, 'length': 4}}, {'content': 'plan,', 'polygon': [5.0224, 8.459, 5.3135, 8.4585, 5.3136, 8.6417, 5.0225, 8.6416], 'confidence': 0.995, 'span': {'offset': 1790, 'length': 5}}, {'content': 'you', 'polygon': [5.3491, 8.4584, 5.6135, 8.4585, 5.6136, 8.6417, 5.3492, 8.6417], 'confidence': 0.998, 'span': {'offset': 1796, 'length': 3}}, {'content': 'will', 'polygon': [5.6492, 8.4586, 5.8868, 8.4592, 5.8869, 8.6417, 5.6492, 8.6417], 'confidence': 0.992, 'span': {'offset': 1800, 'length': 4}}, {'content': 'typically', 'polygon': [5.9254, 8.4593, 6.4839, 8.4595, 6.484, 8.6417, 5.9255, 8.6417], 'confidence': 0.995, 'span': {'offset': 1805, 'length': 9}}, {'content': 'pay', 'polygon': [6.5196, 8.4595, 6.7275, 8.4594, 6.7276, 8.6417, 6.5196, 8.6417], 'confidence': 0.996, 'span': {'offset': 1815, 'length': 3}}, {'content': 'lower', 'polygon': [6.7632, 8.4595, 7.1774, 8.46, 7.1774, 8.6417, 6.7633, 8.6417], 'confidence': 0.997, 'span': {'offset': 1819, 'length': 5}}, {'content': 'copays', 'polygon': [1.2418, 8.6705, 1.6932, 8.6696, 1.6936, 8.8433, 1.2417, 8.8439], 'confidence': 0.996, 'span': {'offset': 1825, 'length': 6}}, {'content': 'and', 'polygon': [1.7335, 8.6693, 1.975, 8.6677, 1.9754, 8.8416, 1.7339, 8.843], 'confidence': 0.995, 'span': {'offset': 1832, 'length': 3}}, {'content': 'deductibles', 'polygon': [2.0152, 8.6674, 2.7628, 8.6662, 2.7629, 8.8418, 2.0156, 8.8414], 'confidence': 0.995, 'span': {'offset': 1836, 'length': 11}}, {'content': 'than', 'polygon': [2.803, 8.6663, 3.0704, 8.6663, 3.0707, 8.8418, 2.8032, 8.8418], 'confidence': 0.992, 'span': {'offset': 1848, 'length': 4}}, {'content': 'you', 'polygon': [3.1049, 8.6662, 3.3695, 8.6659, 3.37, 8.8415, 3.1052, 8.8418], 'confidence': 0.994, 'span': {'offset': 1853, 'length': 3}}, {'content': 'would', 'polygon': [3.404, 8.6658, 3.8122, 8.6647, 3.8131, 8.8399, 3.4045, 8.8413], 'confidence': 0.998, 'span': {'offset': 1857, 'length': 5}}, {'content': 'with', 'polygon': [3.8496, 8.6647, 4.1429, 8.665, 4.1434, 8.84, 3.8505, 8.8399], 'confidence': 0.989, 'span': {'offset': 1863, 'length': 4}}, {'content': 'an', 'polygon': [4.1803, 8.6651, 4.3384, 8.6648, 4.3389, 8.8402, 4.1807, 8.8401], 'confidence': 0.998, 'span': {'offset': 1868, 'length': 2}}, {'content': 'out-of-network', 'polygon': [4.3758, 8.6646, 5.3764, 8.664, 5.3766, 8.8407, 4.3763, 8.8402], 'confidence': 0.993, 'span': {'offset': 1871, 'length': 14}}, {'content': 'provider.', 'polygon': [5.4109, 8.664, 6.0032, 8.6641, 6.0035, 8.8414, 5.4111, 8.8408], 'confidence': 0.993, 'span': {'offset': 1886, 'length': 9}}, {'content': 'In', 'polygon': [6.0492, 8.6641, 6.1757, 8.6641, 6.176, 8.8415, 6.0495, 8.8414], 'confidence': 0.998, 'span': {'offset': 1896, 'length': 2}}, {'content': 'addition,', 'polygon': [6.2131, 8.6641, 6.7852, 8.668, 6.7852, 8.8432, 6.2134, 8.8415], 'confidence': 0.992, 'span': {'offset': 1899, 'length': 9}}, {'content': 'many', 'polygon': [6.8255, 8.6682, 7.1995, 8.67, 7.1995, 8.8446, 6.8255, 8.8434], 'confidence': 0.992, 'span': {'offset': 1909, 'length': 4}}, {'content': 'services,', 'polygon': [1.2374, 8.8772, 1.8063, 8.876, 1.8067, 9.0458, 1.2379, 9.0452], 'confidence': 0.994, 'span': {'offset': 1914, 'length': 9}}, {'content': 'such', 'polygon': [1.8486, 8.8757, 2.1415, 8.8744, 2.1418, 9.0458, 1.8489, 9.0458], 'confidence': 0.992, 'span': {'offset': 1924, 'length': 4}}, {'content': 'as', 'polygon': [2.1809, 8.8745, 2.3161, 8.8751, 2.3164, 9.0458, 2.1812, 9.0458], 'confidence': 0.992, 'span': {'offset': 1929, 'length': 2}}, {'content': 'preventive', 'polygon': [2.3555, 8.8753, 3.0541, 8.8753, 3.0547, 9.0458, 2.3559, 9.0458], 'confidence': 0.993, 'span': {'offset': 1932, 'length': 10}}, {'content': 'care,', 'polygon': [3.0963, 8.8753, 3.378, 8.8749, 3.3786, 9.0458, 3.097, 9.0458], 'confidence': 0.995, 'span': {'offset': 1943, 'length': 5}}, {'content': 'may', 'polygon': [3.4118, 8.8748, 3.6934, 8.8737, 3.6946, 9.0458, 3.4125, 9.0458], 'confidence': 0.998, 'span': {'offset': 1949, 'length': 3}}, {'content': 'be', 'polygon': [3.7272, 8.8735, 3.9019, 8.8732, 3.9031, 9.0458, 3.7285, 9.0458], 'confidence': 0.997, 'span': {'offset': 1953, 'length': 2}}, {'content': 'covered', 'polygon': [3.9441, 8.8732, 4.4595, 8.8726, 4.4604, 9.0458, 3.9453, 9.0458], 'confidence': 0.996, 'span': {'offset': 1956, 'length': 7}}, {'content': 'at', 'polygon': [4.5018, 8.8725, 4.606, 8.8723, 4.6068, 9.0458, 4.5026, 9.0458], 'confidence': 0.992, 'span': {'offset': 1964, 'length': 2}}, {'content': 'no', 'polygon': [4.6398, 8.8722, 4.8173, 8.8717, 4.8179, 9.0458, 4.6406, 9.0458], 'confidence': 0.998, 'span': {'offset': 1967, 'length': 2}}, {'content': 'cost', 'polygon': [4.8595, 8.8716, 5.113, 8.871, 5.1135, 9.0458, 4.8602, 9.0458], 'confidence': 0.992, 'span': {'offset': 1970, 'length': 4}}, {'content': 'when', 'polygon': [5.1468, 8.871, 5.5158, 8.8708, 5.5161, 9.0451, 5.1473, 9.0458], 'confidence': 0.991, 'span': {'offset': 1975, 'length': 4}}, {'content': 'you', 'polygon': [5.5524, 8.8708, 5.7918, 8.8711, 5.7922, 9.0455, 5.5528, 9.0452], 'confidence': 0.999, 'span': {'offset': 1980, 'length': 3}}, {'content': 'receive', 'polygon': [5.8312, 8.8712, 6.296, 8.8717, 6.2965, 9.0439, 5.8316, 9.0455], 'confidence': 0.994, 'span': {'offset': 1984, 'length': 7}}, {'content': 'care', 'polygon': [6.3382, 8.8717, 6.6114, 8.8717, 6.6118, 9.0421, 6.3388, 9.0437], 'confidence': 0.992, 'span': {'offset': 1992, 'length': 4}}, {'content': 'from', 'polygon': [6.6537, 8.8717, 6.9635, 8.8724, 6.9639, 9.0421, 6.6541, 9.0419], 'confidence': 0.983, 'span': {'offset': 1997, 'length': 4}}, {'content': 'an', 'polygon': [7.0029, 8.8725, 7.1719, 8.873, 7.1719, 9.0428, 7.0033, 9.0422], 'confidence': 0.997, 'span': {'offset': 2002, 'length': 2}}, {'content': 'in-network', 'polygon': [1.2324, 9.0799, 1.965, 9.0805, 1.966, 9.2451, 1.2339, 9.2445], 'confidence': 0.995, 'span': {'offset': 2005, 'length': 10}}, {'content': 'provider.', 'polygon': [1.9978, 9.0807, 2.623, 9.081, 2.623, 9.2451, 1.9987, 9.2451], 'confidence': 0.994, 'span': {'offset': 2016, 'length': 9}}, {'content': 'It', 'polygon': [1.2372, 9.4266, 1.3259, 9.4269, 1.3258, 9.5963, 1.2371, 9.5961], 'confidence': 0.995, 'span': {'offset': 2027, 'length': 2}}, {'content': 'is', 'polygon': [1.3592, 9.4269, 1.47, 9.4273, 1.47, 9.5966, 1.3591, 9.5964], 'confidence': 0.997, 'span': {'offset': 2030, 'length': 2}}, {'content': 'important', 'polygon': [1.5033, 9.4274, 2.1685, 9.4285, 2.1684, 9.594, 1.5033, 9.5966], 'confidence': 0.995, 'span': {'offset': 2033, 'length': 9}}, {'content': 'to', 'polygon': [2.2017, 9.4283, 2.3348, 9.4278, 2.3347, 9.5936, 2.2016, 9.5939], 'confidence': 0.998, 'span': {'offset': 2043, 'length': 2}}, {'content': 'note,', 'polygon': [2.368, 9.4276, 2.6895, 9.4267, 2.6895, 9.5938, 2.368, 9.5936], 'confidence': 0.996, 'span': {'offset': 2046, 'length': 5}}, {'content': 'however,', 'polygon': [2.7228, 9.4266, 3.3436, 9.4249, 3.3438, 9.5941, 2.7228, 9.5939], 'confidence': 0.995, 'span': {'offset': 2052, 'length': 8}}, {'content': 'that', 'polygon': [3.3852, 9.4249, 3.6458, 9.425, 3.646, 9.5937, 3.3854, 9.594], 'confidence': 0.992, 'span': {'offset': 2061, 'length': 4}}, {'content': 'Northwind', 'polygon': [3.6846, 9.4249, 4.3913, 9.424, 4.3916, 9.5942, 3.6849, 9.5937], 'confidence': 0.997, 'span': {'offset': 2066, 'length': 9}}, {'content': 'Standard', 'polygon': [4.4329, 9.424, 5.0177, 9.4236, 5.0179, 9.5936, 4.4332, 9.5942], 'confidence': 0.996, 'span': {'offset': 2076, 'length': 8}}, {'content': 'does', 'polygon': [5.0621, 9.4236, 5.3586, 9.4234, 5.3587, 9.5935, 5.0622, 9.5935], 'confidence': 0.992, 'span': {'offset': 2085, 'length': 4}}, {'content': 'not', 'polygon': [5.4002, 9.4234, 5.6164, 9.4234, 5.6165, 9.5941, 5.4003, 9.5936], 'confidence': 0.998, 'span': {'offset': 2090, 'length': 3}}, {'content': 'offer', 'polygon': [5.6524, 9.4234, 5.9601, 9.4238, 5.96, 9.5939, 5.6525, 9.5941], 'confidence': 0.998, 'span': {'offset': 2094, 'length': 5}}, {'content': 'coverage', 'polygon': [5.9961, 9.4238, 6.5782, 9.4248, 6.5783, 9.5955, 5.9961, 9.5938], 'confidence': 0.997, 'span': {'offset': 2100, 'length': 8}}, {'content': 'for', 'polygon': [6.6197, 9.4247, 6.8122, 9.4241, 6.8122, 9.595, 6.6199, 9.5954], 'confidence': 0.987, 'span': {'offset': 2109, 'length': 3}}, {'content': 'emergency', 'polygon': [1.2394, 9.64, 1.9708, 9.6383, 1.9715, 9.8022, 1.2404, 9.8042], 'confidence': 0.996, 'span': {'offset': 2113, 'length': 9}}, {'content': 'services,', 'polygon': [2.0059, 9.6381, 2.5564, 9.6354, 2.5575, 9.8001, 2.0067, 9.8019], 'confidence': 0.995, 'span': {'offset': 2123, 'length': 9}}, {'content': 'mental', 'polygon': [2.5996, 9.6353, 3.0315, 9.6336, 3.0327, 9.7993, 2.6008, 9.8001], 'confidence': 0.999, 'span': {'offset': 2133, 'length': 6}}, {'content': 'health', 'polygon': [3.0638, 9.6334, 3.4903, 9.6324, 3.4916, 9.7978, 3.0651, 9.7991], 'confidence': 0.998, 'span': {'offset': 2140, 'length': 6}}, {'content': 'and', 'polygon': [3.5308, 9.6323, 3.771, 9.6323, 3.7724, 9.7974, 3.5321, 9.7977], 'confidence': 0.995, 'span': {'offset': 2147, 'length': 3}}, {'content': 'substance', 'polygon': [3.8088, 9.6323, 4.4565, 9.6325, 4.4575, 9.7981, 3.8102, 9.7973], 'confidence': 0.996, 'span': {'offset': 2151, 'length': 9}}, {'content': 'abuse', 'polygon': [4.4943, 9.6325, 4.8748, 9.6327, 4.8755, 9.798, 4.4953, 9.7981], 'confidence': 0.997, 'span': {'offset': 2161, 'length': 5}}, {'content': 'coverage,', 'polygon': [4.9153, 9.6327, 5.5226, 9.6323, 5.5237, 9.7974, 4.916, 9.7981], 'confidence': 0.994, 'span': {'offset': 2167, 'length': 9}}, {'content': 'or', 'polygon': [5.5658, 9.6323, 5.7061, 9.6324, 5.7074, 9.797, 5.5669, 9.7973], 'confidence': 0.998, 'span': {'offset': 2177, 'length': 2}}, {'content': 'out-of-network', 'polygon': [5.7466, 9.6324, 6.7568, 9.6311, 6.7568, 9.7942, 5.748, 9.7969], 'confidence': 0.993, 'span': {'offset': 2180, 'length': 14}}]",
         "[{'content': 'Once you have reached this limit, the plan will cover 100% of your expenses for the', 'polygon': [1.2421, 1.0127, 6.6735, 1.0097, 6.6736, 1.1861, 1.2422, 1.1892], 'spans': [{'offset': 0, 'length': 83}]}, {'content': 'remainder of the year.', 'polygon': [1.2332, 1.2253, 2.7013, 1.2315, 2.7006, 1.395, 1.2325, 1.3887], 'spans': [{'offset': 84, 'length': 22}]}, {'content': 'Tips for Managing Your Costs', 'polygon': [1.2404, 1.5685, 3.1673, 1.5626, 3.1678, 1.7421, 1.2409, 1.748], 'spans': [{'offset': 111, 'length': 28}]}, {'content': 'There are several steps that you can take to help manage your costs when you are enrolled', 'polygon': [1.2388, 1.909, 7.1493, 1.9084, 7.1493, 2.0867, 1.2388, 2.0871], 'spans': [{'offset': 141, 'length': 89}]}, {'content': 'in Northwind Standard. Here are a few tips that you can use to get the most out of your', 'polygon': [1.2356, 2.1097, 6.8956, 2.1168, 6.8953, 2.2969, 1.2353, 2.2899], 'spans': [{'offset': 231, 'length': 87}]}, {'content': 'coverage:', 'polygon': [1.2404, 2.3448, 1.8807, 2.3452, 1.8806, 2.4988, 1.2403, 2.4983], 'spans': [{'offset': 319, 'length': 9}]}, {'content': '· Make sure to take advantage of preventive care services. These services are covered 100%', 'polygon': [1.2478, 2.6708, 7.2414, 2.668, 7.2415, 2.8404, 1.2478, 2.8433], 'spans': [{'offset': 330, 'length': 90}]}, {'content': 'by the plan and can help you avoid more costly treatments down the line.', 'polygon': [1.2391, 2.8681, 6.0101, 2.869, 6.0101, 3.0552, 1.2391, 3.0543], 'spans': [{'offset': 421, 'length': 72}]}, {'content': '· Always make sure to visit in-network providers. Doing so will ensure that you receive the', 'polygon': [1.2494, 3.2175, 7.1687, 3.2174, 7.1687, 3.392, 1.2494, 3.3921], 'spans': [{'offset': 495, 'length': 91}]}, {'content': 'maximum benefit from your plan.', 'polygon': [1.2369, 3.4232, 3.4432, 3.4281, 3.4429, 3.6062, 1.2365, 3.6013], 'spans': [{'offset': 587, 'length': 31}]}, {'content': '· Consider generic prescription drugs when available. These drugs can often be cheaper', 'polygon': [1.2477, 3.771, 6.961, 3.77, 6.961, 3.9456, 1.2477, 3.9468], 'spans': [{'offset': 620, 'length': 86}]}, {'content': 'than brand-name drugs and are just as effective.', 'polygon': [1.2388, 3.9713, 4.3853, 3.9753, 4.385, 4.1519, 1.2386, 4.1479], 'spans': [{'offset': 707, 'length': 48}]}, {'content': '. Talk to your doctor about ways to save money. Many doctors are willing to work with you', 'polygon': [1.248, 4.3187, 7.1938, 4.3201, 7.1937, 4.4974, 1.248, 4.496], 'spans': [{'offset': 757, 'length': 89}]}, {'content': 'to find the most cost-effective treatment options available.', 'polygon': [1.2375, 4.5291, 5.0514, 4.5281, 5.0514, 4.7024, 1.2376, 4.7034], 'spans': [{'offset': 847, 'length': 60}]}, {'content': '· Review your Explanation of Benefits (EOB) statements carefully. This document will show', 'polygon': [1.249, 4.8736, 7.2168, 4.8671, 7.217, 5.0449, 1.2491, 5.0488], 'spans': [{'offset': 909, 'length': 89}]}, {'content': 'you exactly how much you are being charged for each service and what your plan is', 'polygon': [1.2323, 5.077, 6.6789, 5.071, 6.6792, 5.2584, 1.2325, 5.2647], 'spans': [{'offset': 999, 'length': 81}]}, {'content': 'covering.', 'polygon': [1.2411, 5.2945, 1.8445, 5.2967, 1.8439, 5.4575, 1.2405, 5.4553], 'spans': [{'offset': 1081, 'length': 9}]}, {'content': 'By following these tips, you can ensure that you are getting the most out of your Northwind', 'polygon': [1.2397, 5.6266, 7.198, 5.6219, 7.1982, 5.8099, 1.2399, 5.8147], 'spans': [{'offset': 1092, 'length': 91}]}, {'content': 'Standard health plan.', 'polygon': [1.2347, 5.8294, 2.6459, 5.8326, 2.6454, 6.0147, 1.2343, 6.0111], 'spans': [{'offset': 1184, 'length': 21}]}, {'content': 'HOW PROVIDERS AFFECT YOUR COSTS', 'polygon': [1.2392, 6.1918, 4.3704, 6.1902, 4.3705, 6.3778, 1.2393, 6.3795], 'spans': [{'offset': 1210, 'length': 31}]}, {'content': 'In-Network Providers', 'polygon': [1.2362, 6.5951, 2.6155, 6.594, 2.6156, 6.7476, 1.2363, 6.7487], 'spans': [{'offset': 1247, 'length': 20}]}, {'content': 'HOW PROVIDERS AFFECT YOUR COSTS', 'polygon': [1.2372, 6.7977, 3.8487, 6.7966, 3.8488, 6.9641, 1.2372, 6.9652], 'spans': [{'offset': 1268, 'length': 31}]}, {'content': 'When selecting a health insurance plan, one of the most important factors to consider is the', 'polygon': [1.2396, 7.1514, 7.2004, 7.1508, 7.2004, 7.3284, 1.2396, 7.329], 'spans': [{'offset': 1301, 'length': 92}]}, {'content': 'network of in-network providers that are available with the plan.', 'polygon': [1.2365, 7.3541, 5.4906, 7.357, 5.4905, 7.5349, 1.2364, 7.532], 'spans': [{'offset': 1394, 'length': 65}]}, {'content': 'Northwind Standard offers a wide variety of in-network providers, ranging from primary', 'polygon': [1.24, 7.6895, 7.0506, 7.7041, 7.0501, 7.8855, 1.2396, 7.8703], 'spans': [{'offset': 1461, 'length': 86}]}, {'content': 'care physicians, specialists, hospitals, and pharmacies. This allows you to choose a provider', 'polygon': [1.2427, 7.9054, 7.2069, 7.9022, 7.207, 8.0831, 1.2428, 8.0863], 'spans': [{'offset': 1548, 'length': 93}]}, {'content': 'that is convenient for you and your family, while also helping you to keep your costs low.', 'polygon': [1.2386, 8.1102, 7.0209, 8.1151, 7.0207, 8.2976, 1.2384, 8.2892], 'spans': [{'offset': 1642, 'length': 90}]}, {'content': 'When you choose a provider that is in-network with your plan, you will typically pay lower', 'polygon': [1.2377, 8.4535, 7.1755, 8.4599, 7.1754, 8.6417, 1.2375, 8.6357], 'spans': [{'offset': 1734, 'length': 90}]}, {'content': 'copays and deductibles than you would with an out-of-network provider. In addition, many', 'polygon': [1.2417, 8.6634, 7.1971, 8.6641, 7.1971, 8.8417, 1.2417, 8.841], 'spans': [{'offset': 1825, 'length': 88}]}, {'content': 'services, such as preventive care, may be covered at no cost when you receive care from an', 'polygon': [1.2374, 8.875, 7.1677, 8.8689, 7.1679, 9.0416, 1.2375, 9.0458], 'spans': [{'offset': 1914, 'length': 90}]}, {'content': 'in-network provider.', 'polygon': [1.2324, 9.0791, 2.6222, 9.0795, 2.6221, 9.2451, 1.2324, 9.2447], 'spans': [{'offset': 2005, 'length': 20}]}, {'content': 'It is important to note, however, that Northwind Standard does not offer coverage for', 'polygon': [1.2371, 9.4243, 6.8116, 9.4231, 6.8117, 9.5929, 1.2371, 9.5941], 'spans': [{'offset': 2027, 'length': 85}]}, {'content': 'emergency services, mental health and substance abuse coverage, or out-of-network', 'polygon': [1.2394, 9.6365, 6.7563, 9.6271, 6.7566, 9.7929, 1.2397, 9.8034], 'spans': [{'offset': 2113, 'length': 81}]}]",
         "[{'offset': 0, 'length': 2216}]"
        ],
        [
         "1",
         "5",
         "-0.007600000128149986",
         "8.5",
         "11",
         "inch",
         "[{'content': 'services.', 'polygon': [1.2376, 1.0202, 1.8043, 1.0197, 1.8048, 1.1876, 1.2387, 1.1861], 'confidence': 0.992, 'span': {'offset': 2216, 'length': 9}}, {'content': 'This', 'polygon': [1.846, 1.0199, 2.1043, 1.0208, 2.1046, 1.1882, 1.8464, 1.1877], 'confidence': 0.992, 'span': {'offset': 2226, 'length': 4}}, {'content': 'means', 'polygon': [2.1377, 1.0208, 2.5821, 1.0201, 2.5827, 1.1896, 2.138, 1.1883], 'confidence': 0.997, 'span': {'offset': 2231, 'length': 5}}, {'content': 'that', 'polygon': [2.6238, 1.0201, 2.86, 1.0199, 2.8607, 1.1892, 2.6244, 1.1896], 'confidence': 0.989, 'span': {'offset': 2237, 'length': 4}}, {'content': 'you', 'polygon': [2.8933, 1.0199, 3.1378, 1.0193, 3.1387, 1.1899, 2.8941, 1.1891], 'confidence': 0.996, 'span': {'offset': 2242, 'length': 3}}, {'content': 'may', 'polygon': [3.1711, 1.0192, 3.4489, 1.0185, 3.4499, 1.1902, 3.172, 1.19], 'confidence': 0.998, 'span': {'offset': 2246, 'length': 3}}, {'content': 'have', 'polygon': [3.4822, 1.0184, 3.8128, 1.018, 3.8139, 1.1901, 3.4833, 1.1902], 'confidence': 0.992, 'span': {'offset': 2250, 'length': 4}}, {'content': 'to', 'polygon': [3.8489, 1.0181, 3.9767, 1.0183, 3.9777, 1.1902, 3.85, 1.1902], 'confidence': 0.996, 'span': {'offset': 2255, 'length': 2}}, {'content': 'pay', 'polygon': [4.0184, 1.0184, 4.2545, 1.0189, 4.2553, 1.1902, 4.0193, 1.1902], 'confidence': 0.998, 'span': {'offset': 2258, 'length': 3}}, {'content': 'out', 'polygon': [4.2906, 1.0189, 4.5046, 1.0191, 4.5054, 1.1902, 4.2914, 1.1902], 'confidence': 0.998, 'span': {'offset': 2262, 'length': 3}}, {'content': 'of', 'polygon': [4.5407, 1.0192, 4.649, 1.0193, 4.6499, 1.1902, 4.5415, 1.1902], 'confidence': 0.998, 'span': {'offset': 2266, 'length': 2}}, {'content': 'pocket', 'polygon': [4.6823, 1.0192, 5.1407, 1.0183, 5.1411, 1.1894, 4.6832, 1.1902], 'confidence': 0.997, 'span': {'offset': 2269, 'length': 6}}, {'content': 'for', 'polygon': [5.1768, 1.0184, 5.363, 1.0188, 5.3634, 1.1885, 5.1772, 1.1893], 'confidence': 0.999, 'span': {'offset': 2276, 'length': 3}}, {'content': 'these', 'polygon': [5.3963, 1.0188, 5.7436, 1.0185, 5.7439, 1.1875, 5.3967, 1.1884], 'confidence': 0.997, 'span': {'offset': 2280, 'length': 5}}, {'content': 'services', 'polygon': [5.7824, 1.0184, 6.3047, 1.0186, 6.3053, 1.1882, 5.7828, 1.1874], 'confidence': 0.995, 'span': {'offset': 2286, 'length': 8}}, {'content': 'if', 'polygon': [6.3464, 1.0187, 6.4158, 1.0189, 6.4165, 1.1883, 6.347, 1.1883], 'confidence': 0.995, 'span': {'offset': 2295, 'length': 2}}, {'content': 'you', 'polygon': [6.4492, 1.0189, 6.7048, 1.0196, 6.7053, 1.1884, 6.4498, 1.1883], 'confidence': 0.998, 'span': {'offset': 2298, 'length': 3}}, {'content': 'receive', 'polygon': [6.7436, 1.0197, 7.2217, 1.0197, 7.2217, 1.1878, 6.7442, 1.1884], 'confidence': 0.994, 'span': {'offset': 2302, 'length': 7}}, {'content': 'them', 'polygon': [1.237, 1.2228, 1.5296, 1.2228, 1.53, 1.3934, 1.238, 1.3927], 'confidence': 0.992, 'span': {'offset': 2310, 'length': 4}}, {'content': 'from', 'polygon': [1.6007, 1.2225, 1.9359, 1.2232, 1.9362, 1.395, 1.6009, 1.3933], 'confidence': 0.992, 'span': {'offset': 2315, 'length': 4}}, {'content': 'an', 'polygon': [1.9729, 1.2234, 2.1291, 1.2227, 2.1294, 1.3959, 1.9731, 1.3952], 'confidence': 0.999, 'span': {'offset': 2320, 'length': 2}}, {'content': 'out-of-network', 'polygon': [2.1689, 1.2227, 3.1463, 1.2238, 3.1464, 1.3988, 2.1692, 1.396], 'confidence': 0.993, 'span': {'offset': 2323, 'length': 14}}, {'content': 'provider.', 'polygon': [3.1803, 1.2239, 3.8054, 1.2223, 3.8054, 1.3978, 3.1805, 1.3987], 'confidence': 0.995, 'span': {'offset': 2338, 'length': 9}}, {'content': 'When', 'polygon': [1.2378, 1.5654, 1.6316, 1.5639, 1.6319, 1.7438, 1.2382, 1.7416], 'confidence': 0.992, 'span': {'offset': 2349, 'length': 4}}, {'content': 'choosing', 'polygon': [1.6724, 1.564, 2.2528, 1.5661, 2.253, 1.7438, 1.6727, 1.7438], 'confidence': 0.996, 'span': {'offset': 2354, 'length': 8}}, {'content': 'an', 'polygon': [2.2878, 1.5661, 2.4161, 1.5662, 2.4164, 1.7438, 2.288, 1.7438], 'confidence': 0.995, 'span': {'offset': 2363, 'length': 2}}, {'content': 'in-network', 'polygon': [2.4511, 1.5662, 3.186, 1.5671, 3.1871, 1.7438, 2.4514, 1.7438], 'confidence': 0.993, 'span': {'offset': 2366, 'length': 10}}, {'content': 'provider,', 'polygon': [3.221, 1.5672, 3.8422, 1.5671, 3.8432, 1.7438, 3.2221, 1.7438], 'confidence': 0.993, 'span': {'offset': 2377, 'length': 9}}, {'content': 'there', 'polygon': [3.8802, 1.5671, 4.2243, 1.5673, 4.225, 1.7438, 3.8811, 1.7438], 'confidence': 0.998, 'span': {'offset': 2387, 'length': 5}}, {'content': 'are', 'polygon': [4.2622, 1.5672, 4.4722, 1.5671, 4.4728, 1.7438, 4.2629, 1.7438], 'confidence': 0.999, 'span': {'offset': 2393, 'length': 3}}, {'content': 'a', 'polygon': [4.5072, 1.5671, 4.5801, 1.567, 4.5807, 1.7438, 4.5078, 1.7438], 'confidence': 0.995, 'span': {'offset': 2397, 'length': 1}}, {'content': 'few', 'polygon': [4.618, 1.5669, 4.8163, 1.5665, 4.8169, 1.7438, 4.6186, 1.7438], 'confidence': 0.998, 'span': {'offset': 2399, 'length': 3}}, {'content': 'tips', 'polygon': [4.8776, 1.5664, 5.1284, 1.5661, 5.1288, 1.7438, 4.8781, 1.7438], 'confidence': 0.992, 'span': {'offset': 2403, 'length': 4}}, {'content': 'to', 'polygon': [5.1692, 1.566, 5.2946, 1.5659, 5.2949, 1.7438, 5.1696, 1.7438], 'confidence': 0.999, 'span': {'offset': 2408, 'length': 2}}, {'content': 'keep', 'polygon': [5.3355, 1.5659, 5.6242, 1.5658, 5.6245, 1.7438, 5.3357, 1.7438], 'confidence': 0.989, 'span': {'offset': 2411, 'length': 4}}, {'content': 'in', 'polygon': [5.6592, 1.5658, 5.7875, 1.5658, 5.7879, 1.7438, 5.6595, 1.7438], 'confidence': 0.992, 'span': {'offset': 2416, 'length': 2}}, {'content': 'mind.', 'polygon': [5.8225, 1.5658, 6.2075, 1.5663, 6.2079, 1.7438, 5.8229, 1.7438], 'confidence': 0.998, 'span': {'offset': 2419, 'length': 5}}, {'content': 'First,', 'polygon': [6.2512, 1.5664, 6.5808, 1.5669, 6.5813, 1.7438, 6.2516, 1.7438], 'confidence': 0.996, 'span': {'offset': 2425, 'length': 6}}, {'content': 'make', 'polygon': [6.6187, 1.5668, 6.9837, 1.5658, 6.9837, 1.7425, 6.6192, 1.7438], 'confidence': 0.992, 'span': {'offset': 2432, 'length': 4}}, {'content': 'sure', 'polygon': [1.2385, 1.7752, 1.5355, 1.7732, 1.5356, 1.9487, 1.2385, 1.9487], 'confidence': 0.992, 'span': {'offset': 2437, 'length': 4}}, {'content': 'that', 'polygon': [1.5734, 1.7729, 1.8093, 1.7727, 1.8094, 1.9487, 1.5735, 1.9487], 'confidence': 0.992, 'span': {'offset': 2442, 'length': 4}}, {'content': 'the', 'polygon': [1.8442, 1.7728, 2.0539, 1.7731, 2.054, 1.9487, 1.8443, 1.9487], 'confidence': 0.999, 'span': {'offset': 2447, 'length': 3}}, {'content': 'provider', 'polygon': [2.0889, 1.7729, 2.6596, 1.7719, 2.6598, 1.9487, 2.0889, 1.9487], 'confidence': 0.995, 'span': {'offset': 2451, 'length': 8}}, {'content': 'you', 'polygon': [2.6946, 1.772, 2.9538, 1.7723, 2.9541, 1.9487, 2.6948, 1.9487], 'confidence': 0.999, 'span': {'offset': 2460, 'length': 3}}, {'content': 'choose', 'polygon': [2.9946, 1.7723, 3.443, 1.7724, 3.4435, 1.9487, 2.9949, 1.9487], 'confidence': 0.997, 'span': {'offset': 2464, 'length': 6}}, {'content': 'is', 'polygon': [3.4838, 1.7724, 3.5799, 1.7724, 3.5805, 1.9487, 3.4843, 1.9487], 'confidence': 0.994, 'span': {'offset': 2471, 'length': 2}}, {'content': 'in-network', 'polygon': [3.6265, 1.7724, 4.3371, 1.7716, 4.3371, 1.9487, 3.6271, 1.9487], 'confidence': 0.995, 'span': {'offset': 2474, 'length': 10}}, {'content': 'with', 'polygon': [4.372, 1.7716, 4.6807, 1.7715, 4.6807, 1.9487, 4.3721, 1.9487], 'confidence': 0.992, 'span': {'offset': 2485, 'length': 4}}, {'content': 'your', 'polygon': [4.7186, 1.7715, 5.0244, 1.7717, 5.0244, 1.9487, 4.7186, 1.9487], 'confidence': 0.989, 'span': {'offset': 2490, 'length': 4}}, {'content': 'plan.', 'polygon': [5.0622, 1.7717, 5.3709, 1.7723, 5.371, 1.9487, 5.0622, 1.9487], 'confidence': 0.997, 'span': {'offset': 2495, 'length': 5}}, {'content': 'You', 'polygon': [5.4088, 1.7722, 5.6621, 1.7718, 5.6622, 1.9487, 5.4089, 1.9487], 'confidence': 0.998, 'span': {'offset': 2501, 'length': 3}}, {'content': 'can', 'polygon': [5.6971, 1.7718, 5.9213, 1.7719, 5.9214, 1.9487, 5.6972, 1.9487], 'confidence': 0.998, 'span': {'offset': 2505, 'length': 3}}, {'content': 'confirm', 'polygon': [5.9621, 1.772, 6.4659, 1.7728, 6.466, 1.9487, 5.9622, 1.9487], 'confidence': 0.994, 'span': {'offset': 2509, 'length': 7}}, {'content': 'this', 'polygon': [6.5038, 1.7729, 6.7397, 1.7734, 6.7396, 1.9487, 6.5038, 1.9487], 'confidence': 0.992, 'span': {'offset': 2517, 'length': 4}}, {'content': 'by', 'polygon': [6.7804, 1.7735, 6.9505, 1.7739, 6.9505, 1.9487, 6.7804, 1.9487], 'confidence': 0.998, 'span': {'offset': 2522, 'length': 2}}, {'content': 'calling', 'polygon': [1.2407, 1.9747, 1.6545, 1.9734, 1.6548, 2.159, 1.2414, 2.159], 'confidence': 0.997, 'span': {'offset': 2525, 'length': 7}}, {'content': 'the', 'polygon': [1.69, 1.9735, 1.9146, 1.9742, 1.9153, 2.159, 1.6903, 2.159], 'confidence': 0.999, 'span': {'offset': 2533, 'length': 3}}, {'content': \"provider's\", 'polygon': [1.956, 1.9743, 2.6211, 1.9749, 2.622, 2.1563, 1.9567, 2.159], 'confidence': 0.986, 'span': {'offset': 2537, 'length': 10}}, {'content': 'office', 'polygon': [2.6655, 1.975, 3.0173, 1.9744, 3.0181, 2.1556, 2.6663, 2.1562], 'confidence': 0.996, 'span': {'offset': 2548, 'length': 6}}, {'content': 'and', 'polygon': [3.0557, 1.9742, 3.2922, 1.9736, 3.2933, 2.1555, 3.0566, 2.1556], 'confidence': 0.999, 'span': {'offset': 2555, 'length': 3}}, {'content': 'asking', 'polygon': [3.3336, 1.9736, 3.7356, 1.9732, 3.7368, 2.1554, 3.3347, 2.1555], 'confidence': 0.999, 'span': {'offset': 2559, 'length': 6}}, {'content': 'them', 'polygon': [3.7711, 1.9731, 4.0755, 1.9729, 4.0764, 2.155, 3.7723, 2.1554], 'confidence': 0.992, 'span': {'offset': 2566, 'length': 4}}, {'content': 'if', 'polygon': [4.1376, 1.9729, 4.2322, 1.9729, 4.2329, 2.1546, 4.1384, 2.1548], 'confidence': 0.998, 'span': {'offset': 2571, 'length': 2}}, {'content': 'they', 'polygon': [4.2677, 1.973, 4.5515, 1.9735, 4.5518, 2.1543, 4.2683, 2.1546], 'confidence': 0.992, 'span': {'offset': 2574, 'length': 4}}, {'content': 'are', 'polygon': [4.5869, 1.9736, 4.7879, 1.974, 4.7881, 2.154, 4.5872, 2.1543], 'confidence': 0.996, 'span': {'offset': 2579, 'length': 3}}, {'content': 'in-network', 'polygon': [4.8234, 1.974, 5.5684, 1.9739, 5.5692, 2.1503, 4.8236, 2.1538], 'confidence': 0.996, 'span': {'offset': 2583, 'length': 10}}, {'content': 'with', 'polygon': [5.6038, 1.9738, 5.9083, 1.9734, 5.9092, 2.1488, 5.6047, 2.1502], 'confidence': 0.984, 'span': {'offset': 2594, 'length': 4}}, {'content': 'Northwind', 'polygon': [5.9526, 1.9733, 6.6738, 1.9739, 6.6738, 2.1464, 5.9535, 2.1488], 'confidence': 0.995, 'span': {'offset': 2599, 'length': 9}}, {'content': 'Standard.', 'polygon': [1.2393, 2.1788, 1.8719, 2.1785, 1.8722, 2.3527, 1.2396, 2.3514], 'confidence': 0.993, 'span': {'offset': 2609, 'length': 9}}, {'content': 'You', 'polygon': [1.9063, 2.1786, 2.1582, 2.179, 2.1584, 2.3533, 1.9065, 2.3528], 'confidence': 0.999, 'span': {'offset': 2619, 'length': 3}}, {'content': 'can', 'polygon': [2.1982, 2.179, 2.4187, 2.1792, 2.4189, 2.3539, 2.1985, 2.3534], 'confidence': 0.999, 'span': {'offset': 2623, 'length': 3}}, {'content': 'also', 'polygon': [2.4587, 2.1792, 2.7164, 2.1789, 2.717, 2.3549, 2.459, 2.354], 'confidence': 0.992, 'span': {'offset': 2627, 'length': 4}}, {'content': 'use', 'polygon': [2.7536, 2.1788, 2.9711, 2.1789, 2.972, 2.3555, 2.7542, 2.355], 'confidence': 0.999, 'span': {'offset': 2632, 'length': 3}}, {'content': 'the', 'polygon': [3.0112, 2.179, 3.2145, 2.1795, 3.2155, 2.3559, 3.0121, 2.3556], 'confidence': 0.999, 'span': {'offset': 2636, 'length': 3}}, {'content': 'provider', 'polygon': [3.2574, 2.1797, 3.8242, 2.178, 3.8249, 2.3553, 3.2585, 2.3559], 'confidence': 0.997, 'span': {'offset': 2640, 'length': 8}}, {'content': 'search', 'polygon': [3.8614, 2.178, 4.2851, 2.179, 4.2855, 2.354, 3.862, 2.3551], 'confidence': 0.995, 'span': {'offset': 2649, 'length': 6}}, {'content': 'tool', 'polygon': [4.3252, 2.1792, 4.5742, 2.1796, 4.5748, 2.354, 4.3256, 2.354], 'confidence': 0.992, 'span': {'offset': 2656, 'length': 4}}, {'content': 'on', 'polygon': [4.6171, 2.1794, 4.7746, 2.1787, 4.7749, 2.3542, 4.6177, 2.3541], 'confidence': 0.999, 'span': {'offset': 2661, 'length': 2}}, {'content': 'the', 'polygon': [4.8118, 2.1786, 5.0179, 2.1783, 5.018, 2.3542, 4.8121, 2.3543], 'confidence': 0.999, 'span': {'offset': 2664, 'length': 3}}, {'content': 'Northwind', 'polygon': [5.0637, 2.1784, 5.7708, 2.1778, 5.7709, 2.3514, 5.0638, 2.3541], 'confidence': 0.997, 'span': {'offset': 2668, 'length': 9}}, {'content': 'Health', 'polygon': [5.8137, 2.1776, 6.2345, 2.1771, 6.2347, 2.3521, 5.8138, 2.3515], 'confidence': 0.999, 'span': {'offset': 2678, 'length': 6}}, {'content': 'website', 'polygon': [6.2689, 2.1773, 6.7784, 2.1796, 6.7785, 2.3515, 6.269, 2.3521], 'confidence': 0.996, 'span': {'offset': 2685, 'length': 7}}, {'content': 'to', 'polygon': [6.8156, 2.1798, 6.9561, 2.1806, 6.9561, 2.3513, 6.8157, 2.3514], 'confidence': 0.999, 'span': {'offset': 2693, 'length': 2}}, {'content': 'make', 'polygon': [1.2358, 2.3979, 1.6029, 2.3974, 1.6038, 2.5675, 1.2376, 2.5663], 'confidence': 0.989, 'span': {'offset': 2696, 'length': 4}}, {'content': 'sure', 'polygon': [1.6421, 2.3972, 1.925, 2.3967, 1.9257, 2.5681, 1.6429, 2.5676], 'confidence': 0.992, 'span': {'offset': 2701, 'length': 4}}, {'content': 'your', 'polygon': [1.9587, 2.3968, 2.2444, 2.3959, 2.2453, 2.5687, 1.9593, 2.5681], 'confidence': 0.992, 'span': {'offset': 2706, 'length': 4}}, {'content': 'provider', 'polygon': [2.278, 2.396, 2.8496, 2.3943, 2.8505, 2.5664, 2.279, 2.5686], 'confidence': 0.995, 'span': {'offset': 2711, 'length': 8}}, {'content': 'is', 'polygon': [2.8832, 2.3942, 3.0065, 2.3937, 3.0074, 2.5663, 2.8841, 2.5663], 'confidence': 0.998, 'span': {'offset': 2720, 'length': 2}}, {'content': 'in-network.', 'polygon': [3.0513, 2.3934, 3.8184, 2.3906, 3.8184, 2.5614, 3.0522, 2.5663], 'confidence': 0.994, 'span': {'offset': 2723, 'length': 11}}, {'content': 'Second,', 'polygon': [1.2396, 2.7326, 1.7216, 2.7336, 1.7215, 2.9119, 1.2394, 2.9106], 'confidence': 0.993, 'span': {'offset': 2736, 'length': 7}}, {'content': 'make', 'polygon': [1.7569, 2.7338, 2.136, 2.7351, 2.1357, 2.9124, 1.7568, 2.9119], 'confidence': 0.988, 'span': {'offset': 2744, 'length': 4}}, {'content': 'sure', 'polygon': [2.1771, 2.7351, 2.4387, 2.7347, 2.4384, 2.9128, 2.1768, 2.9125], 'confidence': 0.989, 'span': {'offset': 2749, 'length': 4}}, {'content': 'that', 'polygon': [2.4739, 2.7347, 2.7325, 2.7344, 2.7323, 2.9136, 2.4737, 2.9128], 'confidence': 0.992, 'span': {'offset': 2754, 'length': 4}}, {'content': 'the', 'polygon': [2.7678, 2.7344, 2.9941, 2.7343, 2.9939, 2.9144, 2.7676, 2.9137], 'confidence': 0.999, 'span': {'offset': 2759, 'length': 3}}, {'content': 'provider', 'polygon': [3.0352, 2.7344, 3.5906, 2.7352, 3.5906, 2.9152, 3.0351, 2.9146], 'confidence': 0.996, 'span': {'offset': 2763, 'length': 8}}, {'content': 'you', 'polygon': [3.6259, 2.7352, 3.8786, 2.7354, 3.8786, 2.9152, 3.6258, 2.9151], 'confidence': 0.998, 'span': {'offset': 2772, 'length': 3}}, {'content': 'choose', 'polygon': [3.9198, 2.7355, 4.343, 2.7363, 4.3428, 2.9159, 3.9197, 2.9153], 'confidence': 0.997, 'span': {'offset': 2776, 'length': 6}}, {'content': 'is', 'polygon': [4.3782, 2.7364, 4.5046, 2.7366, 4.5044, 2.9157, 4.3781, 2.9159], 'confidence': 0.995, 'span': {'offset': 2783, 'length': 2}}, {'content': 'accepting', 'polygon': [4.5457, 2.7367, 5.1688, 2.7362, 5.1684, 2.9164, 4.5456, 2.9157], 'confidence': 0.995, 'span': {'offset': 2786, 'length': 9}}, {'content': 'new', 'polygon': [5.204, 2.7362, 5.445, 2.7362, 5.4447, 2.9168, 5.2037, 2.9165], 'confidence': 0.998, 'span': {'offset': 2796, 'length': 3}}, {'content': 'patients.', 'polygon': [5.495, 2.7362, 6.071, 2.7364, 6.0707, 2.9162, 5.4946, 2.9167], 'confidence': 0.994, 'span': {'offset': 2800, 'length': 9}}, {'content': 'Some', 'polygon': [6.1121, 2.7364, 6.4647, 2.7359, 6.4644, 2.9169, 6.1118, 2.9164], 'confidence': 0.992, 'span': {'offset': 2810, 'length': 4}}, {'content': 'providers', 'polygon': [6.5029, 2.7359, 7.1442, 2.7372, 7.1442, 2.9156, 6.5026, 2.917], 'confidence': 0.994, 'span': {'offset': 2815, 'length': 9}}, {'content': 'may', 'polygon': [1.2337, 2.9457, 1.506, 2.9457, 1.5069, 3.1168, 1.2343, 3.1168], 'confidence': 0.997, 'span': {'offset': 2825, 'length': 3}}, {'content': 'be', 'polygon': [1.5401, 2.9455, 1.6989, 2.9448, 1.6997, 3.1153, 1.5409, 3.1166], 'confidence': 0.998, 'span': {'offset': 2829, 'length': 2}}, {'content': 'in-network', 'polygon': [1.733, 2.9448, 2.4705, 2.9432, 2.4712, 3.1153, 1.7337, 3.1152], 'confidence': 0.996, 'span': {'offset': 2832, 'length': 10}}, {'content': 'but', 'polygon': [2.5046, 2.9432, 2.7202, 2.9427, 2.7207, 3.1155, 2.5052, 3.1153], 'confidence': 0.999, 'span': {'offset': 2843, 'length': 3}}, {'content': 'not', 'polygon': [2.7542, 2.9426, 2.9698, 2.9418, 2.9702, 3.116, 2.7547, 3.1156], 'confidence': 0.999, 'span': {'offset': 2847, 'length': 3}}, {'content': 'be', 'polygon': [3.0038, 2.9416, 3.1769, 2.9412, 3.1771, 3.1162, 3.0042, 3.116], 'confidence': 0.998, 'span': {'offset': 2851, 'length': 2}}, {'content': 'taking', 'polygon': [3.2166, 2.9412, 3.6279, 2.9422, 3.628, 3.1168, 3.2169, 3.1162], 'confidence': 0.998, 'span': {'offset': 2854, 'length': 6}}, {'content': 'new', 'polygon': [3.6648, 2.9424, 3.94, 2.9431, 3.94, 3.1168, 3.6649, 3.1168], 'confidence': 0.999, 'span': {'offset': 2861, 'length': 3}}, {'content': 'patients.', 'polygon': [3.974, 2.9431, 4.5378, 2.945, 4.5378, 3.1168, 3.9741, 3.1168], 'confidence': 0.994, 'span': {'offset': 2865, 'length': 9}}, {'content': 'Third,', 'polygon': [1.2398, 3.279, 1.6432, 3.2802, 1.6437, 3.4599, 1.2401, 3.4586], 'confidence': 0.994, 'span': {'offset': 2876, 'length': 6}}, {'content': 'consider', 'polygon': [1.6845, 3.2802, 2.2292, 3.2811, 2.2293, 3.459, 1.6849, 3.4599], 'confidence': 0.996, 'span': {'offset': 2883, 'length': 8}}, {'content': 'the', 'polygon': [2.2645, 3.2813, 2.4648, 3.2818, 2.4648, 3.4586, 2.2646, 3.4589], 'confidence': 0.999, 'span': {'offset': 2892, 'length': 3}}, {'content': 'location', 'polygon': [2.5001, 3.2818, 3.0448, 3.2817, 3.0449, 3.4611, 2.5002, 3.4587], 'confidence': 0.996, 'span': {'offset': 2896, 'length': 8}}, {'content': 'of', 'polygon': [3.0831, 3.2817, 3.1832, 3.2818, 3.1834, 3.4615, 3.0832, 3.4612], 'confidence': 0.997, 'span': {'offset': 2905, 'length': 2}}, {'content': 'the', 'polygon': [3.2186, 3.2818, 3.4306, 3.282, 3.4308, 3.4618, 3.2187, 3.4616], 'confidence': 0.998, 'span': {'offset': 2908, 'length': 3}}, {'content': 'provider.', 'polygon': [3.4659, 3.2821, 4.0666, 3.2814, 4.0668, 3.4641, 3.4662, 3.4618], 'confidence': 0.993, 'span': {'offset': 2912, 'length': 9}}, {'content': 'If', 'polygon': [4.1019, 3.2815, 4.1961, 3.2817, 4.1963, 3.4635, 4.1021, 3.4639], 'confidence': 0.994, 'span': {'offset': 2922, 'length': 2}}, {'content': 'the', 'polygon': [4.2315, 3.2818, 4.4582, 3.2826, 4.4583, 3.4631, 4.2316, 3.4634], 'confidence': 0.994, 'span': {'offset': 2925, 'length': 3}}, {'content': 'provider', 'polygon': [4.4994, 3.2828, 5.0442, 3.2838, 5.0441, 3.4633, 4.4995, 3.4632], 'confidence': 0.995, 'span': {'offset': 2929, 'length': 8}}, {'content': 'is', 'polygon': [5.0795, 3.2837, 5.2032, 3.2837, 5.2031, 3.463, 5.0794, 3.4632], 'confidence': 0.998, 'span': {'offset': 2938, 'length': 2}}, {'content': 'too', 'polygon': [5.2444, 3.2838, 5.4328, 3.2841, 5.4327, 3.4634, 5.2443, 3.4631], 'confidence': 0.997, 'span': {'offset': 2941, 'length': 3}}, {'content': 'far', 'polygon': [5.4682, 3.2842, 5.6743, 3.284, 5.6742, 3.4638, 5.468, 3.4634], 'confidence': 0.998, 'span': {'offset': 2945, 'length': 3}}, {'content': 'away,', 'polygon': [5.7096, 3.2839, 6.0571, 3.284, 6.057, 3.4641, 5.7095, 3.4638], 'confidence': 0.996, 'span': {'offset': 2949, 'length': 5}}, {'content': 'it', 'polygon': [6.0924, 3.2842, 6.1866, 3.2847, 6.1866, 3.4642, 6.0923, 3.4642], 'confidence': 0.992, 'span': {'offset': 2955, 'length': 2}}, {'content': 'may', 'polygon': [6.222, 3.2849, 6.5046, 3.2847, 6.5046, 3.4642, 6.2219, 3.4642], 'confidence': 0.998, 'span': {'offset': 2958, 'length': 3}}, {'content': 'be', 'polygon': [6.54, 3.2846, 6.7236, 3.2837, 6.7236, 3.4641, 6.5399, 3.4642], 'confidence': 0.998, 'span': {'offset': 2962, 'length': 2}}, {'content': 'difficult', 'polygon': [1.242, 3.4912, 1.7351, 3.4922, 1.7349, 3.6708, 1.2423, 3.6696], 'confidence': 0.995, 'span': {'offset': 2965, 'length': 9}}, {'content': 'for', 'polygon': [1.7703, 3.4922, 1.9582, 3.4929, 1.958, 3.672, 1.7702, 3.671], 'confidence': 0.999, 'span': {'offset': 2975, 'length': 3}}, {'content': 'you', 'polygon': [1.9934, 3.4931, 2.2547, 3.494, 2.2546, 3.6741, 1.9933, 3.6723], 'confidence': 0.999, 'span': {'offset': 2979, 'length': 3}}, {'content': 'to', 'polygon': [2.2899, 3.4941, 2.419, 3.4947, 2.419, 3.6744, 2.2898, 3.6742], 'confidence': 0.999, 'span': {'offset': 2983, 'length': 2}}, {'content': 'get', 'polygon': [2.4572, 3.4949, 2.6392, 3.4955, 2.6391, 3.6755, 2.4572, 3.6744], 'confidence': 0.999, 'span': {'offset': 2986, 'length': 3}}, {'content': 'to', 'polygon': [2.6744, 3.4956, 2.8212, 3.4956, 2.821, 3.6758, 2.6743, 3.6757], 'confidence': 0.998, 'span': {'offset': 2990, 'length': 2}}, {'content': 'your', 'polygon': [2.8564, 3.4955, 3.1646, 3.4964, 3.1644, 3.6759, 2.8562, 3.6758], 'confidence': 0.987, 'span': {'offset': 2993, 'length': 4}}, {'content': 'appointments.', 'polygon': [3.1998, 3.4964, 4.1449, 3.4982, 4.1449, 3.6732, 3.1997, 3.6759], 'confidence': 0.992, 'span': {'offset': 2998, 'length': 13}}, {'content': 'Finally,', 'polygon': [1.2418, 3.8313, 1.7024, 3.833, 1.7026, 4.018, 1.2419, 4.0158], 'confidence': 0.993, 'span': {'offset': 3013, 'length': 8}}, {'content': 'consider', 'polygon': [1.7388, 3.833, 2.2964, 3.8333, 2.2965, 4.0179, 1.739, 4.018], 'confidence': 0.993, 'span': {'offset': 3022, 'length': 8}}, {'content': 'the', 'polygon': [2.3328, 3.8333, 2.5389, 3.8333, 2.539, 4.0181, 2.3329, 4.0179], 'confidence': 0.999, 'span': {'offset': 3031, 'length': 3}}, {'content': \"provider's\", 'polygon': [2.5752, 3.8334, 3.2692, 3.834, 3.2697, 4.0182, 2.5754, 4.0182], 'confidence': 0.991, 'span': {'offset': 3035, 'length': 10}}, {'content': 'office', 'polygon': [3.3116, 3.834, 3.642, 3.8348, 3.6422, 4.0188, 3.3122, 4.0181], 'confidence': 0.993, 'span': {'offset': 3046, 'length': 6}}, {'content': 'hours.', 'polygon': [3.6783, 3.8349, 4.1056, 3.8332, 4.1057, 4.0182, 3.6785, 4.0189], 'confidence': 0.992, 'span': {'offset': 3053, 'length': 6}}, {'content': 'If', 'polygon': [4.148, 3.8331, 4.2117, 3.8334, 4.2118, 4.0182, 4.1482, 4.0181], 'confidence': 0.987, 'span': {'offset': 3060, 'length': 2}}, {'content': 'you', 'polygon': [4.248, 3.8335, 4.4905, 3.8345, 4.4908, 4.0186, 4.2482, 4.0182], 'confidence': 0.995, 'span': {'offset': 3063, 'length': 3}}, {'content': 'work', 'polygon': [4.5269, 3.8346, 4.8784, 3.8343, 4.8785, 4.0191, 4.5272, 4.0186], 'confidence': 0.989, 'span': {'offset': 3067, 'length': 4}}, {'content': 'during', 'polygon': [4.9148, 3.8342, 5.339, 3.8352, 5.339, 4.0191, 4.9148, 4.0191], 'confidence': 0.998, 'span': {'offset': 3072, 'length': 6}}, {'content': 'the', 'polygon': [5.3754, 3.8353, 5.5996, 3.8347, 5.5996, 4.0191, 5.3753, 4.0191], 'confidence': 0.999, 'span': {'offset': 3079, 'length': 3}}, {'content': 'day,', 'polygon': [5.6421, 3.8346, 5.8997, 3.8338, 5.8996, 4.0191, 5.642, 4.0191], 'confidence': 0.99, 'span': {'offset': 3083, 'length': 4}}, {'content': 'you', 'polygon': [5.936, 3.8337, 6.1512, 3.8329, 6.1511, 4.0191, 5.936, 4.0191], 'confidence': 0.998, 'span': {'offset': 3088, 'length': 3}}, {'content': 'may', 'polygon': [6.1876, 3.8328, 6.4664, 3.8331, 6.4662, 4.0191, 6.1875, 4.0191], 'confidence': 0.998, 'span': {'offset': 3092, 'length': 3}}, {'content': 'need', 'polygon': [6.5027, 3.8331, 6.8452, 3.8335, 6.845, 4.0182, 6.5026, 4.0189], 'confidence': 0.992, 'span': {'offset': 3096, 'length': 4}}, {'content': 'to', 'polygon': [6.8815, 3.8336, 7.0225, 3.8338, 7.0225, 4.0182, 6.8814, 4.0182], 'confidence': 0.998, 'span': {'offset': 3101, 'length': 2}}, {'content': 'find', 'polygon': [1.2381, 4.0375, 1.5065, 4.039, 1.5066, 4.2224, 1.2381, 4.2219], 'confidence': 0.992, 'span': {'offset': 3104, 'length': 4}}, {'content': 'a', 'polygon': [1.5427, 4.0393, 1.5879, 4.0396, 1.588, 4.2228, 1.5428, 4.2226], 'confidence': 0.996, 'span': {'offset': 3109, 'length': 1}}, {'content': 'provider', 'polygon': [1.6241, 4.0398, 2.2031, 4.0383, 2.2032, 4.2223, 1.6242, 4.223], 'confidence': 0.996, 'span': {'offset': 3111, 'length': 8}}, {'content': 'that', 'polygon': [2.2393, 4.0383, 2.4926, 4.038, 2.4927, 4.2229, 2.2394, 4.2224], 'confidence': 0.992, 'span': {'offset': 3120, 'length': 4}}, {'content': 'has', 'polygon': [2.5288, 4.0377, 2.773, 4.0371, 2.7731, 4.2225, 2.5289, 4.2228], 'confidence': 0.999, 'span': {'offset': 3125, 'length': 3}}, {'content': 'evening', 'polygon': [2.8122, 4.0373, 3.3249, 4.0376, 3.325, 4.2234, 2.8123, 4.2225], 'confidence': 0.999, 'span': {'offset': 3129, 'length': 7}}, {'content': 'or', 'polygon': [3.3611, 4.0375, 3.4817, 4.0373, 3.4818, 4.2235, 3.3612, 4.2234], 'confidence': 0.999, 'span': {'offset': 3137, 'length': 2}}, {'content': 'weekend', 'polygon': [3.5179, 4.0372, 4.0969, 4.0398, 4.097, 4.223, 3.518, 4.2236], 'confidence': 0.998, 'span': {'offset': 3140, 'length': 7}}, {'content': 'hours.', 'polygon': [4.1331, 4.0398, 4.5765, 4.0411, 4.5765, 4.2202, 4.1332, 4.223], 'confidence': 0.992, 'span': {'offset': 3148, 'length': 6}}, {'content': 'Choosing', 'polygon': [1.2439, 4.3799, 1.8317, 4.3836, 1.8314, 4.5668, 1.2435, 4.566], 'confidence': 0.996, 'span': {'offset': 3156, 'length': 8}}, {'content': 'an', 'polygon': [1.8676, 4.3837, 2.0116, 4.3843, 2.0112, 4.567, 1.8673, 4.5668], 'confidence': 0.998, 'span': {'offset': 3165, 'length': 2}}, {'content': 'in-network', 'polygon': [2.0476, 4.3844, 2.7913, 4.385, 2.7907, 4.5678, 2.0472, 4.567], 'confidence': 0.994, 'span': {'offset': 3168, 'length': 10}}, {'content': 'provider', 'polygon': [2.8273, 4.3851, 3.4151, 4.3845, 3.4145, 4.5694, 2.8267, 4.5678], 'confidence': 0.996, 'span': {'offset': 3179, 'length': 8}}, {'content': 'can', 'polygon': [3.4511, 4.3845, 3.673, 4.3842, 3.6726, 4.5694, 3.4505, 4.5694], 'confidence': 0.998, 'span': {'offset': 3188, 'length': 3}}, {'content': 'help', 'polygon': [3.712, 4.3842, 3.9909, 4.3856, 3.9904, 4.5695, 3.7116, 4.5693], 'confidence': 0.992, 'span': {'offset': 3192, 'length': 4}}, {'content': 'you', 'polygon': [4.0269, 4.3858, 4.2668, 4.3868, 4.2663, 4.5699, 4.0264, 4.5695], 'confidence': 0.998, 'span': {'offset': 3197, 'length': 3}}, {'content': 'save', 'polygon': [4.3087, 4.387, 4.5936, 4.3879, 4.5933, 4.5701, 4.3083, 4.57], 'confidence': 0.992, 'span': {'offset': 3201, 'length': 4}}, {'content': 'money', 'polygon': [4.6326, 4.3879, 5.0795, 4.3883, 5.079, 4.5689, 4.6322, 4.57], 'confidence': 0.997, 'span': {'offset': 3206, 'length': 5}}, {'content': 'on', 'polygon': [5.1155, 4.3882, 5.2624, 4.3882, 5.262, 4.5689, 5.115, 4.5689], 'confidence': 0.998, 'span': {'offset': 3212, 'length': 2}}, {'content': 'your', 'polygon': [5.2984, 4.3881, 5.5983, 4.3875, 5.5979, 4.5693, 5.298, 4.5689], 'confidence': 0.992, 'span': {'offset': 3215, 'length': 4}}, {'content': 'health', 'polygon': [5.6343, 4.3874, 6.0541, 4.3857, 6.0536, 4.5688, 5.6339, 4.5694], 'confidence': 0.998, 'span': {'offset': 3220, 'length': 6}}, {'content': 'care', 'polygon': [6.0961, 4.3855, 6.369, 4.3852, 6.3683, 4.5681, 6.0956, 4.5687], 'confidence': 0.992, 'span': {'offset': 3227, 'length': 4}}, {'content': 'costs.', 'polygon': [6.411, 4.3852, 6.7678, 4.3862, 6.7671, 4.5683, 6.4103, 4.568], 'confidence': 0.994, 'span': {'offset': 3232, 'length': 6}}, {'content': 'By', 'polygon': [6.8098, 4.3864, 6.9837, 4.3873, 6.9837, 4.5691, 6.8091, 4.5685], 'confidence': 0.993, 'span': {'offset': 3239, 'length': 2}}, {'content': 'following', 'polygon': [1.2396, 4.5898, 1.8345, 4.5913, 1.8347, 4.7783, 1.2396, 4.7755], 'confidence': 0.995, 'span': {'offset': 3242, 'length': 9}}, {'content': 'the', 'polygon': [1.8709, 4.5914, 2.1016, 4.592, 2.1018, 4.7793, 1.8711, 4.7785], 'confidence': 0.999, 'span': {'offset': 3252, 'length': 3}}, {'content': 'tips', 'polygon': [2.1411, 4.5921, 2.3779, 4.5928, 2.3781, 4.7786, 2.1412, 4.7792], 'confidence': 0.989, 'span': {'offset': 3256, 'length': 4}}, {'content': 'above', 'polygon': [2.4204, 4.593, 2.8058, 4.5936, 2.8063, 4.7783, 2.4206, 4.7784], 'confidence': 0.995, 'span': {'offset': 3261, 'length': 5}}, {'content': 'and', 'polygon': [2.8453, 4.5936, 3.0608, 4.5937, 3.0614, 4.7795, 2.8458, 4.7785], 'confidence': 0.999, 'span': {'offset': 3267, 'length': 3}}, {'content': 'researching', 'polygon': [3.0972, 4.5937, 3.8622, 4.5936, 3.8623, 4.7803, 3.0978, 4.7797], 'confidence': 0.994, 'span': {'offset': 3271, 'length': 11}}, {'content': 'your', 'polygon': [3.8986, 4.5936, 4.2294, 4.5945, 4.2296, 4.7803, 3.8987, 4.7803], 'confidence': 0.989, 'span': {'offset': 3283, 'length': 4}}, {'content': 'options,', 'polygon': [4.2689, 4.5947, 4.7606, 4.5937, 4.7607, 4.7798, 4.269, 4.7803], 'confidence': 0.994, 'span': {'offset': 3288, 'length': 8}}, {'content': 'you', 'polygon': [4.7971, 4.5935, 5.0581, 4.5935, 5.0582, 4.7804, 4.7971, 4.7797], 'confidence': 0.995, 'span': {'offset': 3297, 'length': 3}}, {'content': 'can', 'polygon': [5.1006, 4.5935, 5.2949, 4.5936, 5.295, 4.7803, 5.1007, 4.7805], 'confidence': 0.998, 'span': {'offset': 3301, 'length': 3}}, {'content': 'find', 'polygon': [5.3313, 4.5936, 5.6136, 4.5937, 5.6136, 4.7789, 5.3314, 4.7801], 'confidence': 0.989, 'span': {'offset': 3305, 'length': 4}}, {'content': 'a', 'polygon': [5.653, 4.5935, 5.7228, 4.5932, 5.7229, 4.7786, 5.6531, 4.7788], 'confidence': 0.996, 'span': {'offset': 3310, 'length': 1}}, {'content': 'provider', 'polygon': [5.7593, 4.5931, 6.3026, 4.5931, 6.3024, 4.7745, 5.7593, 4.7785], 'confidence': 0.994, 'span': {'offset': 3312, 'length': 8}}, {'content': 'that', 'polygon': [6.339, 4.5932, 6.594, 4.5938, 6.5938, 4.7739, 6.3388, 4.7742], 'confidence': 0.989, 'span': {'offset': 3321, 'length': 4}}, {'content': 'is', 'polygon': [6.6304, 4.5939, 6.7734, 4.5943, 6.7734, 4.774, 6.6303, 4.7739], 'confidence': 0.998, 'span': {'offset': 3326, 'length': 2}}, {'content': 'convenient,', 'polygon': [1.2432, 4.8016, 1.9987, 4.8001, 1.9994, 4.9798, 1.2442, 4.977], 'confidence': 0.994, 'span': {'offset': 3329, 'length': 11}}, {'content': 'affordable,', 'polygon': [2.0406, 4.7999, 2.7362, 4.7981, 2.7369, 4.9804, 2.0414, 4.9798], 'confidence': 0.994, 'span': {'offset': 3341, 'length': 11}}, {'content': 'and', 'polygon': [2.7751, 4.798, 2.994, 4.7975, 2.9946, 4.981, 2.7759, 4.9805], 'confidence': 0.999, 'span': {'offset': 3353, 'length': 3}}, {'content': 'in-network', 'polygon': [3.03, 4.7975, 3.7735, 4.797, 3.7746, 4.9818, 3.0306, 4.981], 'confidence': 0.996, 'span': {'offset': 3357, 'length': 10}}, {'content': 'with', 'polygon': [3.8094, 4.7969, 4.1122, 4.7957, 4.113, 4.9824, 3.8105, 4.9819], 'confidence': 0.992, 'span': {'offset': 3368, 'length': 4}}, {'content': 'your', 'polygon': [4.1482, 4.7955, 4.433, 4.7945, 4.4335, 4.9824, 4.149, 4.9824], 'confidence': 0.992, 'span': {'offset': 3373, 'length': 4}}, {'content': 'Northwind', 'polygon': [4.469, 4.7946, 5.2005, 4.796, 5.2009, 4.9808, 4.4695, 4.9824], 'confidence': 0.997, 'span': {'offset': 3378, 'length': 9}}, {'content': 'Standard', 'polygon': [5.2395, 4.7958, 5.83, 4.7981, 5.8302, 4.9817, 5.2399, 4.9807], 'confidence': 0.996, 'span': {'offset': 3388, 'length': 8}}, {'content': 'plan.', 'polygon': [5.869, 4.798, 6.1868, 4.7967, 6.1868, 4.9822, 5.8692, 4.9818], 'confidence': 0.994, 'span': {'offset': 3397, 'length': 5}}, {'content': 'Continuity', 'polygon': [1.2409, 5.1501, 1.9099, 5.1503, 1.91, 5.3133, 1.2423, 5.3139], 'confidence': 0.992, 'span': {'offset': 3404, 'length': 10}}, {'content': 'of', 'polygon': [1.9504, 5.1502, 2.0799, 5.1492, 2.08, 5.314, 1.9505, 5.3132], 'confidence': 0.997, 'span': {'offset': 3415, 'length': 2}}, {'content': 'Care', 'polygon': [2.1149, 5.1491, 2.4072, 5.1499, 2.4072, 5.3142, 2.115, 5.3142], 'confidence': 0.992, 'span': {'offset': 3418, 'length': 4}}, {'content': 'HOW', 'polygon': [1.2379, 5.3509, 1.5935, 5.3507, 1.5937, 5.5248, 1.2382, 5.5249], 'confidence': 0.992, 'span': {'offset': 3424, 'length': 3}}, {'content': 'PROVIDERS', 'polygon': [1.6333, 5.351, 2.407, 5.3514, 2.4072, 5.5248, 1.6335, 5.5248], 'confidence': 0.992, 'span': {'offset': 3428, 'length': 9}}, {'content': 'AFFECT', 'polygon': [2.444, 5.3513, 2.9645, 5.3509, 2.9645, 5.5249, 2.4442, 5.5247], 'confidence': 0.996, 'span': {'offset': 3438, 'length': 6}}, {'content': 'YOUR', 'polygon': [3.0015, 5.3509, 3.3855, 5.3511, 3.3854, 5.5243, 3.0015, 5.5249], 'confidence': 0.988, 'span': {'offset': 3445, 'length': 4}}, {'content': 'COSTS:', 'polygon': [3.4225, 5.351, 3.8748, 5.3504, 3.8748, 5.5241, 3.4224, 5.5243], 'confidence': 0.993, 'span': {'offset': 3450, 'length': 6}}, {'content': 'CONTINUITY', 'polygon': [3.9203, 5.3503, 4.7766, 5.3498, 4.7764, 5.5247, 3.9203, 5.5241], 'confidence': 0.992, 'span': {'offset': 3457, 'length': 10}}, {'content': 'OF', 'polygon': [4.8164, 5.3499, 4.9927, 5.3502, 4.9926, 5.5242, 4.8162, 5.5247], 'confidence': 0.998, 'span': {'offset': 3468, 'length': 2}}, {'content': 'CARE', 'polygon': [5.0326, 5.3503, 5.401, 5.3515, 5.401, 5.5232, 5.0324, 5.524], 'confidence': 0.988, 'span': {'offset': 3471, 'length': 4}}, {'content': 'At', 'polygon': [1.24, 5.6993, 1.3995, 5.7001, 1.3991, 5.878, 1.2395, 5.8776], 'confidence': 0.998, 'span': {'offset': 3477, 'length': 2}}, {'content': 'Contoso,', 'polygon': [1.4349, 5.7003, 1.9903, 5.7029, 1.9898, 5.8804, 1.4345, 5.8781], 'confidence': 0.995, 'span': {'offset': 3480, 'length': 8}}, {'content': 'we', 'polygon': [2.0258, 5.703, 2.1971, 5.703, 2.1966, 5.8805, 2.0253, 5.8805], 'confidence': 0.998, 'span': {'offset': 3489, 'length': 2}}, {'content': 'understand', 'polygon': [2.2325, 5.703, 3.0036, 5.7011, 3.0031, 5.8829, 2.2321, 5.8804], 'confidence': 0.995, 'span': {'offset': 3492, 'length': 10}}, {'content': 'the', 'polygon': [3.042, 5.7011, 3.2251, 5.701, 3.2246, 5.8831, 3.0415, 5.8829], 'confidence': 0.999, 'span': {'offset': 3503, 'length': 3}}, {'content': 'importance', 'polygon': [3.2606, 5.701, 4.0346, 5.7004, 4.0342, 5.8833, 3.26, 5.8831], 'confidence': 0.996, 'span': {'offset': 3507, 'length': 10}}, {'content': 'of', 'polygon': [4.0759, 5.7004, 4.1823, 5.7005, 4.1819, 5.8838, 4.0755, 5.8833], 'confidence': 0.998, 'span': {'offset': 3518, 'length': 2}}, {'content': 'providing', 'polygon': [4.2177, 5.7005, 4.8706, 5.7015, 4.87, 5.8845, 4.2174, 5.884], 'confidence': 0.996, 'span': {'offset': 3521, 'length': 9}}, {'content': 'our', 'polygon': [4.906, 5.7015, 5.1305, 5.7013, 5.1301, 5.8844, 4.9054, 5.8845], 'confidence': 0.995, 'span': {'offset': 3531, 'length': 3}}, {'content': 'employees', 'polygon': [5.1689, 5.7013, 5.8602, 5.702, 5.8599, 5.8823, 5.1685, 5.8844], 'confidence': 0.995, 'span': {'offset': 3535, 'length': 9}}, {'content': 'with', 'polygon': [5.8986, 5.702, 6.1911, 5.702, 6.1908, 5.8815, 5.8983, 5.8822], 'confidence': 0.992, 'span': {'offset': 3545, 'length': 4}}, {'content': 'access', 'polygon': [6.2295, 5.7021, 6.6401, 5.7036, 6.6398, 5.8806, 6.2292, 5.8815], 'confidence': 0.993, 'span': {'offset': 3550, 'length': 6}}, {'content': 'to', 'polygon': [6.6785, 5.7038, 6.8055, 5.7044, 6.8053, 5.8799, 6.6782, 5.8804], 'confidence': 0.999, 'span': {'offset': 3557, 'length': 2}}, {'content': 'a', 'polygon': [6.8469, 5.7046, 6.9284, 5.705, 6.9284, 5.8792, 6.8466, 5.8797], 'confidence': 0.995, 'span': {'offset': 3560, 'length': 1}}, {'content': 'quality,', 'polygon': [1.2404, 5.9123, 1.7327, 5.9102, 1.7338, 6.095, 1.2426, 6.0992], 'confidence': 0.993, 'span': {'offset': 3562, 'length': 8}}, {'content': 'affordable', 'polygon': [1.7722, 5.9101, 2.4073, 5.9093, 2.408, 6.0943, 1.7733, 6.095], 'confidence': 0.993, 'span': {'offset': 3571, 'length': 10}}, {'content': 'health', 'polygon': [2.4437, 5.9093, 2.8813, 5.9089, 2.8823, 6.0957, 2.4445, 6.0945], 'confidence': 0.995, 'span': {'offset': 3582, 'length': 6}}, {'content': 'care', 'polygon': [2.9208, 5.9089, 3.173, 5.9086, 3.1742, 6.0943, 2.9219, 6.0955], 'confidence': 0.992, 'span': {'offset': 3589, 'length': 4}}, {'content': 'plan.', 'polygon': [3.2094, 5.9085, 3.5437, 5.9077, 3.5449, 6.095, 3.2107, 6.0942], 'confidence': 0.996, 'span': {'offset': 3594, 'length': 5}}, {'content': 'We', 'polygon': [3.5802, 5.9076, 3.7959, 5.9078, 3.797, 6.0953, 3.5814, 6.0951], 'confidence': 0.998, 'span': {'offset': 3600, 'length': 2}}, {'content': 'are', 'polygon': [3.8324, 5.9078, 4.042, 5.9081, 4.0429, 6.0953, 3.8334, 6.0953], 'confidence': 0.995, 'span': {'offset': 3603, 'length': 3}}, {'content': 'proud', 'polygon': [4.0815, 5.9082, 4.4492, 5.9085, 4.4498, 6.095, 4.0824, 6.0953], 'confidence': 0.997, 'span': {'offset': 3607, 'length': 5}}, {'content': 'to', 'polygon': [4.4857, 5.9085, 4.6376, 5.9082, 4.6381, 6.0947, 4.4862, 6.0949], 'confidence': 0.997, 'span': {'offset': 3613, 'length': 2}}, {'content': 'offer', 'polygon': [4.6801, 5.9081, 4.987, 5.9083, 4.9875, 6.0945, 4.6807, 6.0946], 'confidence': 0.997, 'span': {'offset': 3616, 'length': 5}}, {'content': 'our', 'polygon': [5.0235, 5.9084, 5.2514, 5.9089, 5.2519, 6.0943, 5.024, 6.0945], 'confidence': 0.998, 'span': {'offset': 3622, 'length': 3}}, {'content': 'employees', 'polygon': [5.2879, 5.909, 5.9563, 5.9077, 5.958, 6.0938, 5.2883, 6.0942], 'confidence': 0.994, 'span': {'offset': 3626, 'length': 9}}, {'content': 'Northwind', 'polygon': [5.9928, 5.9077, 6.7458, 5.9087, 6.7458, 6.0906, 5.9944, 6.0935], 'confidence': 0.994, 'span': {'offset': 3636, 'length': 9}}, {'content': 'Standard,', 'polygon': [1.2414, 6.1152, 1.8714, 6.1164, 1.8716, 6.2957, 1.2416, 6.2944], 'confidence': 0.994, 'span': {'offset': 3646, 'length': 9}}, {'content': 'an', 'polygon': [1.9129, 6.1165, 2.046, 6.1169, 2.0461, 6.2967, 1.913, 6.2959], 'confidence': 0.998, 'span': {'offset': 3656, 'length': 2}}, {'content': 'insurance', 'polygon': [2.0815, 6.117, 2.7204, 6.1163, 2.7208, 6.2989, 2.0816, 6.2969], 'confidence': 0.994, 'span': {'offset': 3659, 'length': 9}}, {'content': 'plan', 'polygon': [2.7559, 6.1162, 3.0399, 6.1161, 3.0404, 6.2998, 2.7563, 6.2991], 'confidence': 0.992, 'span': {'offset': 3669, 'length': 4}}, {'content': 'that', 'polygon': [3.0754, 6.1161, 3.3357, 6.1163, 3.3362, 6.2996, 3.0759, 6.2998], 'confidence': 0.992, 'span': {'offset': 3674, 'length': 4}}, {'content': 'provides', 'polygon': [3.3712, 6.1163, 3.9628, 6.1159, 3.9629, 6.2984, 3.3717, 6.2995], 'confidence': 0.995, 'span': {'offset': 3679, 'length': 8}}, {'content': 'coverage', 'polygon': [4.0042, 6.1158, 4.5662, 6.1169, 4.5664, 6.2975, 4.0043, 6.2984], 'confidence': 0.995, 'span': {'offset': 3688, 'length': 8}}, {'content': 'for', 'polygon': [4.6017, 6.1171, 4.791, 6.117, 4.7912, 6.2973, 4.6019, 6.2974], 'confidence': 0.999, 'span': {'offset': 3697, 'length': 3}}, {'content': 'medical,', 'polygon': [4.8265, 6.117, 5.3886, 6.1162, 5.3887, 6.2973, 4.8267, 6.2973], 'confidence': 0.994, 'span': {'offset': 3701, 'length': 8}}, {'content': 'vision,', 'polygon': [5.4241, 6.1162, 5.8441, 6.117, 5.8442, 6.2962, 5.4242, 6.2973], 'confidence': 0.992, 'span': {'offset': 3710, 'length': 7}}, {'content': 'and', 'polygon': [5.8855, 6.1171, 6.1251, 6.1156, 6.1253, 6.2952, 5.8856, 6.2961], 'confidence': 0.997, 'span': {'offset': 3718, 'length': 3}}, {'content': 'dental', 'polygon': [6.1665, 6.1153, 6.5688, 6.1148, 6.569, 6.2946, 6.1667, 6.2951], 'confidence': 0.996, 'span': {'offset': 3722, 'length': 6}}, {'content': 'services.', 'polygon': [6.6102, 6.1149, 7.1774, 6.1156, 7.1774, 6.2922, 6.6104, 6.2946], 'confidence': 0.993, 'span': {'offset': 3729, 'length': 9}}, {'content': 'We', 'polygon': [1.2396, 6.318, 1.4596, 6.3188, 1.4602, 6.5006, 1.2402, 6.5003], 'confidence': 0.977, 'span': {'offset': 3739, 'length': 2}}, {'content': 'also', 'polygon': [1.5018, 6.319, 1.755, 6.3198, 1.7555, 6.501, 1.5023, 6.5006], 'confidence': 0.992, 'span': {'offset': 3742, 'length': 4}}, {'content': 'offer', 'polygon': [1.8002, 6.3199, 2.1077, 6.3204, 2.108, 6.5016, 1.8007, 6.5011], 'confidence': 0.998, 'span': {'offset': 3747, 'length': 5}}, {'content': 'continuity', 'polygon': [2.1439, 6.3204, 2.81, 6.3193, 2.8107, 6.5034, 2.1442, 6.5016], 'confidence': 0.995, 'span': {'offset': 3753, 'length': 10}}, {'content': 'of', 'polygon': [2.8462, 6.3192, 2.9517, 6.3192, 2.9525, 6.504, 2.8469, 6.5035], 'confidence': 0.998, 'span': {'offset': 3764, 'length': 2}}, {'content': 'care,', 'polygon': [2.9879, 6.3192, 3.3074, 6.3194, 3.3086, 6.5048, 2.9887, 6.5041], 'confidence': 0.997, 'span': {'offset': 3767, 'length': 5}}, {'content': 'which', 'polygon': [3.3466, 6.3194, 3.7113, 6.3196, 3.7124, 6.5048, 3.3478, 6.5048], 'confidence': 0.998, 'span': {'offset': 3773, 'length': 5}}, {'content': 'is', 'polygon': [3.7475, 6.3196, 3.8801, 6.3194, 3.881, 6.5048, 3.7485, 6.5048], 'confidence': 0.999, 'span': {'offset': 3779, 'length': 2}}, {'content': 'the', 'polygon': [3.9193, 6.3194, 4.1243, 6.3192, 4.1248, 6.5048, 3.9201, 6.5048], 'confidence': 0.999, 'span': {'offset': 3782, 'length': 3}}, {'content': 'ability', 'polygon': [4.1635, 6.3191, 4.5553, 6.3187, 4.5555, 6.5048, 4.164, 6.5048], 'confidence': 0.995, 'span': {'offset': 3786, 'length': 7}}, {'content': 'to', 'polygon': [4.5915, 6.3187, 4.7362, 6.3186, 4.7364, 6.5048, 4.5917, 6.5048], 'confidence': 0.999, 'span': {'offset': 3794, 'length': 2}}, {'content': 'stay', 'polygon': [4.7784, 6.3186, 5.0255, 6.3184, 5.0258, 6.5047, 4.7786, 6.5048], 'confidence': 0.992, 'span': {'offset': 3797, 'length': 4}}, {'content': 'with', 'polygon': [5.0617, 6.3183, 5.3511, 6.3175, 5.3514, 6.5036, 5.062, 6.5046], 'confidence': 0.992, 'span': {'offset': 3802, 'length': 4}}, {'content': 'the', 'polygon': [5.3873, 6.3175, 5.6163, 6.3183, 5.6166, 6.5024, 5.3876, 6.5035], 'confidence': 0.994, 'span': {'offset': 3807, 'length': 3}}, {'content': 'same', 'polygon': [5.6555, 6.3184, 5.9931, 6.3182, 5.9934, 6.5019, 5.6558, 6.5022], 'confidence': 0.989, 'span': {'offset': 3811, 'length': 4}}, {'content': 'provider', 'polygon': [6.0323, 6.3181, 6.5809, 6.3181, 6.5812, 6.5009, 6.0326, 6.502], 'confidence': 0.995, 'span': {'offset': 3816, 'length': 8}}, {'content': 'for', 'polygon': [6.6171, 6.3181, 6.8251, 6.3181, 6.8255, 6.5001, 6.6174, 6.5008], 'confidence': 0.999, 'span': {'offset': 3825, 'length': 3}}, {'content': 'all', 'polygon': [6.8612, 6.3181, 7.027, 6.318, 7.0276, 6.4994, 6.8617, 6.4999], 'confidence': 0.997, 'span': {'offset': 3829, 'length': 3}}, {'content': 'your', 'polygon': [1.2284, 6.5329, 1.5329, 6.5296, 1.5344, 6.7061, 1.2309, 6.7096], 'confidence': 0.992, 'span': {'offset': 3833, 'length': 4}}, {'content': 'health', 'polygon': [1.568, 6.5294, 1.9956, 6.5277, 1.996, 6.7051, 1.5694, 6.706], 'confidence': 0.998, 'span': {'offset': 3838, 'length': 6}}, {'content': 'care', 'polygon': [2.0366, 6.5277, 2.3089, 6.5275, 2.3095, 6.7049, 2.037, 6.705], 'confidence': 0.99, 'span': {'offset': 3845, 'length': 4}}, {'content': 'needs,', 'polygon': [2.3499, 6.5274, 2.7394, 6.5274, 2.7397, 6.7046, 2.3505, 6.705], 'confidence': 0.996, 'span': {'offset': 3850, 'length': 6}}, {'content': 'from', 'polygon': [2.7745, 6.5275, 3.0527, 6.5258, 3.0531, 6.7051, 2.7748, 6.7045], 'confidence': 0.99, 'span': {'offset': 3857, 'length': 4}}, {'content': 'routine', 'polygon': [3.1259, 6.5258, 3.6296, 6.5252, 3.6301, 6.7063, 3.1263, 6.7053], 'confidence': 0.998, 'span': {'offset': 3862, 'length': 7}}, {'content': 'checkups', 'polygon': [3.6677, 6.525, 4.2504, 6.5247, 4.2506, 6.7063, 3.6682, 6.7063], 'confidence': 0.997, 'span': {'offset': 3870, 'length': 8}}, {'content': 'to', 'polygon': [4.2856, 6.5246, 4.432, 6.5251, 4.4321, 6.7064, 4.2857, 6.7064], 'confidence': 0.999, 'span': {'offset': 3879, 'length': 2}}, {'content': 'specialized', 'polygon': [4.4788, 6.5253, 5.1934, 6.5261, 5.1936, 6.7044, 4.4789, 6.7064], 'confidence': 0.993, 'span': {'offset': 3882, 'length': 11}}, {'content': 'care.', 'polygon': [5.2344, 6.5262, 5.5505, 6.5281, 5.5505, 6.7037, 5.2346, 6.7042], 'confidence': 0.992, 'span': {'offset': 3894, 'length': 5}}, {'content': 'Continuity', 'polygon': [1.2428, 6.8678, 1.9227, 6.8696, 1.9226, 7.0504, 1.2425, 7.0498], 'confidence': 0.993, 'span': {'offset': 3901, 'length': 10}}, {'content': 'of', 'polygon': [1.9585, 6.8697, 2.0897, 6.8697, 2.0895, 7.0508, 1.9583, 7.0505], 'confidence': 0.995, 'span': {'offset': 3912, 'length': 2}}, {'content': 'care', 'polygon': [2.1255, 6.8697, 2.388, 6.8693, 2.3877, 7.0507, 2.1253, 7.0508], 'confidence': 0.992, 'span': {'offset': 3915, 'length': 4}}, {'content': 'is', 'polygon': [2.4238, 6.8692, 2.546, 6.8692, 2.5458, 7.0508, 2.4235, 7.0507], 'confidence': 0.997, 'span': {'offset': 3920, 'length': 2}}, {'content': 'an', 'polygon': [2.5878, 6.8693, 2.722, 6.8695, 2.7218, 7.0508, 2.5876, 7.0508], 'confidence': 0.998, 'span': {'offset': 3923, 'length': 2}}, {'content': 'important', 'polygon': [2.7578, 6.8695, 3.4437, 6.8703, 3.4436, 7.0522, 2.7576, 7.0508], 'confidence': 0.994, 'span': {'offset': 3926, 'length': 9}}, {'content': 'component', 'polygon': [3.4795, 6.8704, 4.2161, 6.8709, 4.2161, 7.0526, 3.4794, 7.0521], 'confidence': 0.994, 'span': {'offset': 3936, 'length': 9}}, {'content': 'of', 'polygon': [4.2519, 6.8707, 4.3563, 6.8703, 4.3563, 7.0526, 4.2519, 7.0526], 'confidence': 0.998, 'span': {'offset': 3946, 'length': 2}}, {'content': 'any', 'polygon': [4.392, 6.8702, 4.6187, 6.8695, 4.6187, 7.0528, 4.3921, 7.0526], 'confidence': 0.994, 'span': {'offset': 3949, 'length': 3}}, {'content': 'health', 'polygon': [4.6545, 6.8694, 5.0869, 6.8685, 5.0868, 7.0528, 4.6545, 7.0528], 'confidence': 0.998, 'span': {'offset': 3953, 'length': 6}}, {'content': 'care', 'polygon': [5.1257, 6.8684, 5.4001, 6.8682, 5.4, 7.052, 5.1256, 7.0528], 'confidence': 0.992, 'span': {'offset': 3960, 'length': 4}}, {'content': 'plan,', 'polygon': [5.4388, 6.8683, 5.749, 6.8691, 5.749, 7.051, 5.4388, 7.0519], 'confidence': 0.995, 'span': {'offset': 3965, 'length': 5}}, {'content': 'as', 'polygon': [5.7907, 6.8691, 5.9219, 6.869, 5.9219, 7.0509, 5.7908, 7.051], 'confidence': 0.998, 'span': {'offset': 3971, 'length': 2}}, {'content': 'it', 'polygon': [5.9667, 6.8689, 6.0502, 6.8689, 6.0501, 7.0509, 5.9666, 7.0509], 'confidence': 0.998, 'span': {'offset': 3974, 'length': 2}}, {'content': 'allows', 'polygon': [6.086, 6.8688, 6.5065, 6.8699, 6.5063, 7.0512, 6.0859, 7.0509], 'confidence': 0.997, 'span': {'offset': 3977, 'length': 6}}, {'content': 'you', 'polygon': [6.5452, 6.87, 6.7868, 6.8695, 6.7867, 7.0515, 6.5451, 7.0513], 'confidence': 0.992, 'span': {'offset': 3984, 'length': 3}}, {'content': 'to', 'polygon': [6.8226, 6.8694, 6.9616, 6.8692, 6.9616, 7.0516, 6.8226, 7.0515], 'confidence': 0.999, 'span': {'offset': 3988, 'length': 2}}, {'content': 'develop', 'polygon': [1.2422, 7.0798, 1.7646, 7.0812, 1.7648, 7.2607, 1.2422, 7.2606], 'confidence': 0.996, 'span': {'offset': 3991, 'length': 7}}, {'content': 'a', 'polygon': [1.8032, 7.0812, 1.8477, 7.0811, 1.8479, 7.261, 1.8034, 7.2608], 'confidence': 0.996, 'span': {'offset': 3999, 'length': 1}}, {'content': 'relationship', 'polygon': [1.8833, 7.0811, 2.6966, 7.0798, 2.6967, 7.2613, 1.8835, 7.2611], 'confidence': 0.996, 'span': {'offset': 4001, 'length': 12}}, {'content': 'with', 'polygon': [2.7352, 7.0798, 3.0261, 7.0798, 3.0262, 7.2614, 2.7353, 7.2613], 'confidence': 0.992, 'span': {'offset': 4014, 'length': 4}}, {'content': 'your', 'polygon': [3.0617, 7.0798, 3.3704, 7.0799, 3.3705, 7.2616, 3.0618, 7.2614], 'confidence': 0.988, 'span': {'offset': 4019, 'length': 4}}, {'content': 'doctor,', 'polygon': [3.409, 7.08, 3.8423, 7.081, 3.8425, 7.2619, 3.4091, 7.2616], 'confidence': 0.998, 'span': {'offset': 4024, 'length': 7}}, {'content': 'who', 'polygon': [3.8779, 7.081, 4.151, 7.0813, 4.1512, 7.2624, 3.8781, 7.262], 'confidence': 0.998, 'span': {'offset': 4032, 'length': 3}}, {'content': 'is', 'polygon': [4.1866, 7.0812, 4.3172, 7.0807, 4.3174, 7.2621, 4.1868, 7.2623], 'confidence': 0.999, 'span': {'offset': 4036, 'length': 2}}, {'content': 'more', 'polygon': [4.3617, 7.0805, 4.6734, 7.0803, 4.6735, 7.2623, 4.3619, 7.2621], 'confidence': 0.992, 'span': {'offset': 4039, 'length': 4}}, {'content': 'likely', 'polygon': [4.709, 7.0803, 5.077, 7.0811, 5.0771, 7.2631, 4.7091, 7.2624], 'confidence': 0.998, 'span': {'offset': 4044, 'length': 6}}, {'content': 'to', 'polygon': [5.1127, 7.0812, 5.2314, 7.0815, 5.2315, 7.2632, 5.1127, 7.2632], 'confidence': 0.999, 'span': {'offset': 4051, 'length': 2}}, {'content': 'recognize', 'polygon': [5.267, 7.0816, 5.923, 7.0807, 5.923, 7.2624, 5.2671, 7.2632], 'confidence': 0.994, 'span': {'offset': 4054, 'length': 9}}, {'content': 'any', 'polygon': [5.9615, 7.0804, 6.199, 7.0797, 6.1991, 7.2626, 5.9616, 7.2624], 'confidence': 0.999, 'span': {'offset': 4064, 'length': 3}}, {'content': 'changes', 'polygon': [6.2346, 7.0798, 6.7273, 7.0806, 6.7274, 7.2612, 6.2347, 7.2626], 'confidence': 0.999, 'span': {'offset': 4068, 'length': 7}}, {'content': 'in', 'polygon': [6.7629, 7.0805, 6.9284, 7.0801, 6.9284, 7.26, 6.763, 7.261], 'confidence': 0.999, 'span': {'offset': 4076, 'length': 2}}, {'content': 'your', 'polygon': [1.2313, 7.2895, 1.5256, 7.2862, 1.5265, 7.4651, 1.2337, 7.4678], 'confidence': 0.992, 'span': {'offset': 4079, 'length': 4}}, {'content': 'health', 'polygon': [1.5609, 7.2858, 1.9964, 7.2848, 1.9968, 7.4634, 1.5617, 7.4648], 'confidence': 0.998, 'span': {'offset': 4084, 'length': 6}}, {'content': 'and', 'polygon': [2.0347, 7.2847, 2.2554, 7.2839, 2.2556, 7.4638, 2.035, 7.4635], 'confidence': 0.999, 'span': {'offset': 4091, 'length': 3}}, {'content': 'be', 'polygon': [2.2907, 7.2837, 2.4673, 7.2834, 2.4675, 7.4642, 2.2909, 7.4639], 'confidence': 0.999, 'span': {'offset': 4095, 'length': 2}}, {'content': 'able', 'polygon': [2.5055, 7.2834, 2.7733, 7.2837, 2.7735, 7.4645, 2.5057, 7.4642], 'confidence': 0.988, 'span': {'offset': 4098, 'length': 4}}, {'content': 'to', 'polygon': [2.8145, 7.2837, 2.9381, 7.2837, 2.9383, 7.4649, 2.8147, 7.4646], 'confidence': 0.999, 'span': {'offset': 4103, 'length': 2}}, {'content': 'provide', 'polygon': [2.9793, 7.2837, 3.4825, 7.2836, 3.4832, 7.4655, 2.9796, 7.465], 'confidence': 0.996, 'span': {'offset': 4106, 'length': 7}}, {'content': 'better,', 'polygon': [3.5208, 7.2836, 3.9269, 7.2835, 3.9272, 7.4653, 3.5215, 7.4655], 'confidence': 0.994, 'span': {'offset': 4114, 'length': 7}}, {'content': 'more', 'polygon': [3.9622, 7.2835, 4.3271, 7.2833, 4.3274, 7.464, 3.9625, 7.4653], 'confidence': 0.992, 'span': {'offset': 4122, 'length': 4}}, {'content': 'personalized', 'polygon': [4.3654, 7.2832, 5.2041, 7.282, 5.2044, 7.4607, 4.3657, 7.4639], 'confidence': 0.994, 'span': {'offset': 4127, 'length': 12}}, {'content': 'care.', 'polygon': [5.2424, 7.282, 5.5455, 7.2817, 5.546, 7.4603, 5.2427, 7.4607], 'confidence': 0.996, 'span': {'offset': 4140, 'length': 5}}, {'content': 'With', 'polygon': [5.5808, 7.2816, 5.881, 7.2804, 5.8816, 7.4593, 5.5813, 7.4602], 'confidence': 0.986, 'span': {'offset': 4146, 'length': 4}}, {'content': 'Northwind', 'polygon': [5.9163, 7.2804, 6.6628, 7.2811, 6.6628, 7.4564, 5.9169, 7.4592], 'confidence': 0.995, 'span': {'offset': 4151, 'length': 9}}, {'content': 'Standard,', 'polygon': [1.2397, 7.4898, 1.8472, 7.4912, 1.8471, 7.6716, 1.2396, 7.6709], 'confidence': 0.993, 'span': {'offset': 4161, 'length': 9}}, {'content': 'you', 'polygon': [1.8836, 7.4911, 2.1479, 7.4907, 2.1478, 7.6729, 1.8835, 7.6718], 'confidence': 0.996, 'span': {'offset': 4171, 'length': 3}}, {'content': 'can', 'polygon': [2.1873, 7.4907, 2.4121, 7.4901, 2.4121, 7.6721, 2.1873, 7.6728], 'confidence': 0.998, 'span': {'offset': 4175, 'length': 3}}, {'content': 'stay', 'polygon': [2.4486, 7.49, 2.6976, 7.4896, 2.6977, 7.6726, 2.4486, 7.672], 'confidence': 0.991, 'span': {'offset': 4179, 'length': 4}}, {'content': 'with', 'polygon': [2.7341, 7.4895, 3.0408, 7.4891, 3.0409, 7.6742, 2.7341, 7.6728], 'confidence': 0.992, 'span': {'offset': 4184, 'length': 4}}, {'content': 'the', 'polygon': [3.0803, 7.4891, 3.2868, 7.4889, 3.2871, 7.6751, 3.0804, 7.6743], 'confidence': 0.999, 'span': {'offset': 4189, 'length': 3}}, {'content': 'same', 'polygon': [3.3263, 7.4889, 3.6604, 7.4892, 3.6606, 7.6743, 3.3266, 7.6752], 'confidence': 0.989, 'span': {'offset': 4193, 'length': 4}}, {'content': 'provider', 'polygon': [3.6999, 7.4893, 4.2527, 7.4886, 4.2527, 7.6745, 3.7, 7.6741], 'confidence': 0.996, 'span': {'offset': 4198, 'length': 8}}, {'content': 'throughout', 'polygon': [4.2891, 7.4885, 5.0302, 7.4883, 5.0302, 7.6745, 4.2892, 7.6744], 'confidence': 0.996, 'span': {'offset': 4207, 'length': 10}}, {'content': 'your', 'polygon': [5.0667, 7.4883, 5.3582, 7.4886, 5.3581, 7.6754, 5.0666, 7.6746], 'confidence': 0.992, 'span': {'offset': 4218, 'length': 4}}, {'content': 'health', 'polygon': [5.3947, 7.4887, 5.826, 7.4888, 5.8259, 7.6758, 5.3945, 7.6755], 'confidence': 0.997, 'span': {'offset': 4223, 'length': 6}}, {'content': 'care', 'polygon': [5.8685, 7.4888, 6.1115, 7.4882, 6.1115, 7.6759, 5.8684, 7.6758], 'confidence': 0.992, 'span': {'offset': 4230, 'length': 4}}, {'content': 'journey,', 'polygon': [6.1479, 7.4881, 6.7098, 7.487, 6.7096, 7.6757, 6.1479, 7.676], 'confidence': 0.995, 'span': {'offset': 4235, 'length': 8}}, {'content': 'helping', 'polygon': [6.7493, 7.487, 7.2493, 7.488, 7.2493, 7.6784, 6.7491, 7.6757], 'confidence': 0.997, 'span': {'offset': 4244, 'length': 7}}, {'content': 'you', 'polygon': [1.228, 7.7084, 1.4874, 7.7052, 1.4885, 7.8746, 1.2306, 7.8777], 'confidence': 0.996, 'span': {'offset': 4252, 'length': 3}}, {'content': 'to', 'polygon': [1.524, 7.7046, 1.6339, 7.7034, 1.6345, 7.8732, 1.5249, 7.874], 'confidence': 0.999, 'span': {'offset': 4256, 'length': 2}}, {'content': 'receive', 'polygon': [1.6677, 7.7031, 2.1638, 7.7001, 2.1642, 7.8731, 1.6683, 7.8732], 'confidence': 0.996, 'span': {'offset': 4259, 'length': 7}}, {'content': 'the', 'polygon': [2.2005, 7.7, 2.4063, 7.6991, 2.4066, 7.8724, 2.2008, 7.8732], 'confidence': 0.999, 'span': {'offset': 4267, 'length': 3}}, {'content': 'best', 'polygon': [2.4429, 7.6989, 2.722, 7.6983, 2.7223, 7.8716, 2.4432, 7.8722], 'confidence': 0.989, 'span': {'offset': 4271, 'length': 4}}, {'content': 'possible', 'polygon': [2.7558, 7.6983, 3.2885, 7.698, 3.2887, 7.8704, 2.7561, 7.8714], 'confidence': 0.994, 'span': {'offset': 4276, 'length': 8}}, {'content': 'care.', 'polygon': [3.3308, 7.6979, 3.6413, 7.6974, 3.6413, 7.8677, 3.331, 7.8699], 'confidence': 0.996, 'span': {'offset': 4285, 'length': 5}}, {'content': 'Continuity', 'polygon': [1.2407, 8.0422, 1.9406, 8.044, 1.9405, 8.2206, 1.2404, 8.2191], 'confidence': 0.994, 'span': {'offset': 4292, 'length': 10}}, {'content': 'of', 'polygon': [1.9755, 8.0441, 2.0888, 8.0444, 2.0886, 8.2208, 1.9753, 8.2207], 'confidence': 0.998, 'span': {'offset': 4303, 'length': 2}}, {'content': 'care', 'polygon': [2.1236, 8.0444, 2.4082, 8.044, 2.4079, 8.2209, 2.1234, 8.2209], 'confidence': 0.992, 'span': {'offset': 4306, 'length': 4}}, {'content': 'also', 'polygon': [2.4489, 8.044, 2.6812, 8.0439, 2.6809, 8.2209, 2.4486, 8.2209], 'confidence': 0.992, 'span': {'offset': 4311, 'length': 4}}, {'content': 'helps', 'polygon': [2.7161, 8.0439, 3.0849, 8.0441, 3.0847, 8.2209, 2.7158, 8.2209], 'confidence': 0.996, 'span': {'offset': 4316, 'length': 5}}, {'content': 'you', 'polygon': [3.1227, 8.0442, 3.3637, 8.0446, 3.3636, 8.2209, 3.1225, 8.2209], 'confidence': 0.999, 'span': {'offset': 4322, 'length': 3}}, {'content': 'save', 'polygon': [3.4044, 8.0447, 3.6687, 8.0453, 3.6686, 8.2209, 3.4043, 8.2209], 'confidence': 0.992, 'span': {'offset': 4326, 'length': 4}}, {'content': 'money', 'polygon': [3.7035, 8.0453, 4.174, 8.0443, 4.1742, 8.2209, 3.7035, 8.2209], 'confidence': 0.998, 'span': {'offset': 4331, 'length': 5}}, {'content': 'on', 'polygon': [4.2089, 8.0443, 4.3686, 8.0443, 4.3688, 8.2209, 4.2091, 8.2209], 'confidence': 0.998, 'span': {'offset': 4337, 'length': 2}}, {'content': 'health', 'polygon': [4.4063, 8.0443, 4.8129, 8.0447, 4.813, 8.2209, 4.4066, 8.2209], 'confidence': 0.998, 'span': {'offset': 4340, 'length': 6}}, {'content': 'care', 'polygon': [4.8507, 8.0448, 5.1237, 8.0451, 5.1237, 8.2209, 4.8508, 8.2209], 'confidence': 0.992, 'span': {'offset': 4347, 'length': 4}}, {'content': 'costs.', 'polygon': [5.1673, 8.0451, 5.5216, 8.0449, 5.5216, 8.2209, 5.1673, 8.2209], 'confidence': 0.996, 'span': {'offset': 4352, 'length': 6}}, {'content': 'When', 'polygon': [5.5593, 8.045, 5.9398, 8.045, 5.9397, 8.2209, 5.5593, 8.2209], 'confidence': 0.992, 'span': {'offset': 4359, 'length': 4}}, {'content': 'you', 'polygon': [5.9746, 8.0449, 6.2157, 8.0446, 6.2157, 8.2209, 5.9746, 8.2209], 'confidence': 0.996, 'span': {'offset': 4364, 'length': 3}}, {'content': 'stay', 'polygon': [6.2564, 8.0445, 6.5032, 8.0438, 6.5033, 8.2209, 6.2564, 8.2209], 'confidence': 0.992, 'span': {'offset': 4368, 'length': 4}}, {'content': 'with', 'polygon': [6.5381, 8.0437, 6.8488, 8.0426, 6.8489, 8.2206, 6.5382, 8.2209], 'confidence': 0.983, 'span': {'offset': 4373, 'length': 4}}, {'content': 'the', 'polygon': [6.8895, 8.0424, 7.111, 8.0414, 7.111, 8.2198, 6.8895, 8.2204], 'confidence': 0.999, 'span': {'offset': 4378, 'length': 3}}, {'content': 'same', 'polygon': [1.2385, 8.2559, 1.5651, 8.255, 1.5655, 8.4313, 1.2386, 8.4313], 'confidence': 0.992, 'span': {'offset': 4382, 'length': 4}}, {'content': 'provider,', 'polygon': [1.6001, 8.2549, 2.2242, 8.2532, 2.2244, 8.4296, 1.6005, 8.4313], 'confidence': 0.993, 'span': {'offset': 4387, 'length': 9}}, {'content': 'you', 'polygon': [2.2592, 8.253, 2.5013, 8.252, 2.5016, 8.4292, 2.2594, 8.4295], 'confidence': 0.998, 'span': {'offset': 4397, 'length': 3}}, {'content': 'are', 'polygon': [2.5392, 8.2518, 2.72, 8.251, 2.7205, 8.4301, 2.5396, 8.4294], 'confidence': 0.999, 'span': {'offset': 4401, 'length': 3}}, {'content': 'likely', 'polygon': [2.755, 8.2509, 3.1167, 8.2509, 3.1169, 8.4294, 2.7555, 8.4303], 'confidence': 0.998, 'span': {'offset': 4405, 'length': 6}}, {'content': 'to', 'polygon': [3.1517, 8.2509, 3.3033, 8.2504, 3.3036, 8.4293, 3.1518, 8.4293], 'confidence': 0.992, 'span': {'offset': 4412, 'length': 2}}, {'content': 'pay', 'polygon': [3.3412, 8.2503, 3.5483, 8.2495, 3.5488, 8.4295, 3.3415, 8.4293], 'confidence': 0.994, 'span': {'offset': 4415, 'length': 3}}, {'content': 'less', 'polygon': [3.5833, 8.2493, 3.8516, 8.2488, 3.8524, 8.4291, 3.5839, 8.4295], 'confidence': 0.992, 'span': {'offset': 4419, 'length': 4}}, {'content': 'than', 'polygon': [3.8925, 8.2488, 4.1666, 8.2482, 4.1672, 8.4288, 3.8932, 8.429], 'confidence': 0.992, 'span': {'offset': 4424, 'length': 4}}, {'content': 'if', 'polygon': [4.2016, 8.2482, 4.2949, 8.248, 4.2954, 8.4287, 4.2021, 8.4288], 'confidence': 0.998, 'span': {'offset': 4429, 'length': 2}}, {'content': 'you', 'polygon': [4.3299, 8.2479, 4.5808, 8.2485, 4.581, 8.4283, 4.3303, 8.4287], 'confidence': 0.999, 'span': {'offset': 4432, 'length': 3}}, {'content': 'switch', 'polygon': [4.6216, 8.2486, 5.0474, 8.2492, 5.0477, 8.4272, 4.6218, 8.4283], 'confidence': 0.998, 'span': {'offset': 4436, 'length': 6}}, {'content': 'around', 'polygon': [5.0853, 8.2492, 5.5519, 8.249, 5.5522, 8.4263, 5.0856, 8.4271], 'confidence': 0.998, 'span': {'offset': 4443, 'length': 6}}, {'content': 'from', 'polygon': [5.5928, 8.2488, 5.9019, 8.2474, 5.9023, 8.4262, 5.5931, 8.4263], 'confidence': 0.992, 'span': {'offset': 4450, 'length': 4}}, {'content': 'provider', 'polygon': [5.9428, 8.2474, 6.4998, 8.2478, 6.5, 8.424, 5.9431, 8.4261], 'confidence': 0.996, 'span': {'offset': 4455, 'length': 8}}, {'content': 'to', 'polygon': [6.5348, 8.248, 6.6849, 8.2485, 6.6849, 8.4231, 6.535, 8.4239], 'confidence': 0.998, 'span': {'offset': 4464, 'length': 2}}, {'content': 'provider.', 'polygon': [1.2362, 8.4609, 1.8471, 8.4577, 1.8477, 8.6313, 1.2384, 8.6352], 'confidence': 0.989, 'span': {'offset': 4467, 'length': 9}}, {'content': 'This', 'polygon': [1.8847, 8.4576, 2.1395, 8.457, 2.1398, 8.631, 1.8853, 8.6312], 'confidence': 0.992, 'span': {'offset': 4477, 'length': 4}}, {'content': 'is', 'polygon': [2.1742, 8.457, 2.3045, 8.4572, 2.3047, 8.6309, 2.1745, 8.631], 'confidence': 0.996, 'span': {'offset': 4482, 'length': 2}}, {'content': 'because', 'polygon': [2.3479, 8.4573, 2.8458, 8.4573, 2.8462, 8.633, 2.3482, 8.6309], 'confidence': 0.995, 'span': {'offset': 4485, 'length': 7}}, {'content': 'your', 'polygon': [2.8806, 8.4573, 3.1817, 8.4569, 3.1824, 8.6334, 2.881, 8.6333], 'confidence': 0.992, 'span': {'offset': 4493, 'length': 4}}, {'content': 'provider', 'polygon': [3.2164, 8.4569, 3.8128, 8.4558, 3.8132, 8.6332, 3.2172, 8.6333], 'confidence': 0.993, 'span': {'offset': 4498, 'length': 8}}, {'content': 'already', 'polygon': [3.8475, 8.4557, 4.3165, 8.4544, 4.317, 8.633, 3.8479, 8.6332], 'confidence': 0.993, 'span': {'offset': 4507, 'length': 7}}, {'content': 'has', 'polygon': [4.3512, 8.4542, 4.5886, 8.4534, 4.5892, 8.6317, 4.3517, 8.6328], 'confidence': 0.996, 'span': {'offset': 4515, 'length': 3}}, {'content': 'all', 'polygon': [4.6292, 8.4533, 4.7797, 8.4532, 4.7803, 8.6319, 4.6298, 8.6315], 'confidence': 0.998, 'span': {'offset': 4519, 'length': 3}}, {'content': 'your', 'polygon': [4.8144, 8.4532, 5.1039, 8.4532, 5.1044, 8.6326, 4.815, 8.632], 'confidence': 0.992, 'span': {'offset': 4523, 'length': 4}}, {'content': 'medical', 'polygon': [5.1387, 8.4532, 5.6482, 8.4537, 5.6487, 8.631, 5.1391, 8.6324], 'confidence': 0.995, 'span': {'offset': 4528, 'length': 7}}, {'content': 'records,', 'polygon': [5.6829, 8.4536, 6.2301, 8.4525, 6.2306, 8.6313, 5.6834, 8.631], 'confidence': 0.992, 'span': {'offset': 4536, 'length': 8}}, {'content': 'and', 'polygon': [6.2677, 8.4525, 6.508, 8.4522, 6.5086, 8.6305, 6.2683, 8.6313], 'confidence': 0.998, 'span': {'offset': 4545, 'length': 3}}, {'content': 'you', 'polygon': [6.5428, 8.4521, 6.783, 8.4518, 6.7837, 8.6291, 6.5434, 8.6303], 'confidence': 0.998, 'span': {'offset': 4549, 'length': 3}}, {'content': \"won't\", 'polygon': [6.8207, 8.4517, 7.2051, 8.451, 7.2051, 8.6289, 6.8213, 8.6291], 'confidence': 0.996, 'span': {'offset': 4553, 'length': 5}}, {'content': 'need', 'polygon': [1.2349, 8.6612, 1.5668, 8.6617, 1.567, 8.8386, 1.2354, 8.8389], 'confidence': 0.992, 'span': {'offset': 4559, 'length': 4}}, {'content': 'to', 'polygon': [1.6046, 8.6617, 1.7123, 8.6619, 1.7125, 8.8387, 1.6048, 8.8386], 'confidence': 0.998, 'span': {'offset': 4564, 'length': 2}}, {'content': 'pay', 'polygon': [1.7473, 8.6619, 1.9802, 8.6621, 1.9803, 8.839, 1.7474, 8.8388], 'confidence': 0.998, 'span': {'offset': 4567, 'length': 3}}, {'content': 'for', 'polygon': [2.0151, 8.662, 2.2305, 8.6611, 2.2307, 8.8391, 2.0153, 8.839], 'confidence': 0.997, 'span': {'offset': 4571, 'length': 3}}, {'content': 'expensive', 'polygon': [2.2684, 8.6609, 2.9118, 8.6607, 2.9119, 8.8369, 2.2686, 8.8392], 'confidence': 0.993, 'span': {'offset': 4575, 'length': 9}}, {'content': 'tests', 'polygon': [2.9496, 8.6606, 3.2553, 8.6606, 3.2554, 8.8376, 2.9497, 8.8367], 'confidence': 0.995, 'span': {'offset': 4585, 'length': 5}}, {'content': 'and', 'polygon': [3.2961, 8.6607, 3.5348, 8.6604, 3.5351, 8.8381, 3.2962, 8.8378], 'confidence': 0.997, 'span': {'offset': 4591, 'length': 3}}, {'content': 'procedures', 'polygon': [3.5726, 8.6602, 4.3092, 8.6589, 4.3095, 8.8383, 3.573, 8.838], 'confidence': 0.992, 'span': {'offset': 4595, 'length': 10}}, {'content': 'that', 'polygon': [4.3499, 8.6589, 4.5887, 8.6587, 4.5888, 8.838, 4.3503, 8.8382], 'confidence': 0.992, 'span': {'offset': 4606, 'length': 4}}, {'content': \"you've\", 'polygon': [4.6236, 8.6586, 5.069, 8.6585, 5.0692, 8.8375, 4.6237, 8.8381], 'confidence': 0.992, 'span': {'offset': 4611, 'length': 6}}, {'content': 'already', 'polygon': [5.1069, 8.6586, 5.5785, 8.6583, 5.5788, 8.8359, 5.1071, 8.8373], 'confidence': 0.997, 'span': {'offset': 4618, 'length': 7}}, {'content': 'had', 'polygon': [5.6134, 8.6582, 5.8696, 8.6578, 5.8698, 8.8349, 5.6138, 8.8358], 'confidence': 0.998, 'span': {'offset': 4626, 'length': 3}}, {'content': 'done.', 'polygon': [5.9104, 8.6578, 6.2699, 8.6589, 6.2699, 8.8347, 5.9105, 8.8348], 'confidence': 0.995, 'span': {'offset': 4630, 'length': 5}}, {'content': 'There', 'polygon': [1.2404, 9.003, 1.634, 9.0033, 1.6338, 9.173, 1.2397, 9.1721], 'confidence': 0.997, 'span': {'offset': 4637, 'length': 5}}, {'content': 'are', 'polygon': [1.6733, 9.0033, 1.8814, 9.003, 1.8809, 9.1732, 1.6732, 9.1731], 'confidence': 0.998, 'span': {'offset': 4643, 'length': 3}}, {'content': 'a', 'polygon': [1.9179, 9.0029, 1.9713, 9.0028, 1.9708, 9.1733, 1.9174, 9.1732], 'confidence': 0.995, 'span': {'offset': 4647, 'length': 1}}, {'content': 'few', 'polygon': [2.005, 9.0027, 2.2637, 9.0025, 2.2629, 9.1736, 2.0045, 9.1733], 'confidence': 0.998, 'span': {'offset': 4649, 'length': 3}}, {'content': 'exceptions', 'polygon': [2.3002, 9.0025, 2.9946, 9.0035, 2.9937, 9.1749, 2.2994, 9.1737], 'confidence': 0.992, 'span': {'offset': 4653, 'length': 10}}, {'content': 'to', 'polygon': [3.0339, 9.0035, 3.1604, 9.0035, 3.1595, 9.1751, 3.0331, 9.175], 'confidence': 0.999, 'span': {'offset': 4664, 'length': 2}}, {'content': 'the', 'polygon': [3.1998, 9.0035, 3.405, 9.0035, 3.404, 9.1755, 3.1988, 9.1751], 'confidence': 0.998, 'span': {'offset': 4667, 'length': 3}}, {'content': 'continuity', 'polygon': [3.4444, 9.0036, 4.1134, 9.0033, 4.1129, 9.1768, 3.4434, 9.1757], 'confidence': 0.994, 'span': {'offset': 4671, 'length': 10}}, {'content': 'of', 'polygon': [4.1472, 9.0032, 4.2652, 9.0031, 4.2648, 9.1765, 4.1466, 9.1767], 'confidence': 0.998, 'span': {'offset': 4682, 'length': 2}}, {'content': 'care.', 'polygon': [4.299, 9.0033, 4.611, 9.0046, 4.6106, 9.1776, 4.2985, 9.1766], 'confidence': 0.995, 'span': {'offset': 4685, 'length': 5}}, {'content': 'If', 'polygon': [4.656, 9.0048, 4.7263, 9.005, 4.7258, 9.1779, 4.6555, 9.1777], 'confidence': 0.992, 'span': {'offset': 4691, 'length': 2}}, {'content': 'you', 'polygon': [4.76, 9.0052, 5.0186, 9.0062, 5.018, 9.1784, 4.7595, 9.1779], 'confidence': 0.998, 'span': {'offset': 4694, 'length': 3}}, {'content': 'move', 'polygon': [5.058, 9.0063, 5.4122, 9.0073, 5.4113, 9.1785, 5.0573, 9.1785], 'confidence': 0.992, 'span': {'offset': 4698, 'length': 4}}, {'content': 'to', 'polygon': [5.4487, 9.0074, 5.578, 9.0077, 5.577, 9.1788, 5.4478, 9.1785], 'confidence': 0.999, 'span': {'offset': 4703, 'length': 2}}, {'content': 'a', 'polygon': [5.6202, 9.0078, 5.6905, 9.008, 5.6895, 9.1792, 5.6192, 9.1789], 'confidence': 0.995, 'span': {'offset': 4706, 'length': 1}}, {'content': 'different', 'polygon': [5.727, 9.0081, 6.278, 9.0094, 6.277, 9.1812, 5.7261, 9.1794], 'confidence': 0.992, 'span': {'offset': 4708, 'length': 9}}, {'content': 'area,', 'polygon': [6.3118, 9.0095, 6.6407, 9.0114, 6.6399, 9.1828, 6.3107, 9.1813], 'confidence': 0.995, 'span': {'offset': 4718, 'length': 5}}, {'content': 'you', 'polygon': [6.6772, 9.0117, 6.8965, 9.0127, 6.8958, 9.1838, 6.6764, 9.183], 'confidence': 0.998, 'span': {'offset': 4724, 'length': 3}}, {'content': 'may', 'polygon': [6.9302, 9.0127, 7.2438, 9.013, 7.2438, 9.1842, 6.9295, 9.1839], 'confidence': 0.996, 'span': {'offset': 4728, 'length': 3}}, {'content': 'need', 'polygon': [1.236, 9.2138, 1.5455, 9.2126, 1.5458, 9.3866, 1.2363, 9.386], 'confidence': 0.988, 'span': {'offset': 4732, 'length': 4}}, {'content': 'to', 'polygon': [1.5799, 9.2125, 1.7318, 9.2122, 1.732, 9.387, 1.5801, 9.3866], 'confidence': 0.992, 'span': {'offset': 4737, 'length': 2}}, {'content': 'find', 'polygon': [1.7719, 9.2121, 2.0242, 9.2119, 2.0242, 9.3877, 1.7721, 9.3871], 'confidence': 0.992, 'span': {'offset': 4740, 'length': 4}}, {'content': 'a', 'polygon': [2.0643, 9.2119, 2.136, 9.212, 2.136, 9.3877, 2.0643, 9.3877], 'confidence': 0.995, 'span': {'offset': 4745, 'length': 1}}, {'content': 'new', 'polygon': [2.1732, 9.212, 2.4025, 9.2123, 2.4027, 9.3875, 2.1733, 9.3877], 'confidence': 0.998, 'span': {'offset': 4747, 'length': 3}}, {'content': 'provider.', 'polygon': [2.4627, 9.2124, 3.0761, 9.2122, 3.0762, 9.3868, 2.4629, 9.3875], 'confidence': 0.993, 'span': {'offset': 4751, 'length': 9}}, {'content': 'Additionally,', 'polygon': [3.1133, 9.2122, 3.9302, 9.2115, 3.9305, 9.3884, 3.1135, 9.3868], 'confidence': 0.992, 'span': {'offset': 4761, 'length': 13}}, {'content': 'if', 'polygon': [3.9646, 9.2115, 4.0563, 9.2114, 4.0566, 9.3886, 3.9649, 9.3885], 'confidence': 0.996, 'span': {'offset': 4775, 'length': 2}}, {'content': 'you', 'polygon': [4.0907, 9.2114, 4.3458, 9.2118, 4.3461, 9.3878, 4.091, 9.3885], 'confidence': 0.998, 'span': {'offset': 4778, 'length': 3}}, {'content': 'are', 'polygon': [4.3859, 9.2118, 4.5722, 9.2117, 4.5724, 9.3878, 4.3862, 9.3877], 'confidence': 0.995, 'span': {'offset': 4782, 'length': 3}}, {'content': 'in', 'polygon': [4.6066, 9.2117, 4.7327, 9.2114, 4.7329, 9.3883, 4.6068, 9.3879], 'confidence': 0.999, 'span': {'offset': 4786, 'length': 2}}, {'content': 'need', 'polygon': [4.7671, 9.2113, 5.1025, 9.2113, 5.1026, 9.3882, 4.7672, 9.3884], 'confidence': 0.992, 'span': {'offset': 4789, 'length': 4}}, {'content': 'of', 'polygon': [5.1455, 9.2113, 5.2601, 9.2114, 5.2602, 9.3878, 5.1456, 9.3881], 'confidence': 0.997, 'span': {'offset': 4794, 'length': 2}}, {'content': 'specialized', 'polygon': [5.2945, 9.2115, 6.0225, 9.2134, 6.0227, 9.3883, 5.2946, 9.3878], 'confidence': 0.994, 'span': {'offset': 4797, 'length': 11}}, {'content': 'care,', 'polygon': [6.0627, 9.2134, 6.3636, 9.2135, 6.3637, 9.3884, 6.0629, 9.3883], 'confidence': 0.996, 'span': {'offset': 4809, 'length': 5}}, {'content': 'such', 'polygon': [6.4038, 9.2135, 6.7018, 9.2143, 6.702, 9.3863, 6.4038, 9.3884], 'confidence': 0.992, 'span': {'offset': 4815, 'length': 4}}, {'content': 'as', 'polygon': [6.742, 9.2145, 6.8881, 9.215, 6.8884, 9.3846, 6.7421, 9.3859], 'confidence': 0.997, 'span': {'offset': 4820, 'length': 2}}, {'content': 'surgery', 'polygon': [1.2398, 9.4306, 1.7537, 9.428, 1.754, 9.5987, 1.2399, 9.5968], 'confidence': 0.995, 'span': {'offset': 4823, 'length': 7}}, {'content': 'or', 'polygon': [1.79, 9.4278, 1.9324, 9.4273, 1.9328, 9.5974, 1.7903, 9.5984], 'confidence': 0.995, 'span': {'offset': 4831, 'length': 2}}, {'content': 'a', 'polygon': [1.9659, 9.4271, 2.0386, 9.4268, 2.0389, 9.5966, 1.9663, 9.5972], 'confidence': 0.995, 'span': {'offset': 4834, 'length': 1}}, {'content': 'complex', 'polygon': [2.0777, 9.4267, 2.6027, 9.4255, 2.6029, 9.5964, 2.078, 9.5964], 'confidence': 0.996, 'span': {'offset': 4836, 'length': 7}}, {'content': 'treatment,', 'polygon': [2.6362, 9.4256, 3.3372, 9.4242, 3.3375, 9.595, 2.6364, 9.5964], 'confidence': 0.992, 'span': {'offset': 4844, 'length': 10}}, {'content': 'you', 'polygon': [3.3735, 9.424, 3.5969, 9.4237, 3.5974, 9.5952, 3.3738, 9.5948], 'confidence': 0.998, 'span': {'offset': 4855, 'length': 3}}, {'content': 'may', 'polygon': [3.6304, 9.4237, 3.9097, 9.4236, 3.9102, 9.5952, 3.6309, 9.5952], 'confidence': 0.998, 'span': {'offset': 4859, 'length': 3}}, {'content': 'need', 'polygon': [3.9432, 9.4236, 4.2811, 9.4237, 4.2815, 9.5942, 3.9437, 9.5951], 'confidence': 0.992, 'span': {'offset': 4863, 'length': 4}}, {'content': 'to', 'polygon': [4.3202, 9.4237, 4.4431, 9.4237, 4.4435, 9.5942, 4.3206, 9.5942], 'confidence': 0.999, 'span': {'offset': 4868, 'length': 2}}, {'content': 'visit', 'polygon': [4.4794, 9.4237, 4.7643, 9.4235, 4.7646, 9.5941, 4.4798, 9.5942], 'confidence': 0.993, 'span': {'offset': 4871, 'length': 5}}, {'content': 'a', 'polygon': [4.7978, 9.4235, 4.8676, 9.4235, 4.868, 9.5941, 4.7981, 9.5941], 'confidence': 0.995, 'span': {'offset': 4877, 'length': 1}}, {'content': 'specialist', 'polygon': [4.9039, 9.4235, 5.5071, 9.4235, 5.5074, 9.5945, 4.9043, 9.5941], 'confidence': 0.994, 'span': {'offset': 4879, 'length': 10}}, {'content': 'who', 'polygon': [5.5407, 9.4235, 5.8283, 9.4235, 5.8285, 9.5948, 5.5409, 9.5945], 'confidence': 0.997, 'span': {'offset': 4890, 'length': 3}}, {'content': 'does', 'polygon': [5.873, 9.4235, 6.169, 9.4235, 6.1692, 9.5953, 5.8732, 9.5948], 'confidence': 0.991, 'span': {'offset': 4894, 'length': 4}}, {'content': 'not', 'polygon': [6.2109, 9.4235, 6.426, 9.4239, 6.4261, 9.5959, 6.2111, 9.5954], 'confidence': 0.997, 'span': {'offset': 4899, 'length': 3}}, {'content': 'accept', 'polygon': [6.4595, 9.4242, 6.87, 9.4269, 6.87, 9.5975, 6.4596, 9.5961], 'confidence': 0.995, 'span': {'offset': 4903, 'length': 6}}, {'content': 'your', 'polygon': [6.9035, 9.427, 7.2272, 9.4281, 7.2272, 9.5971, 6.9035, 9.5975], 'confidence': 0.989, 'span': {'offset': 4910, 'length': 4}}, {'content': 'insurance', 'polygon': [1.237, 9.6268, 1.8698, 9.6253, 1.8697, 9.7974, 1.2362, 9.7966], 'confidence': 0.993, 'span': {'offset': 4915, 'length': 9}}, {'content': 'plan.', 'polygon': [1.9037, 9.6252, 2.2201, 9.6251, 2.2199, 9.7968, 1.9036, 9.7973], 'confidence': 0.996, 'span': {'offset': 4925, 'length': 5}}, {'content': 'In', 'polygon': [2.254, 9.6251, 2.3896, 9.6252, 2.3891, 9.7967, 2.2537, 9.7968], 'confidence': 0.992, 'span': {'offset': 4931, 'length': 2}}, {'content': 'these', 'polygon': [2.4235, 9.6252, 2.7935, 9.6251, 2.793, 9.7973, 2.423, 9.7967], 'confidence': 0.997, 'span': {'offset': 4934, 'length': 5}}, {'content': 'cases,', 'polygon': [2.8359, 9.6251, 3.2031, 9.6255, 3.2031, 9.7967, 2.8354, 9.7974], 'confidence': 0.995, 'span': {'offset': 4940, 'length': 6}}, {'content': 'you', 'polygon': [3.2399, 9.6256, 3.4828, 9.6253, 3.483, 9.7966, 3.2399, 9.7966], 'confidence': 0.998, 'span': {'offset': 4947, 'length': 3}}, {'content': 'should', 'polygon': [3.5195, 9.6252, 3.9376, 9.625, 3.9377, 9.7967, 3.5197, 9.7966], 'confidence': 0.998, 'span': {'offset': 4951, 'length': 6}}, {'content': 'be', 'polygon': [3.9715, 9.625, 4.1495, 9.6252, 4.1496, 9.7968, 3.9716, 9.7967], 'confidence': 0.995, 'span': {'offset': 4958, 'length': 2}}, {'content': 'sure', 'polygon': [4.189, 9.6252, 4.4715, 9.6255, 4.4716, 9.7983, 4.1891, 9.797], 'confidence': 0.985, 'span': {'offset': 4961, 'length': 4}}, {'content': 'to', 'polygon': [4.5082, 9.6256, 4.6325, 9.6256, 4.6326, 9.7986, 4.5083, 9.7985], 'confidence': 0.999, 'span': {'offset': 4966, 'length': 2}}, {'content': 'check', 'polygon': [4.6777, 9.6256, 5.0308, 9.6254, 5.0309, 9.7989, 4.6778, 9.7986], 'confidence': 0.998, 'span': {'offset': 4969, 'length': 5}}, {'content': 'with', 'polygon': [5.0676, 9.6253, 5.3727, 9.6247, 5.3727, 9.8001, 5.0676, 9.799], 'confidence': 0.992, 'span': {'offset': 4975, 'length': 4}}, {'content': 'your', 'polygon': [5.4094, 9.6249, 5.7173, 9.6268, 5.7172, 9.7992, 5.4094, 9.8], 'confidence': 0.992, 'span': {'offset': 4980, 'length': 4}}, {'content': 'insurance', 'polygon': [5.754, 9.627, 6.3896, 9.6288, 6.3894, 9.8024, 5.754, 9.7991], 'confidence': 0.995, 'span': {'offset': 4985, 'length': 9}}, {'content': 'company', 'polygon': [6.432, 9.6291, 7.0335, 9.6319, 7.0335, 9.8042, 6.4318, 9.8026], 'confidence': 0.996, 'span': {'offset': 4995, 'length': 7}}, {'content': 'and/or', 'polygon': [1.2348, 9.8327, 1.7146, 9.8326, 1.7149, 10.0034, 1.2354, 10.0035], 'confidence': 0.992, 'span': {'offset': 5003, 'length': 6}}, {'content': 'provider', 'polygon': [1.7507, 9.8326, 2.2999, 9.8324, 2.3001, 10.002, 1.751, 10.0032], 'confidence': 0.994, 'span': {'offset': 5010, 'length': 8}}, {'content': 'to', 'polygon': [2.3332, 9.8325, 2.4802, 9.8329, 2.4804, 10.0022, 2.3334, 10.002], 'confidence': 0.999, 'span': {'offset': 5019, 'length': 2}}, {'content': 'make', 'polygon': [2.5218, 9.8329, 2.8712, 9.8324, 2.8713, 10.0012, 2.522, 10.0021], 'confidence': 0.992, 'span': {'offset': 5022, 'length': 4}}, {'content': 'sure', 'polygon': [2.9101, 9.8324, 3.193, 9.832, 3.1931, 10.0011, 2.9102, 10.0012], 'confidence': 0.992, 'span': {'offset': 5027, 'length': 4}}, {'content': 'you', 'polygon': [3.229, 9.8319, 3.4703, 9.8312, 3.4705, 10.0013, 3.2292, 10.0011], 'confidence': 0.996, 'span': {'offset': 5032, 'length': 3}}, {'content': 'understand', 'polygon': [3.5064, 9.8312, 4.2552, 9.8306, 4.2554, 10.0008, 3.5066, 10.0013], 'confidence': 0.994, 'span': {'offset': 5036, 'length': 10}}, {'content': 'any', 'polygon': [4.2968, 9.8305, 4.5187, 9.8303, 4.5189, 10.0003, 4.297, 10.0008], 'confidence': 0.998, 'span': {'offset': 5047, 'length': 3}}, {'content': 'associated', 'polygon': [4.552, 9.8303, 5.2426, 9.8304, 5.243, 9.9984, 4.5522, 10.0002], 'confidence': 0.995, 'span': {'offset': 5051, 'length': 10}}, {'content': 'costs.', 'polygon': [5.2815, 9.8303, 5.6501, 9.833, 5.6501, 9.9955, 5.2818, 9.9983], 'confidence': 0.993, 'span': {'offset': 5062, 'length': 6}}]",
         "[{'content': 'services. This means that you may have to pay out of pocket for these services if you receive', 'polygon': [1.2376, 1.0178, 7.2204, 1.0182, 7.2204, 1.1884, 1.2376, 1.1881], 'spans': [{'offset': 2216, 'length': 93}]}, {'content': 'them from an out-of-network provider.', 'polygon': [1.237, 1.2224, 3.8022, 1.2218, 3.8022, 1.3964, 1.237, 1.397], 'spans': [{'offset': 2310, 'length': 37}]}, {'content': 'When choosing an in-network provider, there are a few tips to keep in mind. First, make', 'polygon': [1.2379, 1.5637, 6.9784, 1.5658, 6.9784, 1.7438, 1.2378, 1.7417], 'spans': [{'offset': 2349, 'length': 87}]}, {'content': 'sure that the provider you choose is in-network with your plan. You can confirm this by', 'polygon': [1.2385, 1.7714, 6.9489, 1.7714, 6.9489, 1.9484, 1.2385, 1.9484], 'spans': [{'offset': 2437, 'length': 87}]}, {'content': \"calling the provider's office and asking them if they are in-network with Northwind\", 'polygon': [1.2407, 1.974, 6.6724, 1.9708, 6.6727, 2.1482, 1.241, 2.1577], 'spans': [{'offset': 2525, 'length': 83}]}, {'content': 'Standard. You can also use the provider search tool on the Northwind Health website to', 'polygon': [1.2393, 2.1782, 6.9514, 2.1766, 6.9514, 2.352, 1.2393, 2.3536], 'spans': [{'offset': 2609, 'length': 86}]}, {'content': 'make sure your provider is in-network.', 'polygon': [1.2358, 2.3979, 3.816, 2.3906, 3.8165, 2.5617, 1.2363, 2.5687], 'spans': [{'offset': 2696, 'length': 38}]}, {'content': 'Second, make sure that the provider you choose is accepting new patients. Some providers', 'polygon': [1.2395, 2.7326, 7.1423, 2.7361, 7.1422, 2.9149, 1.2394, 2.9113], 'spans': [{'offset': 2736, 'length': 88}]}, {'content': 'may be in-network but not be taking new patients.', 'polygon': [1.2337, 2.9402, 4.537, 2.9417, 4.5369, 3.1158, 1.2336, 3.1143], 'spans': [{'offset': 2825, 'length': 49}]}, {'content': 'Third, consider the location of the provider. If the provider is too far away, it may be', 'polygon': [1.2398, 3.279, 6.7223, 3.2835, 6.7222, 3.4636, 1.2397, 3.4592], 'spans': [{'offset': 2876, 'length': 88}]}, {'content': 'difficult for you to get to your appointments.', 'polygon': [1.242, 3.4904, 4.1431, 3.4974, 4.1427, 3.6759, 1.2416, 3.6693], 'spans': [{'offset': 2965, 'length': 46}]}, {'content': \"Finally, consider the provider's office hours. If you work during the day, you may need to\", 'polygon': [1.2418, 3.8313, 7.0194, 3.833, 7.0194, 4.0181, 1.2417, 4.0164], 'spans': [{'offset': 3013, 'length': 90}]}, {'content': 'find a provider that has evening or weekend hours.', 'polygon': [1.2381, 4.0364, 4.5728, 4.0367, 4.5728, 4.2208, 1.2381, 4.2204], 'spans': [{'offset': 3104, 'length': 50}]}, {'content': 'Choosing an in-network provider can help you save money on your health care costs. By', 'polygon': [1.2436, 4.3799, 6.9798, 4.3856, 6.9796, 4.57, 1.2435, 4.5643], 'spans': [{'offset': 3156, 'length': 85}]}, {'content': 'following the tips above and researching your options, you can find a provider that is', 'polygon': [1.2396, 4.5898, 6.7724, 4.5925, 6.7723, 4.779, 1.2395, 4.7762], 'spans': [{'offset': 3242, 'length': 86}]}, {'content': 'convenient, affordable, and in-network with your Northwind Standard plan.', 'polygon': [1.2432, 4.7954, 6.1865, 4.7942, 6.1865, 4.9791, 1.2432, 4.9804], 'spans': [{'offset': 3329, 'length': 73}]}, {'content': 'Continuity of Care', 'polygon': [1.2409, 5.1493, 2.4067, 5.1485, 2.407, 5.3114, 1.2411, 5.3129], 'spans': [{'offset': 3404, 'length': 18}]}, {'content': 'HOW PROVIDERS AFFECT YOUR COSTS: CONTINUITY OF CARE', 'polygon': [1.2379, 5.3497, 5.3982, 5.3492, 5.3982, 5.5218, 1.2379, 5.5223], 'spans': [{'offset': 3424, 'length': 51}]}, {'content': 'At Contoso, we understand the importance of providing our employees with access to a', 'polygon': [1.2397, 5.6979, 6.9254, 5.7024, 6.9253, 5.8841, 1.2395, 5.8796], 'spans': [{'offset': 3477, 'length': 84}]}, {'content': 'quality, affordable health care plan. We are proud to offer our employees Northwind', 'polygon': [1.2404, 5.9102, 6.7416, 5.9069, 6.7418, 6.0899, 1.2406, 6.0961], 'spans': [{'offset': 3562, 'length': 83}]}, {'content': 'Standard, an insurance plan that provides coverage for medical, vision, and dental services.', 'polygon': [1.2414, 6.1152, 7.1725, 6.1141, 7.1725, 6.296, 1.2414, 6.2971], 'spans': [{'offset': 3646, 'length': 92}]}, {'content': 'We also offer continuity of care, which is the ability to stay with the same provider for all', 'polygon': [1.2396, 6.318, 7.0242, 6.3172, 7.0242, 6.5026, 1.2396, 6.5034], 'spans': [{'offset': 3739, 'length': 93}]}, {'content': 'your health care needs, from routine checkups to specialized care.', 'polygon': [1.2283, 6.528, 5.5468, 6.5224, 5.5471, 6.7022, 1.2286, 6.7078], 'spans': [{'offset': 3833, 'length': 66}]}, {'content': 'Continuity of care is an important component of any health care plan, as it allows you to', 'polygon': [1.2425, 6.8678, 6.957, 6.8681, 6.957, 7.0506, 1.2425, 7.0503], 'spans': [{'offset': 3901, 'length': 89}]}, {'content': 'develop a relationship with your doctor, who is more likely to recognize any changes in', 'polygon': [1.2422, 7.0798, 6.9238, 7.0792, 6.9238, 7.2602, 1.2422, 7.2608], 'spans': [{'offset': 3991, 'length': 87}]}, {'content': 'your health and be able to provide better, more personalized care. With Northwind', 'polygon': [1.2313, 7.2844, 6.6596, 7.2798, 6.6598, 7.4598, 1.2314, 7.4648], 'spans': [{'offset': 4079, 'length': 81}]}, {'content': 'Standard, you can stay with the same provider throughout your health care journey, helping', 'polygon': [1.2397, 7.4847, 7.2458, 7.4875, 7.2456, 7.6767, 1.2396, 7.6699], 'spans': [{'offset': 4161, 'length': 90}]}, {'content': 'you to receive the best possible care.', 'polygon': [1.228, 7.704, 3.6396, 7.695, 3.6403, 7.8668, 1.2288, 7.877], 'spans': [{'offset': 4252, 'length': 38}]}, {'content': 'Continuity of care also helps you save money on health care costs. When you stay with the', 'polygon': [1.2404, 8.0422, 7.1083, 8.0414, 7.1084, 8.2199, 1.2404, 8.2207], 'spans': [{'offset': 4292, 'length': 89}]}, {'content': 'same provider, you are likely to pay less than if you switch around from provider to', 'polygon': [1.2384, 8.2516, 6.6796, 8.2451, 6.6799, 8.4229, 1.2386, 8.4293], 'spans': [{'offset': 4382, 'length': 84}]}, {'content': \"provider. This is because your provider already has all your medical records, and you won't\", 'polygon': [1.2362, 8.4563, 7.2047, 8.4509, 7.2049, 8.6278, 1.2364, 8.6332], 'spans': [{'offset': 4467, 'length': 91}]}, {'content': \"need to pay for expensive tests and procedures that you've already had done.\", 'polygon': [1.2349, 8.6612, 6.2685, 8.6568, 6.2687, 8.8341, 1.235, 8.8385], 'spans': [{'offset': 4559, 'length': 76}]}, {'content': 'There are a few exceptions to the continuity of care. If you move to a different area, you may', 'polygon': [1.2401, 9.0015, 7.2401, 9.0091, 7.2397, 9.1817, 1.2397, 9.1696], 'spans': [{'offset': 4637, 'length': 94}]}, {'content': 'need to find a new provider. Additionally, if you are in need of specialized care, such as', 'polygon': [1.236, 9.2115, 6.8843, 9.2109, 6.8843, 9.3855, 1.236, 9.3861], 'spans': [{'offset': 4732, 'length': 90}]}, {'content': 'surgery or a complex treatment, you may need to visit a specialist who does not accept your', 'polygon': [1.2398, 9.4244, 7.2256, 9.4224, 7.2257, 9.5947, 1.2399, 9.5966], 'spans': [{'offset': 4823, 'length': 91}]}, {'content': 'insurance plan. In these cases, you should be sure to check with your insurance company', 'polygon': [1.2365, 9.6215, 7.0282, 9.627, 7.028, 9.8028, 1.2362, 9.7946], 'spans': [{'offset': 4915, 'length': 87}]}, {'content': 'and/or provider to make sure you understand any associated costs.', 'polygon': [1.2348, 9.8327, 5.6459, 9.8269, 5.6462, 9.9962, 1.235, 10.002], 'spans': [{'offset': 5003, 'length': 65}]}]",
         "[{'offset': 2216, 'length': 2853}]"
        ]
       ],
       "shape": {
        "columns": 8,
        "rows": 2
       }
      },
      "text/html": [
       "<div>\n",
       "<style scoped>\n",
       "    .dataframe tbody tr th:only-of-type {\n",
       "        vertical-align: middle;\n",
       "    }\n",
       "\n",
       "    .dataframe tbody tr th {\n",
       "        vertical-align: top;\n",
       "    }\n",
       "\n",
       "    .dataframe thead th {\n",
       "        text-align: right;\n",
       "    }\n",
       "</style>\n",
       "<table border=\"1\" class=\"dataframe\">\n",
       "  <thead>\n",
       "    <tr style=\"text-align: right;\">\n",
       "      <th></th>\n",
       "      <th>pageNumber</th>\n",
       "      <th>angle</th>\n",
       "      <th>width</th>\n",
       "      <th>height</th>\n",
       "      <th>unit</th>\n",
       "      <th>words</th>\n",
       "      <th>lines</th>\n",
       "      <th>spans</th>\n",
       "    </tr>\n",
       "  </thead>\n",
       "  <tbody>\n",
       "    <tr>\n",
       "      <th>0</th>\n",
       "      <td>4</td>\n",
       "      <td>-0.0045</td>\n",
       "      <td>8.5</td>\n",
       "      <td>11</td>\n",
       "      <td>inch</td>\n",
       "      <td>[{'content': 'Once', 'polygon': [1.2421, 1.012...</td>\n",
       "      <td>[{'content': 'Once you have reached this limit...</td>\n",
       "      <td>[{'offset': 0, 'length': 2216}]</td>\n",
       "    </tr>\n",
       "    <tr>\n",
       "      <th>1</th>\n",
       "      <td>5</td>\n",
       "      <td>-0.0076</td>\n",
       "      <td>8.5</td>\n",
       "      <td>11</td>\n",
       "      <td>inch</td>\n",
       "      <td>[{'content': 'services.', 'polygon': [1.2376, ...</td>\n",
       "      <td>[{'content': 'services. This means that you ma...</td>\n",
       "      <td>[{'offset': 2216, 'length': 2853}]</td>\n",
       "    </tr>\n",
       "  </tbody>\n",
       "</table>\n",
       "</div>"
      ],
      "text/plain": [
       "   pageNumber   angle  width  height  unit  \\\n",
       "0           4 -0.0045    8.5      11  inch   \n",
       "1           5 -0.0076    8.5      11  inch   \n",
       "\n",
       "                                               words  \\\n",
       "0  [{'content': 'Once', 'polygon': [1.2421, 1.012...   \n",
       "1  [{'content': 'services.', 'polygon': [1.2376, ...   \n",
       "\n",
       "                                               lines  \\\n",
       "0  [{'content': 'Once you have reached this limit...   \n",
       "1  [{'content': 'services. This means that you ma...   \n",
       "\n",
       "                                spans  \n",
       "0     [{'offset': 0, 'length': 2216}]  \n",
       "1  [{'offset': 2216, 'length': 2853}]  "
      ]
     },
     "metadata": {},
     "output_type": "display_data"
    },
    {
     "data": {
      "application/vnd.microsoft.datawrangler.viewer.v0+json": {
       "columns": [
        {
         "name": "index",
         "rawType": "int64",
         "type": "integer"
        },
        {
         "name": "spans",
         "rawType": "object",
         "type": "unknown"
        },
        {
         "name": "boundingRegions",
         "rawType": "object",
         "type": "unknown"
        },
        {
         "name": "content",
         "rawType": "object",
         "type": "string"
        },
        {
         "name": "role",
         "rawType": "object",
         "type": "unknown"
        }
       ],
       "conversionMethod": "pd.DataFrame",
       "ref": "4d265f44-771c-492e-96d3-7abc4040430d",
       "rows": [
        [
         "0",
         "[{'offset': 0, 'length': 106}]",
         "[{'pageNumber': 4, 'polygon': [1.2323, 1.0127, 6.6734, 1.0097, 6.6737, 1.3927, 1.2325, 1.3958]}]",
         "Once you have reached this limit, the plan will cover 100% of your expenses for the remainder of the year.",
         null
        ],
        [
         "1",
         "[{'offset': 109, 'length': 30}]",
         "[{'pageNumber': 4, 'polygon': [1.2404, 1.5685, 3.1673, 1.5626, 3.1678, 1.7421, 1.2409, 1.748]}]",
         "Tips for Managing Your Costs",
         "sectionHeading"
        ],
        [
         "2",
         "[{'offset': 141, 'length': 187}]",
         "[{'pageNumber': 4, 'polygon': [1.2353, 1.909, 7.1493, 1.9084, 7.1493, 2.4983, 1.2354, 2.4988]}]",
         "There are several steps that you can take to help manage your costs when you are enrolled in Northwind Standard. Here are a few tips that you can use to get the most out of your coverage:",
         null
        ],
        [
         "3",
         "[{'offset': 330, 'length': 163}]",
         "[{'pageNumber': 4, 'polygon': [1.2389, 2.6708, 7.2414, 2.668, 7.2416, 3.0546, 1.2391, 3.0575]}]",
         "· Make sure to take advantage of preventive care services. These services are covered 100% by the plan and can help you avoid more costly treatments down the line.",
         null
        ],
        [
         "4",
         "[{'offset': 495, 'length': 123}]",
         "[{'pageNumber': 4, 'polygon': [1.2365, 3.2175, 7.1687, 3.2174, 7.1687, 3.6061, 1.2365, 3.6062]}]",
         "· Always make sure to visit in-network providers. Doing so will ensure that you receive the maximum benefit from your plan.",
         null
        ]
       ],
       "shape": {
        "columns": 4,
        "rows": 5
       }
      },
      "text/html": [
       "<div>\n",
       "<style scoped>\n",
       "    .dataframe tbody tr th:only-of-type {\n",
       "        vertical-align: middle;\n",
       "    }\n",
       "\n",
       "    .dataframe tbody tr th {\n",
       "        vertical-align: top;\n",
       "    }\n",
       "\n",
       "    .dataframe thead th {\n",
       "        text-align: right;\n",
       "    }\n",
       "</style>\n",
       "<table border=\"1\" class=\"dataframe\">\n",
       "  <thead>\n",
       "    <tr style=\"text-align: right;\">\n",
       "      <th></th>\n",
       "      <th>spans</th>\n",
       "      <th>boundingRegions</th>\n",
       "      <th>content</th>\n",
       "      <th>role</th>\n",
       "    </tr>\n",
       "  </thead>\n",
       "  <tbody>\n",
       "    <tr>\n",
       "      <th>0</th>\n",
       "      <td>[{'offset': 0, 'length': 106}]</td>\n",
       "      <td>[{'pageNumber': 4, 'polygon': [1.2323, 1.0127,...</td>\n",
       "      <td>Once you have reached this limit, the plan wil...</td>\n",
       "      <td>NaN</td>\n",
       "    </tr>\n",
       "    <tr>\n",
       "      <th>1</th>\n",
       "      <td>[{'offset': 109, 'length': 30}]</td>\n",
       "      <td>[{'pageNumber': 4, 'polygon': [1.2404, 1.5685,...</td>\n",
       "      <td>Tips for Managing Your Costs</td>\n",
       "      <td>sectionHeading</td>\n",
       "    </tr>\n",
       "    <tr>\n",
       "      <th>2</th>\n",
       "      <td>[{'offset': 141, 'length': 187}]</td>\n",
       "      <td>[{'pageNumber': 4, 'polygon': [1.2353, 1.909, ...</td>\n",
       "      <td>There are several steps that you can take to h...</td>\n",
       "      <td>NaN</td>\n",
       "    </tr>\n",
       "    <tr>\n",
       "      <th>3</th>\n",
       "      <td>[{'offset': 330, 'length': 163}]</td>\n",
       "      <td>[{'pageNumber': 4, 'polygon': [1.2389, 2.6708,...</td>\n",
       "      <td>· Make sure to take advantage of preventive ca...</td>\n",
       "      <td>NaN</td>\n",
       "    </tr>\n",
       "    <tr>\n",
       "      <th>4</th>\n",
       "      <td>[{'offset': 495, 'length': 123}]</td>\n",
       "      <td>[{'pageNumber': 4, 'polygon': [1.2365, 3.2175,...</td>\n",
       "      <td>· Always make sure to visit in-network provide...</td>\n",
       "      <td>NaN</td>\n",
       "    </tr>\n",
       "  </tbody>\n",
       "</table>\n",
       "</div>"
      ],
      "text/plain": [
       "                              spans  \\\n",
       "0    [{'offset': 0, 'length': 106}]   \n",
       "1   [{'offset': 109, 'length': 30}]   \n",
       "2  [{'offset': 141, 'length': 187}]   \n",
       "3  [{'offset': 330, 'length': 163}]   \n",
       "4  [{'offset': 495, 'length': 123}]   \n",
       "\n",
       "                                     boundingRegions  \\\n",
       "0  [{'pageNumber': 4, 'polygon': [1.2323, 1.0127,...   \n",
       "1  [{'pageNumber': 4, 'polygon': [1.2404, 1.5685,...   \n",
       "2  [{'pageNumber': 4, 'polygon': [1.2353, 1.909, ...   \n",
       "3  [{'pageNumber': 4, 'polygon': [1.2389, 2.6708,...   \n",
       "4  [{'pageNumber': 4, 'polygon': [1.2365, 3.2175,...   \n",
       "\n",
       "                                             content            role  \n",
       "0  Once you have reached this limit, the plan wil...             NaN  \n",
       "1                       Tips for Managing Your Costs  sectionHeading  \n",
       "2  There are several steps that you can take to h...             NaN  \n",
       "3  · Make sure to take advantage of preventive ca...             NaN  \n",
       "4  · Always make sure to visit in-network provide...             NaN  "
      ]
     },
     "metadata": {},
     "output_type": "display_data"
    }
   ],
   "source": [
    "result.get(\"pages\")\n",
    "\n",
    "\n",
    "\n",
    "display(pd.json_normalize(result.as_dict()['pages'], sep=\"_\").head(5))\n",
    "display(pd.json_normalize(result.as_dict()['paragraphs'], sep=\"_\").head(5))\n"
   ]
  },
  {
   "cell_type": "code",
   "execution_count": 138,
   "id": "36e83f9d",
   "metadata": {},
   "outputs": [
    {
     "name": "stdout",
     "output_type": "stream",
     "text": [
      "Total words: 0\n",
      "Total paragraphs: 27\n",
      "Sample paragraph: Once you have reached this limit, the plan will co...\n"
     ]
    }
   ],
   "source": [
    "\n",
    "# Create Pydantic models for Document Intelligence results\n",
    "class Span(pydantic.BaseModel):\n",
    "    offset: int\n",
    "    length: int\n",
    "\n",
    "class DocumentWord(pydantic.BaseModel):\n",
    "    content: str\n",
    "    polygon: list[float] = None\n",
    "    confidence: float\n",
    "    span: Span\n",
    "\n",
    "class BoundingRegion(pydantic.BaseModel):\n",
    "    page_number: int\n",
    "    polygon: list[float] = None\n",
    "\n",
    "class Paragraph(pydantic.BaseModel):\n",
    "    content: str\n",
    "    role: str = None\n",
    "    spans: list[Span]\n",
    "    bounding_regions: list[BoundingRegion] = None\n",
    "\n",
    "# Parse words and paragraphs\n",
    "words = [DocumentWord(**word) for word in result.as_dict()['words']] if 'words' in result.as_dict() else []\n",
    "paragraphs = [Paragraph(**para) for para in result.as_dict()['paragraphs']] if 'paragraphs' in result.as_dict() else []\n",
    "\n",
    "# Display some examples\n",
    "print(f\"Total words: {len(words)}\")\n",
    "if words:\n",
    "    print(f\"Sample word: {words[0].content}, confidence: {words[0].confidence}\")\n",
    "\n",
    "print(f\"Total paragraphs: {len(paragraphs)}\")\n",
    "if paragraphs:\n",
    "    print(f\"Sample paragraph: {paragraphs[0].content[:50]}...\")"
   ]
  },
  {
   "cell_type": "code",
   "execution_count": 139,
   "id": "bf87aaa5",
   "metadata": {},
   "outputs": [
    {
     "name": "stdout",
     "output_type": "stream",
     "text": [
      "DocumentContentFormat.MARKDOWN\n"
     ]
    }
   ],
   "source": [
    "print(result.content_format)\n",
    "\n",
    "# print(result.content)"
   ]
  },
  {
   "cell_type": "code",
   "execution_count": 140,
   "id": "f691f4a6",
   "metadata": {},
   "outputs": [],
   "source": [
    "# display(Markdown(result.content))"
   ]
  },
  {
   "cell_type": "code",
   "execution_count": 141,
   "id": "04c5bd1e",
   "metadata": {},
   "outputs": [
    {
     "name": "stdout",
     "output_type": "stream",
     "text": [
      "Document does not contain handwritten content\n"
     ]
    }
   ],
   "source": [
    "\n",
    "if result.styles and any([style.is_handwritten for style in result.styles]):\n",
    "    print(\"Document contains handwritten content\")\n",
    "else:\n",
    "    print(\"Document does not contain handwritten content\")\n"
   ]
  },
  {
   "cell_type": "code",
   "execution_count": 142,
   "id": "93ec11e0",
   "metadata": {},
   "outputs": [
    {
     "name": "stdout",
     "output_type": "stream",
     "text": [
      "Document has 2 pages\n",
      "----Analyzing layout from page #4----\n",
      "Page has width: 8.5 and height: 11.0, measured with unit: LengthUnit.INCH\n",
      "----Analyzing layout from page #5----\n",
      "Page has width: 8.5 and height: 11.0, measured with unit: LengthUnit.INCH\n"
     ]
    }
   ],
   "source": [
    "print(f\"Document has {len(result.pages)} pages\")\n",
    "for page in result.pages:\n",
    "    print(f\"----Analyzing layout from page #{page.page_number}----\")\n",
    "    print(f\"Page has width: {page.width} and height: {page.height}, measured with unit: {page.unit}\")\n",
    "\n",
    "    # if page.lines:\n",
    "    #     for line_idx, line in enumerate(page.lines):\n",
    "    #         words = []\n",
    "    #         if page.words:\n",
    "    #             for word in page.words:\n",
    "    #                 print(f\"......Word '{word.content}' has a confidence of {word.confidence}\")\n",
    "    #                 if _in_span(word, line.spans):\n",
    "    #                     words.append(word)\n",
    "    #         print(\n",
    "    #             f\"...Line # {line_idx} has word count {len(words)} and text '{line.content}' \"\n",
    "    #             f\"within bounding polygon '{_format_polygon(line.polygon)}'\"\n",
    "    #         )\n",
    "\n",
    "    # if page.selection_marks:\n",
    "    #     for selection_mark in page.selection_marks:\n",
    "    #         print(\n",
    "    #             f\"Selection mark is '{selection_mark.state}' within bounding polygon \"\n",
    "    #             f\"'{_format_polygon(selection_mark.polygon)}' and has a confidence of {selection_mark.confidence}\"\n",
    "    #         )\n"
   ]
  },
  {
   "cell_type": "code",
   "execution_count": 143,
   "id": "15b1cab0",
   "metadata": {},
   "outputs": [
    {
     "name": "stdout",
     "output_type": "stream",
     "text": [
      "----Detected #27 paragraphs in the document----\n"
     ]
    }
   ],
   "source": [
    "\n",
    "if result.paragraphs:\n",
    "    print(f\"----Detected #{len(result.paragraphs)} paragraphs in the document----\")\n",
    "    # Sort all paragraphs by span's offset to read in the right order.\n",
    "    result.paragraphs.sort(key=lambda p: (p.spans.sort(key=lambda s: s.offset), p.spans[0].offset))\n",
    "    # print(\"-----Print sorted paragraphs-----\")\n",
    "    # for paragraph in result.paragraphs:\n",
    "    #     if not paragraph.bounding_regions:\n",
    "    #         print(f\"Found paragraph with role: '{paragraph.role}' within N/A bounding region\")\n",
    "    #     else:\n",
    "    #         print(f\"Found paragraph with role: '{paragraph.role}' within\")\n",
    "    #         print(\n",
    "    #             \", \".join(\n",
    "    #                 f\" Page #{region.page_number}: {_format_polygon(region.polygon)} bounding region\"\n",
    "    #                 for region in paragraph.bounding_regions\n",
    "    #             )\n",
    "    #         )\n",
    "    #     print(f\"...with content: '{paragraph.content}'\")\n",
    "    #     print(f\"...with offset: {paragraph.spans[0].offset} and length: {paragraph.spans[0].length}\")\n"
   ]
  },
  {
   "cell_type": "code",
   "execution_count": 144,
   "id": "1c67bb89",
   "metadata": {},
   "outputs": [
    {
     "name": "stdout",
     "output_type": "stream",
     "text": [
      "----------------------------------------\n"
     ]
    }
   ],
   "source": [
    "\n",
    "if result.tables:\n",
    "    for table_idx, table in enumerate(result.tables):\n",
    "        print(f\"Table # {table_idx} has {table.row_count} rows and \" f\"{table.column_count} columns\")\n",
    "        if table.bounding_regions:\n",
    "            for region in table.bounding_regions:\n",
    "                print(\n",
    "                    f\"Table # {table_idx} location on page: {region.page_number} is {_format_polygon(region.polygon)}\"\n",
    "                )\n",
    "        for cell in table.cells:\n",
    "            print(f\"...Cell[{cell.row_index}][{cell.column_index}] has text '{cell.content}'\")\n",
    "            if cell.bounding_regions:\n",
    "                for region in cell.bounding_regions:\n",
    "                    print(\n",
    "                        f\"...content on page {region.page_number} is within bounding polygon '{_format_polygon(region.polygon)}'\"\n",
    "                    )\n",
    "\n",
    "print(\"----------------------------------------\")"
   ]
  },
  {
   "cell_type": "code",
   "execution_count": 145,
   "id": "1fab42ae",
   "metadata": {},
   "outputs": [
    {
     "data": {
      "text/plain": [
       "<DocumentContentFormat.MARKDOWN: 'markdown'>"
      ]
     },
     "execution_count": 145,
     "metadata": {},
     "output_type": "execute_result"
    }
   ],
   "source": [
    "result.content_format"
   ]
  },
  {
   "cell_type": "code",
   "execution_count": null,
   "id": "50489d81",
   "metadata": {},
   "outputs": [],
   "source": []
  }
 ],
 "metadata": {
  "kernelspec": {
   "display_name": ".venv",
   "language": "python",
   "name": "python3"
  },
  "language_info": {
   "codemirror_mode": {
    "name": "ipython",
    "version": 3
   },
   "file_extension": ".py",
   "mimetype": "text/x-python",
   "name": "python",
   "nbconvert_exporter": "python",
   "pygments_lexer": "ipython3",
   "version": "3.11.9"
  }
 },
 "nbformat": 4,
 "nbformat_minor": 5
}
