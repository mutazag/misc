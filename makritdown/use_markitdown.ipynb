{
 "cells": [
  {
   "cell_type": "code",
   "execution_count": 22,
   "id": "6c778ffa",
   "metadata": {},
   "outputs": [],
   "source": [
    "from markitdown import MarkItDown\n",
    "from IPython.display import Markdown, display\n",
    "import os\n"
   ]
  },
  {
   "cell_type": "code",
   "execution_count": 2,
   "id": "0419d341",
   "metadata": {},
   "outputs": [
    {
     "name": "stdout",
     "output_type": "stream",
     "text": [
      "Logging configured to show only errors. Warnings are now suppressed.\n"
     ]
    }
   ],
   "source": [
    "import logging\n",
    "import warnings\n",
    "\n",
    "# Configure logging to show only errors and above\n",
    "logging.basicConfig(level=logging.ERROR)\n",
    "\n",
    "# Disable warnings\n",
    "warnings.filterwarnings(\"ignore\")\n",
    "\n",
    "# Print confirmation message\n",
    "print(\"Logging configured to show only errors. Warnings are now suppressed.\")"
   ]
  },
  {
   "cell_type": "code",
   "execution_count": 3,
   "id": "846acef6",
   "metadata": {},
   "outputs": [],
   "source": [
    "md = MarkItDown()\n",
    "\n",
    "result = md.convert(source='data/Northwind_Standard_Benefits_Details.pdf')"
   ]
  },
  {
   "cell_type": "code",
   "execution_count": 4,
   "id": "12afb851",
   "metadata": {},
   "outputs": [
    {
     "name": "stdout",
     "output_type": "stream",
     "text": [
      "Contoso Electronics\n",
      "\n",
      "Northwind Health Standard Plan\n",
      "\n",
      "\fThis document contains information generated using a language model (Azure OpenAI). The\n",
      "information contained in this document is only for demonstration purposes and does not\n",
      "reflect the opinions or beliefs of Microsoft. Microsoft makes no representations or\n",
      "warranties of any kind, express or implied, about the completeness, accuracy, reliability,\n",
      "suitability or availability with respect to the information contained in this document.\n",
      "\n",
      "All rights reserved to Microsoft\n",
      "\n",
      "\fSummary of Benefits\n",
      "\n",
      "Northwind Standard\n",
      "Northwind Standard is a basic plan that provides coverage for medical, vision, and dental\n",
      "services. This plan also offers coverage for preventive care services, as well as prescription\n",
      "drug coverage. With Northwind Standard, you can choose from a variety of in-network\n",
      "providers, including primary care physicians, specialists, hospitals, and pharmacies. This\n",
      "plan does not offer coverage for emergency services, mental health and s\n"
     ]
    }
   ],
   "source": [
    "print(result.markdown[:1000])"
   ]
  },
  {
   "cell_type": "code",
   "execution_count": 5,
   "id": "c9e5898d",
   "metadata": {},
   "outputs": [
    {
     "data": {
      "text/markdown": [
       "Contoso Electronics\n",
       "\n",
       "Northwind Health Standard Plan\n",
       "\n",
       "\fThis document contains information generated using a language model (Azure OpenAI). The\n",
       "information contained in this document is only for demonstration purposes and does not\n",
       "reflect the opinions or beliefs of Microsoft. Microsoft makes no representations or\n",
       "warranties of any kind, express or implied, about the completeness, accuracy, reliability,\n",
       "suitability or availability with respect to the information contained in this document.\n",
       "\n",
       "All rig"
      ],
      "text/plain": [
       "<IPython.core.display.Markdown object>"
      ]
     },
     "metadata": {},
     "output_type": "display_data"
    }
   ],
   "source": [
    "\n",
    "# Display the markdown content\n",
    "display(Markdown(result.markdown[:500]))"
   ]
  },
  {
   "cell_type": "code",
   "execution_count": 6,
   "id": "24f3e92a",
   "metadata": {},
   "outputs": [],
   "source": [
    "youtube_result = md.convert(source=\"https://www.youtube.com/watch?v=3zgm60bXmQk\")"
   ]
  },
  {
   "cell_type": "code",
   "execution_count": 10,
   "id": "63de377d",
   "metadata": {},
   "outputs": [
    {
     "data": {
      "text/markdown": [
       "What are AI agents?"
      ],
      "text/plain": [
       "<IPython.core.display.Markdown object>"
      ]
     },
     "metadata": {},
     "output_type": "display_data"
    },
    {
     "data": {
      "text/markdown": [
       "# YouTube\n",
       "\n",
       "## What are AI agents?\n",
       "\n",
       "### Video Metadata\n",
       "- **Keywords:** Azure, Microsoft, Tech, Technology, Dev, Development, Cloud Computing, ai agents, ai, developers, how to, what are ai agents, how to build ai agents, rag\n",
       "- **Runtime:** PT5M57S\n",
       "\n",
       "### Description\n",
       "Find the full \"AI Agents for Beginners\" Course and code samples here ➡️ aka.ms/ai-agents-beginners\n",
       "\n",
       "In this lesson we ask, what are AI agents? We then discuss their best use cases and what you need to start building them.\n",
       "\n",
       "In this video"
      ],
      "text/plain": [
       "<IPython.core.display.Markdown object>"
      ]
     },
     "metadata": {},
     "output_type": "display_data"
    },
    {
     "name": "stdout",
     "output_type": "stream",
     "text": [
      "# YouTube\n",
      "\n",
      "## What are AI agents?\n",
      "\n",
      "### Video Metadata\n",
      "- **Keywords:** Azure, Microsoft, Tech, Technology, Dev, Development, Cloud Computing, ai agents, ai, developers, how to, what are ai agents, how to build ai agents, rag\n",
      "- **Runtime:** PT5M57S\n",
      "\n",
      "### Description\n",
      "Find the full \"AI Agents for Beginners\" Course and code samples here ➡️ aka.ms/ai-agents-beginners\n",
      "\n",
      "In this lesson we ask, what are AI agents? We then discuss their best use cases and what you need to start building them.\n",
      "\n",
      "In this video\n"
     ]
    }
   ],
   "source": [
    "display(Markdown(youtube_result.title))\n",
    "display(Markdown(youtube_result.markdown[:500]))\n",
    "print(youtube_result.markdown[:500])"
   ]
  },
  {
   "cell_type": "code",
   "execution_count": 11,
   "id": "21dcc17d",
   "metadata": {},
   "outputs": [],
   "source": [
    "wav_markdown = md.convert(source=\"data/wikipediaOcelot.wav\")"
   ]
  },
  {
   "cell_type": "code",
   "execution_count": 12,
   "id": "dbf3209c",
   "metadata": {},
   "outputs": [
    {
     "data": {
      "text/markdown": [
       "### Audio Transcript:\n",
       "the ocelot the partis paradise is a small wild cat native to the southwestern United States Mexico and central and South America this medium sized cat is characterised by solid black spots and streaks on its coat round ears and white neck and undersides it weighs between 8 and 15.5 kg 18 and 34 lbs and reaches 40 to 50 cm 16 to 20 inches at the shoulders it was first described by Colleen as in 1758 to subspecies are recognised LP Paradise and LP Midas typically active during Twilight and at night the ocelot tends to be solitary and territorial it is efficient to climbing leaping and swimming it praise on small terrestrial mammals such as armadillo opossum and lagomorphs"
      ],
      "text/plain": [
       "<IPython.core.display.Markdown object>"
      ]
     },
     "metadata": {},
     "output_type": "display_data"
    }
   ],
   "source": [
    "display(Markdown(wav_markdown.markdown))"
   ]
  },
  {
   "cell_type": "code",
   "execution_count": 13,
   "id": "9d12efb6",
   "metadata": {},
   "outputs": [],
   "source": [
    "mp3_markdown = md.convert(source=\"data/callCenterRecording.mp3\")"
   ]
  },
  {
   "cell_type": "code",
   "execution_count": 16,
   "id": "d20dca47",
   "metadata": {},
   "outputs": [
    {
     "data": {
      "text/markdown": [
       "### Audio Transcript:\n",
       "good day welcome to contoso my name is John Doe how can I help you today yes good day my name is Maria Smith I would like to"
      ],
      "text/plain": [
       "<IPython.core.display.Markdown object>"
      ]
     },
     "metadata": {},
     "output_type": "display_data"
    },
    {
     "name": "stdout",
     "output_type": "stream",
     "text": [
      "### Audio Transcript:\n",
      "good day welcome to contoso my name is John Doe how can I help you today yes good day my name is Maria Smith I would like to\n"
     ]
    }
   ],
   "source": [
    "display(Markdown(mp3_markdown.markdown))\n",
    "print(mp3_markdown.markdown)"
   ]
  },
  {
   "cell_type": "code",
   "execution_count": 17,
   "id": "f1929939",
   "metadata": {},
   "outputs": [],
   "source": [
    "zip_result = md.convert(source=\"data/zipfile.zip\")"
   ]
  },
  {
   "cell_type": "code",
   "execution_count": 20,
   "id": "e1f7b2e4",
   "metadata": {},
   "outputs": [
    {
     "data": {
      "text/markdown": [
       "Content from the zip file `data/zipfile.zip`:\n",
       "\n",
       "## File: wikipediaOcelot.wav\n",
       "\n",
       "### Audio Transcript:\n",
       "the ocelot the partis paradise is a small wild cat native to the southwestern United States Mexico and central and South America this medium sized cat is characterised by solid black spots and streaks on its coat round ears and white neck and undersides it weighs between 8 and 15.5 kg 18 and 34 lbs and reaches 40 to 50 cm 16 to 20 inches at the shoulders it was first described by Colleen as in 1758 to subspecies are recognised LP Paradise and LP Midas typically active during Twilight and at night the ocelot tends to be solitary and territorial it is efficient to climbing leaping and swimming it praise on small terrestrial mammals such as armadillo opossum and lagomorphs\n",
       "\n",
       "## File: Northwind_Standard_Benefits_Details.pdf\n",
       "\n",
       "Contoso Electronics\n",
       "\n",
       "Northwind Health Standard Plan\n",
       "\n",
       "\fThis document contains information generated using a language model (Azure OpenAI). The\n",
       "information contained in this"
      ],
      "text/plain": [
       "<IPython.core.display.Markdown object>"
      ]
     },
     "metadata": {},
     "output_type": "display_data"
    }
   ],
   "source": [
    "\n",
    "display(Markdown(zip_result.markdown[:1000]))"
   ]
  },
  {
   "cell_type": "code",
   "execution_count": 21,
   "id": "d4655af4",
   "metadata": {},
   "outputs": [],
   "source": [
    "from azure.identity import DefaultAzureCredential\n",
    "\n",
    "cred = DefaultAzureCredential()"
   ]
  },
  {
   "cell_type": "code",
   "execution_count": 25,
   "id": "c16f592c",
   "metadata": {},
   "outputs": [],
   "source": [
    "md_docintel = MarkItDown(\n",
    "    docintel_endpoint=os.environ[\"DOC_INTELLIGENCE_API\"],\n",
    "    docintel_credential=cred,\n",
    "    # docintel_file_types=[\"pdf\"],\n",
    "    )\n",
    "di_result = md_docintel.convert(\"data/Northwind_Standard_Benefits_Details.pdf\")"
   ]
  },
  {
   "cell_type": "code",
   "execution_count": 26,
   "id": "7ff241e7",
   "metadata": {},
   "outputs": [
    {
     "data": {
      "text/markdown": [
       "# Contoso Electronics\n",
       "\n",
       "Northwind Health Standard Plan\n",
       "\n",
       "<figure>\n",
       "\n",
       "Contoso\n",
       "\n",
       "☒\n",
       "\n",
       "Electronics\n",
       "\n",
       "</figure>\n",
       "\n",
       "This document contains information generated using a language model (Azure OpenAI). The\n",
       "information contained in this document is only for demonstration purposes and does not\n",
       "reflect the opinions or beliefs of Microsoft. Microsoft makes no representations or\n",
       "warranties of any kind, express or implied, about the completeness, accuracy, reliability,\n",
       "suitability or availability with respect to the information contained in this document.\n",
       "\n",
       "All rights reserved to Microsoft\n"
      ],
      "text/plain": [
       "<IPython.core.display.Markdown object>"
      ]
     },
     "metadata": {},
     "output_type": "display_data"
    }
   ],
   "source": [
    "display(Markdown(di_result.markdown))"
   ]
  },
  {
   "cell_type": "code",
   "execution_count": null,
   "id": "25431780",
   "metadata": {},
   "outputs": [],
   "source": [
    "len(di_result.markdown)"
   ]
  },
  {
   "cell_type": "code",
   "execution_count": null,
   "id": "2f39e274",
   "metadata": {},
   "outputs": [],
   "source": []
  }
 ],
 "metadata": {
  "kernelspec": {
   "display_name": ".venv",
   "language": "python",
   "name": "python3"
  },
  "language_info": {
   "codemirror_mode": {
    "name": "ipython",
    "version": 3
   },
   "file_extension": ".py",
   "mimetype": "text/x-python",
   "name": "python",
   "nbconvert_exporter": "python",
   "pygments_lexer": "ipython3",
   "version": "3.11.9"
  }
 },
 "nbformat": 4,
 "nbformat_minor": 5
}
