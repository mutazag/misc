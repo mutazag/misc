{
 "cells": [
  {
   "attachments": {},
   "cell_type": "markdown",
   "metadata": {},
   "source": [
    "https://learn.microsoft.com/en-us/answers/questions/1122802/speech-to-text-how-to-config-disfluency-removal     \n",
    "https://learn.microsoft.com/en-us/azure/cognitive-services/Speech-Service/display-text-format?pivots=programming-language-python#disfluency-removal\n"
   ]
  },
  {
   "cell_type": "code",
   "execution_count": 43,
   "metadata": {},
   "outputs": [
    {
     "data": {
      "text/plain": [
       "'c:\\\\git\\\\misc\\\\speech'"
      ]
     },
     "execution_count": 43,
     "metadata": {},
     "output_type": "execute_result"
    }
   ],
   "source": [
    "import azure.cognitiveservices.speech as speechsdk\n",
    "import configparser\n",
    "import json\n",
    "\n",
    "import os\n",
    "from pathlib import Path\n",
    "os.getcwd()\n"
   ]
  },
  {
   "cell_type": "code",
   "execution_count": null,
   "metadata": {},
   "outputs": [],
   "source": [
    "\n",
    "config = configparser.ConfigParser()\n",
    "config.read('secret.ini')\n",
    "\n",
    "speech_key = config['SPEECH']['SPEECH_KEY']\n",
    "speech_region = config['SPEECH']['SPEECH_REGION']"
   ]
  },
  {
   "cell_type": "code",
   "execution_count": 25,
   "metadata": {},
   "outputs": [],
   "source": [
    "speech_config = speechsdk.SpeechConfig(subscription=speech_key, region=speech_region)\n",
    "# speech_config.speech_recognition_language=\"en-US\"\n",
    "# speech_config.set_property(property_id=speechsdk.PropertyId.SpeechServiceResponse_PostProcessingOption, value=\"TrueText\")\n",
    "# speech_config.output_format = speechsdk.OutputFormat.Detailed\n",
    "\n"
   ]
  },
  {
   "cell_type": "code",
   "execution_count": 28,
   "metadata": {},
   "outputs": [],
   "source": [
    "# audio_input = speechsdk.AudioConfig(filename=\"Recording.wav\")"
   ]
  },
  {
   "cell_type": "code",
   "execution_count": 30,
   "metadata": {},
   "outputs": [],
   "source": [
    "speech_recognizer = speechsdk.SpeechRecognizer(speech_config=speech_config) #, audio_config=audio_input)"
   ]
  },
  {
   "cell_type": "code",
   "execution_count": 32,
   "metadata": {},
   "outputs": [
    {
     "name": "stdout",
     "output_type": "stream",
     "text": [
      "Um this text um to be recognized?\n",
      "5b541fb470394783b338192651099334\n"
     ]
    }
   ],
   "source": [
    "#transcribe sample.wav\n",
    "\n",
    "\n",
    "result = speech_recognizer.recognize_once()\n",
    "print(result.text)\n",
    "print(result.result_id)"
   ]
  },
  {
   "cell_type": "code",
   "execution_count": 33,
   "metadata": {},
   "outputs": [],
   "source": [
    "result_dict = json.loads(result.json)"
   ]
  },
  {
   "cell_type": "code",
   "execution_count": 34,
   "metadata": {},
   "outputs": [
    {
     "name": "stdout",
     "output_type": "stream",
     "text": [
      "um this text um to be recognized\n",
      "um this text um to be recognized\n"
     ]
    }
   ],
   "source": [
    "print(result_dict['NBest'][0]['Lexical'])\n",
    "print(result_dict['NBest'][1]['Lexical'])\n"
   ]
  },
  {
   "cell_type": "code",
   "execution_count": 35,
   "metadata": {},
   "outputs": [
    {
     "name": "stdout",
     "output_type": "stream",
     "text": [
      "{\"Id\":\"5b541fb470394783b338192651099334\",\"RecognitionStatus\":\"Success\",\"Offset\":154000000,\"Duration\":31600000,\"Channel\":0,\"DisplayText\":\"Um this text um to be recognized?\",\"NBest\":[{\"Confidence\":0.7029555,\"Lexical\":\"um this text um to be recognized\",\"ITN\":\"um this text um to be recognized\",\"MaskedITN\":\"um this text um to be recognized\",\"Display\":\"Um this text um to be recognized?\",\"Words\":[{\"Word\":\"um\",\"Offset\":154000000,\"Duration\":6900000,\"Confidence\":0.55298847},{\"Word\":\"this\",\"Offset\":161600000,\"Duration\":3500000,\"Confidence\":0.8412833},{\"Word\":\"text\",\"Offset\":165200000,\"Duration\":5300000,\"Confidence\":0.8166239},{\"Word\":\"um\",\"Offset\":170600000,\"Duration\":5300000,\"Confidence\":0.33498138},{\"Word\":\"to\",\"Offset\":176600000,\"Duration\":1100000,\"Confidence\":0.54478055},{\"Word\":\"be\",\"Offset\":177800000,\"Duration\":2200000,\"Confidence\":0.94233847},{\"Word\":\"recognized\",\"Offset\":180100000,\"Duration\":5500000,\"Confidence\":0.9822889}]},{\"Confidence\":0.70173806,\"Lexical\":\"um this text um to be recognized\",\"ITN\":\"um this text um to be recognized\",\"MaskedITN\":\"um this text um to be recognized\",\"Display\":\"um this text UM to be recognized\",\"Words\":[{\"Word\":\"um\",\"Offset\":154000000,\"Duration\":6900000,\"Confidence\":0.55298847},{\"Word\":\"this\",\"Offset\":161600000,\"Duration\":3500000,\"Confidence\":0.8412833},{\"Word\":\"text\",\"Offset\":165200000,\"Duration\":5300000,\"Confidence\":0.8166239},{\"Word\":\"UM\",\"Offset\":170600000,\"Duration\":5300000,\"Confidence\":0.25681227},{\"Word\":\"to\",\"Offset\":176600000,\"Duration\":1100000,\"Confidence\":0.8592428},{\"Word\":\"be\",\"Offset\":177800000,\"Duration\":2200000,\"Confidence\":0.9455316},{\"Word\":\"recognized\",\"Offset\":180100000,\"Duration\":5500000,\"Confidence\":0.9823394}]},{\"Confidence\":0.73859406,\"Lexical\":\"um this text u m to be recognized\",\"ITN\":\"um this text u m to be recognized\",\"MaskedITN\":\"um this text u m to be recognized\",\"Display\":\"um this text U M to be recognized\",\"Words\":[{\"Word\":\"um\",\"Offset\":154000000,\"Duration\":6900000,\"Confidence\":0.55298847},{\"Word\":\"this\",\"Offset\":161600000,\"Duration\":3500000,\"Confidence\":0.8412833},{\"Word\":\"text\",\"Offset\":165200000,\"Duration\":5300000,\"Confidence\":0.8166239},{\"Word\":\"U\",\"Offset\":170600000,\"Duration\":1900000,\"Confidence\":0.24994677},{\"Word\":\"M\",\"Offset\":172600000,\"Duration\":3300000,\"Confidence\":0.6587788},{\"Word\":\"to\",\"Offset\":176600000,\"Duration\":1100000,\"Confidence\":0.65500075},{\"Word\":\"be\",\"Offset\":177800000,\"Duration\":2200000,\"Confidence\":0.9534598},{\"Word\":\"recognized\",\"Offset\":180100000,\"Duration\":5500000,\"Confidence\":0.9819838}]},{\"Confidence\":0.70592064,\"Lexical\":\"um this text umm to be recognized\",\"ITN\":\"um this text umm to be recognized\",\"MaskedITN\":\"um this text umm to be recognized\",\"Display\":\"um this text umm to be recognized\",\"Words\":[{\"Word\":\"um\",\"Offset\":154000000,\"Duration\":6900000,\"Confidence\":0.55298847},{\"Word\":\"this\",\"Offset\":161600000,\"Duration\":3500000,\"Confidence\":0.8412833},{\"Word\":\"text\",\"Offset\":165200000,\"Duration\":5300000,\"Confidence\":0.8166239},{\"Word\":\"umm\",\"Offset\":170600000,\"Duration\":4900000,\"Confidence\":0.27492768},{\"Word\":\"to\",\"Offset\":176600000,\"Duration\":1100000,\"Confidence\":0.72517794},{\"Word\":\"be\",\"Offset\":177800000,\"Duration\":2200000,\"Confidence\":0.9555832},{\"Word\":\"recognized\",\"Offset\":180100000,\"Duration\":5500000,\"Confidence\":0.9814656}]},{\"Confidence\":0.68116826,\"Lexical\":\"uhm this text um to be recognized\",\"ITN\":\"uhm this text um to be recognized\",\"MaskedITN\":\"uhm this text um to be recognized\",\"Display\":\"uhm this text um to be recognized\",\"Words\":[{\"Word\":\"uhm\",\"Offset\":154000000,\"Duration\":6900000,\"Confidence\":0.4160578},{\"Word\":\"this\",\"Offset\":161600000,\"Duration\":3500000,\"Confidence\":0.9488664},{\"Word\":\"text\",\"Offset\":165200000,\"Duration\":5300000,\"Confidence\":0.7993474},{\"Word\":\"um\",\"Offset\":170600000,\"Duration\":5300000,\"Confidence\":0.33498138},{\"Word\":\"to\",\"Offset\":176600000,\"Duration\":1100000,\"Confidence\":0.54478055},{\"Word\":\"be\",\"Offset\":177800000,\"Duration\":2200000,\"Confidence\":0.94233847},{\"Word\":\"recognized\",\"Offset\":180100000,\"Duration\":5500000,\"Confidence\":0.9822889}]}]}\n"
     ]
    }
   ],
   "source": [
    "print(result.json)"
   ]
  },
  {
   "cell_type": "code",
   "execution_count": 36,
   "metadata": {},
   "outputs": [],
   "source": [
    "# transcribe a file"
   ]
  },
  {
   "cell_type": "code",
   "execution_count": 68,
   "metadata": {},
   "outputs": [],
   "source": [
    "# use speechrecognizer to transcribe an audio file \n",
    "# file was converted to 16bit PCM WAV using ffmpeg\n",
    "# ffmpeg -i input.mp3 -acodec pcm_s16le -ac 1 -ar 16000 output.wav\n",
    "\n",
    "audio_file = Path(os.getcwd(), 'output.wav')\n",
    "audio_input = speechsdk.AudioConfig(filename=str(audio_file))\n",
    "speech_recognizer = speechsdk.SpeechRecognizer(speech_config=speech_config, audio_config=audio_input)\n",
    "\n"
   ]
  },
  {
   "cell_type": "code",
   "execution_count": 69,
   "metadata": {},
   "outputs": [
    {
     "name": "stdout",
     "output_type": "stream",
     "text": [
      "Hi this is my custom voice. My name is Merrill. Here's some Python code that uses the ipython dot display module to display a music play control in a Jupiter notebook. Make sure to replace music on disco file dot MP3 with the path to your own music file.\n",
      "f26689492e9f45c192eb8c9986e6521d\n"
     ]
    }
   ],
   "source": [
    "result = speech_recognizer.recognize_once()\n",
    "print(result.text)\n",
    "print(result.result_id)"
   ]
  },
  {
   "cell_type": "code",
   "execution_count": 75,
   "metadata": {},
   "outputs": [],
   "source": [
    "# use python to convert file format \n",
    "# from pydub import AudioSegment\n",
    "\n",
    "# sound = AudioSegment.from_file(\"input.mp3\", format=\"mp3\")\n",
    "# sound = sound.set_frame_rate(16000).set_channels(1).set_sample_width(2)\n",
    "# sound.export(\"output.wav\", format=\"wav\")"
   ]
  },
  {
   "cell_type": "code",
   "execution_count": 76,
   "metadata": {},
   "outputs": [],
   "source": [
    "import subprocess\n",
    "\n",
    "def convert_fileformat(filename):\n",
    "    subprocess.call(['ffmpeg', '-i', filename, '-vn', '-acodec', 'pcm_s16le', '-ac', '1', '-ar', '16000', '-f', 'wav', 'output.wav'])\n",
    "    return f\"Audio file converted successfully!\""
   ]
  },
  {
   "cell_type": "code",
   "execution_count": null,
   "metadata": {},
   "outputs": [],
   "source": []
  }
 ],
 "metadata": {
  "kernelspec": {
   "display_name": "speechenv",
   "language": "python",
   "name": "python3"
  },
  "language_info": {
   "codemirror_mode": {
    "name": "ipython",
    "version": 3
   },
   "file_extension": ".py",
   "mimetype": "text/x-python",
   "name": "python",
   "nbconvert_exporter": "python",
   "pygments_lexer": "ipython3",
   "version": "3.9.16"
  },
  "orig_nbformat": 4
 },
 "nbformat": 4,
 "nbformat_minor": 2
}
