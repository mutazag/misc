{
 "cells": [
  {
   "attachments": {},
   "cell_type": "markdown",
   "metadata": {},
   "source": [
    "https://learn.microsoft.com/en-us/answers/questions/1122802/speech-to-text-how-to-config-disfluency-removal     \n",
    "https://learn.microsoft.com/en-us/azure/cognitive-services/Speech-Service/display-text-format?pivots=programming-language-python#disfluency-removal\n"
   ]
  },
  {
   "cell_type": "code",
   "execution_count": 41,
   "metadata": {},
   "outputs": [],
   "source": [
    "import azure.cognitiveservices.speech as speechsdk\n",
    "import configparser\n",
    "import json\n",
    "config = configparser.ConfigParser()\n",
    "config.read('secret.ini')\n",
    "\n",
    "speech_key = config['SPEECH']['SPEECH_KEY']\n",
    "speech_region = config['SPEECH']['SPEECH_REGION']"
   ]
  },
  {
   "cell_type": "code",
   "execution_count": 42,
   "metadata": {},
   "outputs": [],
   "source": [
    "speech_config = speechsdk.SpeechConfig(subscription=speech_key, region=speech_region)\n",
    "speech_config.speech_recognition_language=\"en-US\"\n",
    "speech_config.set_property(property_id=speechsdk.PropertyId.SpeechServiceResponse_PostProcessingOption, value=\"TrueText\")\n",
    "speech_config.output_format = speechsdk.OutputFormat.Detailed\n",
    "\n"
   ]
  },
  {
   "cell_type": "code",
   "execution_count": 43,
   "metadata": {},
   "outputs": [
    {
     "name": "stdout",
     "output_type": "stream",
     "text": [
      "I said that we can go to the movies.\n",
      "bd1cdd91951342008537d51b882be559\n"
     ]
    }
   ],
   "source": [
    "#transcribe sample.wav\n",
    "audio_input = speechsdk.AudioConfig(filename=\"sample.wav\")\n",
    "speech_recognizer = speechsdk.SpeechRecognizer(speech_config=speech_config, audio_config=audio_input)\n",
    "result = speech_recognizer.recognize_once()\n",
    "print(result.text)\n",
    "print(result.result_id)"
   ]
  },
  {
   "cell_type": "code",
   "execution_count": 44,
   "metadata": {},
   "outputs": [],
   "source": [
    "result_dict = json.loads(result.json)"
   ]
  },
  {
   "cell_type": "code",
   "execution_count": 45,
   "metadata": {},
   "outputs": [
    {
     "data": {
      "text/plain": [
       "'i said that we can go to the movies'"
      ]
     },
     "execution_count": 45,
     "metadata": {},
     "output_type": "execute_result"
    }
   ],
   "source": [
    "result_dict['NBest'][0]['Lexical']"
   ]
  },
  {
   "cell_type": "code",
   "execution_count": 46,
   "metadata": {},
   "outputs": [
    {
     "name": "stdout",
     "output_type": "stream",
     "text": [
      "{\"Id\":\"bd1cdd91951342008537d51b882be559\",\"RecognitionStatus\":\"Success\",\"Offset\":5000000,\"Duration\":38800000,\"Channel\":0,\"DisplayText\":\"I said that we can go to the movies.\",\"NBest\":[{\"Confidence\":0.8024364,\"Lexical\":\"i said that we can go to the movies\",\"ITN\":\"i said that we can go to the movies\",\"MaskedITN\":\"i said that we can go to the movies\",\"Display\":\"I said that we can go to the movies.\",\"Words\":[{\"Word\":\"i\",\"Offset\":5000000,\"Duration\":7700000,\"Confidence\":0.3821584},{\"Word\":\"said\",\"Offset\":14000000,\"Duration\":5600000,\"Confidence\":0.9007279},{\"Word\":\"that\",\"Offset\":19700000,\"Duration\":2800000,\"Confidence\":0.8521484},{\"Word\":\"we\",\"Offset\":22600000,\"Duration\":1700000,\"Confidence\":0.9539422},{\"Word\":\"can\",\"Offset\":24400000,\"Duration\":2900000,\"Confidence\":0.9697497},{\"Word\":\"go\",\"Offset\":27400000,\"Duration\":3100000,\"Confidence\":0.93013847},{\"Word\":\"to\",\"Offset\":30600000,\"Duration\":1300000,\"Confidence\":0.965987},{\"Word\":\"the\",\"Offset\":32000000,\"Duration\":5300000,\"Confidence\":0.840194},{\"Word\":\"movies\",\"Offset\":38800000,\"Duration\":5000000,\"Confidence\":0.99019784}]},{\"Confidence\":0.76139814,\"Lexical\":\"i uh said that we can go to the movies\",\"ITN\":\"i uh said that we can go to the movies\",\"MaskedITN\":\"i uh said that we can go to the movies\",\"Display\":\"i uh said that we can go to the movies\",\"Words\":[{\"Word\":\"i\",\"Offset\":5000000,\"Duration\":3400000,\"Confidence\":0.42723626},{\"Word\":\"uh\",\"Offset\":8500000,\"Duration\":5000000,\"Confidence\":0.32961348},{\"Word\":\"said\",\"Offset\":14000000,\"Duration\":5600000,\"Confidence\":0.70654464},{\"Word\":\"that\",\"Offset\":19700000,\"Duration\":2800000,\"Confidence\":0.86657935},{\"Word\":\"we\",\"Offset\":22600000,\"Duration\":1700000,\"Confidence\":0.94387436},{\"Word\":\"can\",\"Offset\":24400000,\"Duration\":2900000,\"Confidence\":0.97209233},{\"Word\":\"go\",\"Offset\":27400000,\"Duration\":3100000,\"Confidence\":0.93013847},{\"Word\":\"to\",\"Offset\":30600000,\"Duration\":1300000,\"Confidence\":0.965987},{\"Word\":\"the\",\"Offset\":32000000,\"Duration\":5300000,\"Confidence\":0.840194},{\"Word\":\"movies\",\"Offset\":38800000,\"Duration\":5000000,\"Confidence\":0.99019784}]},{\"Confidence\":0.7529114,\"Lexical\":\"alright uh said that we can go to the movies\",\"ITN\":\"alright uh said that we can go to the movies\",\"MaskedITN\":\"alright uh said that we can go to the movies\",\"Display\":\"alright uh said that we can go to the movies\",\"Words\":[{\"Word\":\"alright\",\"Offset\":4800000,\"Duration\":3700000,\"Confidence\":0.26111174},{\"Word\":\"uh\",\"Offset\":8600000,\"Duration\":4900000,\"Confidence\":0.5095311},{\"Word\":\"said\",\"Offset\":14000000,\"Duration\":5600000,\"Confidence\":0.6139476},{\"Word\":\"that\",\"Offset\":19700000,\"Duration\":2800000,\"Confidence\":0.86657935},{\"Word\":\"we\",\"Offset\":22600000,\"Duration\":1700000,\"Confidence\":0.94387436},{\"Word\":\"can\",\"Offset\":24400000,\"Duration\":2900000,\"Confidence\":0.97209233},{\"Word\":\"go\",\"Offset\":27400000,\"Duration\":3100000,\"Confidence\":0.93013847},{\"Word\":\"to\",\"Offset\":30600000,\"Duration\":1300000,\"Confidence\":0.965987},{\"Word\":\"the\",\"Offset\":32000000,\"Duration\":5300000,\"Confidence\":0.840194},{\"Word\":\"movies\",\"Offset\":38800000,\"Duration\":5000000,\"Confidence\":0.99019784}]},{\"Confidence\":0.777781,\"Lexical\":\"i i said that we can go to the movies\",\"ITN\":\"i i said that we can go to the movies\",\"MaskedITN\":\"i i said that we can go to the movies\",\"Display\":\"i i said that we can go to the movies\",\"Words\":[{\"Word\":\"i\",\"Offset\":5000000,\"Duration\":3500000,\"Confidence\":0.4153627},{\"Word\":\"i\",\"Offset\":8600000,\"Duration\":4100000,\"Confidence\":0.13080013},{\"Word\":\"said\",\"Offset\":14200000,\"Duration\":5400000,\"Confidence\":0.906086},{\"Word\":\"that\",\"Offset\":19700000,\"Duration\":2800000,\"Confidence\":0.86657935},{\"Word\":\"we\",\"Offset\":22600000,\"Duration\":1700000,\"Confidence\":0.9508588},{\"Word\":\"can\",\"Offset\":24400000,\"Duration\":2900000,\"Confidence\":0.9697497},{\"Word\":\"go\",\"Offset\":27400000,\"Duration\":3100000,\"Confidence\":0.93013847},{\"Word\":\"to\",\"Offset\":30600000,\"Duration\":1300000,\"Confidence\":0.965987},{\"Word\":\"the\",\"Offset\":32000000,\"Duration\":5300000,\"Confidence\":0.840194},{\"Word\":\"movies\",\"Offset\":38800000,\"Duration\":5000000,\"Confidence\":0.99019784}]},{\"Confidence\":0.79273564,\"Lexical\":\"i said that we we can go to the movies\",\"ITN\":\"i said that we we can go to the movies\",\"MaskedITN\":\"i said that we we can go to the movies\",\"Display\":\"i said that we we can go to the movies\",\"Words\":[{\"Word\":\"i\",\"Offset\":5000000,\"Duration\":7700000,\"Confidence\":0.3821584},{\"Word\":\"said\",\"Offset\":14000000,\"Duration\":5600000,\"Confidence\":0.9007279},{\"Word\":\"that\",\"Offset\":19700000,\"Duration\":2800000,\"Confidence\":0.8521484},{\"Word\":\"we\",\"Offset\":22600000,\"Duration\":900000,\"Confidence\":0.83597744},{\"Word\":\"we\",\"Offset\":23600000,\"Duration\":700000,\"Confidence\":0.6583669},{\"Word\":\"can\",\"Offset\":24400000,\"Duration\":2900000,\"Confidence\":0.9743745},{\"Word\":\"go\",\"Offset\":27400000,\"Duration\":3100000,\"Confidence\":0.9281651},{\"Word\":\"to\",\"Offset\":30600000,\"Duration\":1300000,\"Confidence\":0.96221876},{\"Word\":\"the\",\"Offset\":32000000,\"Duration\":5300000,\"Confidence\":0.840194},{\"Word\":\"movies\",\"Offset\":38800000,\"Duration\":5000000,\"Confidence\":0.99019784}]}]}\n"
     ]
    }
   ],
   "source": [
    "print(result.json)"
   ]
  },
  {
   "cell_type": "code",
   "execution_count": null,
   "metadata": {},
   "outputs": [],
   "source": []
  }
 ],
 "metadata": {
  "kernelspec": {
   "display_name": "speechenv",
   "language": "python",
   "name": "python3"
  },
  "language_info": {
   "codemirror_mode": {
    "name": "ipython",
    "version": 3
   },
   "file_extension": ".py",
   "mimetype": "text/x-python",
   "name": "python",
   "nbconvert_exporter": "python",
   "pygments_lexer": "ipython3",
   "version": "3.9.16"
  },
  "orig_nbformat": 4
 },
 "nbformat": 4,
 "nbformat_minor": 2
}
